{
 "metadata": {
  "name": "",
  "signature": "sha256:a74e90ea59f8f49ec7dc469f40a326a0c9b16de465318fd4f522d3d21d8d0455"
 },
 "nbformat": 3,
 "nbformat_minor": 0,
 "worksheets": [
  {
   "cells": [
    {
     "cell_type": "markdown",
     "metadata": {},
     "source": [
      "#Introduction to NumPy and NLTK\n",
      "\n",
      "**ASDM** C09: Text Mining, Class 1\n",
      "\n",
      "Florian Leitner\n",
      "\n",
      "## Quick Summary of Python"
     ]
    },
    {
     "cell_type": "code",
     "collapsed": false,
     "input": [
      "1 + 2 * 3 - 4"
     ],
     "language": "python",
     "metadata": {},
     "outputs": [
      {
       "metadata": {},
       "output_type": "pyout",
       "prompt_number": 1,
       "text": [
        "3"
       ]
      }
     ],
     "prompt_number": 1
    },
    {
     "cell_type": "code",
     "collapsed": false,
     "input": [
      "var = \"Stranger\""
     ],
     "language": "python",
     "metadata": {},
     "outputs": [],
     "prompt_number": 2
    },
    {
     "cell_type": "code",
     "collapsed": false,
     "input": [
      "print \"Hi\", var"
     ],
     "language": "python",
     "metadata": {},
     "outputs": [
      {
       "output_type": "stream",
       "stream": "stdout",
       "text": [
        "Hi Stranger\n"
       ]
      }
     ],
     "prompt_number": 3
    },
    {
     "cell_type": "code",
     "collapsed": false,
     "input": [
      "\"Hi \" + var"
     ],
     "language": "python",
     "metadata": {},
     "outputs": [
      {
       "metadata": {},
       "output_type": "pyout",
       "prompt_number": 4,
       "text": [
        "'Hi Stranger'"
       ]
      }
     ],
     "prompt_number": 4
    },
    {
     "cell_type": "code",
     "collapsed": false,
     "input": [
      "lst = [1, 2, 3]"
     ],
     "language": "python",
     "metadata": {},
     "outputs": [],
     "prompt_number": 5
    },
    {
     "cell_type": "code",
     "collapsed": false,
     "input": [
      "for i in lst:\n",
      "    print i"
     ],
     "language": "python",
     "metadata": {},
     "outputs": [
      {
       "output_type": "stream",
       "stream": "stdout",
       "text": [
        "1\n",
        "2\n",
        "3\n"
       ]
      }
     ],
     "prompt_number": 6
    },
    {
     "cell_type": "markdown",
     "metadata": {},
     "source": [
      "### Working with lists"
     ]
    },
    {
     "cell_type": "code",
     "collapsed": false,
     "input": [
      "lst += [4, 5, 6]"
     ],
     "language": "python",
     "metadata": {},
     "outputs": [],
     "prompt_number": 7
    },
    {
     "cell_type": "code",
     "collapsed": false,
     "input": [
      "lst"
     ],
     "language": "python",
     "metadata": {},
     "outputs": [
      {
       "metadata": {},
       "output_type": "pyout",
       "prompt_number": 8,
       "text": [
        "[1, 2, 3, 4, 5, 6]"
       ]
      }
     ],
     "prompt_number": 8
    },
    {
     "cell_type": "code",
     "collapsed": false,
     "input": [
      "lst[0] # NB: R is 1-based, while programming languages (nearly always) use zero-based indexing"
     ],
     "language": "python",
     "metadata": {},
     "outputs": [
      {
       "metadata": {},
       "output_type": "pyout",
       "prompt_number": 9,
       "text": [
        "1"
       ]
      }
     ],
     "prompt_number": 9
    },
    {
     "cell_type": "code",
     "collapsed": false,
     "input": [
      "lst[1]"
     ],
     "language": "python",
     "metadata": {},
     "outputs": [
      {
       "metadata": {},
       "output_type": "pyout",
       "prompt_number": 10,
       "text": [
        "2"
       ]
      }
     ],
     "prompt_number": 10
    },
    {
     "cell_type": "code",
     "collapsed": false,
     "input": [
      "lst[1:3]"
     ],
     "language": "python",
     "metadata": {},
     "outputs": [
      {
       "metadata": {},
       "output_type": "pyout",
       "prompt_number": 11,
       "text": [
        "[2, 3]"
       ]
      }
     ],
     "prompt_number": 11
    },
    {
     "cell_type": "code",
     "collapsed": false,
     "input": [
      "lst[0:2] # This is not R!!!"
     ],
     "language": "python",
     "metadata": {},
     "outputs": [
      {
       "metadata": {},
       "output_type": "pyout",
       "prompt_number": 12,
       "text": [
        "[1, 2]"
       ]
      }
     ],
     "prompt_number": 12
    },
    {
     "cell_type": "code",
     "collapsed": false,
     "input": [
      "lst[:3]"
     ],
     "language": "python",
     "metadata": {},
     "outputs": [
      {
       "metadata": {},
       "output_type": "pyout",
       "prompt_number": 13,
       "text": [
        "[1, 2, 3]"
       ]
      }
     ],
     "prompt_number": 13
    },
    {
     "cell_type": "code",
     "collapsed": false,
     "input": [
      "lst[3:]"
     ],
     "language": "python",
     "metadata": {},
     "outputs": [
      {
       "metadata": {},
       "output_type": "pyout",
       "prompt_number": 14,
       "text": [
        "[4, 5, 6]"
       ]
      }
     ],
     "prompt_number": 14
    },
    {
     "cell_type": "code",
     "collapsed": false,
     "input": [
      "lst[-1] # This is really not R!!!"
     ],
     "language": "python",
     "metadata": {},
     "outputs": [
      {
       "metadata": {},
       "output_type": "pyout",
       "prompt_number": 15,
       "text": [
        "6"
       ]
      }
     ],
     "prompt_number": 15
    },
    {
     "cell_type": "code",
     "collapsed": false,
     "input": [
      "lst[-2]"
     ],
     "language": "python",
     "metadata": {},
     "outputs": [
      {
       "metadata": {},
       "output_type": "pyout",
       "prompt_number": 16,
       "text": [
        "5"
       ]
      }
     ],
     "prompt_number": 16
    },
    {
     "cell_type": "code",
     "collapsed": false,
     "input": [
      "lst[-2:] # This is better than R!!!"
     ],
     "language": "python",
     "metadata": {},
     "outputs": [
      {
       "metadata": {},
       "output_type": "pyout",
       "prompt_number": 17,
       "text": [
        "[5, 6]"
       ]
      }
     ],
     "prompt_number": 17
    },
    {
     "cell_type": "code",
     "collapsed": false,
     "input": [
      "[i + 1 for i in lst] # List Comprehensions!"
     ],
     "language": "python",
     "metadata": {},
     "outputs": [
      {
       "metadata": {},
       "output_type": "pyout",
       "prompt_number": 18,
       "text": [
        "[2, 3, 4, 5, 6, 7]"
       ]
      }
     ],
     "prompt_number": 18
    },
    {
     "cell_type": "code",
     "collapsed": false,
     "input": [
      "z = [i + 1 for i in lst if i < 5 and i > 2] # This actually is equal to readable \"pseudo\" code!!!\n",
      "z"
     ],
     "language": "python",
     "metadata": {},
     "outputs": [
      {
       "metadata": {},
       "output_type": "pyout",
       "prompt_number": 19,
       "text": [
        "[4, 5]"
       ]
      }
     ],
     "prompt_number": 19
    },
    {
     "cell_type": "markdown",
     "metadata": {},
     "source": [
      "### Functions and Objects"
     ]
    },
    {
     "cell_type": "code",
     "collapsed": false,
     "input": [
      "def square(x):\n",
      "    return x**2\n",
      "\n",
      "square(3)"
     ],
     "language": "python",
     "metadata": {},
     "outputs": [
      {
       "metadata": {},
       "output_type": "pyout",
       "prompt_number": 20,
       "text": [
        "9"
       ]
      }
     ],
     "prompt_number": 20
    },
    {
     "cell_type": "code",
     "collapsed": false,
     "input": [
      "class Structure:\n",
      "    \"\"\"You do not need to be able to do this - yet... :)\"\"\"\n",
      "    \n",
      "    def __init__(self, *parameters):\n",
      "        self.lst = parameters\n",
      "    \n",
      "    def method(self, delegate):\n",
      "        for i in self.lst:\n",
      "            yield delegate(i)"
     ],
     "language": "python",
     "metadata": {},
     "outputs": [],
     "prompt_number": 21
    },
    {
     "cell_type": "code",
     "collapsed": false,
     "input": [
      "obj = Structure(1,2,3)"
     ],
     "language": "python",
     "metadata": {},
     "outputs": [],
     "prompt_number": 22
    },
    {
     "cell_type": "code",
     "collapsed": false,
     "input": [
      "for result in obj.method(square):\n",
      "    print(result)"
     ],
     "language": "python",
     "metadata": {},
     "outputs": [
      {
       "output_type": "stream",
       "stream": "stdout",
       "text": [
        "1\n",
        "4\n",
        "9\n"
       ]
      }
     ],
     "prompt_number": 23
    },
    {
     "cell_type": "markdown",
     "metadata": {},
     "source": [
      "## Natural Language ToolKit"
     ]
    },
    {
     "cell_type": "code",
     "collapsed": false,
     "input": [
      "import nltk"
     ],
     "language": "python",
     "metadata": {},
     "outputs": [],
     "prompt_number": 24
    },
    {
     "cell_type": "code",
     "collapsed": false,
     "input": [
      "nltk.download()"
     ],
     "language": "python",
     "metadata": {},
     "outputs": [
      {
       "output_type": "stream",
       "stream": "stdout",
       "text": [
        "showing info http://nltk.github.com/nltk_data/\n"
       ]
      },
      {
       "metadata": {},
       "output_type": "pyout",
       "prompt_number": 25,
       "text": [
        "True"
       ]
      }
     ],
     "prompt_number": 25
    },
    {
     "cell_type": "code",
     "collapsed": false,
     "input": [
      "import nltk.book as b"
     ],
     "language": "python",
     "metadata": {},
     "outputs": [
      {
       "output_type": "stream",
       "stream": "stdout",
       "text": [
        "*** Introductory Examples for the NLTK Book ***\n",
        "Loading text1, ..., text9 and sent1, ..., sent9\n",
        "Type the name of the text or sentence to view it.\n",
        "Type: 'texts()' or 'sents()' to list the materials.\n",
        "text1:"
       ]
      },
      {
       "output_type": "stream",
       "stream": "stdout",
       "text": [
        " Moby Dick by Herman Melville 1851\n",
        "text2:"
       ]
      },
      {
       "output_type": "stream",
       "stream": "stdout",
       "text": [
        " Sense and Sensibility by Jane Austen 1811\n",
        "text3:"
       ]
      },
      {
       "output_type": "stream",
       "stream": "stdout",
       "text": [
        " The Book of Genesis\n",
        "text4:"
       ]
      },
      {
       "output_type": "stream",
       "stream": "stdout",
       "text": [
        " Inaugural Address Corpus\n",
        "text5:"
       ]
      },
      {
       "output_type": "stream",
       "stream": "stdout",
       "text": [
        " Chat Corpus\n",
        "text6: Monty Python and the Holy Grail\n",
        "text7:"
       ]
      },
      {
       "output_type": "stream",
       "stream": "stdout",
       "text": [
        " Wall Street Journal\n",
        "text8: Personals Corpus\n",
        "text9:"
       ]
      },
      {
       "output_type": "stream",
       "stream": "stdout",
       "text": [
        " The Man Who Was Thursday by G . K . Chesterton 1908\n"
       ]
      }
     ],
     "prompt_number": 25
    },
    {
     "cell_type": "heading",
     "level": 3,
     "metadata": {},
     "source": [
      "The Text Object"
     ]
    },
    {
     "cell_type": "code",
     "collapsed": false,
     "input": [
      "b.text1"
     ],
     "language": "python",
     "metadata": {},
     "outputs": [
      {
       "metadata": {},
       "output_type": "pyout",
       "prompt_number": 26,
       "text": [
        "<Text: Moby Dick by Herman Melville 1851>"
       ]
      }
     ],
     "prompt_number": 26
    },
    {
     "cell_type": "code",
     "collapsed": false,
     "input": [
      "type(b.text1)"
     ],
     "language": "python",
     "metadata": {},
     "outputs": [
      {
       "metadata": {},
       "output_type": "pyout",
       "prompt_number": 27,
       "text": [
        "nltk.text.Text"
       ]
      }
     ],
     "prompt_number": 27
    },
    {
     "cell_type": "code",
     "collapsed": false,
     "input": [
      "nltk.text.Text?"
     ],
     "language": "python",
     "metadata": {},
     "outputs": [],
     "prompt_number": 28
    },
    {
     "cell_type": "code",
     "collapsed": false,
     "input": [
      "nltk.text.Text??"
     ],
     "language": "python",
     "metadata": {},
     "outputs": []
    },
    {
     "cell_type": "code",
     "collapsed": true,
     "input": [
      "help(nltk.text.Text)"
     ],
     "language": "python",
     "metadata": {},
     "outputs": []
    },
    {
     "cell_type": "code",
     "collapsed": false,
     "input": [
      "# Shortcut\n",
      "txt = b.text1\n",
      "# Iteration using list comprehension\n",
      "wlens = [len(w) for w in txt]\n",
      "wlens[:10]"
     ],
     "language": "python",
     "metadata": {},
     "outputs": [
      {
       "metadata": {},
       "output_type": "pyout",
       "prompt_number": 29,
       "text": [
        "[1, 4, 4, 2, 6, 8, 4, 1, 9, 1]"
       ]
      }
     ],
     "prompt_number": 29
    },
    {
     "cell_type": "code",
     "collapsed": false,
     "input": [
      "txt[:10]"
     ],
     "language": "python",
     "metadata": {},
     "outputs": [
      {
       "metadata": {},
       "output_type": "pyout",
       "prompt_number": 30,
       "text": [
        "['[',\n",
        " 'Moby',\n",
        " 'Dick',\n",
        " 'by',\n",
        " 'Herman',\n",
        " 'Melville',\n",
        " '1851',\n",
        " ']',\n",
        " 'ETYMOLOGY',\n",
        " '.']"
       ]
      }
     ],
     "prompt_number": 30
    },
    {
     "cell_type": "code",
     "collapsed": false,
     "input": [
      "txt.count(\"me\")"
     ],
     "language": "python",
     "metadata": {},
     "outputs": [
      {
       "metadata": {},
       "output_type": "pyout",
       "prompt_number": 31,
       "text": [
        "627"
       ]
      }
     ],
     "prompt_number": 31
    },
    {
     "cell_type": "code",
     "collapsed": false,
     "input": [
      "txt.findall?"
     ],
     "language": "python",
     "metadata": {},
     "outputs": [],
     "prompt_number": 32
    },
    {
     "cell_type": "code",
     "collapsed": false,
     "input": [
      "txt.findall(\"<.*><Moby>\")"
     ],
     "language": "python",
     "metadata": {},
     "outputs": [
      {
       "output_type": "stream",
       "stream": "stdout",
       "text": [
        "[ Moby; call Moby; \" Moby; is Moby; -- Moby; -- Moby; of Moby; not\n",
        "Moby; was Moby; ; Moby; for Moby; for Moby; to Moby; hunt Moby; 41\n",
        "Moby; concerning Moby; than Moby; to Moby; upon Moby; invested Moby;\n",
        "to Moby; to Moby; that Moby; declaring Moby; , Moby; in Moby; touching\n",
        "Moby; though Moby; , Moby; blow Moby; of Moby; at Moby; of Moby;\n",
        "respecting Moby; than Moby; to Moby; of Moby; , Moby; of Moby; was\n",
        "Moby; \"' Moby; you Moby; of Moby; , Moby; this Moby; of Moby; seen\n",
        "Moby; that Moby; concerning Moby; of Moby; , Moby; surrender Moby; to\n",
        "Moby; , Moby; -- Moby; about Moby; thinking Moby; slay Moby; is Moby;\n",
        "for Moby; for Moby; Oh Moby; of Moby; encountered Moby; to Moby; is\n",
        "Moby; , Moby; awaiting Moby; was Moby; , Moby; , Moby; , Moby; from\n",
        "Moby; of Moby; not Moby; -- Moby; , Moby; , Moby; with Moby; , Moby; ,\n",
        "Moby; , Moby; ! Moby; , Moby\n"
       ]
      }
     ],
     "prompt_number": 33
    },
    {
     "cell_type": "code",
     "collapsed": false,
     "input": [
      "txt.findall(\"<[A-Za-z]*><Moby>\")"
     ],
     "language": "python",
     "metadata": {},
     "outputs": [
      {
       "output_type": "stream",
       "stream": "stdout",
       "text": [
        "call Moby; is Moby; of Moby; not Moby; was Moby; for Moby; for Moby;\n",
        "to Moby; hunt Moby; concerning Moby; than Moby; to Moby; upon Moby;\n",
        "invested Moby; to Moby; to Moby; that Moby; declaring Moby; in Moby;\n",
        "touching Moby; though Moby; blow Moby; of Moby; at Moby; of Moby;\n",
        "respecting Moby; than Moby; to Moby; of Moby; of Moby; was Moby; you\n",
        "Moby; of Moby; this Moby; of Moby; seen Moby; that Moby; concerning\n",
        "Moby; of Moby; surrender Moby; to Moby; about Moby; thinking Moby;\n",
        "slay Moby; is Moby; for Moby; for Moby; Oh Moby; of Moby; encountered\n",
        "Moby; to Moby; is Moby; awaiting Moby; was Moby; from Moby; of Moby;\n",
        "not Moby; with Moby\n"
       ]
      }
     ],
     "prompt_number": 34
    },
    {
     "cell_type": "code",
     "collapsed": false,
     "input": [
      "txt.findall(\"(<[A-Za-z]*>)<Moby>\")"
     ],
     "language": "python",
     "metadata": {},
     "outputs": [
      {
       "output_type": "stream",
       "stream": "stdout",
       "text": [
        "call; is; of; not; was; for; for; to; hunt; concerning; than; to;\n",
        "upon; invested; to; to; that; declaring; in; touching; though; blow;\n",
        "of; at; of; respecting; than; to; of; of; was; you; of; this; of;\n",
        "seen; that; concerning; of; surrender; to; about; thinking; slay; is;\n",
        "for; for; Oh; of; encountered; to; is; awaiting; was; from; of; not;\n",
        "with\n"
       ]
      }
     ],
     "prompt_number": 35
    },
    {
     "cell_type": "code",
     "collapsed": false,
     "input": [
      "txt.similar(\"awaiting\") # NB: semantic similarity (\"synonyms\")"
     ],
     "language": "python",
     "metadata": {},
     "outputs": [
      {
       "output_type": "stream",
       "stream": "stdout",
       "text": [
        "Building word-context index...\n",
        "all among as beheld but directing for from getting i in indeed like\n",
        "lowered not nothing of on pumping stopping"
       ]
      },
      {
       "output_type": "stream",
       "stream": "stdout",
       "text": [
        "\n"
       ]
      }
     ],
     "prompt_number": 36
    },
    {
     "cell_type": "code",
     "collapsed": false,
     "input": [
      "txt.generate()"
     ],
     "language": "python",
     "metadata": {},
     "outputs": [
      {
       "output_type": "stream",
       "stream": "stdout",
       "text": [
        "Building ngram index...\n",
        "[ Moby Dick had reaped away Ahab ' s in him like great wales .\" --\n",
        "OPENING SENTENCE OF HOBBES ' S VERSION OF THE WHALE NEVER FIGURED IN\n",
        "ANY GRAND IMPOSING WAY ? In fact take my word were I at length , by\n",
        "means of overtaking the chase , though perished in that particular\n",
        "whale , to call it so , and screwing it down to the surface , called a\n",
        "warp and woof , and Queequeg had looked on with it . First , the same\n",
        "time coming close behind us . We saw also abundance of"
       ]
      },
      {
       "output_type": "stream",
       "stream": "stdout",
       "text": [
        "\n"
       ]
      }
     ],
     "prompt_number": 37
    },
    {
     "cell_type": "heading",
     "level": 3,
     "metadata": {},
     "source": [
      "Plots available directly on a Text Object"
     ]
    },
    {
     "cell_type": "code",
     "collapsed": false,
     "input": [
      "%pylab inline --no-import-all"
     ],
     "language": "python",
     "metadata": {},
     "outputs": [
      {
       "output_type": "stream",
       "stream": "stdout",
       "text": [
        "Populating the interactive namespace from numpy and matplotlib\n"
       ]
      }
     ],
     "prompt_number": 38
    },
    {
     "cell_type": "code",
     "collapsed": false,
     "input": [
      "b.text2"
     ],
     "language": "python",
     "metadata": {},
     "outputs": [
      {
       "metadata": {},
       "output_type": "pyout",
       "prompt_number": 39,
       "text": [
        "<Text: Sense and Sensibility by Jane Austen 1811>"
       ]
      }
     ],
     "prompt_number": 39
    },
    {
     "cell_type": "code",
     "collapsed": false,
     "input": [
      "b.text3"
     ],
     "language": "python",
     "metadata": {},
     "outputs": [
      {
       "metadata": {},
       "output_type": "pyout",
       "prompt_number": 40,
       "text": [
        "<Text: The Book of Genesis>"
       ]
      }
     ],
     "prompt_number": 40
    },
    {
     "cell_type": "code",
     "collapsed": false,
     "input": [
      "b.text3.plot?"
     ],
     "language": "python",
     "metadata": {},
     "outputs": [],
     "prompt_number": 41
    },
    {
     "cell_type": "code",
     "collapsed": false,
     "input": [
      "nltk.prob.FreqDist.plot?"
     ],
     "language": "python",
     "metadata": {},
     "outputs": []
    },
    {
     "cell_type": "code",
     "collapsed": false,
     "input": [
      "nltk.probability.FreqDist.plot?"
     ],
     "language": "python",
     "metadata": {},
     "outputs": []
    },
    {
     "cell_type": "code",
     "collapsed": false,
     "input": [
      "b.text3.plot(30)"
     ],
     "language": "python",
     "metadata": {},
     "outputs": [
      {
       "output_type": "stream",
       "stream": "stdout",
       "text": [
        "Building vocabulary index...\n"
       ]
      },
      {
       "metadata": {},
       "output_type": "display_data",
       "png": "[encoded data removed]",
       "text": [
        "<matplotlib.figure.Figure at 0x11b42c110>"
       ]
      }
     ],
     "prompt_number": 42
    },
    {
     "cell_type": "code",
     "collapsed": false,
     "input": [
      "b.text2.plot(30)"
     ],
     "language": "python",
     "metadata": {},
     "outputs": [
      {
       "output_type": "stream",
       "stream": "stdout",
       "text": [
        "Building vocabulary index...\n"
       ]
      },
      {
       "metadata": {},
       "output_type": "display_data",
       "png": "[encoded data removed]",
       "text": [
        "<matplotlib.figure.Figure at 0x11b1744d0>"
       ]
      }
     ],
     "prompt_number": 43
    },
    {
     "cell_type": "code",
     "collapsed": false,
     "input": [
      "b.text2.collocations()"
     ],
     "language": "python",
     "metadata": {},
     "outputs": [
      {
       "output_type": "stream",
       "stream": "stdout",
       "text": [
        "Building collocations list\n",
        "Colonel Brandon; Sir John; Lady Middleton; Miss Dashwood; every thing;\n",
        "thousand pounds; dare say; Miss Steeles; said Elinor; Miss Steele;\n",
        "every body; John Dashwood; great deal; Harley Street; Berkeley Street;\n",
        "Miss Dashwoods; young man; Combe Magna; every day; next morning"
       ]
      },
      {
       "output_type": "stream",
       "stream": "stdout",
       "text": [
        "\n"
       ]
      }
     ],
     "prompt_number": 44
    },
    {
     "cell_type": "code",
     "collapsed": false,
     "input": [
      "b.text2.dispersion_plot([\"Elinor\", \"Edward\", \"Lucy\", \"Marianne\", \"Willoughby\", \"Brandon\"])"
     ],
     "language": "python",
     "metadata": {},
     "outputs": [
      {
       "metadata": {},
       "output_type": "display_data",
       "png": "[encoded data removed]",
       "text": [
        "<matplotlib.figure.Figure at 0x10e6543d0>"
       ]
      }
     ],
     "prompt_number": 45
    },
    {
     "cell_type": "code",
     "collapsed": false,
     "input": [
      "len(b.text3) # total tokens"
     ],
     "language": "python",
     "metadata": {},
     "outputs": [
      {
       "metadata": {},
       "output_type": "pyout",
       "prompt_number": 46,
       "text": [
        "44764"
       ]
      }
     ],
     "prompt_number": 46
    },
    {
     "cell_type": "code",
     "collapsed": false,
     "input": [
      "len(set(b.text3)) # unique tokens"
     ],
     "language": "python",
     "metadata": {},
     "outputs": [
      {
       "metadata": {},
       "output_type": "pyout",
       "prompt_number": 47,
       "text": [
        "2789"
       ]
      }
     ],
     "prompt_number": 47
    },
    {
     "cell_type": "code",
     "collapsed": false,
     "input": [
      "wlens[:5]"
     ],
     "language": "python",
     "metadata": {},
     "outputs": [
      {
       "metadata": {},
       "output_type": "pyout",
       "prompt_number": 48,
       "text": [
        "[1, 4, 4, 2, 6]"
       ]
      }
     ],
     "prompt_number": 48
    },
    {
     "cell_type": "code",
     "collapsed": false,
     "input": [
      "sum(wlens) / len(wlens) # mean?"
     ],
     "language": "python",
     "metadata": {},
     "outputs": [
      {
       "metadata": {},
       "output_type": "pyout",
       "prompt_number": 49,
       "text": [
        "3"
       ]
      }
     ],
     "prompt_number": 49
    },
    {
     "cell_type": "code",
     "collapsed": false,
     "input": [
      "sum(wlens) * 1.0 / len(wlens) # \"solved\" in Python3, by the way!"
     ],
     "language": "python",
     "metadata": {},
     "outputs": [
      {
       "metadata": {},
       "output_type": "pyout",
       "prompt_number": 50,
       "text": [
        "3.830411128023649"
       ]
      }
     ],
     "prompt_number": 50
    },
    {
     "cell_type": "markdown",
     "metadata": {},
     "source": [
      "Finding the median?"
     ]
    },
    {
     "cell_type": "code",
     "collapsed": false,
     "input": [
      "wlens = sorted(wlens)"
     ],
     "language": "python",
     "metadata": {},
     "outputs": [],
     "prompt_number": 51
    },
    {
     "cell_type": "code",
     "collapsed": false,
     "input": [
      "wlens[len(wlens) / 2]"
     ],
     "language": "python",
     "metadata": {},
     "outputs": [
      {
       "metadata": {},
       "output_type": "pyout",
       "prompt_number": 52,
       "text": [
        "3"
       ]
      }
     ],
     "prompt_number": 52
    },
    {
     "cell_type": "code",
     "collapsed": false,
     "input": [
      "wlens[-1]"
     ],
     "language": "python",
     "metadata": {},
     "outputs": [
      {
       "metadata": {},
       "output_type": "pyout",
       "prompt_number": 53,
       "text": [
        "20"
       ]
      }
     ],
     "prompt_number": 53
    },
    {
     "cell_type": "markdown",
     "metadata": {},
     "source": [
      "### NLTK's Discrete \"Frequency\" Distributions\n",
      "\n",
      "A counter for tokens."
     ]
    },
    {
     "cell_type": "code",
     "collapsed": false,
     "input": [
      "from nltk import FreqDist"
     ],
     "language": "python",
     "metadata": {},
     "outputs": [],
     "prompt_number": 54
    },
    {
     "cell_type": "code",
     "collapsed": false,
     "input": [
      "fdist = FreqDist(txt)"
     ],
     "language": "python",
     "metadata": {},
     "outputs": [],
     "prompt_number": 55
    },
    {
     "cell_type": "code",
     "collapsed": true,
     "input": [
      "fdist.items()"
     ],
     "language": "python",
     "metadata": {},
     "outputs": [
      {
       "metadata": {},
       "output_type": "pyout",
       "prompt_number": 56,
       "text": [
        "[(',', 18713),\n",
        " ('the', 13721),\n",
        " ('.', 6862),\n",
        " ('of', 6536),\n",
        " ('and', 6024),\n",
        " ('a', 4569),\n",
        " ('to', 4542),\n",
        " (';', 4072),\n",
        " ('in', 3916),\n",
        " ('that', 2982),\n",
        " (\"'\", 2684),\n",
        " ('-', 2552),\n",
        " ('his', 2459),\n",
        " ('it', 2209),\n",
        " ('I', 2124),\n",
        " ('s', 1739),\n",
        " ('is', 1695),\n",
        " ('he', 1661),\n",
        " ('with', 1659),\n",
        " ('was', 1632),\n",
        " ('as', 1620),\n",
        " ('\"', 1478),\n",
        " ('all', 1462),\n",
        " ('for', 1414),\n",
        " ('this', 1280),\n",
        " ('!', 1269),\n",
        " ('at', 1231),\n",
        " ('by', 1137),\n",
        " ('but', 1113),\n",
        " ('not', 1103),\n",
        " ('--', 1070),\n",
        " ('him', 1058),\n",
        " ('from', 1052),\n",
        " ('be', 1030),\n",
        " ('on', 1005),\n",
        " ('so', 918),\n",
        " ('whale', 906),\n",
        " ('one', 889),\n",
        " ('you', 841),\n",
        " ('had', 767),\n",
        " ('have', 760),\n",
        " ('there', 715),\n",
        " ('But', 705),\n",
        " ('or', 697),\n",
        " ('were', 680),\n",
        " ('now', 646),\n",
        " ('which', 640),\n",
        " ('?', 637),\n",
        " ('me', 627),\n",
        " ('like', 624),\n",
        " ('The', 612),\n",
        " ('their', 612),\n",
        " ('are', 586),\n",
        " ('they', 586),\n",
        " ('an', 582),\n",
        " ('some', 578),\n",
        " ('then', 571),\n",
        " ('my', 564),\n",
        " ('when', 553),\n",
        " ('upon', 538),\n",
        " ('out', 529),\n",
        " ('into', 520),\n",
        " ('man', 508),\n",
        " ('ship', 507),\n",
        " ('up', 505),\n",
        " ('Ahab', 501),\n",
        " ('more', 501),\n",
        " ('.\"', 489),\n",
        " ('no', 484),\n",
        " ('them', 471),\n",
        " ('ye', 460),\n",
        " ('what', 442),\n",
        " ('old', 436),\n",
        " ('sea', 433),\n",
        " ('if', 421),\n",
        " ('would', 421),\n",
        " ('been', 415),\n",
        " ('we', 413),\n",
        " ('other', 412),\n",
        " ('over', 403),\n",
        " ('these', 381),\n",
        " ('will', 379),\n",
        " ('its', 372),\n",
        " ('And', 369),\n",
        " ('down', 364),\n",
        " ('only', 360),\n",
        " ('such', 336),\n",
        " ('head', 335),\n",
        " ('though', 335),\n",
        " ('boat', 330),\n",
        " ('her', 329),\n",
        " ('time', 324),\n",
        " ('any', 320),\n",
        " ('who', 319),\n",
        " ('long', 318),\n",
        " ('very', 311),\n",
        " ('It', 310),\n",
        " ('than', 309),\n",
        " ('!\"', 305),\n",
        " ('about', 304),\n",
        " (',\"', 302),\n",
        " ('said', 302),\n",
        " ('yet', 300),\n",
        " ('still', 299),\n",
        " ('those', 297),\n",
        " ('before', 293),\n",
        " ('great', 293),\n",
        " ('has', 287),\n",
        " ('two', 285),\n",
        " ('seemed', 283),\n",
        " ('t', 283),\n",
        " ('Whale', 282),\n",
        " ('must', 282),\n",
        " ('last', 277),\n",
        " ('most', 277),\n",
        " ('here', 272),\n",
        " ('way', 269),\n",
        " ('do', 267),\n",
        " ('Stubb', 255),\n",
        " ('again', 254),\n",
        " ('see', 253),\n",
        " ('?\"', 252),\n",
        " ('Queequeg', 252),\n",
        " ('after', 252),\n",
        " ('little', 247),\n",
        " ('did', 246),\n",
        " ('round', 242),\n",
        " ('your', 240),\n",
        " ('In', 237),\n",
        " ('say', 237),\n",
        " ('three', 237),\n",
        " ('whales', 237),\n",
        " ('men', 236),\n",
        " ('thou', 232),\n",
        " ('He', 230),\n",
        " ('may', 230),\n",
        " ('us', 228),\n",
        " ('through', 227),\n",
        " ('every', 222),\n",
        " ('can', 220),\n",
        " ('being', 219),\n",
        " ('much', 218),\n",
        " ('off', 217),\n",
        " ('while', 216),\n",
        " ('Captain', 215),\n",
        " ('could', 215),\n",
        " ('same', 213),\n",
        " ('(', 210),\n",
        " ('first', 210),\n",
        " ('side', 208),\n",
        " ('hand', 205),\n",
        " ('own', 205),\n",
        " ('ever', 203),\n",
        " ('himself', 203),\n",
        " ('our', 199),\n",
        " ('For', 197),\n",
        " ('Starbuck', 196),\n",
        " ('never', 195),\n",
        " ('good', 192),\n",
        " ('white', 191),\n",
        " ('where', 190),\n",
        " ('deck', 189),\n",
        " ('thing', 188),\n",
        " ('how', 187),\n",
        " ('almost', 186),\n",
        " ('water', 185),\n",
        " ('too', 184),\n",
        " ('might', 183),\n",
        " ('go', 182),\n",
        " ('even', 181),\n",
        " ('should', 181),\n",
        " ('made', 178),\n",
        " ('away', 175),\n",
        " ('What', 174),\n",
        " ('well', 174),\n",
        " ('world', 173),\n",
        " ('Pequod', 172),\n",
        " ('day', 172),\n",
        " ('A', 167),\n",
        " (':', 162),\n",
        " ('life', 162),\n",
        " ('far', 161),\n",
        " ('many', 161),\n",
        " ('seen', 161),\n",
        " ('among', 158),\n",
        " ('cried', 155),\n",
        " ('eyes', 155),\n",
        " ('look', 154),\n",
        " ('without', 154),\n",
        " ('sort', 152),\n",
        " ('back', 151),\n",
        " ('know', 151),\n",
        " ('CHAPTER', 150),\n",
        " ('come', 150),\n",
        " ('part', 149),\n",
        " ('thought', 149),\n",
        " ('So', 147),\n",
        " ('There', 147),\n",
        " ('night', 147),\n",
        " ('boats', 145),\n",
        " ('once', 144),\n",
        " ('sir', 143),\n",
        " ('!--', 141),\n",
        " ('air', 141),\n",
        " ('line', 141),\n",
        " ('Now', 139),\n",
        " ('crew', 139),\n",
        " ('whole', 136),\n",
        " ('Sperm', 135),\n",
        " ('half', 135),\n",
        " ('fish', 133),\n",
        " ('God', 132),\n",
        " ('against', 132),\n",
        " ('things', 132),\n",
        " ('came', 130),\n",
        " ('thee', 129),\n",
        " ('each', 127),\n",
        " ('feet', 125),\n",
        " ('small', 125),\n",
        " ('mast', 124),\n",
        " ('hands', 123),\n",
        " ('tell', 122),\n",
        " ('full', 121),\n",
        " ('till', 121),\n",
        " ('As', 120),\n",
        " ('let', 120),\n",
        " ('Oh', 119),\n",
        " ('something', 119),\n",
        " ('both', 118),\n",
        " ('take', 118),\n",
        " ('between', 117),\n",
        " ('under', 117),\n",
        " ('called', 116),\n",
        " ('place', 116),\n",
        " ('whaling', 116),\n",
        " ('found', 115),\n",
        " ('saw', 115),\n",
        " ('soon', 113),\n",
        " ('captain', 112),\n",
        " ('ll', 112),\n",
        " ('think', 111),\n",
        " ('times', 111),\n",
        " ('along', 110),\n",
        " ('body', 110),\n",
        " ('heard', 110),\n",
        " ('just', 110),\n",
        " ('make', 109),\n",
        " ('This', 107),\n",
        " ('thus', 107),\n",
        " ('towards', 107),\n",
        " ('another', 106),\n",
        " ('poor', 106),\n",
        " ('moment', 105),\n",
        " ('sight', 105),\n",
        " ('thy', 105),\n",
        " ('Flask', 104),\n",
        " ('sperm', 104),\n",
        " ('don', 103),\n",
        " ('she', 103),\n",
        " ('nothing', 102),\n",
        " ('sun', 102),\n",
        " ('high', 100),\n",
        " ('end', 99),\n",
        " ('No', 98),\n",
        " ('THE', 98),\n",
        " ('right', 97),\n",
        " ('went', 97),\n",
        " ('sail', 96),\n",
        " ('strange', 96),\n",
        " ('--\"', 95),\n",
        " ('face', 94),\n",
        " ('years', 94),\n",
        " ('voyage', 93),\n",
        " ('few', 92),\n",
        " ('get', 92),\n",
        " ('dead', 90),\n",
        " ('heart', 90),\n",
        " ('oil', 90),\n",
        " ('White', 89),\n",
        " ('does', 89),\n",
        " ('hold', 89),\n",
        " ('stood', 89),\n",
        " ('also', 88),\n",
        " ('arm', 88),\n",
        " ('eye', 88),\n",
        " ('Aye', 87),\n",
        " ('certain', 87),\n",
        " ('ships', 87),\n",
        " (',--', 86),\n",
        " ('am', 86),\n",
        " ('leg', 86),\n",
        " ('matter', 86),\n",
        " ('whose', 86),\n",
        " ('Nantucket', 85),\n",
        " ('That', 85),\n",
        " ('heads', 85),\n",
        " ('iron', 85),\n",
        " ('seem', 85),\n",
        " ('At', 84),\n",
        " ('Dick', 84),\n",
        " ('Jonah', 84),\n",
        " ('Moby', 84),\n",
        " ('itself', 84),\n",
        " ('seems', 84),\n",
        " ('shall', 84),\n",
        " ('black', 83),\n",
        " ('going', 83),\n",
        " ('soul', 83),\n",
        " ('stand', 83),\n",
        " ('indeed', 82),\n",
        " ('perhaps', 82),\n",
        " ('wild', 82),\n",
        " ('sometimes', 81),\n",
        " ('always', 80),\n",
        " ('days', 80),\n",
        " ('however', 80),\n",
        " ('known', 80),\n",
        " ('nor', 80),\n",
        " ('present', 80),\n",
        " ('seas', 80),\n",
        " ('cabin', 79),\n",
        " ('hard', 79),\n",
        " ('mind', 79),\n",
        " (')', 78),\n",
        " ('They', 78),\n",
        " ('land', 78),\n",
        " ('length', 78),\n",
        " ('tail', 78),\n",
        " ('within', 78),\n",
        " ('harpooneer', 77),\n",
        " ('instant', 77),\n",
        " ('large', 77),\n",
        " ('light', 77),\n",
        " ('Bildad', 76),\n",
        " ('Nor', 76),\n",
        " ('bed', 76),\n",
        " ('fire', 76),\n",
        " ('harpoon', 76),\n",
        " ('whether', 76),\n",
        " ('word', 76),\n",
        " ('young', 76),\n",
        " ('least', 75),\n",
        " ('mate', 75),\n",
        " ('open', 75),\n",
        " ('?--', 74),\n",
        " ('Peleg', 74),\n",
        " ('beneath', 74),\n",
        " ('done', 74),\n",
        " ('enough', 74),\n",
        " ('four', 74),\n",
        " ('set', 74),\n",
        " ('because', 73),\n",
        " ('board', 73),\n",
        " ('living', 73),\n",
        " ('standing', 73),\n",
        " ('true', 73),\n",
        " ('vast', 73),\n",
        " ('put', 72),\n",
        " ('death', 71),\n",
        " ('give', 71),\n",
        " ('ocean', 71),\n",
        " ('whalemen', 71),\n",
        " ('why', 71),\n",
        " ('point', 70),\n",
        " ('cannot', 69),\n",
        " ('case', 69),\n",
        " ('deep', 69),\n",
        " ('name', 69),\n",
        " ('near', 69),\n",
        " ('waters', 69),\n",
        " ('\"\\'', 68),\n",
        " ('Pip', 68),\n",
        " ('aye', 68),\n",
        " ('looking', 68),\n",
        " ('morning', 68),\n",
        " ('myself', 68),\n",
        " ('often', 68),\n",
        " ('rather', 68),\n",
        " ('top', 68),\n",
        " ('How', 67),\n",
        " ('business', 67),\n",
        " ('lay', 67),\n",
        " ('left', 67),\n",
        " ('wind', 67),\n",
        " ('ere', 66),\n",
        " ('keep', 66),\n",
        " ('turned', 66),\n",
        " ('general', 65),\n",
        " (';--', 64),\n",
        " ('Leviathan', 64),\n",
        " ('looked', 64),\n",
        " ('order', 64),\n",
        " ('reason', 64),\n",
        " ('together', 64),\n",
        " ('Mr', 63),\n",
        " ('S', 63),\n",
        " ('since', 63),\n",
        " ('),', 62),\n",
        " ('To', 62),\n",
        " ('best', 62),\n",
        " ('having', 62),\n",
        " ('work', 62),\n",
        " ('If', 60),\n",
        " ('better', 60),\n",
        " ('hear', 60),\n",
        " ('live', 60),\n",
        " ('mouth', 60),\n",
        " ('With', 59),\n",
        " ('blood', 59),\n",
        " ('further', 59),\n",
        " ('short', 59),\n",
        " ('themselves', 59),\n",
        " ('dark', 58),\n",
        " ('gone', 58),\n",
        " ('jaw', 58),\n",
        " ('spout', 58),\n",
        " ('Indian', 57),\n",
        " ('Then', 57),\n",
        " ('fine', 57),\n",
        " ('lower', 57),\n",
        " ('room', 57),\n",
        " ('rope', 57),\n",
        " ('Well', 56),\n",
        " ('above', 56),\n",
        " ('broad', 56),\n",
        " ('chase', 56),\n",
        " ('feel', 56),\n",
        " ('home', 56),\n",
        " ('peculiar', 56),\n",
        " ('therefore', 56),\n",
        " ('All', 55),\n",
        " ('entire', 55),\n",
        " ('find', 55),\n",
        " ('harpooneers', 55),\n",
        " ('His', 54),\n",
        " ('Tashtego', 54),\n",
        " ('close', 54),\n",
        " ('craft', 54),\n",
        " ('fishery', 54),\n",
        " ('goes', 54),\n",
        " ('ivory', 54),\n",
        " ('savage', 54),\n",
        " ('second', 54),\n",
        " ('turn', 54),\n",
        " ('vessel', 54),\n",
        " ('aloft', 53),\n",
        " ('began', 53),\n",
        " ('curious', 53),\n",
        " ('fellow', 53),\n",
        " ('By', 52),\n",
        " ('When', 52),\n",
        " ('bottom', 52),\n",
        " ('call', 52),\n",
        " ('comes', 52),\n",
        " ('forth', 52),\n",
        " ('turning', 52),\n",
        " ('watch', 52),\n",
        " ('Look', 51),\n",
        " ('Right', 51),\n",
        " ('d', 51),\n",
        " ('devil', 51),\n",
        " ('less', 51),\n",
        " ('run', 51),\n",
        " ('thousand', 51),\n",
        " ('behind', 50),\n",
        " ('bone', 50),\n",
        " ('boy', 50),\n",
        " ('broken', 50),\n",
        " ('coming', 50),\n",
        " ('cut', 50),\n",
        " ('green', 50),\n",
        " ('hundred', 50),\n",
        " ('main', 50),\n",
        " ('new', 50),\n",
        " ('rest', 50),\n",
        " ('sailors', 50),\n",
        " ('sharks', 50),\n",
        " ('taken', 50),\n",
        " ('taking', 50),\n",
        " ('wide', 50),\n",
        " ('Here', 49),\n",
        " ('OF', 49),\n",
        " ('Though', 49),\n",
        " ('Yes', 49),\n",
        " ('bows', 49),\n",
        " ('ground', 49),\n",
        " ('mark', 49),\n",
        " ('monster', 49),\n",
        " ('particular', 49),\n",
        " ('sailor', 49),\n",
        " ('took', 49),\n",
        " ('try', 49),\n",
        " ('Why', 48),\n",
        " ('bones', 48),\n",
        " ('common', 48),\n",
        " ('forward', 48),\n",
        " ('stern', 48),\n",
        " ('stranger', 48),\n",
        " ('used', 48),\n",
        " ('waves', 48),\n",
        " ('New', 47),\n",
        " ('Not', 47),\n",
        " ('We', 47),\n",
        " ('You', 47),\n",
        " ('fast', 47),\n",
        " ('kept', 47),\n",
        " ('mighty', 47),\n",
        " ('slowly', 47),\n",
        " ('speak', 47),\n",
        " ('story', 47),\n",
        " ('struck', 47),\n",
        " ('teeth', 47),\n",
        " ('English', 46),\n",
        " ('On', 46),\n",
        " ('below', 46),\n",
        " ('chance', 46),\n",
        " ('earth', 46),\n",
        " ('else', 46),\n",
        " ('fact', 46),\n",
        " ('got', 46),\n",
        " ('next', 46),\n",
        " ('several', 46),\n",
        " ('straight', 46),\n",
        " ('view', 46),\n",
        " ('voice', 46),\n",
        " ('.--', 45),\n",
        " ('Yet', 45),\n",
        " ('door', 45),\n",
        " ('lance', 45),\n",
        " ('lost', 45),\n",
        " ('making', 45),\n",
        " ('mine', 45),\n",
        " ('sails', 45),\n",
        " ('sat', 45),\n",
        " ('suddenly', 45),\n",
        " ('ten', 45),\n",
        " ('told', 45),\n",
        " ('touching', 45),\n",
        " ('Lord', 44),\n",
        " ('Who', 44),\n",
        " ('bow', 44),\n",
        " ('caught', 44),\n",
        " ('especially', 44),\n",
        " ('form', 44),\n",
        " ('hole', 44),\n",
        " ('means', 44),\n",
        " ('nigh', 44),\n",
        " ('noble', 44),\n",
        " ('quarter', 44),\n",
        " ('queer', 44),\n",
        " ('running', 44),\n",
        " ('says', 44),\n",
        " ('sleep', 44),\n",
        " ('sure', 44),\n",
        " ('whaleman', 44),\n",
        " ('whatever', 44),\n",
        " ('blue', 43),\n",
        " ('five', 43),\n",
        " ('grand', 43),\n",
        " ('house', 43),\n",
        " ('knew', 43),\n",
        " ('rolled', 43),\n",
        " ('seamen', 43),\n",
        " ('somehow', 43),\n",
        " ('whom', 43),\n",
        " ('creature', 42),\n",
        " ('em', 42),\n",
        " ('hours', 42),\n",
        " ('mere', 42),\n",
        " ('people', 42),\n",
        " ('sharp', 42),\n",
        " ('sudden', 42),\n",
        " ('surface', 42),\n",
        " ('anything', 41),\n",
        " ('brow', 41),\n",
        " ('calm', 41),\n",
        " ('cook', 41),\n",
        " ('course', 41),\n",
        " ('felt', 41),\n",
        " ('parts', 41),\n",
        " ('passed', 41),\n",
        " ('quite', 41),\n",
        " ('sound', 41),\n",
        " ('wondrous', 41),\n",
        " ('Steelkilt', 40),\n",
        " ('coast', 40),\n",
        " ('heaven', 40),\n",
        " ('hour', 40),\n",
        " ('pipe', 40),\n",
        " ('ready', 40),\n",
        " ('saying', 40),\n",
        " ('wake', 40),\n",
        " ('Thou', 39),\n",
        " ('art', 39),\n",
        " ('carpenter', 39),\n",
        " ('clear', 39),\n",
        " ('cry', 39),\n",
        " ('distance', 39),\n",
        " ('either', 39),\n",
        " ('gold', 39),\n",
        " ('hat', 39),\n",
        " ('makes', 39),\n",
        " ('mass', 39),\n",
        " ('mates', 39),\n",
        " ('mean', 39),\n",
        " ('mortal', 39),\n",
        " ('object', 39),\n",
        " ('plainly', 39),\n",
        " ('purpose', 39),\n",
        " ('single', 39),\n",
        " ('Cape', 38),\n",
        " ('Let', 38),\n",
        " ('Some', 38),\n",
        " ('WHALE', 38),\n",
        " ('book', 38),\n",
        " ('brought', 38),\n",
        " ('concerning', 38),\n",
        " ('darted', 38),\n",
        " ('easy', 38),\n",
        " ('gave', 38),\n",
        " ('leaving', 38),\n",
        " ('sailed', 38),\n",
        " ('AND', 37),\n",
        " ('King', 37),\n",
        " ('alone', 37),\n",
        " ('arms', 37),\n",
        " ('brain', 37),\n",
        " ('fixed', 37),\n",
        " ('forehead', 37),\n",
        " ('gentlemen', 37),\n",
        " ('heavy', 37),\n",
        " ('held', 37),\n",
        " ('help', 37),\n",
        " ('lines', 37),\n",
        " ('manner', 37),\n",
        " ('others', 37),\n",
        " ('plain', 37),\n",
        " ('power', 37),\n",
        " ('pull', 37),\n",
        " ('shot', 37),\n",
        " ('ve', 37),\n",
        " (\".'\", 36),\n",
        " ('ago', 36),\n",
        " ('around', 36),\n",
        " ('aspect', 36),\n",
        " ('bulwarks', 36),\n",
        " ('coffin', 36),\n",
        " ('fell', 36),\n",
        " ('flukes', 36),\n",
        " ('given', 36),\n",
        " ('mad', 36),\n",
        " ('oars', 36),\n",
        " ('oh', 36),\n",
        " ('placed', 36),\n",
        " ('red', 36),\n",
        " ('sign', 36),\n",
        " ('skin', 36),\n",
        " ('unknown', 36),\n",
        " ('use', 36),\n",
        " ('various', 36),\n",
        " ('Don', 35),\n",
        " ('Greenland', 35),\n",
        " ('cutting', 35),\n",
        " ('famous', 35),\n",
        " ('human', 35),\n",
        " ('legs', 35),\n",
        " ('low', 35),\n",
        " ('middle', 35),\n",
        " ('rolling', 35),\n",
        " ('sky', 35),\n",
        " ('st', 35),\n",
        " ('suppose', 35),\n",
        " ('table', 35),\n",
        " ('weather', 35),\n",
        " ('American', 34),\n",
        " ('Daggoo', 34),\n",
        " ('Such', 34),\n",
        " ('blubber', 34),\n",
        " ('boys', 34),\n",
        " ('creatures', 34),\n",
        " ('de', 34),\n",
        " ('forecastle', 34),\n",
        " ('holding', 34),\n",
        " ('nature', 34),\n",
        " ('previous', 34),\n",
        " ('remained', 34),\n",
        " ('strong', 34),\n",
        " ('thoughts', 34),\n",
        " ('turns', 34),\n",
        " ('wonder', 34),\n",
        " ('wood', 34),\n",
        " ('Fish', 33),\n",
        " ('ashore', 33),\n",
        " ('born', 33),\n",
        " ('company', 33),\n",
        " ('completely', 33),\n",
        " ('fifty', 33),\n",
        " ('foot', 33),\n",
        " ('hammock', 33),\n",
        " ('idea', 33),\n",
        " ('killed', 33),\n",
        " ('nearly', 33),\n",
        " ('none', 33),\n",
        " ('rigging', 33),\n",
        " ('sailing', 33),\n",
        " ('skeleton', 33),\n",
        " ('twenty', 33),\n",
        " (\",'\", 32),\n",
        " (\"?'\", 32),\n",
        " ('Do', 32),\n",
        " ('Pacific', 32),\n",
        " ('SAILOR', 32),\n",
        " ('account', 32),\n",
        " ('bear', 32),\n",
        " ('bulk', 32),\n",
        " ('doubt', 32),\n",
        " ('drawing', 32),\n",
        " ('fear', 32),\n",
        " ('fresh', 32),\n",
        " ('intervals', 32),\n",
        " ('jet', 32),\n",
        " ('passage', 32),\n",
        " ('proper', 32),\n",
        " ('show', 32),\n",
        " ('steel', 32),\n",
        " ('storm', 32),\n",
        " ('visible', 32),\n",
        " ('want', 32),\n",
        " ('across', 31),\n",
        " ('aft', 31),\n",
        " ('cast', 31),\n",
        " ('darkness', 31),\n",
        " ('except', 31),\n",
        " ('fair', 31),\n",
        " ('free', 31),\n",
        " ('hardly', 31),\n",
        " ('helm', 31),\n",
        " ('leviathan', 31),\n",
        " ('miles', 31),\n",
        " ('natural', 31),\n",
        " ('nose', 31),\n",
        " ('planks', 31),\n",
        " ('quick', 31),\n",
        " ('six', 31),\n",
        " ('soft', 31),\n",
        " ('species', 31),\n",
        " ('substance', 31),\n",
        " ('tossed', 31),\n",
        " (\"!'\", 30),\n",
        " ('Besides', 30),\n",
        " ('While', 30),\n",
        " ('act', 30),\n",
        " ('carried', 30),\n",
        " ('chief', 30),\n",
        " ('cold', 30),\n",
        " ('die', 30),\n",
        " ('generally', 30),\n",
        " ('hammer', 30),\n",
        " ('harpoons', 30),\n",
        " ('hoisted', 30),\n",
        " ('hull', 30),\n",
        " ('hung', 30),\n",
        " ('instances', 30),\n",
        " ('jaws', 30),\n",
        " ('kill', 30),\n",
        " ('possible', 30),\n",
        " ('really', 30),\n",
        " ('smoke', 30),\n",
        " ('snow', 30),\n",
        " ('touch', 30),\n",
        " ('truth', 30),\n",
        " ('upper', 30),\n",
        " ('vain', 30),\n",
        " ('won', 30),\n",
        " ('works', 30),\n",
        " (':--', 29),\n",
        " ('Come', 29),\n",
        " ('Whales', 29),\n",
        " ('Where', 29),\n",
        " ('altogether', 29),\n",
        " ('battle', 29),\n",
        " ('entirely', 29),\n",
        " ('final', 29),\n",
        " ('flying', 29),\n",
        " ('hearts', 29),\n",
        " ('huge', 29),\n",
        " ('knife', 29),\n",
        " ('late', 29),\n",
        " ('mariners', 29),\n",
        " ('pass', 29),\n",
        " ('play', 29),\n",
        " ('pointed', 29),\n",
        " ('possibly', 29),\n",
        " ('question', 29),\n",
        " ('rising', 29),\n",
        " ('royal', 29),\n",
        " ('stands', 29),\n",
        " ('strangely', 29),\n",
        " ('swimming', 29),\n",
        " ('third', 29),\n",
        " ('unless', 29),\n",
        " ('O', 28),\n",
        " ('One', 28),\n",
        " ('Parsee', 28),\n",
        " ('Sir', 28),\n",
        " ('already', 28),\n",
        " ('ancient', 28),\n",
        " ('astern', 28),\n",
        " ('become', 28),\n",
        " ('bound', 28),\n",
        " ('coat', 28),\n",
        " ('command', 28),\n",
        " ('considering', 28),\n",
        " ('feeling', 28),\n",
        " ('fishermen', 28),\n",
        " ('forty', 28),\n",
        " ('gale', 28),\n",
        " ('glance', 28),\n",
        " ('hunters', 28),\n",
        " ('knows', 28),\n",
        " ('lamp', 28),\n",
        " ('leeward', 28),\n",
        " ('m', 28),\n",
        " ('mild', 28),\n",
        " ('oar', 28),\n",
        " ('person', 28),\n",
        " ('pretty', 28),\n",
        " ('seeing', 28),\n",
        " ('sides', 28),\n",
        " ('spring', 28),\n",
        " ('start', 28),\n",
        " ('strike', 28),\n",
        " ('words', 28),\n",
        " ('Fedallah', 27),\n",
        " ('Is', 27),\n",
        " ('Nevertheless', 27),\n",
        " ('ahead', 27),\n",
        " ('alongside', 27),\n",
        " ('bit', 27),\n",
        " ('certainly', 27),\n",
        " ('dropped', 27),\n",
        " ('eyeing', 27),\n",
        " ('hope', 27),\n",
        " ('ice', 27),\n",
        " ('island', 27),\n",
        " ('kind', 27),\n",
        " ('landlord', 27),\n",
        " ('looks', 27),\n",
        " ('overboard', 27),\n",
        " ('precisely', 27),\n",
        " ('scene', 27),\n",
        " ('shark', 27),\n",
        " ('sideways', 27),\n",
        " ('somewhat', 27),\n",
        " ('suspended', 27),\n",
        " ('thick', 27),\n",
        " ('wholly', 27),\n",
        " ('yards', 27),\n",
        " ('From', 26),\n",
        " ('Upon', 26),\n",
        " ('blow', 26),\n",
        " ('bodily', 26),\n",
        " ('chest', 26),\n",
        " ('circumstance', 26),\n",
        " ('circumstances', 26),\n",
        " ('considerable', 26),\n",
        " ('degree', 26),\n",
        " ('ears', 26),\n",
        " ('enormous', 26),\n",
        " ('fancy', 26),\n",
        " ('followed', 26),\n",
        " ('getting', 26),\n",
        " ('giving', 26),\n",
        " ('hair', 26),\n",
        " ('horse', 26),\n",
        " ('lie', 26),\n",
        " ('lightning', 26),\n",
        " ('masts', 26),\n",
        " ('otherwise', 26),\n",
        " ('pole', 26),\n",
        " ('read', 26),\n",
        " ('received', 26),\n",
        " ('rose', 26),\n",
        " ('seated', 26),\n",
        " ('started', 26),\n",
        " ('thirty', 26),\n",
        " ('vessels', 26),\n",
        " ('whiteness', 26),\n",
        " ('wooden', 26),\n",
        " ('year', 26),\n",
        " ('yes', 26),\n",
        " ('yourself', 26),\n",
        " ('Thus', 25),\n",
        " ('added', 25),\n",
        " ('alive', 25),\n",
        " ('bearing', 25),\n",
        " ('believe', 25),\n",
        " ('carry', 25),\n",
        " ('cases', 25),\n",
        " ('complete', 25),\n",
        " ('country', 25),\n",
        " ('cruising', 25),\n",
        " ('drawn', 25),\n",
        " ('duty', 25),\n",
        " ('fin', 25),\n",
        " ('friend', 25),\n",
        " ('front', 25),\n",
        " ('gods', 25),\n",
        " ('hinted', 25),\n",
        " ('hump', 25),\n",
        " ('interval', 25),\n",
        " ('keel', 25),\n",
        " ('king', 25),\n",
        " ('leaning', 25),\n",
        " ('learned', 25),\n",
        " ('number', 25),\n",
        " ('pilot', 25),\n",
        " ('port', 25),\n",
        " ('self', 25),\n",
        " ('silent', 25),\n",
        " ('similar', 25),\n",
        " ('skull', 25),\n",
        " ('steady', 25),\n",
        " ('stop', 25),\n",
        " ('supper', 25),\n",
        " ('takes', 25),\n",
        " ('thinking', 25),\n",
        " ('thrown', 25),\n",
        " ('wife', 25),\n",
        " ('woe', 25),\n",
        " ('Dutch', 24),\n",
        " ('First', 24),\n",
        " ('Lakeman', 24),\n",
        " ('Of', 24),\n",
        " ('St', 24),\n",
        " ('Stand', 24),\n",
        " ('afterwards', 24),\n",
        " ('aside', 24),\n",
        " ('beat', 24),\n",
        " ('became', 24),\n",
        " ('bright', 24),\n",
        " ('circle', 24),\n",
        " ('dart', 24),\n",
        " ('different', 24),\n",
        " ('drop', 24),\n",
        " ('e', 24),\n",
        " ('eight', 24),\n",
        " ('escape', 24),\n",
        " ('exactly', 24),\n",
        " ('floating', 24),\n",
        " ('grow', 24),\n",
        " ('hunt', 24),\n",
        " ('love', 24),\n",
        " ('midnight', 24),\n",
        " ('orders', 24),\n",
        " ('perils', 24),\n",
        " ('pursuit', 24),\n",
        " ('ran', 24),\n",
        " ('regular', 24),\n",
        " ('remains', 24),\n",
        " ('secret', 24),\n",
        " ('seldom', 24),\n",
        " ('spread', 24),\n",
        " ('swift', 24),\n",
        " ('thyself', 24),\n",
        " ('warm', 24),\n",
        " ('watery', 24),\n",
        " ('wise', 24),\n",
        " ('D', 23),\n",
        " ('Good', 23),\n",
        " ('Like', 23),\n",
        " ('answer', 23),\n",
        " ('beyond', 23),\n",
        " ('blows', 23),\n",
        " ('break', 23),\n",
        " ('chapter', 23),\n",
        " ('commanded', 23),\n",
        " ('during', 23),\n",
        " ('fiery', 23),\n",
        " ('finally', 23),\n",
        " ('flesh', 23),\n",
        " ('flew', 23),\n",
        " ('following', 23),\n",
        " ('fore', 23),\n",
        " ('headed', 23),\n",
        " ('hence', 23),\n",
        " ('hidden', 23),\n",
        " ('higher', 23),\n",
        " ('hint', 23),\n",
        " ('honour', 23),\n",
        " ('hot', 23),\n",
        " ('instead', 23),\n",
        " ('lad', 23),\n",
        " ('lances', 23),\n",
        " ('level', 23),\n",
        " ('master', 23),\n",
        " ('nevertheless', 23),\n",
        " ('regarded', 23),\n",
        " ('remain', 23),\n",
        " ('shore', 23),\n",
        " ...]"
       ]
      }
     ],
     "prompt_number": 56
    },
    {
     "cell_type": "code",
     "collapsed": false,
     "input": [
      "fdist.max() # the word length with the highest count"
     ],
     "language": "python",
     "metadata": {},
     "outputs": [
      {
       "metadata": {},
       "output_type": "pyout",
       "prompt_number": 57,
       "text": [
        "','"
       ]
      }
     ],
     "prompt_number": 57
    },
    {
     "cell_type": "code",
     "collapsed": false,
     "input": [
      "fdist[\"the\"] # the count for word-length 10"
     ],
     "language": "python",
     "metadata": {},
     "outputs": [
      {
       "metadata": {},
       "output_type": "pyout",
       "prompt_number": 58,
       "text": [
        "13721"
       ]
      }
     ],
     "prompt_number": 58
    },
    {
     "cell_type": "code",
     "collapsed": false,
     "input": [
      "fdist.freq(\"the\") # frequency/probability of words of length 10"
     ],
     "language": "python",
     "metadata": {},
     "outputs": [
      {
       "metadata": {},
       "output_type": "pyout",
       "prompt_number": 59,
       "text": [
        "0.052607363727335814"
       ]
      }
     ],
     "prompt_number": 59
    },
    {
     "cell_type": "markdown",
     "metadata": {},
     "source": [
      "### Conditional Frequency Distribution\n",
      "The \"contigency table\" of NLTK"
     ]
    },
    {
     "cell_type": "code",
     "collapsed": false,
     "input": [
      "from nltk import ConditionalFreqDist as CFD"
     ],
     "language": "python",
     "metadata": {},
     "outputs": [],
     "prompt_number": 60
    },
    {
     "cell_type": "code",
     "collapsed": false,
     "input": [
      "CFD?"
     ],
     "language": "python",
     "metadata": {},
     "outputs": []
    },
    {
     "cell_type": "code",
     "collapsed": false,
     "input": [
      "example = CFD([('label1', 'word1'), ('label2', 'word1'), ('label1', 'word2')])"
     ],
     "language": "python",
     "metadata": {},
     "outputs": [],
     "prompt_number": 61
    },
    {
     "cell_type": "code",
     "collapsed": false,
     "input": [
      "example.plot()"
     ],
     "language": "python",
     "metadata": {},
     "outputs": [
      {
       "metadata": {},
       "output_type": "display_data",
       "png": "[encoded data removed]",
       "text": [
        "<matplotlib.figure.Figure at 0x11bcba350>"
       ]
      }
     ],
     "prompt_number": 62
    },
    {
     "cell_type": "code",
     "collapsed": false,
     "input": [
      "example.conditions()"
     ],
     "language": "python",
     "metadata": {},
     "outputs": [
      {
       "metadata": {},
       "output_type": "pyout",
       "prompt_number": 63,
       "text": [
        "['label1', 'label2']"
       ]
      }
     ],
     "prompt_number": 63
    },
    {
     "cell_type": "code",
     "collapsed": false,
     "input": [
      "example['label1'].plot()"
     ],
     "language": "python",
     "metadata": {},
     "outputs": [
      {
       "metadata": {},
       "output_type": "display_data",
       "png": "[encoded data removed]",
       "text": [
        "<matplotlib.figure.Figure at 0x11bb76d10>"
       ]
      }
     ],
     "prompt_number": 64
    },
    {
     "cell_type": "heading",
     "level": 2,
     "metadata": {},
     "source": [
      "Numeric Python"
     ]
    },
    {
     "cell_type": "markdown",
     "metadata": {},
     "source": [
      "A good NumPy tutorial: [www.engr.ucsb.edu/~shell/che210d/numpy.pdf](http://www.engr.ucsb.edu/~shell/che210d/numpy.pdf)\n",
      "\n",
      "The API/reference for NumPy and SciPy: [docs.scipy.org/doc/](http://docs.scipy.org/doc/)"
     ]
    },
    {
     "cell_type": "code",
     "collapsed": false,
     "input": [
      "import numpy as np"
     ],
     "language": "python",
     "metadata": {},
     "outputs": [],
     "prompt_number": 65
    },
    {
     "cell_type": "heading",
     "level": 3,
     "metadata": {},
     "source": [
      "Arrays as Vectors"
     ]
    },
    {
     "cell_type": "code",
     "collapsed": false,
     "input": [
      "a = np.arange(10)\n",
      "a"
     ],
     "language": "python",
     "metadata": {},
     "outputs": [
      {
       "metadata": {},
       "output_type": "pyout",
       "prompt_number": 66,
       "text": [
        "array([0, 1, 2, 3, 4, 5, 6, 7, 8, 9])"
       ]
      }
     ],
     "prompt_number": 66
    },
    {
     "cell_type": "code",
     "collapsed": false,
     "input": [
      "a.shape"
     ],
     "language": "python",
     "metadata": {},
     "outputs": [
      {
       "metadata": {},
       "output_type": "pyout",
       "prompt_number": 67,
       "text": [
        "(10,)"
       ]
      }
     ],
     "prompt_number": 67
    },
    {
     "cell_type": "code",
     "collapsed": false,
     "input": [
      "b = np.arange(10, 20)\n",
      "b"
     ],
     "language": "python",
     "metadata": {},
     "outputs": [
      {
       "metadata": {},
       "output_type": "pyout",
       "prompt_number": 68,
       "text": [
        "array([10, 11, 12, 13, 14, 15, 16, 17, 18, 19])"
       ]
      }
     ],
     "prompt_number": 68
    },
    {
     "cell_type": "code",
     "collapsed": false,
     "input": [
      "a * b"
     ],
     "language": "python",
     "metadata": {},
     "outputs": [
      {
       "metadata": {},
       "output_type": "pyout",
       "prompt_number": 69,
       "text": [
        "array([  0,  11,  24,  39,  56,  75,  96, 119, 144, 171])"
       ]
      }
     ],
     "prompt_number": 69
    },
    {
     "cell_type": "code",
     "collapsed": false,
     "input": [
      "a < b # NumPy arrays generally behave simlarly to R vectors"
     ],
     "language": "python",
     "metadata": {},
     "outputs": [
      {
       "metadata": {},
       "output_type": "pyout",
       "prompt_number": 70,
       "text": [
        "array([ True,  True,  True,  True,  True,  True,  True,  True,  True,  True], dtype=bool)"
       ]
      }
     ],
     "prompt_number": 70
    },
    {
     "cell_type": "code",
     "collapsed": false,
     "input": [
      "c = np.concatenate((a, b)) # NB that the argument to np.concatenate() is a SINGLE LIST\n",
      "c"
     ],
     "language": "python",
     "metadata": {},
     "outputs": [
      {
       "metadata": {},
       "output_type": "pyout",
       "prompt_number": 71,
       "text": [
        "array([ 0,  1,  2,  3,  4,  5,  6,  7,  8,  9, 10, 11, 12, 13, 14, 15, 16,\n",
        "       17, 18, 19])"
       ]
      }
     ],
     "prompt_number": 71
    },
    {
     "cell_type": "code",
     "collapsed": false,
     "input": [
      "a[a > 5]"
     ],
     "language": "python",
     "metadata": {},
     "outputs": [
      {
       "metadata": {},
       "output_type": "pyout",
       "prompt_number": 72,
       "text": [
        "array([6, 7, 8, 9])"
       ]
      }
     ],
     "prompt_number": 72
    },
    {
     "cell_type": "code",
     "collapsed": false,
     "input": [
      "a.dot(b)"
     ],
     "language": "python",
     "metadata": {},
     "outputs": [
      {
       "metadata": {},
       "output_type": "pyout",
       "prompt_number": 73,
       "text": [
        "735"
       ]
      }
     ],
     "prompt_number": 73
    },
    {
     "cell_type": "code",
     "collapsed": false,
     "input": [
      "np.where(a > 5, \"greater\", \"lesser\")"
     ],
     "language": "python",
     "metadata": {},
     "outputs": [
      {
       "metadata": {},
       "output_type": "pyout",
       "prompt_number": 74,
       "text": [
        "array(['lesser', 'lesser', 'lesser', 'lesser', 'lesser', 'lesser',\n",
        "       'greater', 'greater', 'greater', 'greater'], \n",
        "      dtype='|S7')"
       ]
      }
     ],
     "prompt_number": 74
    },
    {
     "cell_type": "code",
     "collapsed": true,
     "input": [
      "a.view?"
     ],
     "language": "python",
     "metadata": {},
     "outputs": []
    },
    {
     "cell_type": "code",
     "collapsed": false,
     "input": [
      "if 5 in a:\n",
      "    print \"hurray\""
     ],
     "language": "python",
     "metadata": {},
     "outputs": [
      {
       "output_type": "stream",
       "stream": "stdout",
       "text": [
        "hurray\n"
       ]
      }
     ],
     "prompt_number": 75
    },
    {
     "cell_type": "code",
     "collapsed": false,
     "input": [
      "5.0 in a # \"a\" is a list of integers, \"5.0\" is a float"
     ],
     "language": "python",
     "metadata": {},
     "outputs": [
      {
       "metadata": {},
       "output_type": "pyout",
       "prompt_number": 76,
       "text": [
        "True"
       ]
      }
     ],
     "prompt_number": 76
    },
    {
     "cell_type": "heading",
     "level": 3,
     "metadata": {},
     "source": [
      "Array Statistics"
     ]
    },
    {
     "cell_type": "markdown",
     "metadata": {},
     "source": [
      "Let's convert our `wlens` list from the NLTK part to a NumPy array:"
     ]
    },
    {
     "cell_type": "code",
     "collapsed": false,
     "input": [
      "wlarr = np.array(wlens)"
     ],
     "language": "python",
     "metadata": {},
     "outputs": [],
     "prompt_number": 77
    },
    {
     "cell_type": "code",
     "collapsed": false,
     "input": [
      "wlarr.sum()"
     ],
     "language": "python",
     "metadata": {},
     "outputs": [
      {
       "metadata": {},
       "output_type": "pyout",
       "prompt_number": 78,
       "text": [
        "999044"
       ]
      }
     ],
     "prompt_number": 78
    },
    {
     "cell_type": "code",
     "collapsed": false,
     "input": [
      "wlarr.mean()"
     ],
     "language": "python",
     "metadata": {},
     "outputs": [
      {
       "metadata": {},
       "output_type": "pyout",
       "prompt_number": 79,
       "text": [
        "3.8304111280236488"
       ]
      }
     ],
     "prompt_number": 79
    },
    {
     "cell_type": "code",
     "collapsed": false,
     "input": [
      "wlarr.var()"
     ],
     "language": "python",
     "metadata": {},
     "outputs": [
      {
       "metadata": {},
       "output_type": "pyout",
       "prompt_number": 80,
       "text": [
        "5.8925183557021983"
       ]
      }
     ],
     "prompt_number": 80
    },
    {
     "cell_type": "code",
     "collapsed": false,
     "input": [
      "wlarr.std()"
     ],
     "language": "python",
     "metadata": {},
     "outputs": [
      {
       "metadata": {},
       "output_type": "pyout",
       "prompt_number": 81,
       "text": [
        "2.4274509996500853"
       ]
      }
     ],
     "prompt_number": 81
    },
    {
     "cell_type": "code",
     "collapsed": false,
     "input": [
      "wlarr.min()"
     ],
     "language": "python",
     "metadata": {},
     "outputs": [
      {
       "metadata": {},
       "output_type": "pyout",
       "prompt_number": 82,
       "text": [
        "1"
       ]
      }
     ],
     "prompt_number": 82
    },
    {
     "cell_type": "code",
     "collapsed": false,
     "input": [
      "wlarr.max()"
     ],
     "language": "python",
     "metadata": {},
     "outputs": [
      {
       "metadata": {},
       "output_type": "pyout",
       "prompt_number": 83,
       "text": [
        "20"
       ]
      }
     ],
     "prompt_number": 83
    },
    {
     "cell_type": "code",
     "collapsed": false,
     "input": [
      "wlarr.argmax?"
     ],
     "language": "python",
     "metadata": {},
     "outputs": []
    },
    {
     "cell_type": "code",
     "collapsed": false,
     "input": [
      "wlarr[wlarr.argmax()]"
     ],
     "language": "python",
     "metadata": {},
     "outputs": [
      {
       "metadata": {},
       "output_type": "pyout",
       "prompt_number": 84,
       "text": [
        "20"
       ]
      }
     ],
     "prompt_number": 84
    },
    {
     "cell_type": "code",
     "collapsed": false,
     "input": [
      "wlarr.sort()"
     ],
     "language": "python",
     "metadata": {},
     "outputs": [],
     "prompt_number": 85
    },
    {
     "cell_type": "code",
     "collapsed": false,
     "input": [
      "wlarr[len(wlarr)/2]"
     ],
     "language": "python",
     "metadata": {},
     "outputs": [
      {
       "metadata": {},
       "output_type": "pyout",
       "prompt_number": 86,
       "text": [
        "3"
       ]
      }
     ],
     "prompt_number": 86
    },
    {
     "cell_type": "code",
     "collapsed": false,
     "input": [
      "np.median(wlarr) # NB: median is not a method defined on array!"
     ],
     "language": "python",
     "metadata": {},
     "outputs": [
      {
       "metadata": {},
       "output_type": "pyout",
       "prompt_number": 87,
       "text": [
        "3.0"
       ]
      }
     ],
     "prompt_number": 87
    },
    {
     "cell_type": "heading",
     "level": 3,
     "metadata": {},
     "source": [
      "Arrays as Matrices"
     ]
    },
    {
     "cell_type": "code",
     "collapsed": false,
     "input": [
      "a = np.array([[0, 1], [2, 3]], float)\n",
      "b = np.array([2, 3], float)\n",
      "c = np.array([[1, 1], [4, 0]], float)\n",
      "a"
     ],
     "language": "python",
     "metadata": {},
     "outputs": [
      {
       "metadata": {},
       "output_type": "pyout",
       "prompt_number": 88,
       "text": [
        "array([[ 0.,  1.],\n",
        "       [ 2.,  3.]])"
       ]
      }
     ],
     "prompt_number": 88
    },
    {
     "cell_type": "code",
     "collapsed": false,
     "input": [
      "a.shape"
     ],
     "language": "python",
     "metadata": {},
     "outputs": [
      {
       "metadata": {},
       "output_type": "pyout",
       "prompt_number": 89,
       "text": [
        "(2, 2)"
       ]
      }
     ],
     "prompt_number": 89
    },
    {
     "cell_type": "code",
     "collapsed": false,
     "input": [
      "b * a"
     ],
     "language": "python",
     "metadata": {},
     "outputs": [
      {
       "metadata": {},
       "output_type": "pyout",
       "prompt_number": 90,
       "text": [
        "array([[ 0.,  3.],\n",
        "       [ 4.,  9.]])"
       ]
      }
     ],
     "prompt_number": 90
    },
    {
     "cell_type": "code",
     "collapsed": false,
     "input": [
      "b.dot(a)"
     ],
     "language": "python",
     "metadata": {},
     "outputs": [
      {
       "metadata": {},
       "output_type": "pyout",
       "prompt_number": 91,
       "text": [
        "array([  6.,  11.])"
       ]
      }
     ],
     "prompt_number": 91
    },
    {
     "cell_type": "code",
     "collapsed": false,
     "input": [
      "a.dot(c)"
     ],
     "language": "python",
     "metadata": {},
     "outputs": [
      {
       "metadata": {},
       "output_type": "pyout",
       "prompt_number": 92,
       "text": [
        "array([[  4.,   0.],\n",
        "       [ 14.,   2.]])"
       ]
      }
     ],
     "prompt_number": 92
    },
    {
     "cell_type": "code",
     "collapsed": false,
     "input": [
      "np.cross(a, b)"
     ],
     "language": "python",
     "metadata": {},
     "outputs": [
      {
       "metadata": {},
       "output_type": "pyout",
       "prompt_number": 93,
       "text": [
        "array([-2.,  0.])"
       ]
      }
     ],
     "prompt_number": 93
    },
    {
     "cell_type": "code",
     "collapsed": false,
     "input": [
      "np.inner(a, b)"
     ],
     "language": "python",
     "metadata": {},
     "outputs": [
      {
       "metadata": {},
       "output_type": "pyout",
       "prompt_number": 94,
       "text": [
        "array([  3.,  13.])"
       ]
      }
     ],
     "prompt_number": 94
    },
    {
     "cell_type": "code",
     "collapsed": false,
     "input": [
      "np.outer(a, b)"
     ],
     "language": "python",
     "metadata": {},
     "outputs": [
      {
       "metadata": {},
       "output_type": "pyout",
       "prompt_number": 95,
       "text": [
        "array([[ 0.,  0.],\n",
        "       [ 2.,  3.],\n",
        "       [ 4.,  6.],\n",
        "       [ 6.,  9.]])"
       ]
      }
     ],
     "prompt_number": 95
    },
    {
     "cell_type": "heading",
     "level": 3,
     "metadata": {},
     "source": [
      "Linear Algebra Functions"
     ]
    },
    {
     "cell_type": "code",
     "collapsed": false,
     "input": [
      "np.linalg.det(a)"
     ],
     "language": "python",
     "metadata": {},
     "outputs": [
      {
       "metadata": {},
       "output_type": "pyout",
       "prompt_number": 96,
       "text": [
        "-2.0"
       ]
      }
     ],
     "prompt_number": 96
    },
    {
     "cell_type": "code",
     "collapsed": false,
     "input": [
      "np.linalg.eig(a)"
     ],
     "language": "python",
     "metadata": {},
     "outputs": [
      {
       "metadata": {},
       "output_type": "pyout",
       "prompt_number": 97,
       "text": [
        "(array([-0.56155281,  3.56155281]), array([[-0.87192821, -0.27032301],\n",
        "        [ 0.48963374, -0.96276969]]))"
       ]
      }
     ],
     "prompt_number": 97
    },
    {
     "cell_type": "code",
     "collapsed": false,
     "input": [
      "np.linalg.inv(a)"
     ],
     "language": "python",
     "metadata": {},
     "outputs": [
      {
       "metadata": {},
       "output_type": "pyout",
       "prompt_number": 98,
       "text": [
        "array([[-1.5,  0.5],\n",
        "       [ 1. ,  0. ]])"
       ]
      }
     ],
     "prompt_number": 98
    },
    {
     "cell_type": "code",
     "collapsed": false,
     "input": [
      "np.linalg.svd(a)"
     ],
     "language": "python",
     "metadata": {},
     "outputs": [
      {
       "metadata": {},
       "output_type": "pyout",
       "prompt_number": 99,
       "text": [
        "(array([[-0.22975292, -0.97324899],\n",
        "        [-0.97324899,  0.22975292]]),\n",
        " array([ 3.70245917,  0.54018151]),\n",
        " array([[-0.52573111, -0.85065081],\n",
        "        [ 0.85065081, -0.52573111]]))"
       ]
      }
     ],
     "prompt_number": 99
    },
    {
     "cell_type": "code",
     "collapsed": false,
     "input": [
      "from scipy import linalg as la"
     ],
     "language": "python",
     "metadata": {},
     "outputs": [],
     "prompt_number": 100
    },
    {
     "cell_type": "code",
     "collapsed": false,
     "input": [
      "la.svd(a)"
     ],
     "language": "python",
     "metadata": {},
     "outputs": [
      {
       "metadata": {},
       "output_type": "pyout",
       "prompt_number": 101,
       "text": [
        "(array([[-0.22975292, -0.97324899],\n",
        "        [-0.97324899,  0.22975292]]),\n",
        " array([ 3.70245917,  0.54018151]),\n",
        " array([[-0.52573111, -0.85065081],\n",
        "        [ 0.85065081, -0.52573111]]))"
       ]
      }
     ],
     "prompt_number": 101
    },
    {
     "cell_type": "code",
     "collapsed": false,
     "input": [
      "%timeit np.linalg.svd(a)"
     ],
     "language": "python",
     "metadata": {},
     "outputs": [
      {
       "output_type": "stream",
       "stream": "stdout",
       "text": [
        "10000 loops, best of 3: 32.6 \u00b5s per loop\n"
       ]
      }
     ],
     "prompt_number": 102
    },
    {
     "cell_type": "code",
     "collapsed": false,
     "input": [
      "%timeit la.svd(a)"
     ],
     "language": "python",
     "metadata": {},
     "outputs": [
      {
       "output_type": "stream",
       "stream": "stdout",
       "text": [
        "10000 loops, best of 3: 29.9 \u00b5s per loop\n"
       ]
      }
     ],
     "prompt_number": 103
    },
    {
     "cell_type": "markdown",
     "metadata": {},
     "source": [
      "Other important functionalty provided by SciPy modules:\n",
      "\n",
      "* `constants` - a huge list of math/phys constants\n",
      "* `integrate` - numerical integration/ODEs\n",
      "* `optimize` - optimization functions (e.g., BFGS is here)\n",
      "* `sparse` - working with large, sparse matrices\n",
      "* `interpolate` - interpolation for discrete data (linear and spline)\n",
      "* `fftpack` - Fast Fourier transform routines\n",
      "* `signal` - Signal processing (time-series analysis)\n",
      "* **`stats`** - a huge collection of distribtuions and functions"
     ]
    },
    {
     "cell_type": "heading",
     "level": 3,
     "metadata": {},
     "source": [
      "Statistical Functions"
     ]
    },
    {
     "cell_type": "markdown",
     "metadata": {},
     "source": [
      "Three variables, four instances:"
     ]
    },
    {
     "cell_type": "code",
     "collapsed": false,
     "input": [
      "data = np.array([[1, 2, 1, 3], [5, 3, 1, 8], [2, 1, 5, 6]], float)"
     ],
     "language": "python",
     "metadata": {},
     "outputs": [],
     "prompt_number": 104
    },
    {
     "cell_type": "code",
     "collapsed": false,
     "input": [
      "np.corrcoef(data)"
     ],
     "language": "python",
     "metadata": {},
     "outputs": [
      {
       "metadata": {},
       "output_type": "pyout",
       "prompt_number": 105,
       "text": [
        "array([[ 1.        ,  0.72870505,  0.36563621],\n",
        "       [ 0.72870505,  1.        ,  0.30480845],\n",
        "       [ 0.36563621,  0.30480845,  1.        ]])"
       ]
      }
     ],
     "prompt_number": 105
    },
    {
     "cell_type": "code",
     "collapsed": false,
     "input": [
      "np.cov(data)"
     ],
     "language": "python",
     "metadata": {},
     "outputs": [
      {
       "metadata": {},
       "output_type": "pyout",
       "prompt_number": 106,
       "text": [
        "array([[ 0.91666667,  2.08333333,  0.83333333],\n",
        "       [ 2.08333333,  8.91666667,  2.16666667],\n",
        "       [ 0.83333333,  2.16666667,  5.66666667]])"
       ]
      }
     ],
     "prompt_number": 106
    },
    {
     "cell_type": "code",
     "collapsed": false,
     "input": [
      "from scipy import stats # by the way, \"RV\" means \"random variable\""
     ],
     "language": "python",
     "metadata": {},
     "outputs": [],
     "prompt_number": 107
    },
    {
     "cell_type": "code",
     "collapsed": false,
     "input": [
      "stats.norm.pdf?"
     ],
     "language": "python",
     "metadata": {},
     "outputs": []
    },
    {
     "cell_type": "code",
     "collapsed": false,
     "input": [
      "d = stats.norm.pdf([-1.0, 0.0, 1.0])\n",
      "d"
     ],
     "language": "python",
     "metadata": {},
     "outputs": [
      {
       "metadata": {},
       "output_type": "pyout",
       "prompt_number": 108,
       "text": [
        "array([ 0.24197072,  0.39894228,  0.24197072])"
       ]
      }
     ],
     "prompt_number": 108
    },
    {
     "cell_type": "code",
     "collapsed": false,
     "input": [
      "d.min()"
     ],
     "language": "python",
     "metadata": {},
     "outputs": [
      {
       "metadata": {},
       "output_type": "pyout",
       "prompt_number": 109,
       "text": [
        "0.24197072451914337"
       ]
      }
     ],
     "prompt_number": 109
    },
    {
     "cell_type": "code",
     "collapsed": false,
     "input": [
      "d.max()"
     ],
     "language": "python",
     "metadata": {},
     "outputs": [
      {
       "metadata": {},
       "output_type": "pyout",
       "prompt_number": 110,
       "text": [
        "0.3989422804014327"
       ]
      }
     ],
     "prompt_number": 110
    },
    {
     "cell_type": "code",
     "collapsed": false,
     "input": [
      "d.mean()"
     ],
     "language": "python",
     "metadata": {},
     "outputs": [
      {
       "metadata": {},
       "output_type": "pyout",
       "prompt_number": 111,
       "text": [
        "0.29429457647990648"
       ]
      }
     ],
     "prompt_number": 111
    },
    {
     "cell_type": "markdown",
     "metadata": {},
     "source": [
      "For more info on working with distributions, have a look at the SciPy stats tutorial at [docs.scipy.org/doc/scipy/reference/tutorial/stats.html](http://docs.scipy.org/doc/scipy/reference/tutorial/stats.html)"
     ]
    },
    {
     "cell_type": "markdown",
     "metadata": {},
     "source": [
      "# Simple Barcharts with MatPlotLib"
     ]
    },
    {
     "cell_type": "markdown",
     "metadata": {},
     "source": [
      "`matplotlib` is slightly over-enginered, particularly if you are used to R's `ggplot`: Just plotting a barchart for a dictionary of word counts can be a challenge for beginners. Here's how..."
     ]
    },
    {
     "cell_type": "code",
     "collapsed": false,
     "input": [
      "%pylab inline --no-import-all"
     ],
     "language": "python",
     "metadata": {},
     "outputs": [
      {
       "output_type": "stream",
       "stream": "stdout",
       "text": [
        "Populating the interactive namespace from numpy and matplotlib\n"
       ]
      }
     ],
     "prompt_number": 117
    },
    {
     "cell_type": "code",
     "collapsed": false,
     "input": [
      "d = {'word': 3, 'other': 7, 'another': 2, 'hello': 5, 'plot': 4}"
     ],
     "language": "python",
     "metadata": {},
     "outputs": [],
     "prompt_number": 118
    },
    {
     "cell_type": "code",
     "collapsed": false,
     "input": [
      "fig = plt.figure()\n",
      "ax = fig.add_subplot(111)\n",
      "rng = np.arange(len(d))\n",
      "words, counts = zip(*d.iteritems())\n",
      "ax.bar(rng, counts)\n",
      "ax.set_xticks(rng + 0.4)\n",
      "ax.set_xticklabels(words)\n",
      "fig.autofmt_xdate()"
     ],
     "language": "python",
     "metadata": {},
     "outputs": [
      {
       "metadata": {},
       "output_type": "display_data",
       "png": "[encoded data removed]",
       "text": [
        "<matplotlib.figure.Figure at 0x11bcaed10>"
       ]
      }
     ],
     "prompt_number": 119
    },
    {
     "cell_type": "markdown",
     "metadata": {},
     "source": [
      "Let's implement this as a function:"
     ]
    },
    {
     "cell_type": "code",
     "collapsed": false,
     "input": [
      "def wordchart(counts):\n",
      "    fig = plt.figure()\n",
      "    ax = fig.add_subplot(111)\n",
      "    rng = np.arange(len(counts))\n",
      "    words, counts = zip(*counts.iteritems())\n",
      "    ax.bar(rng, counts)\n",
      "    ax.set_xticks(rng + 0.4)\n",
      "    ax.set_xticklabels(words)\n",
      "    fig.autofmt_xdate()"
     ],
     "language": "python",
     "metadata": {},
     "outputs": [],
     "prompt_number": 120
    },
    {
     "cell_type": "code",
     "collapsed": false,
     "input": [
      "wordchart(d)"
     ],
     "language": "python",
     "metadata": {},
     "outputs": [
      {
       "metadata": {},
       "output_type": "display_data",
       "png": "[encoded data removed]",
       "text": [
        "<matplotlib.figure.Figure at 0x11c1161d0>"
       ]
      }
     ],
     "prompt_number": 121
    }
   ],
   "metadata": {}
  }
 ]
}