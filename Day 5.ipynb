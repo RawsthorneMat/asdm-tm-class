{
 "cells": [
  {
   "cell_type": "markdown",
   "metadata": {},
   "source": [
    "# Natural language processing"
   ]
  },
  {
   "cell_type": "markdown",
   "metadata": {},
   "source": [
    "Practical course material for the ASDM Class 09 (Text Mining) by Florian Leitner.\n",
    "\n",
    "© 2016 Florian Leitner. All rights reserved."
   ]
  },
  {
   "cell_type": "markdown",
   "metadata": {},
   "source": [
    "## Installation and setup"
   ]
  },
  {
   "cell_type": "markdown",
   "metadata": {},
   "source": [
    "NLTK-based NLP (should require no more additional steps):"
   ]
  },
  {
   "cell_type": "code",
   "execution_count": 2,
   "metadata": {
    "collapsed": false
   },
   "outputs": [],
   "source": [
    "from nltk import ne_chunk, pos_tag, word_tokenize as tokenize\n",
    "from nltk.stem.snowball import EnglishStemmer"
   ]
  },
  {
   "cell_type": "markdown",
   "metadata": {},
   "source": [
    "Stanford NLP tools wrapped from NLTK:\n",
    "\n",
    "NB: Requires that you download the (_basic_) Stanford [PoS tagger](http://nlp.stanford.edu/software/tagger.shtml#Download) and [NER tagger](http://nlp.stanford.edu/software/CRF-NER.shtml#Download) ZIP packages, and put the following files from those two packages into a directory named \"`stanford`\" that itself should be located in the same directory as this notebook; From the NER tagger archive, use these two files:\n",
    "\n",
    "* `stanford-ner.jar`\n",
    "* `english.all.3class.distsim.crf.ser.gz`\n",
    "\n",
    "And from the PoS tagger:\n",
    "\n",
    "* `english-bidirectional-distsim.tagger`\n",
    "* `slf4j-api.jar`\n",
    "* `slf4j-simple.jar`\n",
    "* `stanford-postagger.jar`"
   ]
  },
  {
   "cell_type": "code",
   "execution_count": 1,
   "metadata": {
    "collapsed": false
   },
   "outputs": [],
   "source": [
    "from nltk.tag.stanford import StanfordNERTagger as NERTagger\n",
    "from nltk.tag.stanford import StanfordPOSTagger as POSTagger"
   ]
  },
  {
   "cell_type": "markdown",
   "metadata": {},
   "source": [
    "The SpaCy NLP tool ([installation instructions](https://spacy.io/docs#install-spacy)):"
   ]
  },
  {
   "cell_type": "code",
   "execution_count": 3,
   "metadata": {
    "collapsed": true
   },
   "outputs": [],
   "source": [
    "import spacy"
   ]
  },
  {
   "cell_type": "markdown",
   "metadata": {},
   "source": [
    "## Foreword"
   ]
  },
  {
   "cell_type": "markdown",
   "metadata": {},
   "source": [
    "In this final class, we will explore Python-based means to apply the sequence tagging and chunking techniques discussed in class, namely part-of-speech tagging, named entity recognition, as well as syntactic parsing."
   ]
  },
  {
   "cell_type": "markdown",
   "metadata": {},
   "source": [
    "To be able to extract semantic relationships among concepts in text (in every sense, such as enabling us to understand the implicit semantics of the tweets we examined on day 4), it is necessary to analyze the text grammatically. This is commonly referred to as **parsing**, where _shallow_ parsing refers to the technique of only tagging individual tokens or **chunks** of them (without explicit relationships between chunks), and _deep_ parsing refers to techniques that reconstruct the entire grammatical **tree** among all tokens in a sentence. The resulting annotations in turn can be used as features for classifiers that learn to detect the presence of some (semantic) relationship among the (candidate) concepts."
   ]
  },
  {
   "cell_type": "markdown",
   "metadata": {},
   "source": [
    "A more in-depth introduction to most of what we are doing here - training chunkers, syntactic trees, NER with NLTK, etc. - is well documented in the NLTK Book, [Chapter 7](http://www.nltk.org/book/ch07.html) and [Chapter 8](http://www.nltk.org/book/ch08.html), which you might want to have a look at if you want to get more serious with NLTK or NLP in general."
   ]
  },
  {
   "cell_type": "markdown",
   "metadata": {},
   "source": [
    "## Quick-and-dirty Tagging, Chunking, and NER with NLTK"
   ]
  },
  {
   "cell_type": "code",
   "execution_count": 4,
   "metadata": {
    "collapsed": false
   },
   "outputs": [],
   "source": [
    "def analyze(sentence):\n",
    "    return ne_chunk(pos_tag(tokenize(sentence)))"
   ]
  },
  {
   "cell_type": "code",
   "execution_count": 5,
   "metadata": {
    "collapsed": false
   },
   "outputs": [
    {
     "data": {
      "image/png": "[encoded data removed]",
      "text/plain": [
       "Tree('S', [('The', 'DT'), ('economist', 'NN'), Tree('PERSON', [('Jeffrey', 'NNP'), ('Sachs', 'NNP')]), ('coined', 'VBD'), ('the', 'DT'), ('term', 'NN'), ('``', '``'), ('shock', 'NN'), ('therapy', 'NN'), (\"''\", \"''\"), ('.', '.')])"
      ]
     },
     "execution_count": 5,
     "metadata": {},
     "output_type": "execute_result"
    }
   ],
   "source": [
    "analyze('The economist Jeffrey Sachs coined the term \"shock therapy\".')"
   ]
  },
  {
   "cell_type": "code",
   "execution_count": 6,
   "metadata": {
    "collapsed": false
   },
   "outputs": [
    {
     "name": "stdout",
     "output_type": "stream",
     "text": [
      "(S\n",
      "  The/DT\n",
      "  economist/NN\n",
      "  (PERSON Jeffrey/NNP Sachs/NNP)\n",
      "  coined/VBD\n",
      "  the/DT\n",
      "  term/NN\n",
      "  ``/``\n",
      "  shock/NN\n",
      "  therapy/NN\n",
      "  ''/''\n",
      "  ./.)\n"
     ]
    }
   ],
   "source": [
    "analyze('The economist Jeffrey Sachs coined the term \"shock therapy\".').pprint()"
   ]
  },
  {
   "cell_type": "code",
   "execution_count": 7,
   "metadata": {
    "collapsed": false
   },
   "outputs": [
    {
     "name": "stdout",
     "output_type": "stream",
     "text": [
      "(S\n",
      "  The/DT\n",
      "  (ORGANIZATION Google/NNP Nexus/NNP)\n",
      "  challenges/VBZ\n",
      "  the/DT\n",
      "  iPhone‘s/NN\n",
      "  dominance/NN\n",
      "  ./.)\n"
     ]
    }
   ],
   "source": [
    "analyze(u'The Google Nexus challenges the iPhone‘s dominance.').pprint()"
   ]
  },
  {
   "cell_type": "code",
   "execution_count": 8,
   "metadata": {
    "collapsed": false
   },
   "outputs": [
    {
     "name": "stdout",
     "output_type": "stream",
     "text": [
      "(S\n",
      "  The/DT\n",
      "  quick/JJ\n",
      "  brown/NN\n",
      "  fox/NN\n",
      "  jumped/VBD\n",
      "  over/IN\n",
      "  the/DT\n",
      "  lazy/JJ\n",
      "  dog/NN\n",
      "  ./.)\n"
     ]
    }
   ],
   "source": [
    "analyze(u'The quick brown fox jumped over the lazy dog.').pprint()"
   ]
  },
  {
   "cell_type": "markdown",
   "metadata": {},
   "source": [
    "`GPE` = geo-political entity"
   ]
  },
  {
   "cell_type": "markdown",
   "metadata": {},
   "source": [
    "NLTK's \"default\" tagging functionality via `ne_chunk( pos_tag( word_tokenize( sentence )))` certainly provides good-enough out-of-the-box results to play around with and make experiments, but if you need to provide high-quality results for some commericial or scientific application, you will soon \"want more\". "
   ]
  },
  {
   "cell_type": "markdown",
   "metadata": {},
   "source": [
    "Therefore, to round up the class, here you will learn where to download and how to install the [Stanford NER Tagger](http://nlp.stanford.edu/software/CRF-NER.shtml) and the [PoS Tagger](http://nlp.stanford.edu/software/tagger.shtml) with ready-made, trained models. Second, we will look at [SpaCy](https://spacy.io/), a  high-throughput deep parser for Python that is similarly useful to the Stanford Parser."
   ]
  },
  {
   "cell_type": "markdown",
   "metadata": {},
   "source": [
    "## Stanford PoS and NER Tagging with NLTK"
   ]
  },
  {
   "cell_type": "markdown",
   "metadata": {},
   "source": [
    "Here, we will quickly access the two Stanford taggers via an API provided from NLTK. Note that this might not necessarily be the way you want to interact with the Stanford tools in a production setting. However, it is a quick and easy way to get a first prototype up and running."
   ]
  },
  {
   "cell_type": "code",
   "execution_count": 9,
   "metadata": {
    "collapsed": false
   },
   "outputs": [],
   "source": [
    "ner = NERTagger('stanford/english.all.3class.distsim.crf.ser.gz',\n",
    "                'stanford/stanford-ner.jar')\n",
    "pos = POSTagger('stanford/english-bidirectional-distsim.tagger',\n",
    "                'stanford/stanford-postagger.jar',\n",
    "                java_options='-mx1000m -cp stanford/slf4j-simple.jar:stanford/slf4j-api.jar')\n",
    "st = EnglishStemmer()"
   ]
  },
  {
   "cell_type": "code",
   "execution_count": 10,
   "metadata": {
    "collapsed": false
   },
   "outputs": [],
   "source": [
    "def stanford(sentence):\n",
    "    tokens = tokenize(sentence)\n",
    "    stems = map(st.stem, tokens)\n",
    "    _, tags = zip(*pos.tag(tokens))\n",
    "    _, entities = zip(*ner.tag(tokens))\n",
    "    return list(zip(tokens, stems, tags, entities))"
   ]
  },
  {
   "cell_type": "code",
   "execution_count": 11,
   "metadata": {
    "collapsed": false
   },
   "outputs": [
    {
     "data": {
      "text/plain": [
       "[('The', 'the', 'DT', 'O'),\n",
       " ('quick', 'quick', 'JJ', 'O'),\n",
       " ('brown', 'brown', 'JJ', 'O'),\n",
       " ('fox', 'fox', 'NN', 'O'),\n",
       " ('jumped', 'jump', 'VBD', 'O'),\n",
       " ('over', 'over', 'IN', 'O'),\n",
       " ('the', 'the', 'DT', 'O'),\n",
       " ('lazy', 'lazi', 'JJ', 'O'),\n",
       " ('dog', 'dog', 'NN', 'O'),\n",
       " ('.', '.', '.', 'O')]"
      ]
     },
     "execution_count": 11,
     "metadata": {},
     "output_type": "execute_result"
    }
   ],
   "source": [
    "stanford('The quick brown fox jumped over the lazy dog.')"
   ]
  },
  {
   "cell_type": "code",
   "execution_count": 13,
   "metadata": {
    "collapsed": false
   },
   "outputs": [
    {
     "data": {
      "text/plain": [
       "[('A', 'a', 'DT', 'O'),\n",
       " ('summer', 'summer', 'NN', 'O'),\n",
       " ('school', 'school', 'NN', 'O'),\n",
       " ('in', 'in', 'IN', 'O'),\n",
       " ('Madrid', 'madrid', 'NNP', 'LOCATION'),\n",
       " ('is', 'is', 'VBZ', 'O'),\n",
       " ('sunnier', 'sunnier', 'JJR', 'O'),\n",
       " ('than', 'than', 'IN', 'O'),\n",
       " ('one', 'one', 'CD', 'O'),\n",
       " ('in', 'in', 'IN', 'O'),\n",
       " ('the', 'the', 'DT', 'O'),\n",
       " ('UK', 'uk', 'NNP', 'LOCATION'),\n",
       " ('.', '.', '.', 'O')]"
      ]
     },
     "execution_count": 13,
     "metadata": {},
     "output_type": "execute_result"
    }
   ],
   "source": [
    "stanford('A summer school in Madrid is sunnier than one in the UK.')"
   ]
  },
  {
   "cell_type": "code",
   "execution_count": 14,
   "metadata": {
    "collapsed": false
   },
   "outputs": [
    {
     "data": {
      "text/plain": [
       "[('The', 'the', 'DT', 'O'),\n",
       " ('economist', 'economist', 'NN', 'O'),\n",
       " ('Jeffrey', 'jeffrey', 'NNP', 'PERSON'),\n",
       " ('Sachs', 'sach', 'NNP', 'PERSON'),\n",
       " ('coined', 'coin', 'VBD', 'O'),\n",
       " ('the', 'the', 'DT', 'O'),\n",
       " ('term', 'term', 'NN', 'O'),\n",
       " ('``', '``', '``', 'O'),\n",
       " ('shock', 'shock', 'NN', 'O'),\n",
       " ('therapy', 'therapi', 'NN', 'O'),\n",
       " (\"''\", \"''\", \"''\", 'O'),\n",
       " ('.', '.', '.', 'O')]"
      ]
     },
     "execution_count": 14,
     "metadata": {},
     "output_type": "execute_result"
    }
   ],
   "source": [
    "stanford('The economist Jeffrey Sachs coined the term \"shock therapy\".')"
   ]
  },
  {
   "cell_type": "code",
   "execution_count": 14,
   "metadata": {
    "collapsed": false
   },
   "outputs": [
    {
     "data": {
      "text/plain": [
       "[('The', 'the', 'DT', 'O'),\n",
       " ('Google', 'googl', 'NNP', 'O'),\n",
       " ('Nexus', 'nexus', 'NNP', 'O'),\n",
       " ('challanges', 'challang', 'VBZ', 'O'),\n",
       " ('the', 'the', 'DT', 'O'),\n",
       " ('iPhone‘s', 'iphon', 'NN', 'O'),\n",
       " ('dominance', 'domin', 'NN', 'O'),\n",
       " ('.', '.', '.', 'O')]"
      ]
     },
     "execution_count": 14,
     "metadata": {},
     "output_type": "execute_result"
    }
   ],
   "source": [
    "stanford('The Google Nexus challanges the iPhone‘s dominance.')"
   ]
  },
  {
   "cell_type": "markdown",
   "metadata": {},
   "source": [
    "Much better, indeed! Note, however, that this wrapper interfaces with the Stanford libraries in a rather inefficient way. So for processing large quantities of text, you certainly will need to brew up your own way of interfacing to these Java tools from Python (and probably generally will not use NLTK...).\n"
   ]
  },
  {
   "cell_type": "markdown",
   "metadata": {},
   "source": [
    "Note that a [Python interface](http://projects.csail.mit.edu/spatial/Stanford_Parser) for the [Stanford (deep, neural) Parser](http://nlp.stanford.edu/software/lex-parser.html) exists, too. However, your instructor's suggested approach if you want to use the Stanford libraries (or any Java libraries, for that matter) from a Python project would be: Learn [Apache Thrift](https://thrift.apache.org/), run a Java Virtual Machine (VM) and a Python VM in parallel, and access the Java library through a Thrift interface you sketch up exactly towards your needs. Note to stay as high level as possible, e.g., design a Thrift API that accepts a whole plain-text document and returns all dependency-annotated sentences in one single call. If for some reason you need lower latencies, sentence-based interfaces typically still work well with the \"Thrift way\", too."
   ]
  },
  {
   "cell_type": "markdown",
   "metadata": {},
   "source": [
    "## Deep parsing with SpaCy"
   ]
  },
  {
   "cell_type": "markdown",
   "metadata": {},
   "source": [
    "Instead of the Stanford tools, Python has a great neural parser of its own, [SpaCy](https://spacy.io/). It can easily be [installed](https://spacy.io/docs#getting-started) from both Conda and PIP3. (Don't forget to install and test the English language model!)"
   ]
  },
  {
   "cell_type": "code",
   "execution_count": 15,
   "metadata": {
    "collapsed": true
   },
   "outputs": [],
   "source": [
    "process = spacy.load('en')"
   ]
  },
  {
   "cell_type": "code",
   "execution_count": 16,
   "metadata": {
    "collapsed": true
   },
   "outputs": [],
   "source": [
    "doc = process('The quick brown fox jumped over the lazy dog.')"
   ]
  },
  {
   "cell_type": "code",
   "execution_count": 17,
   "metadata": {
    "collapsed": false
   },
   "outputs": [],
   "source": [
    "def show(doc):\n",
    "    for token in doc:\n",
    "        print(token, token.lemma_, '=',\n",
    "              token.pos_, token.tag_, ':',\n",
    "              token.dep_, '->', token.head)\n",
    "    if doc.ents:\n",
    "        print(\"\\nNAMED ENTITIES\")\n",
    "        for entity in doc.ents:\n",
    "            print(entity, entity.label_)"
   ]
  },
  {
   "cell_type": "code",
   "execution_count": 18,
   "metadata": {
    "collapsed": false
   },
   "outputs": [
    {
     "name": "stdout",
     "output_type": "stream",
     "text": [
      "The the = DET DT : det -> fox\n",
      "quick quick = ADJ JJ : amod -> fox\n",
      "brown brown = ADJ JJ : amod -> fox\n",
      "fox fox = NOUN NN : nsubj -> jumped\n",
      "jumped jump = VERB VBD : ROOT -> jumped\n",
      "over over = ADP IN : prep -> jumped\n",
      "the the = DET DT : det -> dog\n",
      "lazy lazy = ADJ JJ : amod -> dog\n",
      "dog dog = NOUN NN : pobj -> over\n",
      ". . = PUNCT . : punct -> jumped\n"
     ]
    }
   ],
   "source": [
    "show(process('The quick brown fox jumped over the lazy dog.'))"
   ]
  },
  {
   "cell_type": "code",
   "execution_count": 19,
   "metadata": {
    "collapsed": false
   },
   "outputs": [
    {
     "name": "stdout",
     "output_type": "stream",
     "text": [
      "A a = DET DT : det -> school\n",
      "summer summer = NOUN NN : compound -> school\n",
      "school school = NOUN NN : nsubj -> is\n",
      "in in = ADP IN : prep -> school\n",
      "Madrid madrid = PROPN NNP : pobj -> in\n",
      "is be = VERB VBZ : ROOT -> is\n",
      "sunnier sunny = ADJ JJR : acomp -> is\n",
      "than than = ADP IN : prep -> sunnier\n",
      "one one = NUM CD : pobj -> than\n",
      "in in = ADP IN : prep -> one\n",
      "the the = DET DT : det -> UK.\n",
      "UK. uk. = PROPN NNP : pobj -> in\n",
      "\n",
      "NAMED ENTITIES\n",
      "Madrid GPE\n",
      "UK. ORG\n"
     ]
    }
   ],
   "source": [
    "show(process('A summer school in Madrid is sunnier than one in the UK.'))"
   ]
  },
  {
   "cell_type": "code",
   "execution_count": 20,
   "metadata": {
    "collapsed": false
   },
   "outputs": [
    {
     "name": "stdout",
     "output_type": "stream",
     "text": [
      "The the = DET DT : det -> economist\n",
      "economist economist = NOUN NN : nsubj -> coined\n",
      "Jeffrey jeffrey = PROPN NNP : compound -> Sachs\n",
      "Sachs sachs = PROPN NNP : appos -> economist\n",
      "coined coin = VERB VBD : ROOT -> coined\n",
      "the the = DET DT : det -> term\n",
      "term term = NOUN NN : dobj -> coined\n",
      "\" \" = PUNCT `` : punct -> term\n",
      "shock shock = NOUN NN : compound -> therapy\n",
      "therapy therapy = NOUN NN : appos -> term\n",
      "\" \" = PUNCT '' : punct -> coined\n",
      ". . = PUNCT . : punct -> coined\n",
      "\n",
      "NAMED ENTITIES\n",
      "Jeffrey Sachs PERSON\n"
     ]
    }
   ],
   "source": [
    "show(process('The economist Jeffrey Sachs coined the term \"shock therapy\".'))"
   ]
  },
  {
   "cell_type": "code",
   "execution_count": 21,
   "metadata": {
    "collapsed": false
   },
   "outputs": [
    {
     "name": "stdout",
     "output_type": "stream",
     "text": [
      "The the = DET DT : det -> Nexus\n",
      "Google google = PROPN NNP : compound -> Nexus\n",
      "Nexus nexus = PROPN NNP : nsubj -> challanges\n",
      "challanges challanges = VERB VBZ : ROOT -> challanges\n",
      "the the = DET DT : det -> dominance\n",
      "iPhone‘s iphone‘s = ADJ JJ : amod -> dominance\n",
      "dominance dominance = NOUN NN : dobj -> challanges\n",
      ". . = PUNCT . : punct -> challanges\n",
      "\n",
      "NAMED ENTITIES\n",
      "Google ORG\n"
     ]
    }
   ],
   "source": [
    "show(process('The Google Nexus challanges the iPhone‘s dominance.'))"
   ]
  },
  {
   "cell_type": "markdown",
   "metadata": {},
   "source": [
    "Overall, SpaCy's PoS tagging and deep parsing is competitive to the Stanford Parser (note the slip above, tagging \"[the] iPhone\" as an adjective), but its named entity detection model is clearly worse than the Stanford NER Tagger. The Stanford NER tagger probably is the world-leading, _available_, and _working_ implementation for this task. SpaCy does not provide support for as many languages (currently, only English and with German support coming along) and a generally smaller collection of additional functionality. Nonetheless, if you can live with these tradeoffs, SpaCy certainly is a recommendable and \"pythonic\" alternative to the Java Stanford NLP tools."
   ]
  },
  {
   "cell_type": "markdown",
   "metadata": {},
   "source": [
    "## Training your own sequence taggers"
   ]
  },
  {
   "cell_type": "markdown",
   "metadata": {},
   "source": [
    "For other sequence taggers, NLTK provides wrappers to some of the most powerfull CRF taggers around, like [MALLET](http://mallet.cs.umass.edu). Furthermore, due the nature of Python, it is very easy to write wrappers for C(++)-based NLP tools; e.g., [CRFsuite](http://www.chokkan.org/software/crfsuite/), a high-speed CRF in \"pure\" C, comes with a Python wrapper. As long as they have a I/O (stdin/stdout) interface to send and receive text, for any others as well, for example the all-in-one [GENIA Tagger](http://www.nactem.ac.uk/tsujii/GENIA/tagger/) for the biomedical domain."
   ]
  },
  {
   "cell_type": "markdown",
   "metadata": {},
   "source": [
    "To train your own NER models for newswire, you could use the [CoNLL2003](http://www.cnts.ua.ac.be/conll2003/ner/) corpus. Gabrilovich provides a (slightly oldish) [list](http://www.cs.technion.ac.il/~gabr/resources/data/ne_datasets.html) (from 2006) of \"standard\" NER-tagger corpora (PER/ORG/GPE...). If you were interested in detecting gene and protein names, you might have a look at the [BioCreative](http://www.biocreative.org/) gene-entity corpora (Note that you have to register on the website before you can download any corpus on the site, thereby confirming that you will not use the data for commerical purposes.)"
   ]
  },
  {
   "cell_type": "markdown",
   "metadata": {},
   "source": [
    "## Afterword"
   ]
  },
  {
   "cell_type": "markdown",
   "metadata": {},
   "source": [
    "By now you have learned about all the types of tools you will need to design industry-strength statistical text mining and natural language processing pipelines. In particular, for Python-based implementations of batch text analytics, you have seen a good selection of available libraries and tools. It will take practice and patience to get all these pieces to work properly with real-world data that is highly noisy and full of \"unexpected pitfalls\", but we have touched all the foundations you will need for this kind of work."
   ]
  },
  {
   "cell_type": "code",
   "execution_count": null,
   "metadata": {
    "collapsed": true
   },
   "outputs": [],
   "source": []
  }
 ],
 "metadata": {
  "kernelspec": {
   "display_name": "Python 3",
   "language": "python",
   "name": "python3"
  },
  "language_info": {
   "codemirror_mode": {
    "name": "ipython",
    "version": 3
   },
   "file_extension": ".py",
   "mimetype": "text/x-python",
   "name": "python",
   "nbconvert_exporter": "python",
   "pygments_lexer": "ipython3",
   "version": "3.5.1"
  }
 },
 "nbformat": 4,
 "nbformat_minor": 0
}
