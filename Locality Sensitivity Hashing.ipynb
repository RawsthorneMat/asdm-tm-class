{
 "metadata": {
  "name": "",
  "signature": "sha256:9fea23125b6ed1b127ca492711bb46d4b55204cfa1990dfe8b50c7f97a63fdbc"
 },
 "nbformat": 3,
 "nbformat_minor": 0,
 "worksheets": [
  {
   "cells": [
    {
     "cell_type": "code",
     "collapsed": false,
     "input": [
      "# no pylab here, sorry... \"pure\" Python ahead!"
     ],
     "language": "python",
     "metadata": {},
     "outputs": []
    },
    {
     "cell_type": "heading",
     "level": 1,
     "metadata": {},
     "source": [
      "Locality Sensitivity Hashing"
     ]
    },
    {
     "cell_type": "markdown",
     "metadata": {},
     "source": [
      "An implementation by [Christian Jauvin](http://cjauvin.github.io/); see [github.com/go2starr/lshhdc](https://github.com/go2starr/lshhdc)."
     ]
    },
    {
     "cell_type": "code",
     "collapsed": false,
     "input": [
      "from collections import defaultdict\n",
      "%precision 3"
     ],
     "language": "python",
     "metadata": {},
     "outputs": [
      {
       "metadata": {},
       "output_type": "pyout",
       "prompt_number": 1,
       "text": [
        "u'%.3f'"
       ]
      }
     ],
     "prompt_number": 1
    },
    {
     "cell_type": "code",
     "collapsed": false,
     "input": [
      "d = dict()\n",
      "d['defined'] = d['defined'] + 1"
     ],
     "language": "python",
     "metadata": {},
     "outputs": [
      {
       "ename": "KeyError",
       "evalue": "'defined'",
       "output_type": "pyerr",
       "traceback": [
        "\u001b[0;31m---------------------------------------------------------------------------\u001b[0m\n\u001b[0;31mKeyError\u001b[0m                                  Traceback (most recent call last)",
        "\u001b[0;32m<ipython-input-2-33801d6bd58a>\u001b[0m in \u001b[0;36m<module>\u001b[0;34m()\u001b[0m\n\u001b[1;32m      1\u001b[0m \u001b[0md\u001b[0m \u001b[0;34m=\u001b[0m \u001b[0mdict\u001b[0m\u001b[0;34m(\u001b[0m\u001b[0;34m)\u001b[0m\u001b[0;34m\u001b[0m\u001b[0m\n\u001b[0;32m----> 2\u001b[0;31m \u001b[0md\u001b[0m\u001b[0;34m[\u001b[0m\u001b[0;34m'defined'\u001b[0m\u001b[0;34m]\u001b[0m \u001b[0;34m=\u001b[0m \u001b[0md\u001b[0m\u001b[0;34m[\u001b[0m\u001b[0;34m'defined'\u001b[0m\u001b[0;34m]\u001b[0m \u001b[0;34m+\u001b[0m \u001b[0;36m1\u001b[0m\u001b[0;34m\u001b[0m\u001b[0m\n\u001b[0m",
        "\u001b[0;31mKeyError\u001b[0m: 'defined'"
       ]
      }
     ],
     "prompt_number": 2
    },
    {
     "cell_type": "code",
     "collapsed": false,
     "input": [
      "demo = defaultdict(int)\n",
      "demo['defined'] = demo['defined'] + 1 # NB: we never defined a value pair for 'defined'!\n",
      "demo['missing'], demo['defined']"
     ],
     "language": "python",
     "metadata": {},
     "outputs": [
      {
       "metadata": {},
       "output_type": "pyout",
       "prompt_number": 3,
       "text": [
        "(0, 1)"
       ]
      }
     ],
     "prompt_number": 3
    },
    {
     "cell_type": "markdown",
     "metadata": {},
     "source": [
      "All practicality aside, this can become a trap, too:"
     ]
    },
    {
     "cell_type": "code",
     "collapsed": false,
     "input": [
      "'missing' in demo"
     ],
     "language": "python",
     "metadata": {},
     "outputs": [
      {
       "metadata": {},
       "output_type": "pyout",
       "prompt_number": 4,
       "text": [
        "True"
       ]
      }
     ],
     "prompt_number": 4
    },
    {
     "cell_type": "code",
     "collapsed": false,
     "input": [
      "'really missing' in demo"
     ],
     "language": "python",
     "metadata": {},
     "outputs": [
      {
       "metadata": {},
       "output_type": "pyout",
       "prompt_number": 5,
       "text": [
        "False"
       ]
      }
     ],
     "prompt_number": 5
    },
    {
     "cell_type": "heading",
     "level": 2,
     "metadata": {},
     "source": [
      "Jaccard-based word similarity"
     ]
    },
    {
     "cell_type": "code",
     "collapsed": false,
     "input": [
      "def shingle(s, k):\n",
      "    \"\"\"Generate k-length shingles of string s.\"\"\"\n",
      "    k = min(len(s), k)\n",
      "    for i in range(len(s) - k + 1):\n",
      "        yield s[i:i+k]\n",
      "\n",
      "def hshingle(s, k):\n",
      "    \"\"\"Generate k-length shingles then hash.\"\"\"\n",
      "    for s in shingle(s, k):\n",
      "        yield hash(s)\n",
      "\n",
      "def jaccard(X, Y):\n",
      "    \"\"\"The Jaccard similarity between two sets.\"\"\"\n",
      "    x = set(X)\n",
      "    y = set(Y)\n",
      "    return float(len(x & y)) / len(x | y)"
     ],
     "language": "python",
     "metadata": {},
     "outputs": [],
     "prompt_number": 6
    },
    {
     "cell_type": "code",
     "collapsed": false,
     "input": [
      "set(\"alabama\")"
     ],
     "language": "python",
     "metadata": {},
     "outputs": [
      {
       "metadata": {},
       "output_type": "pyout",
       "prompt_number": 7,
       "text": [
        "{'a', 'b', 'l', 'm'}"
       ]
      }
     ],
     "prompt_number": 7
    },
    {
     "cell_type": "code",
     "collapsed": false,
     "input": [
      "set([1,2,3,1,2])"
     ],
     "language": "python",
     "metadata": {},
     "outputs": [
      {
       "metadata": {},
       "output_type": "pyout",
       "prompt_number": 8,
       "text": [
        "{1, 2, 3}"
       ]
      }
     ],
     "prompt_number": 8
    },
    {
     "cell_type": "code",
     "collapsed": false,
     "input": [
      "float(2)/3"
     ],
     "language": "python",
     "metadata": {},
     "outputs": [
      {
       "metadata": {},
       "output_type": "pyout",
       "prompt_number": 9,
       "text": [
        "0.667"
       ]
      }
     ],
     "prompt_number": 9
    },
    {
     "cell_type": "code",
     "collapsed": false,
     "input": [
      "list(shingle('stringy', 3))"
     ],
     "language": "python",
     "metadata": {},
     "outputs": [
      {
       "metadata": {},
       "output_type": "pyout",
       "prompt_number": 10,
       "text": [
        "['str', 'tri', 'rin', 'ing', 'ngy']"
       ]
      }
     ],
     "prompt_number": 10
    },
    {
     "cell_type": "code",
     "collapsed": false,
     "input": [
      "list(hshingle('stringy', 3))"
     ],
     "language": "python",
     "metadata": {},
     "outputs": [
      {
       "metadata": {},
       "output_type": "pyout",
       "prompt_number": 11,
       "text": [
        "[-369175422007790730,\n",
        " -1495230934642648992,\n",
        " 756880090390066576,\n",
        " -7555364370854764645,\n",
        " 5261102140403498045]"
       ]
      }
     ],
     "prompt_number": 11
    },
    {
     "cell_type": "code",
     "collapsed": false,
     "input": [
      "# Unigram similarity:\n",
      "jaccard('string', 'string'), jaccard('string', 'strang'), jaccard('string', 'other')"
     ],
     "language": "python",
     "metadata": {},
     "outputs": [
      {
       "metadata": {},
       "output_type": "pyout",
       "prompt_number": 12,
       "text": [
        "(1.000, 0.714, 0.222)"
       ]
      }
     ],
     "prompt_number": 12
    },
    {
     "cell_type": "code",
     "collapsed": false,
     "input": [
      "jaccard('word', 'wirt')"
     ],
     "language": "python",
     "metadata": {},
     "outputs": [
      {
       "metadata": {},
       "output_type": "pyout",
       "prompt_number": 13,
       "text": [
        "0.333"
       ]
      }
     ],
     "prompt_number": 13
    },
    {
     "cell_type": "code",
     "collapsed": false,
     "input": [
      "jaccard('alabama', 'malba') # not so good..."
     ],
     "language": "python",
     "metadata": {},
     "outputs": [
      {
       "metadata": {},
       "output_type": "pyout",
       "prompt_number": 14,
       "text": [
        "1.000"
       ]
      }
     ],
     "prompt_number": 14
    },
    {
     "cell_type": "code",
     "collapsed": false,
     "input": [
      "frozenset(shingle('alabama', 3))"
     ],
     "language": "python",
     "metadata": {},
     "outputs": [
      {
       "metadata": {},
       "output_type": "pyout",
       "prompt_number": 15,
       "text": [
        "frozenset({'aba', 'ala', 'ama', 'bam', 'lab'})"
       ]
      }
     ],
     "prompt_number": 15
    },
    {
     "cell_type": "code",
     "collapsed": false,
     "input": [
      "frozenset(shingle('malba', 3))"
     ],
     "language": "python",
     "metadata": {},
     "outputs": [
      {
       "metadata": {},
       "output_type": "pyout",
       "prompt_number": 16,
       "text": [
        "frozenset({'alb', 'lba', 'mal'})"
       ]
      }
     ],
     "prompt_number": 16
    },
    {
     "cell_type": "code",
     "collapsed": false,
     "input": [
      "# Bigram similarity:\n",
      "jaccard(frozenset(shingle('alabama', 2)), frozenset(shingle('malba', 2)))"
     ],
     "language": "python",
     "metadata": {},
     "outputs": [
      {
       "metadata": {},
       "output_type": "pyout",
       "prompt_number": 17,
       "text": [
        "0.429"
       ]
      }
     ],
     "prompt_number": 17
    },
    {
     "cell_type": "code",
     "collapsed": false,
     "input": [
      "# Trigram similarity:\n",
      "jaccard(frozenset(shingle('alabama', 3)), frozenset(shingle('malba', 3)))"
     ],
     "language": "python",
     "metadata": {},
     "outputs": [
      {
       "metadata": {},
       "output_type": "pyout",
       "prompt_number": 18,
       "text": [
        "0.000"
       ]
      }
     ],
     "prompt_number": 18
    },
    {
     "cell_type": "code",
     "collapsed": false,
     "input": [
      "jaccard(frozenset(shingle('word', 3)), frozenset(shingle('wird', 3))) # not so good, either..."
     ],
     "language": "python",
     "metadata": {},
     "outputs": [
      {
       "metadata": {},
       "output_type": "pyout",
       "prompt_number": 19,
       "text": [
        "0.000"
       ]
      }
     ],
     "prompt_number": 19
    },
    {
     "cell_type": "markdown",
     "metadata": {},
     "source": [
      "In the end, depending on the scenario, a problem-specific decision for using uni-, bi- or, maybe a trigram sets has to be made."
     ]
    },
    {
     "cell_type": "heading",
     "level": 2,
     "metadata": {},
     "source": [
      "Implementing the minhash"
     ]
    },
    {
     "cell_type": "code",
     "collapsed": true,
     "input": [
      "class MinHashSignature:\n",
      "    \"\"\"Hash signatures for sets/tuples using minhash.\"\"\"\n",
      "\n",
      "    def __init__(self, dim):\n",
      "        \"\"\"\n",
      "        Define the dimension of the hash pool\n",
      "        (number of hash functions).\n",
      "        \"\"\"\n",
      "        self.dim = dim\n",
      "        self.hashes = self.hash_functions()\n",
      "\n",
      "    def hash_functions(self):\n",
      "        \"\"\"Return dim different hash functions.\"\"\"\n",
      "        def hash_factory(n):\n",
      "            return lambda x: hash(\"salt\" + str(n) + str(x) + \"salt\")\n",
      "        \n",
      "        return [ hash_factory(_) for _ in range(self.dim) ]\n",
      "\n",
      "    def sign(self, item):\n",
      "        \"\"\"Return the minhash signatures for the `item`.\"\"\"\n",
      "        sig = [ float(\"inf\") ] * self.dim\n",
      "        \n",
      "        for hash_ix, hash_fn in enumerate(self.hashes):\n",
      "            # minhashing; requires item is iterable:\n",
      "            sig[hash_ix] = min(hash_fn(i) for i in item)\n",
      "        \n",
      "        return sig"
     ],
     "language": "python",
     "metadata": {},
     "outputs": [],
     "prompt_number": 20
    },
    {
     "cell_type": "code",
     "collapsed": false,
     "input": [
      "sig4 = MinHashSignature(4)\n",
      "sig4.sign(\"example\")"
     ],
     "language": "python",
     "metadata": {},
     "outputs": [
      {
       "metadata": {},
       "output_type": "pyout",
       "prompt_number": 21,
       "text": [
        "[-4271934581241689621,\n",
        " -4778284123846247391,\n",
        " -6293042394925532251,\n",
        " -5237024331930890653]"
       ]
      }
     ],
     "prompt_number": 21
    },
    {
     "cell_type": "heading",
     "level": 2,
     "metadata": {},
     "source": [
      "Locality Sensitivity Hashing"
     ]
    },
    {
     "cell_type": "code",
     "collapsed": false,
     "input": [
      "class LSH:\n",
      "    \"\"\"\n",
      "    Locality sensitive hashing.\n",
      "    \n",
      "    Uses a banding approach to hash\n",
      "    similar signatures to the same buckets.\n",
      "    \"\"\"\n",
      "    \n",
      "    def __init__(self, size, threshold):\n",
      "        \"\"\"\n",
      "        LSH approximating a given similarity `threshold`\n",
      "        with a given hash signature `size`.\n",
      "        \"\"\"\n",
      "        self.size = size\n",
      "        self.threshold = threshold\n",
      "        self.bandwidth = self.get_bandwidth(size, threshold)\n",
      "\n",
      "    @staticmethod\n",
      "    def get_bandwidth(n, t):\n",
      "        \"\"\"\n",
      "        Approximate the bandwidth (number of rows in each band)\n",
      "        needed to get threshold.\n",
      "\n",
      "        Threshold t = (1/b) ** (1/r)\n",
      "        where\n",
      "        b = # of bands\n",
      "        r = # of rows per band\n",
      "        n = b * r = size of signature\n",
      "        \"\"\"\n",
      "        best = n # 1\n",
      "        minerr = float(\"inf\")\n",
      "        \n",
      "        for r in range(1, n + 1):\n",
      "            try:\n",
      "                b = 1. / (t ** r)\n",
      "            except: # Divide by zero, your signature is huge\n",
      "                return best\n",
      "            \n",
      "            err = abs(n - b * r)\n",
      "            \n",
      "            if err < minerr:\n",
      "                best = r\n",
      "                minerr = err\n",
      "                \n",
      "        return best\n",
      "\n",
      "    def hash(self, sig):\n",
      "        \"\"\"Generate hash values for this signature.\"\"\"\n",
      "        for band in zip(*(iter(sig),) * self.bandwidth):\n",
      "            yield hash(\"salt\" + str(band) + \"tlas\")\n",
      "\n",
      "    @property\n",
      "    def exact_threshold(self):\n",
      "        \"\"\"The exact threshold defined by the chosen bandwith.\"\"\"\n",
      "        r = self.bandwidth\n",
      "        b = self.size / r\n",
      "        return (1. / b) ** (1. / r)\n",
      "\n",
      "    def get_n_bands(self):\n",
      "        \"\"\"The number of bands.\"\"\"\n",
      "        return int(self.size / self.bandwidth)"
     ],
     "language": "python",
     "metadata": {},
     "outputs": [],
     "prompt_number": 22
    },
    {
     "cell_type": "heading",
     "level": 2,
     "metadata": {},
     "source": [
      "Helper class: UnionFind"
     ]
    },
    {
     "cell_type": "markdown",
     "metadata": {},
     "source": [
      "This will not be part of the lecture; In essence, this is a data structure to unite the equal bins in the disperesd bands into one virtual set. Please refer to the free Book by Rajaraman, \"Mining of Massive Datasets\", for more information why and how it works."
     ]
    },
    {
     "cell_type": "code",
     "collapsed": false,
     "input": [
      "class UnionFind:\n",
      "    \"\"\"\n",
      "    Union-find data structure.\n",
      "\n",
      "    Each unionFind instance X maintains a family of disjoint sets of\n",
      "    hashable objects, supporting the following two methods:\n",
      "\n",
      "    - X[item] returns a name for the set containing the given item.\n",
      "    Each set is named by an arbitrarily-chosen one of its members; as\n",
      "    long as the set remains unchanged it will keep the same name. If\n",
      "    the item is not yet part of a set in X, a new singleton set is\n",
      "    created for it.\n",
      "\n",
      "    - X.union(item1, item2, ...) merges the sets containing each item\n",
      "    into a single larger set. If any item is not yet part of a set\n",
      "    in X, it is added to X as one of the members of the merged set.\n",
      "    \n",
      "    Source: http://www.ics.uci.edu/~eppstein/PADS/UnionFind.py\n",
      "\n",
      "    Union-find data structure. Based on Josiah Carlson's code,\n",
      "    http://aspn.activestate.com/ASPN/Cookbook/Python/Recipe/215912\n",
      "    with significant additional changes by D. Eppstein.\n",
      "    \"\"\"\n",
      "\n",
      "    def __init__(self):\n",
      "        \"\"\"Create a new empty union-find structure.\"\"\"\n",
      "        self.weights = {}\n",
      "        self.parents = {}\n",
      "\n",
      "    def __getitem__(self, object):\n",
      "        \"\"\"Find and return the name of the set containing the object.\"\"\"\n",
      "        # check for previously unknown object\n",
      "        if object not in self.parents:\n",
      "            self.parents[object] = object\n",
      "            self.weights[object] = 1\n",
      "            return object\n",
      "\n",
      "        # find path of objects leading to the root\n",
      "        path = [object]\n",
      "        root = self.parents[object]\n",
      "        \n",
      "        while root != path[-1]:\n",
      "            path.append(root)\n",
      "            root = self.parents[root]\n",
      "\n",
      "        # compress the path and return\n",
      "        for ancestor in path:\n",
      "            self.parents[ancestor] = root\n",
      "            \n",
      "        return root\n",
      "\n",
      "    def __iter__(self):\n",
      "        \"\"\"Iterate through all items ever found or unioned by this structure.\"\"\"\n",
      "        return iter(self.parents)\n",
      "\n",
      "    def union(self, *objects):\n",
      "        \"\"\"Find the sets containing the objects and merge them all.\"\"\"\n",
      "        roots = [self[x] for x in objects]\n",
      "        heaviest = max([(self.weights[r],r) for r in roots])[1]\n",
      "        for r in roots:\n",
      "            if r != heaviest:\n",
      "                self.weights[heaviest] += self.weights[r]\n",
      "                self.parents[r] = heaviest\n",
      "\n",
      "    def sets(self):\n",
      "        \"\"\"Return a list of each disjoint set\"\"\"\n",
      "        ret = defaultdict(list)\n",
      "        for k, _ in self.parents.iteritems():\n",
      "            ret[self[k]].append(k)\n",
      "        return ret.values()"
     ],
     "language": "python",
     "metadata": {},
     "outputs": [],
     "prompt_number": 23
    },
    {
     "cell_type": "markdown",
     "metadata": {},
     "source": [
      "Just to give you a quick and dirty understanding of what it does:"
     ]
    },
    {
     "cell_type": "code",
     "collapsed": false,
     "input": [
      "uf = UnionFind()\n",
      "uf.union(0, 1)\n",
      "dict(sets=uf.sets(), names=dict((i, uf[i]) for i in uf))"
     ],
     "language": "python",
     "metadata": {},
     "outputs": [
      {
       "metadata": {},
       "output_type": "pyout",
       "prompt_number": 24,
       "text": [
        "{'names': {0: 1, 1: 1}, 'sets': [[0, 1]]}"
       ]
      }
     ],
     "prompt_number": 24
    },
    {
     "cell_type": "code",
     "collapsed": false,
     "input": [
      "uf.union(2, 3)\n",
      "dict(sets=uf.sets(), names=dict((i, uf[i]) for i in uf))"
     ],
     "language": "python",
     "metadata": {},
     "outputs": [
      {
       "metadata": {},
       "output_type": "pyout",
       "prompt_number": 25,
       "text": [
        "{'names': {0: 1, 1: 1, 2: 3, 3: 3}, 'sets': [[0, 1], [2, 3]]}"
       ]
      }
     ],
     "prompt_number": 25
    },
    {
     "cell_type": "code",
     "collapsed": false,
     "input": [
      "uf.union(3, 0)\n",
      "assert uf.sets() == [[0, 1, 2, 3]]\n",
      "dict(sets=uf.sets(), names=dict((i, uf[i]) for i in uf))"
     ],
     "language": "python",
     "metadata": {},
     "outputs": [
      {
       "metadata": {},
       "output_type": "pyout",
       "prompt_number": 26,
       "text": [
        "{'names': {0: 3, 1: 3, 2: 3, 3: 3}, 'sets': [[0, 1, 2, 3]]}"
       ]
      }
     ],
     "prompt_number": 26
    },
    {
     "cell_type": "code",
     "collapsed": false,
     "input": [
      "uf[100]"
     ],
     "language": "python",
     "metadata": {},
     "outputs": [
      {
       "metadata": {},
       "output_type": "pyout",
       "prompt_number": 27,
       "text": [
        "100"
       ]
      }
     ],
     "prompt_number": 27
    },
    {
     "cell_type": "heading",
     "level": 2,
     "metadata": {},
     "source": [
      "A banded LSH implementation"
     ]
    },
    {
     "cell_type": "code",
     "collapsed": false,
     "input": [
      "class Cluster:\n",
      "    \"\"\"\n",
      "    Cluster items with a Jaccard similarity above\n",
      "    some `threshold` with a high probability.\n",
      "\n",
      "    Based on Rajaraman, \"Mining of Massive Datasets\":\n",
      "    \n",
      "    1. Generate items hash signatures\n",
      "    2. Use LSH to map similar signatures to same buckets\n",
      "    3. Use UnionFind to merge buckets containing same values\n",
      "    \"\"\"\n",
      "    \n",
      "    def __init__(self, threshold=0.5, size=10):\n",
      "        \"\"\"\n",
      "        The `size` parameter controls the number of hash\n",
      "        functions (\"signature size\") to create.\n",
      "        \"\"\"\n",
      "        self.size = size\n",
      "        self.unions = UnionFind()\n",
      "        self.signer = MinHashSignature(size)\n",
      "        self.hasher = LSH(size, threshold)\n",
      "        self.hashmaps = [\n",
      "            defaultdict(list) for _ in range(self.hasher.get_n_bands())\n",
      "        ]\n",
      "\n",
      "    def add(self, item, label=None):\n",
      "        \"\"\"\n",
      "        Add an `item` to the cluster.\n",
      "        \n",
      "        Optionally, use a `label` to reference this `item`.\n",
      "        Otherwise, the `item` itself is used as the label.\n",
      "        \"\"\"\n",
      "        # Ensure label for this item\n",
      "        if label is None:\n",
      "            label = item\n",
      "\n",
      "        # Add to unionfind structure\n",
      "        self.unions[label]\n",
      "\n",
      "        # Get item signature\n",
      "        sig = self.signer.sign(item)\n",
      "\n",
      "        # Unite labels with the same LSH keys in the same band\n",
      "        for band_idx, hashval in enumerate(self.hasher.hash(sig)):\n",
      "            self.hashmaps[band_idx][hashval].append(label)\n",
      "            self.unions.union(label, self.hashmaps[band_idx][hashval][0])\n",
      "\n",
      "    def groups(self):\n",
      "        \"\"\"\n",
      "        Get the clustering result.\n",
      "        \n",
      "        Returns sets of labels.\n",
      "        \"\"\"\n",
      "        return self.unions.sets()\n",
      "\n",
      "    def match(self, item):\n",
      "        \"\"\"\n",
      "        Get a set of matching labels for `item`.\n",
      "        \n",
      "        Returns a (possibly empty) set of labels.\n",
      "        \"\"\"\n",
      "        # Get signature\n",
      "        sig = self.signer.sign(item)\n",
      "        \n",
      "        matches = set()\n",
      "        \n",
      "        for band_idx, hashval in enumerate(self.hasher.hash(sig)):\n",
      "            if hashval in self.hashmaps[band_idx]:\n",
      "                matches.update(self.hashmaps[band_idx][hashval])\n",
      "        \n",
      "        return matches"
     ],
     "language": "python",
     "metadata": {},
     "outputs": [],
     "prompt_number": 28
    },
    {
     "cell_type": "heading",
     "level": 2,
     "metadata": {},
     "source": [
      "An unigram example case"
     ]
    },
    {
     "cell_type": "code",
     "collapsed": false,
     "input": [
      "dictionary = Cluster(.4, 40)\n",
      "dictionary.add('string')\n",
      "dictionary.match('strang')"
     ],
     "language": "python",
     "metadata": {},
     "outputs": [
      {
       "metadata": {},
       "output_type": "pyout",
       "prompt_number": 29,
       "text": [
        "{'string'}"
       ]
      }
     ],
     "prompt_number": 29
    },
    {
     "cell_type": "code",
     "collapsed": false,
     "input": [
      "dictionary.hasher.exact_threshold, dictionary.hasher.bandwidth"
     ],
     "language": "python",
     "metadata": {},
     "outputs": [
      {
       "metadata": {},
       "output_type": "pyout",
       "prompt_number": 30,
       "text": [
        "(0.425, 3)"
       ]
      }
     ],
     "prompt_number": 30
    },
    {
     "cell_type": "code",
     "collapsed": false,
     "input": [
      "dictionary.add('strang')"
     ],
     "language": "python",
     "metadata": {},
     "outputs": [],
     "prompt_number": 31
    },
    {
     "cell_type": "code",
     "collapsed": false,
     "input": [
      "dictionary.add('word')\n",
      "dictionary.match('wirt')"
     ],
     "language": "python",
     "metadata": {},
     "outputs": [
      {
       "metadata": {},
       "output_type": "pyout",
       "prompt_number": 32,
       "text": [
        "{'string', 'word'}"
       ]
      }
     ],
     "prompt_number": 32
    },
    {
     "cell_type": "code",
     "collapsed": false,
     "input": [
      "dictionary.add('wirt')\n",
      "jaccard('wirt', 'string')"
     ],
     "language": "python",
     "metadata": {},
     "outputs": [
      {
       "metadata": {},
       "output_type": "pyout",
       "prompt_number": 33,
       "text": [
        "0.429"
       ]
      }
     ],
     "prompt_number": 33
    },
    {
     "cell_type": "code",
     "collapsed": false,
     "input": [
      "dictionary.match('other')"
     ],
     "language": "python",
     "metadata": {},
     "outputs": [
      {
       "metadata": {},
       "output_type": "pyout",
       "prompt_number": 34,
       "text": [
        "set()"
       ]
      }
     ],
     "prompt_number": 34
    },
    {
     "cell_type": "code",
     "collapsed": false,
     "input": [
      "dictionary.add('other')\n",
      "dictionary.groups()"
     ],
     "language": "python",
     "metadata": {},
     "outputs": [
      {
       "metadata": {},
       "output_type": "pyout",
       "prompt_number": 35,
       "text": [
        "[['other'], ['wirt', 'word', 'string', 'strang']]"
       ]
      }
     ],
     "prompt_number": 35
    },
    {
     "cell_type": "heading",
     "level": 2,
     "metadata": {},
     "source": [
      "A bigram case"
     ]
    },
    {
     "cell_type": "code",
     "collapsed": false,
     "input": [
      "dictionary = Cluster(.25, 30)\n",
      "dictionary.add(frozenset(shingle('string', 2)), 'string')\n",
      "dictionary.match(frozenset(shingle('strang', 2)))"
     ],
     "language": "python",
     "metadata": {},
     "outputs": [
      {
       "metadata": {},
       "output_type": "pyout",
       "prompt_number": 36,
       "text": [
        "{'string'}"
       ]
      }
     ],
     "prompt_number": 36
    }
   ],
   "metadata": {}
  }
 ]
}