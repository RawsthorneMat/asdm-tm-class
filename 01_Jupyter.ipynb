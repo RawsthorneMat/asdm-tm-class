{
 "cells": [
  {
   "cell_type": "markdown",
   "metadata": {},
   "source": [
    "# Working with Jupyter Notebooks and IPython"
   ]
  },
  {
   "cell_type": "markdown",
   "metadata": {},
   "source": [
    "Practical course material for the ASDM Class 09 (Text Mining) by Florian Leitner.\n",
    "\n",
    "© 2016 Florian Leitner. All rights reserved."
   ]
  },
  {
   "cell_type": "markdown",
   "metadata": {},
   "source": [
    "This lecture covers some of the basics of working with Jupyter notebooks.\n",
    "Please work through it at your own pace before class."
   ]
  },
  {
   "cell_type": "markdown",
   "metadata": {},
   "source": [
    "## Help, the cell cursor, and creating, editing and moving cells"
   ]
  },
  {
   "cell_type": "markdown",
   "metadata": {},
   "source": [
    "Get a reference about the Jupter keyboard shortcuts by pressing the `H` key while in **Command Mode**. Exit the keyboard reference with `ESC`. Extended help documents can be found in the \"Help\" secion of the notebook menu."
   ]
  },
  {
   "cell_type": "markdown",
   "metadata": {},
   "source": [
    "Move the \"cell cursor\" up and down by pressing the up/down arrow buttons. The cursor currently is in **Command Mode**."
   ]
  },
  {
   "cell_type": "markdown",
   "metadata": {},
   "source": [
    "Press `ENTER` on a cell to start editing that cell in **Edit Mode** and `ESC` to exit edit mode without evaluating it or `SHIFT-ENTER` to evaluate it and move to the next cell; Instead, you can use `CTRL-ENTER` to evaluate the cell and stay on the same cell in Command Mode. Try this on this cell."
   ]
  },
  {
   "cell_type": "markdown",
   "metadata": {},
   "source": [
    "To insert a new cell **a**bove the current one, press `A` in _Command Mode_, and to insert the cell **b**elow the current one, press `B`. To delete a cell (DANGER WARNING!) press `X`."
   ]
  },
  {
   "cell_type": "markdown",
   "metadata": {},
   "source": [
    "Did you mistakenly delete a cell with `X` after all? The latest notebooks have you covered: Press `Z` to undo a cell deletion. Try deleting this cell and then undo that."
   ]
  },
  {
   "cell_type": "markdown",
   "metadata": {},
   "source": [
    "Another new feature in the latest notebook versions: Multi-cell selection and operation. You can hold shift and select multiple cells (either with the mouse or your cursor keys) and then delete or move them around all at once."
   ]
  },
  {
   "cell_type": "markdown",
   "metadata": {},
   "source": [
    "To move a cell up or down, either use the two arrows in the toolbar above or select \"Edit\" $\\to$ \"Move Cell Up\" (or Down). While a fairly common operation, the developers [do not want](https://github.com/jupyter/notebook/issues/21) to add a preconfigured keyboard shortcut for that, however, and the discussion on it has been closed."
   ]
  },
  {
   "cell_type": "markdown",
   "metadata": {},
   "source": [
    "## Plotting"
   ]
  },
  {
   "cell_type": "markdown",
   "metadata": {},
   "source": [
    "Next, we shall activate inline plotting (for Numpy and Matplotlib). This command therefore is found at the head of  any notebook that should display plots from Matplotlib, but it also is handy to properly set up Numpy."
   ]
  },
  {
   "cell_type": "code",
   "execution_count": null,
   "metadata": {
    "collapsed": false
   },
   "outputs": [],
   "source": [
    "%pylab inline"
   ]
  },
  {
   "cell_type": "markdown",
   "metadata": {},
   "source": [
    "Now we can plot, for example the linear function $y=x$:"
   ]
  },
  {
   "cell_type": "code",
   "execution_count": null,
   "metadata": {
    "collapsed": false
   },
   "outputs": [],
   "source": [
    "print(arange(10))\n",
    "plot(arange(10))"
   ]
  },
  {
   "cell_type": "markdown",
   "metadata": {},
   "source": [
    "That worked because both `plot` and `arange` got imported into our namespace.\n",
    "But in reality, we are calling functions in the Mathplotlib (abbreviated as `plt`) and Numpy (abbreviated as `np`) namespace:"
   ]
  },
  {
   "cell_type": "code",
   "execution_count": null,
   "metadata": {
    "collapsed": false
   },
   "outputs": [],
   "source": [
    "plt.plot(np.arange(10))"
   ]
  },
  {
   "cell_type": "markdown",
   "metadata": {},
   "source": [
    "## Getting help"
   ]
  },
  {
   "cell_type": "markdown",
   "metadata": {},
   "source": [
    "Here is a handy way of quickly opening help about a module, class, or function: Append a `?` to the name and evalute the cell (press `CTRL-ENTER`) to get an interactive popup window."
   ]
  },
  {
   "cell_type": "code",
   "execution_count": null,
   "metadata": {
    "collapsed": true
   },
   "outputs": [],
   "source": [
    "plt?"
   ]
  },
  {
   "cell_type": "markdown",
   "metadata": {},
   "source": [
    "Alternatively, send the name to the `help` function to output the documentation directly in the notebook."
   ]
  },
  {
   "cell_type": "code",
   "execution_count": null,
   "metadata": {
    "collapsed": false
   },
   "outputs": [],
   "source": [
    "help(plt.plot)"
   ]
  },
  {
   "cell_type": "markdown",
   "metadata": {},
   "source": [
    "If that isn't enough, you instead show the source code in the popup window by appending `??` (double questionmark)."
   ]
  },
  {
   "cell_type": "code",
   "execution_count": null,
   "metadata": {
    "collapsed": true
   },
   "outputs": [],
   "source": [
    "plot??"
   ]
  },
  {
   "cell_type": "markdown",
   "metadata": {},
   "source": [
    "## Tab completion"
   ]
  },
  {
   "cell_type": "markdown",
   "metadata": {},
   "source": [
    "Tab completion allows you to search for the correct (module/class/funcion) name to use."
   ]
  },
  {
   "cell_type": "code",
   "execution_count": null,
   "metadata": {
    "collapsed": false
   },
   "outputs": [],
   "source": [
    "# Try this by only entering the first few letters of each name and pressing tab to show the possible completions\n",
    "# \"np.li\" TAB [SELECT linalg] \".e\" TAB [SELECT eigh] \"?\"\n",
    "# np.linalg.eigh?\n"
   ]
  },
  {
   "cell_type": "markdown",
   "metadata": {},
   "source": [
    "## Switching cell types: Code - Markdown"
   ]
  },
  {
   "cell_type": "markdown",
   "metadata": {},
   "source": [
    "If you wish to add text or comments to your notebook, you have to swich the cell from *code* into *markdown* state."
   ]
  },
  {
   "cell_type": "markdown",
   "metadata": {},
   "source": [
    "print(\"set this cell to markdown state by pressing M and to code state by pressing Y, both in Command Mode\")"
   ]
  },
  {
   "cell_type": "markdown",
   "metadata": {},
   "source": [
    "## Markdown text formatting"
   ]
  },
  {
   "cell_type": "markdown",
   "metadata": {},
   "source": [
    "Try copying this content:"
   ]
  },
  {
   "cell_type": "markdown",
   "metadata": {},
   "source": [
    "```\n",
    "# Title\n",
    "\n",
    "## Subtitle\n",
    "\n",
    "...\n",
    "\n",
    "Markdown for `code`, *emphasized*, and **bold face** plus [links](http://www.google.com).\n",
    "\n",
    "1. first\n",
    "1. second\n",
    "1. third\n",
    "  * nested\n",
    "  * again\n",
    "```"
   ]
  },
  {
   "cell_type": "markdown",
   "metadata": {},
   "source": [
    "And pasting it into here:"
   ]
  },
  {
   "cell_type": "markdown",
   "metadata": {},
   "source": []
  },
  {
   "cell_type": "markdown",
   "metadata": {},
   "source": [
    "## Syntax-colored code"
   ]
  },
  {
   "cell_type": "markdown",
   "metadata": {},
   "source": [
    "Start and end code regions with three backticks (\\`\\`\\`); To activate syntax coloring for a particular programming language, write the name of the language after the opening backticks, e.g.: \"\\`\\`\\`python\"."
   ]
  },
  {
   "cell_type": "markdown",
   "metadata": {},
   "source": [
    "```python\n",
    "from sys import path\n",
    "print path\n",
    "```"
   ]
  },
  {
   "cell_type": "markdown",
   "metadata": {},
   "source": [
    "## ([La]TeX-based) Math typesetting"
   ]
  },
  {
   "cell_type": "markdown",
   "metadata": {},
   "source": [
    "Simple inline math expressions should be surrounded by `$`; Complex expressions that should stand on their own (formulae, etc.) should be surrounded by `$$` (two dollar signs). The functionality is based on [MathJax](http://docs.mathjax.org/en/latest/tex.html#tex-support) and you can consult a [quick reference](http://meta.math.stackexchange.com/questions/5020/mathjax-basic-tutorial-and-quick-reference) for typesetting math expressions."
   ]
  },
  {
   "cell_type": "markdown",
   "metadata": {},
   "source": [
    "The Cauchy-Schwarz inequality:\n",
    "\n",
    "\\begin{equation*} \\left( \\sum_{k=1}^n a_k b_k \\right)^2 \\leq \\left( \\sum_{k=1}^n a_k^2 \\right) \\left( \\sum_{k=1}^n b_k^2 \\right) \\end{equation*}"
   ]
  },
  {
   "cell_type": "markdown",
   "metadata": {},
   "source": [
    "\n",
    "## IPython magic"
   ]
  },
  {
   "cell_type": "markdown",
   "metadata": {},
   "source": [
    "Sorry, this is a course on statistics, not heretics.... But here are some hints for the eager aprentice:"
   ]
  },
  {
   "cell_type": "code",
   "execution_count": null,
   "metadata": {
    "collapsed": false
   },
   "outputs": [],
   "source": [
    "%magic"
   ]
  },
  {
   "cell_type": "code",
   "execution_count": null,
   "metadata": {
    "collapsed": true
   },
   "outputs": [],
   "source": [
    "%quickref"
   ]
  },
  {
   "cell_type": "markdown",
   "metadata": {},
   "source": [
    "Well, here's one magic function that can be useful if your workspace got too cluttered:"
   ]
  },
  {
   "cell_type": "code",
   "execution_count": null,
   "metadata": {
    "collapsed": true
   },
   "outputs": [],
   "source": [
    "%reset?"
   ]
  },
  {
   "cell_type": "code",
   "execution_count": null,
   "metadata": {
    "collapsed": false
   },
   "outputs": [],
   "source": [
    "%reset -s"
   ]
  }
 ],
 "metadata": {
  "kernelspec": {
   "display_name": "Python 3",
   "language": "python",
   "name": "python3"
  },
  "language_info": {
   "codemirror_mode": {
    "name": "ipython",
    "version": 3
   },
   "file_extension": ".py",
   "mimetype": "text/x-python",
   "name": "python",
   "nbconvert_exporter": "python",
   "pygments_lexer": "ipython3",
   "version": "3.5.1"
  }
 },
 "nbformat": 4,
 "nbformat_minor": 0
}
