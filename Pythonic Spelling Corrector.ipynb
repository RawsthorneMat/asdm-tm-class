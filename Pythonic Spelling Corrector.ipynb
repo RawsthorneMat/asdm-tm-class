{
 "metadata": {
  "name": "",
  "signature": "sha256:f4bdf8279bd6b1c901950f6bb0a99fd81471b9ec67c47678efe836e0924912fa"
 },
 "nbformat": 3,
 "nbformat_minor": 0,
 "worksheets": [
  {
   "cells": [
    {
     "cell_type": "markdown",
     "metadata": {},
     "source": [
      "# Spelling correction in pure Python\n",
      "\n",
      "A tutorial based on Peter Norvig's \"[How to Write a Spelling Corrector](http://www.norvig.com/spell-correct.html)\" article."
     ]
    },
    {
     "cell_type": "markdown",
     "metadata": {},
     "source": [
      "First, let's define our goal:\n",
      "\n",
      "We want to efficiently predict the correct word (the key) from any of a set of misspelled variants (the value, space-separated)."
     ]
    },
    {
     "cell_type": "code",
     "collapsed": false,
     "input": [
      "TESTS_1 = { 'access': 'acess', 'accessing': 'accesing', 'accommodation':\n",
      "'accomodation acommodation acomodation', 'account': 'acount', 'address':\n",
      "'adress adres', 'addressable': 'addresable', 'arranged': 'aranged arrainged',\n",
      "'arrangeing': 'aranging', 'arrangement': 'arragment', 'articles': 'articals',\n",
      "'aunt': 'annt anut arnt', 'auxiliary': 'auxillary', 'available': 'avaible',\n",
      "'awful': 'awfall afful', 'basically': 'basicaly', 'beginning': 'begining',\n",
      "'benefit': 'benifit', 'benefits': 'benifits', 'between': 'beetween', 'bicycle':\n",
      "'bicycal bycicle bycycle', 'biscuits': \n",
      "'biscits biscutes biscuts bisquits buiscits buiscuts', 'built': 'biult', \n",
      "'cake': 'cak', 'career': 'carrer',\n",
      "'cemetery': 'cemetary semetary', 'centrally': 'centraly', 'certain': 'cirtain',\n",
      "'challenges': 'chalenges chalenges', 'chapter': 'chaper chaphter chaptur',\n",
      "'choice': 'choise', 'choosing': 'chosing', 'clerical': 'clearical',\n",
      "'committee': 'comittee', 'compare': 'compair', 'completely': 'completly',\n",
      "'consider': 'concider', 'considerable': 'conciderable', 'contented':\n",
      "'contenpted contende contended contentid', 'curtains': \n",
      "'cartains certans courtens cuaritains curtans curtians curtions', 'decide': 'descide', 'decided':\n",
      "'descided', 'definitely': 'definately difinately', 'definition': 'defenition',\n",
      "'definitions': 'defenitions', 'description': 'discription', 'desiccate':\n",
      "'desicate dessicate dessiccate', 'diagrammatically': 'diagrammaticaally',\n",
      "'different': 'diffrent', 'driven': 'dirven', 'ecstasy': 'exstacy ecstacy',\n",
      "'embarrass': 'embaras embarass', 'establishing': 'astablishing establising',\n",
      "'experience': 'experance experiance', 'experiences': 'experances', 'extended':\n",
      "'extented', 'extremely': 'extreamly', 'fails': 'failes', 'families': 'familes',\n",
      "'february': 'febuary', 'further': 'futher', 'gallery': 'galery gallary gallerry gallrey', \n",
      "'hierarchal': 'hierachial', 'hierarchy': 'hierchy', 'inconvenient':\n",
      "'inconvienient inconvient inconvinient', 'independent': 'independant independant',\n",
      "'initial': 'intial', 'initials': 'inetials inistals initails initals intials',\n",
      "'juice': 'guic juce jucie juise juse', 'latest': 'lates latets latiest latist', \n",
      "'laugh': 'lagh lauf laught lugh', 'level': 'leval',\n",
      "'levels': 'levals', 'liaison': 'liaision liason', 'lieu': 'liew', 'literature':\n",
      "'litriture', 'loans': 'lones', 'locally': 'localy', 'magnificent': \n",
      "'magnificnet magificent magnifcent magnifecent magnifiscant magnifisent magnificant',\n",
      "'management': 'managment', 'meant': 'ment', 'minuscule': 'miniscule',\n",
      "'minutes': 'muinets', 'monitoring': 'monitering', 'necessary': \n",
      "'neccesary necesary neccesary necassary necassery neccasary', 'occurrence':\n",
      "'occurence occurence', 'often': 'ofen offen offten ofton', 'opposite': \n",
      "'opisite oppasite oppesite oppisit oppisite opposit oppossite oppossitte', 'parallel': \n",
      "'paralel paralell parrallel parralell parrallell', 'particular': 'particulaur',\n",
      "'perhaps': 'perhapse', 'personnel': 'personnell', 'planned': 'planed', 'poem':\n",
      "'poame', 'poems': 'poims pomes', 'poetry': 'poartry poertry poetre poety powetry', \n",
      "'position': 'possition', 'possible': 'possable', 'pretend': \n",
      "'pertend protend prtend pritend', 'problem': 'problam proble promblem proplen',\n",
      "'pronunciation': 'pronounciation', 'purple': 'perple perpul poarple',\n",
      "'questionnaire': 'questionaire', 'really': 'realy relley relly', 'receipt':\n",
      "'receit receite reciet recipt', 'receive': 'recieve', 'refreshment':\n",
      "'reafreshment refreshmant refresment refressmunt', 'remember': 'rember remeber rememmer rermember',\n",
      "'remind': 'remine remined', 'scarcely': 'scarcly scarecly scarely scarsely', \n",
      "'scissors': 'scisors sissors', 'separate': 'seperate',\n",
      "'singular': 'singulaur', 'someone': 'somone', 'sources': 'sorces', 'southern':\n",
      "'southen', 'special': 'speaical specail specal speical', 'splendid': \n",
      "'spledid splended splened splended', 'standardizing': 'stanerdizing', 'stomach': \n",
      "'stomac stomache stomec stumache', 'supersede': 'supercede superceed', 'there': 'ther',\n",
      "'totally': 'totaly', 'transferred': 'transfred', 'transportability':\n",
      "'transportibility', 'triangular': 'triangulaur', 'understand': 'undersand undistand', \n",
      "'unexpected': 'unexpcted unexpeted unexspected', 'unfortunately':\n",
      "'unfortunatly', 'unique': 'uneque', 'useful': 'usefull', 'valuable': 'valubale valuble', \n",
      "'variable': 'varable', 'variant': 'vairiant', 'various': 'vairious',\n",
      "'visited': 'fisited viseted vistid vistied', 'visitors': 'vistors',\n",
      "'voluntary': 'volantry', 'voting': 'voteing', 'wanted': 'wantid wonted',\n",
      "'whether': 'wether', 'wrote': 'rote wote'}\n",
      "\n",
      "\n",
      "TESTS_2 = {'forbidden': 'forbiden', 'decisions': 'deciscions descisions',\n",
      "'supposedly': 'supposidly', 'embellishing': 'embelishing', 'technique':\n",
      "'tecnique', 'permanently': 'perminantly', 'confirmation': 'confermation',\n",
      "'appointment': 'appoitment', 'progression': 'progresion', 'accompanying':\n",
      "'acompaning', 'applicable': 'aplicable', 'regained': 'regined', 'guidelines':\n",
      "'guidlines', 'surrounding': 'serounding', 'titles': 'tittles', 'unavailable':\n",
      "'unavailble', 'advantageous': 'advantageos', 'brief': 'brif', 'appeal':\n",
      "'apeal', 'consisting': 'consisiting', 'clerk': 'cleark clerck', 'component':\n",
      "'componant', 'favourable': 'faverable', 'separation': 'seperation', 'search':\n",
      "'serch', 'receive': 'recieve', 'employees': 'emploies', 'prior': 'piror',\n",
      "'resulting': 'reulting', 'suggestion': 'sugestion', 'opinion': 'oppinion',\n",
      "'cancellation': 'cancelation', 'criticism': 'citisum', 'useful': 'usful',\n",
      "'humour': 'humor', 'anomalies': 'anomolies', 'would': 'whould', 'doubt':\n",
      "'doupt', 'examination': 'eximination', 'therefore': 'therefoe', 'recommend':\n",
      "'recomend', 'separated': 'seperated', 'successful': 'sucssuful succesful',\n",
      "'apparent': 'apparant', 'occurred': 'occureed', 'particular': 'paerticulaur',\n",
      "'pivoting': 'pivting', 'announcing': 'anouncing', 'challenge': 'chalange',\n",
      "'arrangements': 'araingements', 'proportions': 'proprtions', 'organized':\n",
      "'oranised', 'accept': 'acept', 'dependence': 'dependance', 'unequalled':\n",
      "'unequaled', 'numbers': 'numbuers', 'sense': 'sence', 'conversely':\n",
      "'conversly', 'provide': 'provid', 'arrangement': 'arrangment',\n",
      "'responsibilities': 'responsiblities', 'fourth': 'forth', 'ordinary':\n",
      "'ordenary', 'description': 'desription descvription desacription',\n",
      "'inconceivable': 'inconcievable', 'data': 'dsata', 'register': 'rgister',\n",
      "'supervision': 'supervison', 'encompassing': 'encompasing', 'negligible':\n",
      "'negligable', 'allow': 'alow', 'operations': 'operatins', 'executed':\n",
      "'executted', 'interpretation': 'interpritation', 'hierarchy': 'heiarky',\n",
      "'indeed': 'indead', 'years': 'yesars', 'through': 'throut', 'committee':\n",
      "'committe', 'inquiries': 'equiries', 'before': 'befor', 'continued':\n",
      "'contuned', 'permanent': 'perminant', 'choose': 'chose', 'virtually':\n",
      "'vertually', 'correspondence': 'correspondance', 'eventually': 'eventully',\n",
      "'lonely': 'lonley', 'profession': 'preffeson', 'they': 'thay', 'now': 'noe',\n",
      "'desperately': 'despratly', 'university': 'unversity', 'adjournment':\n",
      "'adjurnment', 'possibilities': 'possablities', 'stopped': 'stoped', 'mean':\n",
      "'meen', 'weighted': 'wagted', 'adequately': 'adequattly', 'shown': 'hown',\n",
      "'matrix': 'matriiix', 'profit': 'proffit', 'encourage': 'encorage', 'collate':\n",
      "'colate', 'disaggregate': 'disaggreagte disaggreaget', 'receiving':\n",
      "'recieving reciving', 'proviso': 'provisoe', 'umbrella': 'umberalla', 'approached':\n",
      "'aproached', 'pleasant': 'plesent', 'difficulty': 'dificulty', 'appointments':\n",
      "'apointments', 'base': 'basse', 'conditioning': 'conditining', 'earliest':\n",
      "'earlyest', 'beginning': 'begining', 'universally': 'universaly',\n",
      "'unresolved': 'unresloved', 'length': 'lengh', 'exponentially':\n",
      "'exponentualy', 'utilized': 'utalised', 'set': 'et', 'surveys': 'servays',\n",
      "'families': 'familys', 'system': 'sysem', 'approximately': 'aproximatly',\n",
      "'their': 'ther', 'scheme': 'scheem', 'speaking': 'speeking', 'repetitive':\n",
      "'repetative', 'inefficient': 'ineffiect', 'geneva': 'geniva', 'exactly':\n",
      "'exsactly', 'immediate': 'imediate', 'appreciation': 'apreciation', 'luckily':\n",
      "'luckeley', 'eliminated': 'elimiated', 'believe': 'belive', 'appreciated':\n",
      "'apreciated', 'readjusted': 'reajusted', 'were': 'wer where', 'feeling':\n",
      "'fealing', 'and': 'anf', 'false': 'faulse', 'seen': 'seeen', 'interrogating':\n",
      "'interogationg', 'academically': 'academicly', 'relatively': 'relativly relitivly',\n",
      "'traditionally': 'traditionaly', 'studying': 'studing',\n",
      "'majority': 'majorty', 'build': 'biuld', 'aggravating': 'agravating',\n",
      "'transactions': 'trasactions', 'arguing': 'aurguing', 'sheets': 'sheertes',\n",
      "'successive': 'sucsesive sucessive', 'segment': 'segemnt', 'especially':\n",
      "'especaily', 'later': 'latter', 'senior': 'sienior', 'dragged': 'draged',\n",
      "'atmosphere': 'atmospher', 'drastically': 'drasticaly', 'particularly':\n",
      "'particulary', 'visitor': 'vistor', 'session': 'sesion', 'continually':\n",
      "'contually', 'availability': 'avaiblity', 'busy': 'buisy', 'parameters':\n",
      "'perametres', 'surroundings': 'suroundings seroundings', 'employed':\n",
      "'emploied', 'adequate': 'adiquate', 'handle': 'handel', 'means': 'meens',\n",
      "'familiar': 'familer', 'between': 'beeteen', 'overall': 'overal', 'timing':\n",
      "'timeing', 'committees': 'comittees commitees', 'queries': 'quies',\n",
      "'econometric': 'economtric', 'erroneous': 'errounous', 'decides': 'descides',\n",
      "'reference': 'refereence refference', 'intelligence': 'inteligence',\n",
      "'edition': 'ediion ediition', 'are': 'arte', 'apologies': 'appologies',\n",
      "'thermawear': 'thermawere thermawhere', 'techniques': 'tecniques',\n",
      "'voluntary': 'volantary', 'subsequent': 'subsequant subsiquent', 'currently':\n",
      "'curruntly', 'forecast': 'forcast', 'weapons': 'wepons', 'routine': 'rouint',\n",
      "'neither': 'niether', 'approach': 'aproach', 'available': 'availble',\n",
      "'recently': 'reciently', 'ability': 'ablity', 'nature': 'natior',\n",
      "'commercial': 'comersial', 'agencies': 'agences', 'however': 'howeverr',\n",
      "'suggested': 'sugested', 'career': 'carear', 'many': 'mony', 'annual':\n",
      "'anual', 'according': 'acording', 'receives': 'recives recieves',\n",
      "'interesting': 'intresting', 'expense': 'expence', 'relevant':\n",
      "'relavent relevaant', 'table': 'tasble', 'throughout': 'throuout', 'conference':\n",
      "'conferance', 'sensible': 'sensable', 'described': 'discribed describd',\n",
      "'union': 'unioun', 'interest': 'intrest', 'flexible': 'flexable', 'refered':\n",
      "'reffered', 'controlled': 'controled', 'sufficient': 'suficient',\n",
      "'dissension': 'desention', 'adaptable': 'adabtable', 'representative':\n",
      "'representitive', 'irrelevant': 'irrelavent', 'unnecessarily': 'unessasarily',\n",
      "'applied': 'upplied', 'apologised': 'appologised', 'these': 'thees thess',\n",
      "'choices': 'choises', 'will': 'wil', 'procedure': 'proceduer', 'shortened':\n",
      "'shortend', 'manually': 'manualy', 'disappointing': 'dissapoiting',\n",
      "'excessively': 'exessively', 'comments': 'coments', 'containing': 'containg',\n",
      "'develop': 'develope', 'credit': 'creadit', 'government': 'goverment',\n",
      "'acquaintances': 'aquantences', 'orientated': 'orentated', 'widely': 'widly',\n",
      "'advise': 'advice', 'difficult': 'dificult', 'investigated': 'investegated',\n",
      "'bonus': 'bonas', 'conceived': 'concieved', 'nationally': 'nationaly',\n",
      "'compared': 'comppared compased', 'moving': 'moveing', 'necessity':\n",
      "'nessesity', 'opportunity': 'oppertunity oppotunity opperttunity', 'thoughts':\n",
      "'thorts', 'equalled': 'equaled', 'variety': 'variatry', 'analysis':\n",
      "'analiss analsis analisis', 'patterns': 'pattarns', 'qualities': 'quaties', 'easily':\n",
      "'easyly', 'organization': 'oranisation oragnisation', 'the': 'thw hte thi',\n",
      "'corporate': 'corparate', 'composed': 'compossed', 'enormously': 'enomosly',\n",
      "'financially': 'financialy', 'functionally': 'functionaly', 'discipline':\n",
      "'disiplin', 'announcement': 'anouncement', 'progresses': 'progressess',\n",
      "'except': 'excxept', 'recommending': 'recomending', 'mathematically':\n",
      "'mathematicaly', 'source': 'sorce', 'combine': 'comibine', 'input': 'inut',\n",
      "'careers': 'currers carrers', 'resolved': 'resoved', 'demands': 'diemands',\n",
      "'unequivocally': 'unequivocaly', 'suffering': 'suufering', 'immediately':\n",
      "'imidatly imediatly', 'accepted': 'acepted', 'projects': 'projeccts',\n",
      "'necessary': 'necasery nessasary nessisary neccassary', 'journalism':\n",
      "'journaism', 'unnecessary': 'unessessay', 'night': 'nite', 'output':\n",
      "'oputput', 'security': 'seurity', 'essential': 'esential', 'beneficial':\n",
      "'benificial benficial', 'explaining': 'explaning', 'supplementary':\n",
      "'suplementary', 'questionnaire': 'questionare', 'employment': 'empolyment',\n",
      "'proceeding': 'proceding', 'decision': 'descisions descision', 'per': 'pere',\n",
      "'discretion': 'discresion', 'reaching': 'reching', 'analysed': 'analised',\n",
      "'expansion': 'expanion', 'although': 'athough', 'subtract': 'subtrcat',\n",
      "'analysing': 'aalysing', 'comparison': 'comparrison', 'months': 'monthes',\n",
      "'hierarchal': 'hierachial', 'misleading': 'missleading', 'commit': 'comit',\n",
      "'auguments': 'aurgument', 'within': 'withing', 'obtaining': 'optaning',\n",
      "'accounts': 'acounts', 'primarily': 'pimarily', 'operator': 'opertor',\n",
      "'accumulated': 'acumulated', 'extremely': 'extreemly', 'there': 'thear',\n",
      "'summarys': 'sumarys', 'analyse': 'analiss', 'understandable':\n",
      "'understadable', 'safeguard': 'safegaurd', 'consist': 'consisit',\n",
      "'declarations': 'declaratrions', 'minutes': 'muinutes muiuets', 'associated':\n",
      "'assosiated', 'accessibility': 'accessability', 'examine': 'examin',\n",
      "'surveying': 'servaying', 'politics': 'polatics', 'annoying': 'anoying',\n",
      "'again': 'agiin', 'assessing': 'accesing', 'ideally': 'idealy', 'scrutinized':\n",
      "'scrutiniesed', 'simular': 'similar', 'personnel': 'personel', 'whereas':\n",
      "'wheras', 'when': 'whn', 'geographically': 'goegraphicaly', 'gaining':\n",
      "'ganing', 'requested': 'rquested', 'separate': 'seporate', 'students':\n",
      "'studens', 'prepared': 'prepaired', 'generated': 'generataed', 'graphically':\n",
      "'graphicaly', 'suited': 'suted', 'variable': 'varible vaiable', 'building':\n",
      "'biulding', 'required': 'reequired', 'necessitates': 'nessisitates',\n",
      "'together': 'togehter', 'profits': 'proffits'}\n",
      "\n",
      "\n",
      "def spelltest(tests, verbose=False):\n",
      "    import time\n",
      "    n, bad, unknown, start = 0, 0, 0, time.clock()\n",
      "    \n",
      "    for target, wrongs in tests.iteritems():\n",
      "        for wrong in wrongs.split():\n",
      "            n += 1\n",
      "            w = correct(wrong) # our \"API\" definition\n",
      "            \n",
      "            if w != target:\n",
      "                bad += 1\n",
      "                unknown += (target not in VOCAB) # VOCAB to be explained...\n",
      "                \n",
      "                if verbose:\n",
      "                    print 'correct(%r) => %r (%d); expected %r (%d)' % (\n",
      "                        wrong, w, VOCAB[w], target, VOCAB[target]\n",
      "                    )\n",
      "    \n",
      "    print 'tested', n, 'words'\n",
      "    print int(100. - 100.*bad/n), '% correct'\n",
      "    print time.clock()-start, 'seconds'\n",
      "    print unknown, 'unknown words (%d%%)' % (100.*unknown/n)"
     ],
     "language": "python",
     "metadata": {},
     "outputs": [],
     "prompt_number": 1
    },
    {
     "cell_type": "heading",
     "level": 2,
     "metadata": {},
     "source": [
      "Estimating common word probabilities"
     ]
    },
    {
     "cell_type": "code",
     "collapsed": false,
     "input": [
      "from nltk.corpus import brown\n",
      "from collections import Counter"
     ],
     "language": "python",
     "metadata": {},
     "outputs": [],
     "prompt_number": 2
    },
    {
     "cell_type": "code",
     "collapsed": false,
     "input": [
      "CORPUS = brown.words()\n",
      "VOCAB = Counter(w.lower() for w in CORPUS if w.isalpha())\n",
      "len (CORPUS), len(VOCAB)"
     ],
     "language": "python",
     "metadata": {},
     "outputs": [
      {
       "metadata": {},
       "output_type": "pyout",
       "prompt_number": 3,
       "text": [
        "(1161192, 40234)"
       ]
      }
     ],
     "prompt_number": 3
    },
    {
     "cell_type": "code",
     "collapsed": false,
     "input": [
      "VOCAB.most_common(5)"
     ],
     "language": "python",
     "metadata": {},
     "outputs": [
      {
       "metadata": {},
       "output_type": "pyout",
       "prompt_number": 4,
       "text": [
        "[('the', 69971), ('of', 36412), ('and', 28853), ('to', 26158), ('a', 23195)]"
       ]
      }
     ],
     "prompt_number": 4
    },
    {
     "cell_type": "code",
     "collapsed": false,
     "input": [
      "for w in ['the', 'unusual', 'characteristically', 'neverbeforeseen']:\n",
      "    print w, VOCAB[w]"
     ],
     "language": "python",
     "metadata": {},
     "outputs": [
      {
       "output_type": "stream",
       "stream": "stdout",
       "text": [
        "the 69971\n",
        "unusual 63\n",
        "characteristically 7\n",
        "neverbeforeseen 0\n"
       ]
      }
     ],
     "prompt_number": 5
    },
    {
     "cell_type": "heading",
     "level": 2,
     "metadata": {},
     "source": [
      "Generating Spelling Variants"
     ]
    },
    {
     "cell_type": "code",
     "collapsed": false,
     "input": [
      "alphabet = 'abcdefghijklmnopqrstuvwxyz'\n",
      "\n",
      "def edits1(word):\n",
      "    \"Return all strings that are one edit away from this word.\"\n",
      "    pairs      = splits(word)\n",
      "    deletes    = [a+b[1:]           for (a, b) in pairs if b]\n",
      "    transposes = [a+b[1]+b[0]+b[2:] for (a, b) in pairs if len(b) > 1]\n",
      "    replaces   = [a+c+b[1:]         for (a, b) in pairs for c in alphabet if b]\n",
      "    inserts    = [a+c+b             for (a, b) in pairs for c in alphabet]\n",
      "    return set(deletes + transposes + replaces + inserts)\n",
      "\n",
      "def splits(word):\n",
      "    \"Return a list of all possible (head, tail) pairs of a word.\"\n",
      "    return [(word[:i], word[i:]) \n",
      "            for i in range(len(word)+1)]"
     ],
     "language": "python",
     "metadata": {},
     "outputs": [],
     "prompt_number": 6
    },
    {
     "cell_type": "markdown",
     "metadata": {},
     "source": [
      "Let's check it works:"
     ]
    },
    {
     "cell_type": "code",
     "collapsed": false,
     "input": [
      "splits('wird')"
     ],
     "language": "python",
     "metadata": {},
     "outputs": [
      {
       "metadata": {},
       "output_type": "pyout",
       "prompt_number": 7,
       "text": [
        "[('', 'wird'), ('w', 'ird'), ('wi', 'rd'), ('wir', 'd'), ('wird', '')]"
       ]
      }
     ],
     "prompt_number": 7
    },
    {
     "cell_type": "code",
     "collapsed": false,
     "input": [
      "result = edits1('wird')\n",
      "list(result)[:25]"
     ],
     "language": "python",
     "metadata": {},
     "outputs": [
      {
       "metadata": {},
       "output_type": "pyout",
       "prompt_number": 8,
       "text": [
        "['wirdh',\n",
        " 'wirdw',\n",
        " 'jird',\n",
        " 'wiid',\n",
        " 'wirj',\n",
        " 'wiprd',\n",
        " 'rird',\n",
        " 'wkird',\n",
        " 'wiqrd',\n",
        " 'wrird',\n",
        " 'wisrd',\n",
        " 'zwird',\n",
        " 'wiqd',\n",
        " 'wizrd',\n",
        " 'wirs',\n",
        " 'wrd',\n",
        " 'wqird',\n",
        " 'tird',\n",
        " 'wirdp',\n",
        " 'wrrd',\n",
        " 'wzrd',\n",
        " 'wiad',\n",
        " 'nird',\n",
        " 'wirsd',\n",
        " 'wixd']"
       ]
      }
     ],
     "prompt_number": 8
    },
    {
     "cell_type": "code",
     "collapsed": false,
     "input": [
      "'wir' in result and 'wrd' in result and 'wrid' in result and 'ward' in result and 'wizrd' in result"
     ],
     "language": "python",
     "metadata": {},
     "outputs": [
      {
       "metadata": {},
       "output_type": "pyout",
       "prompt_number": 10,
       "text": [
        "True"
       ]
      }
     ],
     "prompt_number": 10
    },
    {
     "cell_type": "markdown",
     "metadata": {},
     "source": [
      "Let's add in a few more edit distances:"
     ]
    },
    {
     "cell_type": "code",
     "collapsed": false,
     "input": [
      "def edits0(word):\n",
      "    \"Returns the set containting the unedited word.\" \n",
      "    return set((word,))\n",
      "\n",
      "def edits2(word):\n",
      "    \"Return all strings that are two edits away from this word.\"\n",
      "    return set(e2 for e1 in edits1(word) for e2 in edits1(e1))"
     ],
     "language": "python",
     "metadata": {},
     "outputs": [],
     "prompt_number": 11
    },
    {
     "cell_type": "heading",
     "level": 2,
     "metadata": {},
     "source": [
      "Correcting mistakes with the (most likely) known word"
     ]
    },
    {
     "cell_type": "code",
     "collapsed": false,
     "input": [
      "def known(words):\n",
      "    \"Return a subset of those words that are actually in the dictionary.\"\n",
      "    return filter(VOCAB.get, words)"
     ],
     "language": "python",
     "metadata": {},
     "outputs": [],
     "prompt_number": 12
    },
    {
     "cell_type": "code",
     "collapsed": false,
     "input": [
      "known(['the', 'unusual', 'characteristically', 'neverbeforeseen'])"
     ],
     "language": "python",
     "metadata": {},
     "outputs": [
      {
       "metadata": {},
       "output_type": "pyout",
       "prompt_number": 13,
       "text": [
        "['the', 'unusual', 'characteristically']"
       ]
      }
     ],
     "prompt_number": 13
    },
    {
     "cell_type": "code",
     "collapsed": false,
     "input": [
      "def correct(word):\n",
      "    \"Find the best spelling correction for this word.\"\n",
      "    \n",
      "    # Note that this is marginally better:\n",
      "    # correct word if a edit1 word is more frequent: \n",
      "    #s = edits1(word)\n",
      "    #s.add(word)\n",
      "    #candidates = (known(s) or \n",
      "    #              known(edits2(word)) or\n",
      "    #              [word])\n",
      "    \n",
      "    # Prefer edit distance 0, then 1, then 2; otherwise default to word itself.\n",
      "    candidates = (known(edits0(word)) or \n",
      "                 known(edits1(word)) or \n",
      "                 known(edits2(word)) or [word])\n",
      "    return max(candidates, key=VOCAB.get)"
     ],
     "language": "python",
     "metadata": {},
     "outputs": [],
     "prompt_number": 14
    },
    {
     "cell_type": "code",
     "collapsed": false,
     "input": [
      "correct('wird')"
     ],
     "language": "python",
     "metadata": {},
     "outputs": [
      {
       "metadata": {},
       "output_type": "pyout",
       "prompt_number": 15,
       "text": [
        "'word'"
       ]
      }
     ],
     "prompt_number": 15
    },
    {
     "cell_type": "code",
     "collapsed": false,
     "input": [
      "correct('spellign')"
     ],
     "language": "python",
     "metadata": {},
     "outputs": [
      {
       "metadata": {},
       "output_type": "pyout",
       "prompt_number": 16,
       "text": [
        "'spelling'"
       ]
      }
     ],
     "prompt_number": 16
    },
    {
     "cell_type": "code",
     "collapsed": false,
     "input": [
      "correct('mw')"
     ],
     "language": "python",
     "metadata": {},
     "outputs": [
      {
       "metadata": {},
       "output_type": "pyout",
       "prompt_number": 17,
       "text": [
        "'my'"
       ]
      }
     ],
     "prompt_number": 17
    },
    {
     "cell_type": "code",
     "collapsed": false,
     "input": [
      "correct('not')"
     ],
     "language": "python",
     "metadata": {},
     "outputs": [
      {
       "metadata": {},
       "output_type": "pyout",
       "prompt_number": 18,
       "text": [
        "'not'"
       ]
      }
     ],
     "prompt_number": 18
    },
    {
     "cell_type": "heading",
     "level": 2,
     "metadata": {},
     "source": [
      "Evaluation/Tests"
     ]
    },
    {
     "cell_type": "code",
     "collapsed": false,
     "input": [
      "spelltest(TESTS_1)"
     ],
     "language": "python",
     "metadata": {},
     "outputs": [
      {
       "output_type": "stream",
       "stream": "stdout",
       "text": [
        "tested 270 words\n",
        "73 % correct\n",
        "12.142428 seconds\n",
        "15 unknown words (5%)\n"
       ]
      }
     ],
     "prompt_number": 19
    },
    {
     "cell_type": "code",
     "collapsed": false,
     "input": [
      "spelltest(TESTS_2)"
     ],
     "language": "python",
     "metadata": {},
     "outputs": [
      {
       "output_type": "stream",
       "stream": "stdout",
       "text": [
        "tested 400 words\n",
        "73 % correct\n",
        "17.559705 seconds\n",
        "22 unknown words (5%)\n"
       ]
      }
     ],
     "prompt_number": 20
    },
    {
     "cell_type": "markdown",
     "metadata": {},
     "source": [
      "Can you think of ways to make this faster or perform better? (see Peter's blog for some possible answers)"
     ]
    }
   ],
   "metadata": {}
  }
 ]
}