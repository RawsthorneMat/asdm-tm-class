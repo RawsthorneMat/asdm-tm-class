{
 "cells": [
  {
   "cell_type": "markdown",
   "metadata": {},
   "source": [
    "# Document clustering with LSI, LDA, and HDP\n",
    "\n",
    "Practical course material for the ASDM Class 09 (Text Mining) by Florian Leitner.\n",
    "\n",
    "© 2017 Florian Leitner. All rights reserved.\n",
    "\n",
    "## Introduction\n",
    "\n",
    "This notebook discusses a use-case of LSI, using [gensim](http://radimrehurek.com/gensim/index.html), closely following [its own tutorial for topic modeling](https://nbviewer.jupyter.org/github/RaRe-Technologies/gensim/blob/develop/docs/notebooks/gensim_news_classification.ipynb).\n",
    "\n",
    "## Setup\n",
    "\n",
    "The tutorial corpus gensim provides is the [Lee Background Corpus](http://www.socsci.uci.edu/~mdlee/lee_pincombe_welsh_document.PDF), but shortened to 300 documents, from the Australian Broadcasing Coporation's news mail serivce, and from around the years 2000-2001."
   ]
  },
  {
   "cell_type": "code",
   "execution_count": 1,
   "metadata": {},
   "outputs": [
    {
     "name": "stdout",
     "output_type": "stream",
     "text": [
      "Hundreds of people have been forced to vacate their homes in ...\n",
      "Indian security forces have shot dead eight suspected milita ...\n",
      "The national road toll for the Christmas-New Year holiday pe ...\n",
      "Argentina's political and economic crisis has deepened with  ...\n",
      "Six midwives have been suspended at Wollongong Hospital, sou ...\n"
     ]
    }
   ],
   "source": [
    "import gensim\n",
    "import os\n",
    "\n",
    "# show text as HTML\n",
    "from IPython.display import HTML\n",
    "\n",
    "test_data_dir = os.sep.join([\n",
    "    gensim.__path__[0], 'test', 'test_data'\n",
    "])\n",
    "lee_train_file = (\n",
    "    test_data_dir + os.sep + 'lee_background.cor'\n",
    ")\n",
    "\n",
    "with open(lee_train_file) as f:\n",
    "    for n, l in enumerate(f):\n",
    "        if n < 5:\n",
    "            print(l[:60], \"...\")"
   ]
  },
  {
   "cell_type": "markdown",
   "metadata": {},
   "source": [
    "The first step is to load the documents and do a simple tokenization with gensim.\n",
    "The `gensim.util.tokenize` method (used by `simple_preprocess`) split text into contiguous tokens of alphabetic characters (e.g., removing digits!), and `simple_preprocess` by default lower-cases all tokens.\n",
    "In a sense, this is quite some harsh preprocessing, but is useful for tutorials and/or very noisy texts."
   ]
  },
  {
   "cell_type": "code",
   "execution_count": 2,
   "metadata": {
    "collapsed": true
   },
   "outputs": [],
   "source": [
    "from gensim.utils import simple_preprocess\n",
    "\n",
    "def read_and_tokenize(file_path):\n",
    "    with open(file_path) as f:\n",
    "        for doc in f:\n",
    "            # strip accents and tokens\n",
    "            # with less than 3 characters\n",
    "            # NB: implicitly removes tokens\n",
    "            # *longer* than 15 characters\n",
    "            yield simple_preprocess(\n",
    "                doc,\n",
    "                deacc=True,\n",
    "                min_len=3)"
   ]
  },
  {
   "cell_type": "code",
   "execution_count": 3,
   "metadata": {},
   "outputs": [
    {
     "data": {
      "text/plain": [
       "300"
      ]
     },
     "execution_count": 3,
     "metadata": {},
     "output_type": "execute_result"
    }
   ],
   "source": [
    "raw_documents = list(read_and_tokenize(\n",
    "    lee_train_file))\n",
    "\n",
    "len(raw_documents)"
   ]
  },
  {
   "cell_type": "markdown",
   "metadata": {},
   "source": [
    "We will be looking at the [LSI](https://radimrehurek.com/gensim/models/lsimodel.html#gensim.models.lsimodel.LsiModel) and [LDA models](https://radimrehurek.com/gensim/models/ldamodel.html#gensim.models.ldamodel.LdaModel); To speed up computations a bit, we will be using gensim's [multicore implementation for LDA](https://radimrehurek.com/gensim/models/ldamulticore.html#module-gensim.models.ldamulticore)."
   ]
  },
  {
   "cell_type": "code",
   "execution_count": 4,
   "metadata": {
    "collapsed": true
   },
   "outputs": [],
   "source": [
    "from gensim.models import LsiModel, LdaModel\n",
    "# disable this line if your CPU has only one core:\n",
    "from gensim.models.ldamulticore import LdaMulticore as LdaModel"
   ]
  },
  {
   "cell_type": "markdown",
   "metadata": {},
   "source": [
    "## Data preparation\n",
    "\n",
    "First, we will do a little trick we will actually only learn about in the future, but that will *vastly* improve performace: detecting collocations (roughly, idioms), lemmatize the words (\"am\" -> \"be\", \"going\" -> \"go\", \"men\" -> \"man\", etc.), and remove **stopwords** (ubiquitious words found almost in any text that are not *very* siginificant for the text's semantics)."
   ]
  },
  {
   "cell_type": "code",
   "execution_count": 5,
   "metadata": {
    "collapsed": true
   },
   "outputs": [],
   "source": [
    "from gensim.models import Phrases\n",
    "from gensim.models.phrases import Phraser\n",
    "from nltk.corpus import stopwords\n",
    "from nltk.stem import WordNetLemmatizer\n",
    "\n",
    "collocations = Phraser(Phrases(raw_documents))\n",
    "lemmatizer = WordNetLemmatizer()\n",
    "lemmatize = lambda t: lemmatizer.lemmatize(t, pos='v')\n",
    "stopwords_en = (frozenset(stopwords.words('english'))\n",
    "                | frozenset([\"also\"]))"
   ]
  },
  {
   "cell_type": "code",
   "execution_count": 6,
   "metadata": {},
   "outputs": [
    {
     "data": {
      "text/html": [
       "united_states team monica seles jan michael gambill score decisive victory unseeded france first hopman cup match burswood dome perth pair runners million dollar mix team event last_year single encounter give unbeatable lead year_old seles currently rank"
      ],
      "text/plain": [
       "<IPython.core.display.HTML object>"
      ]
     },
     "execution_count": 6,
     "metadata": {},
     "output_type": "execute_result"
    }
   ],
   "source": [
    "def preprocess(doc):\n",
    "    \"\"\"\n",
    "    Stopword filtering,\n",
    "    collocation detection (joining),\n",
    "    and token lemmatization.\n",
    "    \"\"\"\n",
    "    \n",
    "    doc_filtered = filter(\n",
    "        lambda w: w not in stopwords_en,\n",
    "        doc)\n",
    "    doc_colloc = collocations[doc_filtered]\n",
    "    doc_lemmas = map(lemmatize, doc_colloc)\n",
    "    # journalist love the word \"say\" in all its \n",
    "    # forms - sayed, saying, says, ...\n",
    "    # so we filter it *after* lemmatizing\n",
    "    return [l for l in doc_lemmas if l != \"say\"]\n",
    "\n",
    "HTML(\" \".join(preprocess(raw_documents[6][:50])))"
   ]
  },
  {
   "cell_type": "code",
   "execution_count": 7,
   "metadata": {
    "collapsed": true
   },
   "outputs": [],
   "source": [
    "texts = list(map(preprocess, raw_documents))"
   ]
  },
  {
   "cell_type": "markdown",
   "metadata": {},
   "source": [
    "Finally, we convert the documents (which by now are token sequences/lists) into numeric vectors, using the Bag-of-Word approach (i.e., ignoring token order, only measuring token *frequency*)."
   ]
  },
  {
   "cell_type": "code",
   "execution_count": 8,
   "metadata": {},
   "outputs": [
    {
     "name": "stdout",
     "output_type": "stream",
     "text": [
      "[(4, 1), (18, 2), (19, 1), (58, 1), (64, 3), (92, 1), (94, 1), (114, 1), (122, 1), (127, 1)]\n"
     ]
    }
   ],
   "source": [
    "from gensim.corpora import Dictionary\n",
    "\n",
    "dictionary = Dictionary(texts)\n",
    "corpus = [dictionary.doc2bow(doc) for doc in texts]\n",
    "\n",
    "print(corpus[6][:10])"
   ]
  },
  {
   "cell_type": "markdown",
   "metadata": {},
   "source": [
    "## LSI Clustering\n",
    "\n",
    "Latent semantic indexing ranks topics and `gensim` outputs them in a ranked order. However, LSI requires a `num_topics` parameter (set to 200 by default) to determine the number of latent dimensions after the SVD step."
   ]
  },
  {
   "cell_type": "code",
   "execution_count": 29,
   "metadata": {},
   "outputs": [
    {
     "data": {
      "text/html": [
       "<h3>Topic 0</h3>\n",
       "<p>0.174*\"arafat\" + 0.172*\"palestinian\" + 0.161*\"israeli\" + 0.158*\"attack\" + 0.152*\"kill\" + 0.144*\"two\" + 0.142*\"force\" + 0.134*\"people\" + 0.123*\"government\" + 0.120*\"australia\"</p>\n",
       "<h3>Topic 1</h3>\n",
       "<p>0.324*\"arafat\" + 0.311*\"palestinian\" + 0.269*\"israeli\" + 0.195*\"israel\" + 0.169*\"sharon\" + -0.145*\"australia\" + 0.141*\"hamas\" + -0.140*\"australian\" + 0.137*\"kill\" + 0.137*\"west_bank\"</p>\n",
       "<h3>Topic 2</h3>\n",
       "<p>0.378*\"fire\" + -0.255*\"afghanistan\" + 0.188*\"sydney\" + -0.176*\"force\" + -0.148*\"bin_laden\" + -0.142*\"pakistan\" + 0.140*\"firefighters\" + -0.132*\"taliban\" + 0.126*\"wales\" + 0.126*\"new_south\"</p>\n",
       "<h3>Topic 3</h3>\n",
       "<p>0.328*\"fire\" + -0.226*\"australia\" + 0.156*\"force\" + -0.154*\"match\" + -0.146*\"test\" + -0.136*\"play\" + 0.130*\"afghanistan\" + 0.120*\"sydney\" + 0.117*\"firefighters\" + -0.115*\"south_africa\"</p>\n",
       "<h3>Topic 4</h3>\n",
       "<p>-0.244*\"company\" + -0.187*\"qantas\" + -0.160*\"australian\" + -0.147*\"government\" + 0.137*\"test\" + -0.131*\"workers\" + 0.126*\"match\" + 0.114*\"south_africa\" + -0.113*\"meet\" + -0.111*\"unions\"</p>\n",
       "<h3>Topic 5</h3>\n",
       "<p>0.256*\"force\" + -0.189*\"kill\" + -0.159*\"tell\" + 0.149*\"government\" + 0.132*\"afghanistan\" + -0.129*\"taliban\" + -0.127*\"one\" + -0.123*\"company\" + 0.121*\"australia\" + 0.113*\"arafat\"</p>\n",
       "<h3>Topic 6</h3>\n",
       "<p>0.510*\"pakistan\" + 0.311*\"india\" + -0.214*\"australian\" + 0.191*\"president\" + 0.169*\"indian\" + 0.147*\"musharraf\" + -0.141*\"afghanistan\" + 0.112*\"want\" + 0.104*\"tension\" + 0.098*\"attack\"</p>\n",
       "<h3>Topic 7</h3>\n",
       "<p>-0.429*\"metres\" + -0.248*\"event\" + -0.247*\"race\" + -0.174*\"pakistan\" + -0.150*\"water\" + -0.141*\"swim\" + -0.137*\"world\" + -0.115*\"women\" + -0.099*\"ray\" + 0.099*\"people\"</p>"
      ],
      "text/plain": [
       "<IPython.core.display.HTML object>"
      ]
     },
     "execution_count": 29,
     "metadata": {},
     "output_type": "execute_result"
    }
   ],
   "source": [
    "lsimodel = LsiModel(\n",
    "    corpus=corpus,\n",
    "    num_topics=8,\n",
    "    id2word=dictionary)\n",
    "\n",
    "results = []\n",
    "\n",
    "for t in lsimodel.show_topics():\n",
    "    results.append(\n",
    "        \"<h3>Topic {}</h3>\\n<p>{}</p>\".format(*t)\n",
    "    )\n",
    "\n",
    "HTML(\"\\n\".join(results))"
   ]
  },
  {
   "cell_type": "markdown",
   "metadata": {},
   "source": [
    "## Evaluating cluster coherence\n",
    "\n",
    "Gensim can measure topic coherence following a meta-model by [Röder et al. (2015)](http://svn.aksw.org/papers/2015/WSDM_Topic_Evaluation/public.pdf) that combines several different approaches of measuring [word] topic/cluster coherence."
   ]
  },
  {
   "cell_type": "code",
   "execution_count": 32,
   "metadata": {},
   "outputs": [
    {
     "data": {
      "text/plain": [
       "0.41330742090527089"
      ]
     },
     "execution_count": 32,
     "metadata": {},
     "output_type": "execute_result"
    }
   ],
   "source": [
    "from gensim.models import CoherenceModel\n",
    "\n",
    "def get_topic_words(lsi_model):\n",
    "    topic_list = lsi_model.show_topics(formatted=False)\n",
    "    return [[word for word, prob in wp_pairs]\n",
    "            for topic_id, wp_pairs in topic_list]\n",
    "\n",
    "# window_size defines the \"context\"\n",
    "# tokens for the probability model\n",
    "# (see section 3.2, \"Boolean sliding\n",
    "#  window\" in Röder et al.)\n",
    "CoherenceModel(\n",
    "    topics=get_topic_words(lsimodel),\n",
    "    texts=texts,\n",
    "    dictionary=dictionary,\n",
    "    window_size=10).get_coherence()"
   ]
  },
  {
   "cell_type": "markdown",
   "metadata": {},
   "source": [
    "With this, we can now estimate a good value for `num_topics` - simply by clustering with a range of topic numbers that seem realistic and picking the best result."
   ]
  },
  {
   "cell_type": "code",
   "execution_count": 30,
   "metadata": {
    "collapsed": true
   },
   "outputs": [],
   "source": [
    "def evaluate_graph(\n",
    "    dictionary,\n",
    "    corpus,\n",
    "    texts,\n",
    "    min_num=3,\n",
    "    max_num=15):\n",
    "    \n",
    "    n_topics = list(range(min_num, max_num + 1))\n",
    "    scores = []\n",
    "    \n",
    "    for num_topics in n_topics:\n",
    "        lm = LsiModel(\n",
    "            corpus=corpus,\n",
    "            num_topics=num_topics,\n",
    "            id2word=dictionary)\n",
    "        \n",
    "        cm = CoherenceModel(\n",
    "            topics=get_topic_words(lm),\n",
    "            texts=texts,\n",
    "            dictionary=dictionary,\n",
    "            window_size=10)     \n",
    "        \n",
    "        scores.append(cm.get_coherence())\n",
    "        \n",
    "    plt.plot(n_topics, scores)\n",
    "    plt.xlabel(\"N. topics\")\n",
    "    plt.ylabel(\"Coherence score\")\n",
    "    plt.show()"
   ]
  },
  {
   "cell_type": "code",
   "execution_count": 31,
   "metadata": {},
   "outputs": [
    {
     "name": "stdout",
     "output_type": "stream",
     "text": [
      "Populating the interactive namespace from numpy and matplotlib\n"
     ]
    },
    {
     "data": {
      "image/png": "[encoded data removed]",
      "text/plain": [
       "<matplotlib.figure.Figure at 0x10989f4e0>"
      ]
     },
     "metadata": {},
     "output_type": "display_data"
    },
    {
     "name": "stdout",
     "output_type": "stream",
     "text": [
      "CPU times: user 5.11 s, sys: 342 ms, total: 5.46 s\n",
      "Wall time: 4.01 s\n"
     ]
    }
   ],
   "source": [
    "%pylab inline --no-import-all\n",
    "%time evaluate_graph(dictionary, corpus, texts)"
   ]
  },
  {
   "cell_type": "markdown",
   "metadata": {},
   "source": [
    "If all went \"according to plan\", you should see that the best topic coherence is found at 3 topics, explaining our choice above (which was correct after finding this result).\n",
    "\n",
    "## LSI conclusions\n",
    "\n",
    "LSI clustering is relatively simple to implement.\n",
    "Its biggest (in fact, quite significant) drawback maybe is that it scales poorly with corpus size.\n",
    "Finally, note that a trained LSI model can be used to predict the topic/cluster distribution in new, unseen documents, just like this:\n",
    "\n",
    "`doc_topics = lsi_model[dictionary.doc2bow(preprocess(raw_doc))]`\n",
    "\n",
    "***\n",
    "***\n",
    "***\n",
    "\n",
    "## LDA clustering\n",
    "\n",
    "Similar to LSI, LDA can also be used to bootstrap clusters, and again a `num_topics` hyper-parameter is the \"hardest\" part about setting up this clustering algorithm.\n",
    "\n",
    "**WARNING**: LDA more expensive to run; expect long computations ahead if you are working with old hardware."
   ]
  },
  {
   "cell_type": "code",
   "execution_count": 13,
   "metadata": {
    "collapsed": true
   },
   "outputs": [],
   "source": [
    "# the \"best\" num_topics was estimated by \n",
    "# replacing `LsiModel` in `evaluate_graph` with `LdaModel`\n",
    "ldamodel = LdaModel(\n",
    "    corpus=corpus,\n",
    "    num_topics=11,\n",
    "    id2word=dictionary)"
   ]
  },
  {
   "cell_type": "markdown",
   "metadata": {},
   "source": [
    "Now onto somthing cool - visually exploring the LDA model's results. Note that you need [`pyLDAvis`](https://nbviewer.jupyter.org/github/bmabey/pyLDAvis/blob/master/notebooks/pyLDAvis_overview.ipynb) installed for this step, e.g.:\n",
    "\n",
    "- `conda install pyLDAvis`\n",
    "- `pip3 install pyLDAvis`"
   ]
  },
  {
   "cell_type": "code",
   "execution_count": 14,
   "metadata": {
    "collapsed": true
   },
   "outputs": [],
   "source": [
    "import pyLDAvis.gensim\n",
    "pyLDAvis.enable_notebook()\n",
    "# enable this line:\n",
    "# (disabled to save horizontal screen space)\n",
    "#pyLDAvis.gensim.prepare(ldamodel, corpus, dictionary)"
   ]
  },
  {
   "cell_type": "markdown",
   "metadata": {},
   "source": [
    "The circles' sizes are proportional to the proportions of the topics, using the \"default\" topic if no term is selected. The red bars represent the topic's weight for that term, the blue bars the overall term frequency. $\\lambda$ controls how term relevance is ranked. With a selected term, the circle sizes represent topic-term proportions. More information can be found in the original [R Vignette](https://cran.r-project.org/web/packages/LDAvis/vignettes/details.pdf).\n",
    "\n",
    "## LDA coherence score"
   ]
  },
  {
   "cell_type": "code",
   "execution_count": 15,
   "metadata": {},
   "outputs": [
    {
     "data": {
      "text/plain": [
       "0.29684214209334181"
      ]
     },
     "execution_count": 15,
     "metadata": {},
     "output_type": "execute_result"
    }
   ],
   "source": [
    "ldatopics = ldamodel.show_topics(formatted=False)\n",
    "topics = [[word for word, prob in topic]\n",
    "          for topicid, topic in ldatopics]\n",
    "\n",
    "CoherenceModel(topics=topics,\n",
    "               texts=texts,\n",
    "               dictionary=dictionary,\n",
    "               window_size=10).get_coherence()"
   ]
  },
  {
   "cell_type": "markdown",
   "metadata": {},
   "source": [
    "As described before, the LDA model's `num_topics` was set up to use the value that produces the highest coherence score.\n",
    "Yet, the coherence score still is a distant second to what LSI produced.\n",
    "So how do we use LDA \"correctly\" to get good (better than LSI) results?\n",
    "\n",
    "\n",
    "## Cherry-picking the best LDA topics\n",
    "\n",
    "One of the problems with LDA is that if we train it on a large number of topics, the topics get \"lost\" among the numbers. With the below function, we sort each *topic* in a LDA model with 100 topics (the default number of topics for `LdaModel`) and then go cherry-picking the  model that has at least one very coherent topic, and then will select the most coherent topics among it.\n",
    "\n",
    "**WARNING:** LDA is very resource-hungry, computationally speaking; And this particular \"setup\" will take quite some time even on a modern laptop. If you have an old machine, this search can take dozens of minutes. On my machine MBP, this cell routinely takes around 2-5 minutes to complete.\n",
    "\n",
    "**HUGE WARNING**: This is LDA -- and as such, the loop below might not converege; If after around ten runs (print statement) you get no result (because no topic reached the required coherence), you are better of restarting this cell."
   ]
  },
  {
   "cell_type": "code",
   "execution_count": 16,
   "metadata": {},
   "outputs": [
    {
     "name": "stdout",
     "output_type": "stream",
     "text": [
      "(11, 0.89538947581370532)\n",
      "(88, 0.84376287410241435)\n",
      "(52, 0.85176973142841472)\n",
      "(78, 0.89771734321553309)\n",
      "(55, 0.82948150284780908)\n",
      "(81, 0.92268264026943891)\n",
      "(69, 0.84605914048056297)\n",
      "(62, 0.78836762540671446)\n",
      "(46, 0.80300031171046715)\n",
      "(61, 0.87260317128142384)\n",
      "(15, 0.97790591177043995)\n",
      "CPU times: user 2min 16s, sys: 3.73 s, total: 2min 20s\n",
      "Wall time: 2min 21s\n"
     ]
    }
   ],
   "source": [
    "%%time\n",
    "\n",
    "import operator\n",
    "\n",
    "def find_top_topics():\n",
    "    top_topics = [(0, 0)]\n",
    "    \n",
    "    # create models until the top topic\n",
    "    # reaches the indicated coherence score:\n",
    "    while top_topics[0][1] < 0.95:\n",
    "        \n",
    "        lm = LdaModel( # num_topics=100 by default\n",
    "            workers=4, # from LdaMuliticore\n",
    "            corpus=corpus,\n",
    "            id2word=dictionary)\n",
    "        coherence_values = {}\n",
    "        topic_idx = lm.show_topics(\n",
    "            num_topics=-1,\n",
    "            formatted=False)\n",
    "        \n",
    "        for n, topic in topic_idx:\n",
    "            topic = [word for word, _ in topic]\n",
    "            \n",
    "            cm = CoherenceModel(\n",
    "                topics=[topic],\n",
    "                texts=texts,\n",
    "                dictionary=dictionary, \n",
    "                window_size=10)\n",
    "            \n",
    "            coherence_values[n] = cm.get_coherence()\n",
    "            \n",
    "        top_topics = sorted(\n",
    "            coherence_values.items(),\n",
    "            key=operator.itemgetter(1),\n",
    "            reverse=True)\n",
    "        print(top_topics[0])\n",
    "\n",
    "    return lm, top_topics\n",
    "\n",
    "lsildamodel, top_topics = find_top_topics()"
   ]
  },
  {
   "cell_type": "code",
   "execution_count": 17,
   "metadata": {},
   "outputs": [
    {
     "data": {
      "text/plain": [
       "[('seles', 0.0081583701794869564),\n",
       " ('set', 0.0070769883775061576),\n",
       " ('gambill', 0.0056484259679904173),\n",
       " ('razzano', 0.0050283364636130494),\n",
       " ('beat', 0.0050264617817452721),\n",
       " ('minutes', 0.0048444704270661464),\n",
       " ('year', 0.0043416559577396452),\n",
       " ('rank', 0.0039810378757376957),\n",
       " ('game', 0.0038001460708826781),\n",
       " ('great', 0.0035012794232987796)]"
      ]
     },
     "execution_count": 17,
     "metadata": {},
     "output_type": "execute_result"
    }
   ],
   "source": [
    "lsildamodel.show_topic(top_topics[0][0])"
   ]
  },
  {
   "cell_type": "code",
   "execution_count": 39,
   "metadata": {
    "scrolled": false
   },
   "outputs": [
    {
     "data": {
      "text/html": [
       "<h3>Topic 15</h3><p>Coherence score: 0.978</p><p>\"seles\"=8.16e-03 + \"set\"=7.08e-03 + \"gambill\"=5.65e-03 + \"razzano\"=5.03e-03 + \"beat\"=5.03e-03 + \"minutes\"=4.84e-03 + \"year\"=4.34e-03 + \"rank\"=3.98e-03 + \"game\"=3.80e-03 + \"great\"=3.50e-03</p>\n",
       "<h3>Topic 28</h3><p>Coherence score: 0.960</p><p>\"vaughan\"=1.31e-02 + \"antarctic\"=1.22e-02 + \"ice\"=1.21e-02 + \"sea\"=1.02e-02 + \"next\"=9.66e-03 + \"rise\"=9.36e-03 + \"level\"=8.86e-03 + \"impact\"=8.27e-03 + \"per cent\"=8.23e-03 + \"climate\"=7.70e-03</p>\n",
       "<h3>Topic 19</h3><p>Coherence score: 0.916</p><p>\"arafat\"=1.91e-02 + \"palestinian\"=1.71e-02 + \"israel\"=1.50e-02 + \"israeli\"=1.37e-02 + \"hamas\"=8.91e-03 + \"militants\"=8.44e-03 + \"official\"=8.02e-03 + \"kill\"=7.52e-03 + \"arrest\"=5.98e-03 + \"two\"=5.88e-03</p>\n",
       "<h3>Topic 88</h3><p>Coherence score: 0.893</p><p>\"arafat\"=1.93e-02 + \"sharon\"=1.35e-02 + \"israeli\"=7.47e-03 + \"kill\"=7.27e-03 + \"west bank\"=7.08e-03 + \"palestinian\"=6.71e-03 + \"choose\"=5.89e-03 + \"terrorism\"=5.45e-03 + \"strike\"=5.36e-03 + \"international\"=4.61e-03</p>\n",
       "<h3>Topic 56</h3><p>Coherence score: 0.803</p><p>\"airport\"=1.54e-02 + \"bomb\"=1.26e-02 + \"taliban\"=1.18e-02 + \"bin laden\"=8.87e-03 + \"kill\"=8.72e-03 + \"kandahar\"=8.48e-03 + \"force\"=8.37e-03 + \"osama bin\"=8.31e-03 + \"report\"=8.28e-03 + \"near\"=7.77e-03</p>"
      ],
      "text/plain": [
       "<IPython.core.display.HTML object>"
      ]
     },
     "execution_count": 39,
     "metadata": {},
     "output_type": "execute_result"
    }
   ],
   "source": [
    "HTML(\"\\n\".join([\n",
    "    \"<h3>Topic {}</h3><p>Coherence score: {:.3f}</p><p>{}</p>\".format(\n",
    "        topicid, c_v,\n",
    "        \" + \".join('\"{}\"={:.2e}'.format(w.replace('_', \" \"), p)\n",
    "                  for w, p in lsildamodel.show_topic(topicid))\n",
    "    )\n",
    "    for topicid, c_v in top_topics[:5]\n",
    "]))"
   ]
  },
  {
   "cell_type": "code",
   "execution_count": 40,
   "metadata": {},
   "outputs": [
    {
     "data": {
      "text/plain": [
       "0.9514288239834896"
      ]
     },
     "execution_count": 40,
     "metadata": {},
     "output_type": "execute_result"
    }
   ],
   "source": [
    "word_probs = lambda topicid: lsildamodel.show_topic(topicid)\n",
    "lda_lsi_topics = [[word for word, prob in word_probs(t_id)]\n",
    "                  for t_id, c_v in top_topics]\n",
    "\n",
    "CoherenceModel(\n",
    "    topics=lda_lsi_topics[:3], # top n using the results above\n",
    "    texts=texts,\n",
    "    dictionary=dictionary,\n",
    "    window_size=10).get_coherence()"
   ]
  },
  {
   "cell_type": "markdown",
   "metadata": {},
   "source": [
    "## Conclusion\n",
    "\n",
    "With \"LDA as LSI\", we managed to beat our best LSI model, by selecting the four most coherent topics out of 100 - but at quite some \"computational cost\".\n",
    "\n",
    "## HDP (Hierarchical Dirichlet process) clustering\n",
    "\n",
    "Despite being beyond the content of the lecture, **nonparametric** [HDP clustering by Wang et al. (2011)](http://proceedings.mlr.press/v15/wang11a/wang11a.pdf) should be mentioned here for completeness."
   ]
  },
  {
   "cell_type": "code",
   "execution_count": 21,
   "metadata": {},
   "outputs": [
    {
     "name": "stdout",
     "output_type": "stream",
     "text": [
      "N. topics = 20\n"
     ]
    },
    {
     "data": {
      "text/html": [
       "<h3>Topic 0</h3>\n",
       "<p>0.003*arafat + 0.003*company + 0.003*commission + 0.003*report + 0.003*sharon + 0.002*israeli + 0.002*take + 0.002*one + 0.002*launceston + 0.002*virgin + 0.002*australian + 0.002*collapse + 0.002*already + 0.002*hear + 0.002*lee + 0.002*use + 0.002*flight + 0.002*airport + 0.002*place + 0.001*night</p>\n",
       "\n",
       "<h3>Topic 1</h3>\n",
       "<p>0.005*arrest + 0.003*australia + 0.002*match + 0.002*government + 0.002*police + 0.002*play + 0.002*two + 0.002*team + 0.002*ask + 0.002*come + 0.002*crackdown + 0.002*israeli + 0.002*afp + 0.002*source + 0.002*could + 0.002*still + 0.002*hamas + 0.002*islamic_jihad + 0.002*militants + 0.002*lead</p>\n",
       "\n",
       "<h3>Topic 2</h3>\n",
       "<p>0.004*storm + 0.003*australia + 0.003*service + 0.002*economy + 0.002*tree + 0.002*sydney + 0.002*strong + 0.002*work + 0.002*need + 0.002*damage + 0.002*ses + 0.002*worst + 0.002*daub + 0.002*hit + 0.002*around + 0.002*home + 0.001*hornsby + 0.001*bring + 0.001*four + 0.001*follow</p>\n",
       "\n",
       "<h3>Topic 3</h3>\n",
       "<p>0.003*airport + 0.003*taliban + 0.002*kill + 0.002*bomb + 0.002*kandahar + 0.002*opposition + 0.002*agha + 0.002*half + 0.002*people + 0.002*wound + 0.002*gul + 0.002*near + 0.002*civilians + 0.002*suspect + 0.002*lali + 0.001*night + 0.001*republic + 0.001*soil + 0.001*university + 0.001*push</p>\n",
       "\n",
       "<h3>Topic 4</h3>\n",
       "<p>0.003*call + 0.003*sharon + 0.003*palestinian + 0.003*kill + 0.002*government + 0.002*group + 0.002*arafat + 0.002*choose + 0.002*terrorism + 0.002*israeli + 0.002*gaza_strip + 0.002*security + 0.002*attack + 0.002*meet + 0.002*suicide_attacks + 0.001*target + 0.001*strategic + 0.001*unhappy + 0.001*order + 0.001*human_rights</p>\n",
       "\n",
       "<h3>Topic 5</h3>\n",
       "<p>0.002*indonesia + 0.002*howard + 0.002*europe + 0.002*people + 0.002*metres + 0.002*management + 0.002*two + 0.002*summit + 0.002*preview + 0.001*hiv + 0.001*world + 0.001*president + 0.001*second + 0.001*megawati + 0.001*meet + 0.001*navy + 0.001*event + 0.001*australia + 0.001*latest + 0.001*somali</p>\n",
       "\n",
       "<h3>Topic 6</h3>\n",
       "<p>0.005*company + 0.002*staff + 0.002*austar + 0.002*entitlements + 0.002*creditors + 0.002*job + 0.002*receive + 0.002*store + 0.001*network + 0.001*million + 0.001*administrators + 0.001*pass + 0.001*policy + 0.001*make + 0.001*candlelight + 0.001*albarran + 0.001*save + 0.001*review + 0.001*wrongly + 0.001*morning</p>\n",
       "\n",
       "<h3>Topic 7</h3>\n",
       "<p>0.002*israeli + 0.002*rafter + 0.002*attack + 0.002*hamas + 0.002*upstream + 0.002*guarantee + 0.002*france + 0.002*palestinian_authority + 0.002*want + 0.002*tennis + 0.001*kill + 0.001*take + 0.001*bomber + 0.001*nice + 0.001*continue + 0.001*sales + 0.001*rubber + 0.001*double + 0.001*woodbridge + 0.001*world</p>\n",
       "\n",
       "<h3>Topic 8</h3>\n",
       "<p>0.003*team + 0.003*know + 0.002*rafter + 0.002*australia + 0.002*win + 0.002*make + 0.002*double + 0.002*upsurge + 0.002*good + 0.002*expect + 0.001*match + 0.001*french + 0.001*qadim + 0.001*tennis + 0.001*captain + 0.001*earthquake + 0.001*even + 0.001*defeat + 0.001*level + 0.001*choices</p>\n",
       "\n",
       "<h3>Topic 9</h3>\n",
       "<p>0.002*page + 0.002*government + 0.002*dominance + 0.001*qantas + 0.001*cherry + 0.001*bid + 0.001*kinder + 0.001*demand + 0.001*federal_government + 0.001*lew + 0.001*ray + 0.001*help + 0.001*react + 0.001*time + 0.001*better + 0.001*would + 0.001*entry + 0.001*practice + 0.001*firefighters + 0.001*month</p>\n",
       "\n",
       "<h3>Topic 10</h3>\n",
       "<p>0.003*southern + 0.003*afghanistan + 0.002*powell + 0.002*taliban + 0.002*fix + 0.002*sunshine + 0.001*terminal + 0.001*force + 0.001*boast + 0.001*behalf + 0.001*rectify + 0.001*matter + 0.001*smaller + 0.001*secretary + 0.001*kandahar + 0.001*maintain + 0.001*infantry + 0.001*stride + 0.001*officer + 0.001*local</p>\n",
       "\n",
       "<h3>Topic 11</h3>\n",
       "<p>0.003*harrison + 0.002*george + 0.002*die + 0.002*music + 0.002*tonight + 0.002*timothy + 0.002*liverpool + 0.002*talented + 0.002*memory + 0.002*beatle + 0.001*last_week + 0.001*lose + 0.001*gather + 0.001*shape + 0.001*hak + 0.001*sharper + 0.001*see + 0.001*come + 0.001*pay + 0.001*ravenshoe</p>\n",
       "\n",
       "<h3>Topic 12</h3>\n",
       "<p>0.003*krishna + 0.003*ash + 0.003*hare + 0.003*benares + 0.002*harrison + 0.002*gang + 0.002*take + 0.002*ceremony + 0.002*devote + 0.002*holy + 0.002*river + 0.001*morning + 0.001*enemy + 0.001*members + 0.001*officials + 0.001*scatter + 0.001*ultimatum + 0.001*former + 0.001*hindu + 0.001*fatality</p>\n",
       "\n",
       "<h3>Topic 13</h3>\n",
       "<p>0.002*senator_hill + 0.002*day + 0.001*indicate + 0.001*sideline + 0.001*match + 0.001*australia + 0.001*eight + 0.001*face + 0.001*new_zealand + 0.001*jeopardise + 0.001*misconduct + 0.001*cheney + 0.001*pursue + 0.001*eve + 0.001*game + 0.001*towards + 0.001*agreements + 0.001*springwood + 0.001*bounce + 0.001*microbiologist</p>\n",
       "\n",
       "<h3>Topic 14</h3>\n",
       "<p>0.002*storm + 0.002*hit + 0.002*split + 0.002*north + 0.002*tree + 0.002*damage + 0.002*sydney + 0.001*wales + 0.001*arrest + 0.001*shell + 0.001*strike + 0.001*south_africa + 0.001*start + 0.001*areas + 0.001*bright + 0.001*walker + 0.001*new_south + 0.001*come + 0.001*disaster + 0.001*arnaud</p>\n",
       "\n",
       "<h3>Topic 15</h3>\n",
       "<p>0.002*canyoning + 0.002*interlaken + 0.002*guide + 0.002*one + 0.002*three + 0.002*court + 0.002*proceed + 0.001*people_including + 0.001*eight + 0.001*successful + 0.001*tomorrow + 0.001*blowout + 0.001*inexperienced + 0.001*petithory + 0.001*people + 0.001*year_jail + 0.001*appear + 0.001*allow + 0.001*deaths + 0.001*dozen</p>\n",
       "\n",
       "<h3>Topic 16</h3>\n",
       "<p>0.002*head + 0.002*australian + 0.002*state + 0.001*adhere + 0.001*years + 0.001*take + 0.001*complaint + 0.001*year + 0.001*relevance + 0.001*xvi + 0.001*phillips + 0.001*forward + 0.001*go + 0.001*signature + 0.001*one + 0.001*shame + 0.001*five + 0.001*proposal + 0.001*among + 0.001*peel</p>\n",
       "\n",
       "<h3>Topic 17</h3>\n",
       "<p>0.003*brain + 0.002*human + 0.002*cells + 0.002*graham + 0.002*team + 0.002*research + 0.001*australian + 0.001*israeli + 0.001*president_bush + 0.001*please + 0.001*dictate + 0.001*embryos + 0.001*days + 0.001*use + 0.001*gerry + 0.001*khil + 0.001*clone + 0.001*hurstville + 0.001*embryo + 0.001*computer</p>\n",
       "\n",
       "<h3>Topic 18</h3>\n",
       "<p>0.002*airline + 0.002*terminal + 0.002*ansett + 0.001*morning + 0.001*could + 0.001*first + 0.001*lunchtime + 0.001*decade + 0.001*mean + 0.001*object + 0.001*corporate + 0.001*daily + 0.001*course + 0.001*tell + 0.001*langer + 0.001*infection + 0.001*children + 0.001*embryos + 0.001*time + 0.001*check</p>\n",
       "\n",
       "<h3>Topic 19</h3>\n",
       "<p>0.002*compound + 0.002*consign + 0.001*meat + 0.001*problems + 0.001*scepticism + 0.001*dispatcher + 0.001*hass + 0.001*capital + 0.001*group + 0.001*payout + 0.001*disease + 0.001*obliterate + 0.001*distribution + 0.001*portrayal + 0.001*retirement + 0.001*stuff + 0.001*haunt + 0.001*settle + 0.001*peacekeeping + 0.001*mission</p>\n"
      ],
      "text/plain": [
       "<IPython.core.display.HTML object>"
      ]
     },
     "execution_count": 21,
     "metadata": {},
     "output_type": "execute_result"
    }
   ],
   "source": [
    "from gensim.models import HdpModel\n",
    "\n",
    "hdpmodel = HdpModel(\n",
    "    corpus=corpus,\n",
    "    id2word=dictionary)\n",
    "\n",
    "topic_words = []\n",
    "\n",
    "for topic in hdpmodel.show_topics():\n",
    "    topic_words.append(\n",
    "        \"<h3>Topic {}</h3>\\n<p>{}</p>\\n\".format(*topic)\n",
    "    )\n",
    "    \n",
    "hdptopics = hdpmodel.show_topics(formatted=False)\n",
    "topics = [[word for word, prob in topic]\n",
    "          for topicid, topic in hdptopics]\n",
    "\n",
    "print(\"N. topics =\", len(topics))\n",
    "CoherenceModel(\n",
    "    topics=topics,\n",
    "    texts=texts,\n",
    "    dictionary=dictionary,\n",
    "    window_size=10).get_coherence()\n",
    "\n",
    "HTML(\"\\n\".join(topic_words))"
   ]
  },
  {
   "cell_type": "markdown",
   "metadata": {},
   "source": [
    "HDP clustering was much faster that LDA, required no estimation of the number of topics, and has acceptable results in terms of coherence. At the very least a solid baseline to drive your LDA-based clustering work against!"
   ]
  }
 ],
 "metadata": {
  "kernelspec": {
   "display_name": "Python 3",
   "language": "python",
   "name": "python3"
  },
  "language_info": {
   "codemirror_mode": {
    "name": "ipython",
    "version": 3
   },
   "file_extension": ".py",
   "mimetype": "text/x-python",
   "name": "python",
   "nbconvert_exporter": "python",
   "pygments_lexer": "ipython3",
   "version": "3.6.1"
  }
 },
 "nbformat": 4,
 "nbformat_minor": 2
}
