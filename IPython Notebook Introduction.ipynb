{
 "metadata": {
  "name": "",
  "signature": "sha256:cd48cee4fc5ee422ce7eb1b6c48a72b32a538fd16cabaf13b1745ca6c439af06"
 },
 "nbformat": 3,
 "nbformat_minor": 0,
 "worksheets": [
  {
   "cells": [
    {
     "cell_type": "markdown",
     "metadata": {},
     "source": [
      "#IPython Notebook Introduction\n",
      "\n",
      "**ASDM** C09: Text Mining, Class 1\n",
      "\n",
      "Florian Leitner\n",
      "\n",
      "## Quick summary of IPython Notebooks"
     ]
    },
    {
     "cell_type": "code",
     "collapsed": false,
     "input": [
      "# activating NumPy and MatPlotLib\n",
      "%pylab inline"
     ],
     "language": "python",
     "metadata": {},
     "outputs": [
      {
       "output_type": "stream",
       "stream": "stdout",
       "text": [
        "Populating the interactive namespace from numpy and matplotlib\n"
       ]
      }
     ],
     "prompt_number": 1
    },
    {
     "cell_type": "code",
     "collapsed": false,
     "input": [
      "plot(arange(10))"
     ],
     "language": "python",
     "metadata": {},
     "outputs": [
      {
       "metadata": {},
       "output_type": "pyout",
       "prompt_number": 2,
       "text": [
        "[<matplotlib.lines.Line2D at 0x1102136d0>]"
       ]
      },
      {
       "metadata": {},
       "output_type": "display_data",
       "png": "[encoded data removed]",
       "text": [
        "<matplotlib.figure.Figure at 0x1101e2610>"
       ]
      }
     ],
     "prompt_number": 2
    },
    {
     "cell_type": "code",
     "collapsed": false,
     "input": [
      "plt.plot(np.arange(10))"
     ],
     "language": "python",
     "metadata": {},
     "outputs": [
      {
       "metadata": {},
       "output_type": "pyout",
       "prompt_number": 3,
       "text": [
        "[<matplotlib.lines.Line2D at 0x110258dd0>]"
       ]
      },
      {
       "metadata": {},
       "output_type": "display_data",
       "png": "[encoded data removed]",
       "text": [
        "<matplotlib.figure.Figure at 0x1101e2dd0>"
       ]
      }
     ],
     "prompt_number": 3
    },
    {
     "cell_type": "markdown",
     "metadata": {},
     "source": [
      "## Tab completion\n",
      "\n",
      "The killer feature for:\n",
      "\n",
      "* variable expansion\n",
      "* import path expansion\n",
      "* expand \"anything\"..."
     ]
    },
    {
     "cell_type": "code",
     "collapsed": false,
     "input": [
      "import nltk.corpus.europarl_raw\n",
      "print \"hello\""
     ],
     "language": "python",
     "metadata": {},
     "outputs": [
      {
       "output_type": "stream",
       "stream": "stdout",
       "text": [
        "hello\n"
       ]
      }
     ],
     "prompt_number": 4
    },
    {
     "cell_type": "markdown",
     "metadata": {},
     "source": [
      "## Getting help"
     ]
    },
    {
     "cell_type": "code",
     "collapsed": false,
     "input": [
      "?"
     ],
     "language": "python",
     "metadata": {},
     "outputs": [],
     "prompt_number": 9
    },
    {
     "cell_type": "code",
     "collapsed": false,
     "input": [
      "plot?"
     ],
     "language": "python",
     "metadata": {},
     "outputs": [],
     "prompt_number": 13
    },
    {
     "cell_type": "code",
     "collapsed": true,
     "input": [
      "help(plot)"
     ],
     "language": "python",
     "metadata": {},
     "outputs": [
      {
       "output_type": "stream",
       "stream": "stdout",
       "text": [
        "Help on function plot in module matplotlib.pyplot:\n",
        "\n",
        "plot(*args, **kwargs)\n",
        "    Plot lines and/or markers to the\n",
        "    :class:`~matplotlib.axes.Axes`.  *args* is a variable length\n",
        "    argument, allowing for multiple *x*, *y* pairs with an\n",
        "    optional format string.  For example, each of the following is\n",
        "    legal::\n",
        "    \n",
        "        plot(x, y)         # plot x and y using default line style and color\n",
        "        plot(x, y, 'bo')   # plot x and y using blue circle markers\n",
        "        plot(y)            # plot y using x as index array 0..N-1\n",
        "        plot(y, 'r+')      # ditto, but with red plusses\n",
        "    \n",
        "    If *x* and/or *y* is 2-dimensional, then the corresponding columns\n",
        "    will be plotted.\n",
        "    \n",
        "    An arbitrary number of *x*, *y*, *fmt* groups can be\n",
        "    specified, as in::\n",
        "    \n",
        "        a.plot(x1, y1, 'g^', x2, y2, 'g-')\n",
        "    \n",
        "    Return value is a list of lines that were added.\n",
        "    \n",
        "    The following format string characters are accepted to control\n",
        "    the line style or marker:\n",
        "    \n",
        "    ================    ===============================\n",
        "    character           description\n",
        "    ================    ===============================\n",
        "    ``'-'``             solid line style\n",
        "    ``'--'``            dashed line style\n",
        "    ``'-.'``            dash-dot line style\n",
        "    ``':'``             dotted line style\n",
        "    ``'.'``             point marker\n",
        "    ``','``             pixel marker\n",
        "    ``'o'``             circle marker\n",
        "    ``'v'``             triangle_down marker\n",
        "    ``'^'``             triangle_up marker\n",
        "    ``'<'``             triangle_left marker\n",
        "    ``'>'``             triangle_right marker\n",
        "    ``'1'``             tri_down marker\n",
        "    ``'2'``             tri_up marker\n",
        "    ``'3'``             tri_left marker\n",
        "    ``'4'``             tri_right marker\n",
        "    ``'s'``             square marker\n",
        "    ``'p'``             pentagon marker\n",
        "    ``'*'``             star marker\n",
        "    ``'h'``             hexagon1 marker\n",
        "    ``'H'``             hexagon2 marker\n",
        "    ``'+'``             plus marker\n",
        "    ``'x'``             x marker\n",
        "    ``'D'``             diamond marker\n",
        "    ``'d'``             thin_diamond marker\n",
        "    ``'|'``             vline marker\n",
        "    ``'_'``             hline marker\n",
        "    ================    ===============================\n",
        "    \n",
        "    \n",
        "    The following color abbreviations are supported:\n",
        "    \n",
        "    ==========  ========\n",
        "    character   color\n",
        "    ==========  ========\n",
        "    'b'         blue\n",
        "    'g'         green\n",
        "    'r'         red\n",
        "    'c'         cyan\n",
        "    'm'         magenta\n",
        "    'y'         yellow\n",
        "    'k'         black\n",
        "    'w'         white\n",
        "    ==========  ========\n",
        "    \n",
        "    In addition, you can specify colors in many weird and\n",
        "    wonderful ways, including full names (``'green'``), hex\n",
        "    strings (``'#008000'``), RGB or RGBA tuples (``(0,1,0,1)``) or\n",
        "    grayscale intensities as a string (``'0.8'``).  Of these, the\n",
        "    string specifications can be used in place of a ``fmt`` group,\n",
        "    but the tuple forms can be used only as ``kwargs``.\n",
        "    \n",
        "    Line styles and colors are combined in a single format string, as in\n",
        "    ``'bo'`` for blue circles.\n",
        "    \n",
        "    The *kwargs* can be used to set line properties (any property that has\n",
        "    a ``set_*`` method).  You can use this to set a line label (for auto\n",
        "    legends), linewidth, anitialising, marker face color, etc.  Here is an\n",
        "    example::\n",
        "    \n",
        "        plot([1,2,3], [1,2,3], 'go-', label='line 1', linewidth=2)\n",
        "        plot([1,2,3], [1,4,9], 'rs',  label='line 2')\n",
        "        axis([0, 4, 0, 10])\n",
        "        legend()\n",
        "    \n",
        "    If you make multiple lines with one plot command, the kwargs\n",
        "    apply to all those lines, e.g.::\n",
        "    \n",
        "        plot(x1, y1, x2, y2, antialised=False)\n",
        "    \n",
        "    Neither line will be antialiased.\n",
        "    \n",
        "    You do not need to use format strings, which are just\n",
        "    abbreviations.  All of the line properties can be controlled\n",
        "    by keyword arguments.  For example, you can set the color,\n",
        "    marker, linestyle, and markercolor with::\n",
        "    \n",
        "        plot(x, y, color='green', linestyle='dashed', marker='o',\n",
        "             markerfacecolor='blue', markersize=12).  See\n",
        "             :class:`~matplotlib.lines.Line2D` for details.\n",
        "    \n",
        "    The kwargs are :class:`~matplotlib.lines.Line2D` properties:\n",
        "    \n",
        "      agg_filter: unknown\n",
        "      alpha: float (0.0 transparent through 1.0 opaque)         \n",
        "      animated: [True | False]         \n",
        "      antialiased or aa: [True | False]         \n",
        "      axes: an :class:`~matplotlib.axes.Axes` instance         \n",
        "      clip_box: a :class:`matplotlib.transforms.Bbox` instance         \n",
        "      clip_on: [True | False]         \n",
        "      clip_path: [ (:class:`~matplotlib.path.Path`,         :class:`~matplotlib.transforms.Transform`) |         :class:`~matplotlib.patches.Patch` | None ]         \n",
        "      color or c: any matplotlib color         \n",
        "      contains: a callable function         \n",
        "      dash_capstyle: ['butt' | 'round' | 'projecting']         \n",
        "      dash_joinstyle: ['miter' | 'round' | 'bevel']         \n",
        "      dashes: sequence of on/off ink in points         \n",
        "      data: 2D array (rows are x, y) or two 1D arrays         \n",
        "      drawstyle: [ 'default' | 'steps' | 'steps-pre' | 'steps-mid' | 'steps-post' ]         \n",
        "      figure: a :class:`matplotlib.figure.Figure` instance         \n",
        "      fillstyle: ['full' | 'left' | 'right' | 'bottom' | 'top']         \n",
        "      gid: an id string         \n",
        "      label: any string         \n",
        "      linestyle or ls: [ ``'-'`` | ``'--'`` | ``'-.'`` | ``':'`` | ``'None'`` | ``' '`` | ``''`` ]         and any drawstyle in combination with a linestyle, e.g. ``'steps--'``.         \n",
        "      linewidth or lw: float value in points         \n",
        "      lod: [True | False]         \n",
        "      marker: [ ``7`` | ``4`` | ``5`` | ``6`` | ``'o'`` | ``'D'`` | ``'h'`` | ``'H'`` | ``'_'`` | ``''`` | ``'None'`` | ``None`` | ``' '`` | ``'8'`` | ``'p'`` | ``','`` | ``'+'`` | ``'.'`` | ``'s'`` | ``'*'`` | ``'d'`` | ``3`` | ``0`` | ``1`` | ``2`` | ``'1'`` | ``'3'`` | ``'4'`` | ``'2'`` | ``'v'`` | ``'<'`` | ``'>'`` | ``'^'`` | ``'|'`` | ``'x'`` | ``'$...$'`` | *tuple* | *Nx2 array* ]\n",
        "      markeredgecolor or mec: any matplotlib color         \n",
        "      markeredgewidth or mew: float value in points         \n",
        "      markerfacecolor or mfc: any matplotlib color         \n",
        "      markerfacecoloralt or mfcalt: any matplotlib color         \n",
        "      markersize or ms: float         \n",
        "      markevery: None | integer | (startind, stride)\n",
        "      picker: float distance in points or callable pick function         ``fn(artist, event)``         \n",
        "      pickradius: float distance in points         \n",
        "      rasterized: [True | False | None]         \n",
        "      snap: unknown\n",
        "      solid_capstyle: ['butt' | 'round' |  'projecting']         \n",
        "      solid_joinstyle: ['miter' | 'round' | 'bevel']         \n",
        "      transform: a :class:`matplotlib.transforms.Transform` instance         \n",
        "      url: a url string         \n",
        "      visible: [True | False]         \n",
        "      xdata: 1D array         \n",
        "      ydata: 1D array         \n",
        "      zorder: any number         \n",
        "    \n",
        "    kwargs *scalex* and *scaley*, if defined, are passed on to\n",
        "    :meth:`~matplotlib.axes.Axes.autoscale_view` to determine\n",
        "    whether the *x* and *y* axes are autoscaled; the default is\n",
        "    *True*.\n",
        "    \n",
        "    Additional kwargs: hold = [True|False] overrides default hold state\n",
        "\n"
       ]
      }
     ],
     "prompt_number": 11
    },
    {
     "cell_type": "code",
     "collapsed": false,
     "input": [
      "plot??"
     ],
     "language": "python",
     "metadata": {},
     "outputs": [],
     "prompt_number": 12
    },
    {
     "cell_type": "markdown",
     "metadata": {},
     "source": [
      "### POSIX conventions for navigating the help documents\n",
      "\n",
      "Useful when running IPython in a terminal:\n",
      "\n",
      "`ipython --pylab`\n",
      "\n",
      "* move up and down with `SPACE` and `SHIFT-SPACE`\n",
      "* or, move around with \"u\" (up) and \"d\" (down)\n",
      "* go to top/bottom of document: \"g\"/\"G\"\n",
      "* exit help with \"q\"\n",
      "* search [downward] for some term with `/term` (SLASH-term)\n",
      "* search upward for term with `?term` (QM-term)\n"
     ]
    },
    {
     "cell_type": "markdown",
     "metadata": {},
     "source": [
      "## Using markdown: an example"
     ]
    },
    {
     "cell_type": "markdown",
     "metadata": {},
     "source": [
      "# Title\n",
      "\n",
      "## The Subtitle\n",
      "\n",
      "Markdown for `code`, *emphasized*, and **bold face** plus [links](http://www.google.com).\n",
      "\n",
      "1. first\n",
      "1. second\n",
      "1. third\n",
      "  * nested\n",
      "  * again\n",
      "\n",
      "```python\n",
      "from sys import path\n",
      "print path\n",
      "```\n",
      "## LaTeX math: the Cauchy-Schwarz inequality\n",
      "\n",
      "\\begin{equation*} \\left( \\sum_{k=1}^n a_k b_k \\right)^2 \\leq \\left( \\sum_{k=1}^n a_k^2 \\right) \\left( \\sum_{k=1}^n b_k^2 \\right) \\end{equation*}"
     ]
    },
    {
     "cell_type": "markdown",
     "metadata": {},
     "source": [
      "## Magic functions"
     ]
    },
    {
     "cell_type": "markdown",
     "metadata": {},
     "source": [
      "### Overview, reference, and resetting the workspace"
     ]
    },
    {
     "cell_type": "code",
     "collapsed": false,
     "input": [
      "%magic"
     ],
     "language": "python",
     "metadata": {},
     "outputs": [],
     "prompt_number": 14
    },
    {
     "cell_type": "code",
     "collapsed": false,
     "input": [
      "%quickref"
     ],
     "language": "python",
     "metadata": {},
     "outputs": [],
     "prompt_number": 15
    },
    {
     "cell_type": "code",
     "collapsed": false,
     "input": [
      "%reset -s"
     ],
     "language": "python",
     "metadata": {},
     "outputs": []
    },
    {
     "cell_type": "markdown",
     "metadata": {},
     "source": [
      "`%reset` option `-s` (\"soft reset\") leaves the history intact"
     ]
    },
    {
     "cell_type": "markdown",
     "metadata": {},
     "source": [
      "### Exploring the currently defined variables"
     ]
    },
    {
     "cell_type": "code",
     "collapsed": false,
     "input": [
      "%who"
     ],
     "language": "python",
     "metadata": {},
     "outputs": [
      {
       "output_type": "stream",
       "stream": "stdout",
       "text": [
        "nltk\t \n"
       ]
      }
     ],
     "prompt_number": 16
    },
    {
     "cell_type": "code",
     "collapsed": false,
     "input": [
      "%whos"
     ],
     "language": "python",
     "metadata": {},
     "outputs": [
      {
       "output_type": "stream",
       "stream": "stdout",
       "text": [
        "Variable   Type      Data/Info\n",
        "------------------------------\n",
        "nltk       module    <module 'nltk' from '/Lib<...>kages/nltk/__init__.pyc'>\n"
       ]
      }
     ],
     "prompt_number": 17
    },
    {
     "cell_type": "code",
     "collapsed": false,
     "input": [
      "x = 1\n",
      "z = 2\n",
      "string = \"name\"\n",
      "def fun(): pass"
     ],
     "language": "python",
     "metadata": {},
     "outputs": [],
     "prompt_number": 18
    },
    {
     "cell_type": "code",
     "collapsed": false,
     "input": [
      "%who"
     ],
     "language": "python",
     "metadata": {},
     "outputs": [
      {
       "output_type": "stream",
       "stream": "stdout",
       "text": [
        "fun\t nltk\t string\t x\t z\t \n"
       ]
      }
     ],
     "prompt_number": 19
    },
    {
     "cell_type": "code",
     "collapsed": false,
     "input": [
      "%who int"
     ],
     "language": "python",
     "metadata": {},
     "outputs": [
      {
       "output_type": "stream",
       "stream": "stdout",
       "text": [
        "x\t z\t \n"
       ]
      }
     ],
     "prompt_number": 20
    },
    {
     "cell_type": "code",
     "collapsed": false,
     "input": [
      "%who function"
     ],
     "language": "python",
     "metadata": {},
     "outputs": [
      {
       "output_type": "stream",
       "stream": "stdout",
       "text": [
        "fun\t \n"
       ]
      }
     ],
     "prompt_number": 21
    },
    {
     "cell_type": "code",
     "collapsed": false,
     "input": [
      "%whos"
     ],
     "language": "python",
     "metadata": {},
     "outputs": [
      {
       "output_type": "stream",
       "stream": "stdout",
       "text": [
        "Variable   Type        Data/Info\n",
        "--------------------------------\n",
        "fun        function    <function fun at 0x1062a4f50>\n",
        "nltk       module      <module 'nltk' from '/Lib<...>kages/nltk/__init__.pyc'>\n",
        "string     str         name\n",
        "x          int         1\n",
        "z          int         2\n"
       ]
      }
     ],
     "prompt_number": 22
    },
    {
     "cell_type": "code",
     "collapsed": false,
     "input": [
      "%xdel fun"
     ],
     "language": "python",
     "metadata": {},
     "outputs": [],
     "prompt_number": 23
    },
    {
     "cell_type": "code",
     "collapsed": false,
     "input": [
      "%who"
     ],
     "language": "python",
     "metadata": {},
     "outputs": [
      {
       "output_type": "stream",
       "stream": "stdout",
       "text": [
        "nltk\t string\t x\t z\t \n"
       ]
      }
     ],
     "prompt_number": 25
    },
    {
     "cell_type": "markdown",
     "metadata": {},
     "source": [
      "### Setting the shown precision of floating point values"
     ]
    },
    {
     "cell_type": "code",
     "collapsed": false,
     "input": [
      "1/3."
     ],
     "language": "python",
     "metadata": {},
     "outputs": [
      {
       "metadata": {},
       "output_type": "pyout",
       "prompt_number": 33,
       "text": [
        "0.3333333333333333"
       ]
      }
     ],
     "prompt_number": 33
    },
    {
     "cell_type": "code",
     "collapsed": false,
     "input": [
      "%precision 3"
     ],
     "language": "python",
     "metadata": {},
     "outputs": [
      {
       "metadata": {},
       "output_type": "pyout",
       "prompt_number": 34,
       "text": [
        "u'%.3f'"
       ]
      }
     ],
     "prompt_number": 34
    },
    {
     "cell_type": "code",
     "collapsed": false,
     "input": [
      "1/3.0"
     ],
     "language": "python",
     "metadata": {},
     "outputs": [
      {
       "metadata": {},
       "output_type": "pyout",
       "prompt_number": 35,
       "text": [
        "0.333"
       ]
      }
     ],
     "prompt_number": 35
    },
    {
     "cell_type": "markdown",
     "metadata": {},
     "source": [
      "## Loading code from files (modules)"
     ]
    },
    {
     "cell_type": "code",
     "collapsed": true,
     "input": [
      "# %load snafu.py"
     ],
     "language": "python",
     "metadata": {},
     "outputs": []
    },
    {
     "cell_type": "code",
     "collapsed": false,
     "input": [
      "# %run snafu.py"
     ],
     "language": "python",
     "metadata": {},
     "outputs": []
    },
    {
     "cell_type": "markdown",
     "metadata": {},
     "source": [
      "## Timing and performance profiling"
     ]
    },
    {
     "cell_type": "code",
     "collapsed": false,
     "input": [
      "%timeit 2**3"
     ],
     "language": "python",
     "metadata": {},
     "outputs": [
      {
       "output_type": "stream",
       "stream": "stdout",
       "text": [
        "10000000 loops, best of 3: 26.8 ns per loop\n"
       ]
      }
     ],
     "prompt_number": 39
    },
    {
     "cell_type": "markdown",
     "metadata": {},
     "source": [
      "### Multline (\"cell\") magic (see `%magic` for more)"
     ]
    },
    {
     "cell_type": "code",
     "collapsed": false,
     "input": [
      "%%timeit val = 1\n",
      "10**val\n",
      "val += 1"
     ],
     "language": "python",
     "metadata": {},
     "outputs": [
      {
       "output_type": "stream",
       "stream": "stdout",
       "text": [
        "10000 loops, best of 3: 83 \u00b5s per loop\n"
       ]
      }
     ],
     "prompt_number": 40
    },
    {
     "cell_type": "markdown",
     "metadata": {},
     "source": [
      "Note how `%timeit` figured out how many loops to run!"
     ]
    },
    {
     "cell_type": "markdown",
     "metadata": {},
     "source": [
      "## Working with the History"
     ]
    },
    {
     "cell_type": "code",
     "collapsed": true,
     "input": [
      "%history"
     ],
     "language": "python",
     "metadata": {},
     "outputs": [
      {
       "output_type": "stream",
       "stream": "stdout",
       "text": [
        "# activating NumPy and MatPlotLib\n",
        "%pylab inline\n",
        "# activating NumPy and MatPlotLib\n",
        "%pylab inline\n",
        "plot(arange(10))\n",
        "plt.plot(np.arange(10))\n",
        "import sys.path\n",
        "sys.path\n",
        "import nltk.corpus.europarl_raw\n",
        "import nltk.corpus.europarl_raw\n",
        "print \"hello\"\n",
        "?\n",
        "?\n",
        "plot?\n",
        "help(plot)\n",
        "plot??\n",
        "plot?\n",
        "%magic\n",
        "%quickref\n",
        "%who\n",
        "%whos\n",
        "x = 1\n",
        "z = 2\n",
        "string = \"name\"\n",
        "def fun(): pass\n",
        "%who\n",
        "%who int\n",
        "%who function\n",
        "%whos\n",
        "%xdel fun\n",
        "del fun\n",
        "%who\n",
        "1/3.0\n",
        "1/3\n",
        "1/3.0\n",
        "x, z\n",
        "x/z\n",
        "x/z*1.\n",
        "1.*x/z\n",
        "1/3.\n",
        "%precision 3\n",
        "1/3.0\n",
        "timeit 2**3\n",
        "%timeit 2**3\n",
        "timeit 2**3\n",
        "%timeit 2**3\n",
        "%%timeit val = 1\n",
        "10**val\n",
        "val += 1\n",
        "%history\n"
       ]
      }
     ],
     "prompt_number": 41
    },
    {
     "cell_type": "code",
     "collapsed": false,
     "input": [
      "%hist -n"
     ],
     "language": "python",
     "metadata": {},
     "outputs": [
      {
       "output_type": "stream",
       "stream": "stdout",
       "text": [
        "   1:\n",
        "# activating NumPy and MatPlotLib\n",
        "%pylab inline\n",
        "   2:\n",
        "# activating NumPy and MatPlotLib\n",
        "%pylab inline\n",
        "   3: plot(arange(10))\n",
        "   4: plt.plot(np.arange(10))\n",
        "   5:\n",
        "import sys.path\n",
        "sys.path\n",
        "   6: import nltk.corpus.europarl_raw\n",
        "   7:\n",
        "import nltk.corpus.europarl_raw\n",
        "print \"hello\"\n",
        "   8: ?\n",
        "   9: ?\n",
        "  10: plot?\n",
        "  11: help(plot)\n",
        "  12: plot??\n",
        "  13: plot?\n",
        "  14: %magic\n",
        "  15: %quickref\n",
        "  16: %who\n",
        "  17: %whos\n",
        "  18:\n",
        "x = 1\n",
        "z = 2\n",
        "string = \"name\"\n",
        "def fun(): pass\n",
        "  19: %who\n",
        "  20: %who int\n",
        "  21: %who function\n",
        "  22: %whos\n",
        "  23: %xdel fun\n",
        "  24: del fun\n",
        "  25: %who\n",
        "  26: 1/3.0\n",
        "  27: 1/3\n",
        "  28: 1/3.0\n",
        "  29: x, z\n",
        "  30: x/z\n",
        "  31: x/z*1.\n",
        "  32: 1.*x/z\n",
        "  33: 1/3.\n",
        "  34: %precision 3\n",
        "  35: 1/3.0\n",
        "  36: timeit 2**3\n",
        "  37: %timeit 2**3\n",
        "  38: timeit 2**3\n",
        "  39: %timeit 2**3\n",
        "  40:\n",
        "%%timeit val = 1\n",
        "10**val\n",
        "val += 1\n",
        "  41: %history\n",
        "  42: %hist -n\n"
       ]
      }
     ],
     "prompt_number": 42
    },
    {
     "cell_type": "code",
     "collapsed": false,
     "input": [
      "%hist 36"
     ],
     "language": "python",
     "metadata": {},
     "outputs": [
      {
       "output_type": "stream",
       "stream": "stdout",
       "text": [
        "timeit 2**3\n"
       ]
      }
     ],
     "prompt_number": 43
    },
    {
     "cell_type": "code",
     "collapsed": false,
     "input": [
      "%rerun 36"
     ],
     "language": "python",
     "metadata": {},
     "outputs": [
      {
       "output_type": "stream",
       "stream": "stdout",
       "text": [
        "=== Executing: ===\n",
        "timeit 2**3\n",
        "=== Output: ===\n",
        "10000000 loops, best of 3: 27.5 ns per loop"
       ]
      },
      {
       "output_type": "stream",
       "stream": "stdout",
       "text": [
        "\n"
       ]
      }
     ],
     "prompt_number": 44
    },
    {
     "cell_type": "code",
     "collapsed": false,
     "input": [
      "%rerun 26-28 18"
     ],
     "language": "python",
     "metadata": {},
     "outputs": [
      {
       "output_type": "stream",
       "stream": "stdout",
       "text": [
        "=== Executing: ===\n",
        "1/3.0\n",
        "1/3\n",
        "1/3.0\n",
        "x = 1\n",
        "z = 2\n",
        "string = \"name\"\n",
        "def fun(): pass\n",
        "=== Output: ===\n"
       ]
      }
     ],
     "prompt_number": 49
    },
    {
     "cell_type": "markdown",
     "metadata": {},
     "source": [
      "## Macros"
     ]
    },
    {
     "cell_type": "code",
     "collapsed": false,
     "input": [
      "%macro quick 36"
     ],
     "language": "python",
     "metadata": {},
     "outputs": [
      {
       "output_type": "stream",
       "stream": "stdout",
       "text": [
        "Macro `quick` created. To execute, type its name (without quotes).\n",
        "=== Macro contents: ===\n",
        "get_ipython().magic(u'timeit 2**3')\n",
        " "
       ]
      }
     ],
     "prompt_number": 50
    },
    {
     "cell_type": "code",
     "collapsed": false,
     "input": [
      "quick"
     ],
     "language": "python",
     "metadata": {},
     "outputs": [
      {
       "output_type": "stream",
       "stream": "stdout",
       "text": [
        "10000000 loops, best of 3: 29 ns per loop\n"
       ]
      }
     ],
     "prompt_number": 51
    },
    {
     "cell_type": "code",
     "collapsed": false,
     "input": [
      "print quick"
     ],
     "language": "python",
     "metadata": {},
     "outputs": [
      {
       "output_type": "stream",
       "stream": "stdout",
       "text": [
        "get_ipython().magic(u'timeit 2**3')\n",
        "\n"
       ]
      }
     ],
     "prompt_number": 52
    },
    {
     "cell_type": "markdown",
     "metadata": {},
     "source": [
      "## Special commands in a terminal\n",
      "\n",
      "Not for running in the Notebook!\n",
      "\n",
      "```\n",
      "# Editing a file (see docs for special powers!)\n",
      "%edit snafu.py\n",
      "\n",
      "# Saving history to a file:\n",
      "%save snafu.py 3-5\n",
      "# Or, saving a macro:\n",
      "%save quick\n",
      "# And, loading it:\n",
      "%load quick\n",
      "\n",
      "# Paste the clipboard into the commandline (very special powers!)\n",
      "%paste\n",
      "\n",
      "# UNIX commands:\n",
      "%cat\n",
      "%mv\n",
      "%rm\n",
      "%cd\n",
      "%pwd\n",
      "%mkdir\n",
      "...\n",
      "\n",
      "# Place last command into current command line\n",
      "%recall\n",
      "# Place History item 3 into command line\n",
      "%recall 3\n",
      "\n",
      "# Run something in the shell with !\n",
      "!echo word | tr o a | grep a\n",
      "\n",
      "# Experts: debugging code\n",
      "%run -d snafu.py\n",
      "\n",
      "# Experts: open pdb after an exception occured in the interpreter:\n",
      "%debug\n",
      "```"
     ]
    },
    {
     "cell_type": "markdown",
     "metadata": {},
     "source": [
      "## Pasting to a GitHub Gist"
     ]
    },
    {
     "cell_type": "code",
     "collapsed": false,
     "input": [
      "%history 5"
     ],
     "language": "python",
     "metadata": {},
     "outputs": [
      {
       "output_type": "stream",
       "stream": "stdout",
       "text": [
        "%pastebin -d \"hello gist\" 50\n"
       ]
      }
     ],
     "prompt_number": 7
    },
    {
     "cell_type": "code",
     "collapsed": false,
     "input": [
      "%pastebin -d \"hello gist\" 5"
     ],
     "language": "python",
     "metadata": {},
     "outputs": [
      {
       "metadata": {},
       "output_type": "pyout",
       "prompt_number": 6,
       "text": [
        "u'https://gist.github.com/83084754a786b8c7893c'"
       ]
      }
     ],
     "prompt_number": 6
    }
   ],
   "metadata": {}
  }
 ]
}