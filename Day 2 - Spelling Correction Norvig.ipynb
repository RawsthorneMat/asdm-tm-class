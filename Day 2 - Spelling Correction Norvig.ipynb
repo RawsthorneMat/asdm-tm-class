{
 "cells": [
  {
   "cell_type": "markdown",
   "metadata": {},
   "source": [
    "# Spelling correction in pure Python\n",
    "\n",
    "A tutorial based on Peter Norvig's \"[How to Write a Spelling Corrector](http://www.norvig.com/spell-correct.html)\" article."
   ]
  },
  {
   "cell_type": "markdown",
   "metadata": {},
   "source": [
    "First, let's define our goal:\n",
    "\n",
    "We want to efficiently predict the correct word (the Python dictionary key) from any of a set of misspelled variants (the dictionary value, a space-separated list of words)."
   ]
  },
  {
   "cell_type": "code",
   "execution_count": 1,
   "metadata": {
    "collapsed": false
   },
   "outputs": [],
   "source": [
    "TESTS_1 = { 'access': 'acess', 'accessing': 'accesing', 'accommodation':\n",
    "'accomodation acommodation acomodation', 'account': 'acount', 'address':\n",
    "'adress adres', 'addressable': 'addresable', 'arranged': 'aranged arrainged',\n",
    "'arrangeing': 'aranging', 'arrangement': 'arragment', 'articles': 'articals',\n",
    "'aunt': 'annt anut arnt', 'auxiliary': 'auxillary', 'available': 'avaible',\n",
    "'awful': 'awfall afful', 'basically': 'basicaly', 'beginning': 'begining',\n",
    "'benefit': 'benifit', 'benefits': 'benifits', 'between': 'beetween', 'bicycle':\n",
    "'bicycal bycicle bycycle', 'biscuits': \n",
    "'biscits biscutes biscuts bisquits buiscits buiscuts', 'built': 'biult', \n",
    "'cake': 'cak', 'career': 'carrer',\n",
    "'cemetery': 'cemetary semetary', 'centrally': 'centraly', 'certain': 'cirtain',\n",
    "'challenges': 'chalenges chalenges', 'chapter': 'chaper chaphter chaptur',\n",
    "'choice': 'choise', 'choosing': 'chosing', 'clerical': 'clearical',\n",
    "'committee': 'comittee', 'compare': 'compair', 'completely': 'completly',\n",
    "'consider': 'concider', 'considerable': 'conciderable', 'contented':\n",
    "'contenpted contende contended contentid', 'curtains': \n",
    "'cartains certans courtens cuaritains curtans curtians curtions', 'decide': 'descide', 'decided':\n",
    "'descided', 'definitely': 'definately difinately', 'definition': 'defenition',\n",
    "'definitions': 'defenitions', 'description': 'discription', 'desiccate':\n",
    "'desicate dessicate dessiccate', 'diagrammatically': 'diagrammaticaally',\n",
    "'different': 'diffrent', 'driven': 'dirven', 'ecstasy': 'exstacy ecstacy',\n",
    "'embarrass': 'embaras embarass', 'establishing': 'astablishing establising',\n",
    "'experience': 'experance experiance', 'experiences': 'experances', 'extended':\n",
    "'extented', 'extremely': 'extreamly', 'fails': 'failes', 'families': 'familes',\n",
    "'february': 'febuary', 'further': 'futher', 'gallery': 'galery gallary gallerry gallrey', \n",
    "'hierarchal': 'hierachial', 'hierarchy': 'hierchy', 'inconvenient':\n",
    "'inconvienient inconvient inconvinient', 'independent': 'independant independant',\n",
    "'initial': 'intial', 'initials': 'inetials inistals initails initals intials',\n",
    "'juice': 'guic juce jucie juise juse', 'latest': 'lates latets latiest latist', \n",
    "'laugh': 'lagh lauf laught lugh', 'level': 'leval',\n",
    "'levels': 'levals', 'liaison': 'liaision liason', 'lieu': 'liew', 'literature':\n",
    "'litriture', 'loans': 'lones', 'locally': 'localy', 'magnificent': \n",
    "'magnificnet magificent magnifcent magnifecent magnifiscant magnifisent magnificant',\n",
    "'management': 'managment', 'meant': 'ment', 'minuscule': 'miniscule',\n",
    "'minutes': 'muinets', 'monitoring': 'monitering', 'necessary': \n",
    "'neccesary necesary neccesary necassary necassery neccasary', 'occurrence':\n",
    "'occurence occurence', 'often': 'ofen offen offten ofton', 'opposite': \n",
    "'opisite oppasite oppesite oppisit oppisite opposit oppossite oppossitte', 'parallel': \n",
    "'paralel paralell parrallel parralell parrallell', 'particular': 'particulaur',\n",
    "'perhaps': 'perhapse', 'personnel': 'personnell', 'planned': 'planed', 'poem':\n",
    "'poame', 'poems': 'poims pomes', 'poetry': 'poartry poertry poetre poety powetry', \n",
    "'position': 'possition', 'possible': 'possable', 'pretend': \n",
    "'pertend protend prtend pritend', 'problem': 'problam proble promblem proplen',\n",
    "'pronunciation': 'pronounciation', 'purple': 'perple perpul poarple',\n",
    "'questionnaire': 'questionaire', 'really': 'realy relley relly', 'receipt':\n",
    "'receit receite reciet recipt', 'receive': 'recieve', 'refreshment':\n",
    "'reafreshment refreshmant refresment refressmunt', 'remember': 'rember remeber rememmer rermember',\n",
    "'remind': 'remine remined', 'scarcely': 'scarcly scarecly scarely scarsely', \n",
    "'scissors': 'scisors sissors', 'separate': 'seperate',\n",
    "'singular': 'singulaur', 'someone': 'somone', 'sources': 'sorces', 'southern':\n",
    "'southen', 'special': 'speaical specail specal speical', 'splendid': \n",
    "'spledid splended splened splended', 'standardizing': 'stanerdizing', 'stomach': \n",
    "'stomac stomache stomec stumache', 'supersede': 'supercede superceed', 'there': 'ther',\n",
    "'totally': 'totaly', 'transferred': 'transfred', 'transportability':\n",
    "'transportibility', 'triangular': 'triangulaur', 'understand': 'undersand undistand', \n",
    "'unexpected': 'unexpcted unexpeted unexspected', 'unfortunately':\n",
    "'unfortunatly', 'unique': 'uneque', 'useful': 'usefull', 'valuable': 'valubale valuble', \n",
    "'variable': 'varable', 'variant': 'vairiant', 'various': 'vairious',\n",
    "'visited': 'fisited viseted vistid vistied', 'visitors': 'vistors',\n",
    "'voluntary': 'volantry', 'voting': 'voteing', 'wanted': 'wantid wonted',\n",
    "'whether': 'wether', 'wrote': 'rote wote'}\n",
    "\n",
    "\n",
    "TESTS_2 = {'forbidden': 'forbiden', 'decisions': 'deciscions descisions',\n",
    "'supposedly': 'supposidly', 'embellishing': 'embelishing', 'technique':\n",
    "'tecnique', 'permanently': 'perminantly', 'confirmation': 'confermation',\n",
    "'appointment': 'appoitment', 'progression': 'progresion', 'accompanying':\n",
    "'acompaning', 'applicable': 'aplicable', 'regained': 'regined', 'guidelines':\n",
    "'guidlines', 'surrounding': 'serounding', 'titles': 'tittles', 'unavailable':\n",
    "'unavailble', 'advantageous': 'advantageos', 'brief': 'brif', 'appeal':\n",
    "'apeal', 'consisting': 'consisiting', 'clerk': 'cleark clerck', 'component':\n",
    "'componant', 'favourable': 'faverable', 'separation': 'seperation', 'search':\n",
    "'serch', 'receive': 'recieve', 'employees': 'emploies', 'prior': 'piror',\n",
    "'resulting': 'reulting', 'suggestion': 'sugestion', 'opinion': 'oppinion',\n",
    "'cancellation': 'cancelation', 'criticism': 'citisum', 'useful': 'usful',\n",
    "'humour': 'humor', 'anomalies': 'anomolies', 'would': 'whould', 'doubt':\n",
    "'doupt', 'examination': 'eximination', 'therefore': 'therefoe', 'recommend':\n",
    "'recomend', 'separated': 'seperated', 'successful': 'sucssuful succesful',\n",
    "'apparent': 'apparant', 'occurred': 'occureed', 'particular': 'paerticulaur',\n",
    "'pivoting': 'pivting', 'announcing': 'anouncing', 'challenge': 'chalange',\n",
    "'arrangements': 'araingements', 'proportions': 'proprtions', 'organized':\n",
    "'oranised', 'accept': 'acept', 'dependence': 'dependance', 'unequalled':\n",
    "'unequaled', 'numbers': 'numbuers', 'sense': 'sence', 'conversely':\n",
    "'conversly', 'provide': 'provid', 'arrangement': 'arrangment',\n",
    "'responsibilities': 'responsiblities', 'fourth': 'forth', 'ordinary':\n",
    "'ordenary', 'description': 'desription descvription desacription',\n",
    "'inconceivable': 'inconcievable', 'data': 'dsata', 'register': 'rgister',\n",
    "'supervision': 'supervison', 'encompassing': 'encompasing', 'negligible':\n",
    "'negligable', 'allow': 'alow', 'operations': 'operatins', 'executed':\n",
    "'executted', 'interpretation': 'interpritation', 'hierarchy': 'heiarky',\n",
    "'indeed': 'indead', 'years': 'yesars', 'through': 'throut', 'committee':\n",
    "'committe', 'inquiries': 'equiries', 'before': 'befor', 'continued':\n",
    "'contuned', 'permanent': 'perminant', 'choose': 'chose', 'virtually':\n",
    "'vertually', 'correspondence': 'correspondance', 'eventually': 'eventully',\n",
    "'lonely': 'lonley', 'profession': 'preffeson', 'they': 'thay', 'now': 'noe',\n",
    "'desperately': 'despratly', 'university': 'unversity', 'adjournment':\n",
    "'adjurnment', 'possibilities': 'possablities', 'stopped': 'stoped', 'mean':\n",
    "'meen', 'weighted': 'wagted', 'adequately': 'adequattly', 'shown': 'hown',\n",
    "'matrix': 'matriiix', 'profit': 'proffit', 'encourage': 'encorage', 'collate':\n",
    "'colate', 'disaggregate': 'disaggreagte disaggreaget', 'receiving':\n",
    "'recieving reciving', 'proviso': 'provisoe', 'umbrella': 'umberalla', 'approached':\n",
    "'aproached', 'pleasant': 'plesent', 'difficulty': 'dificulty', 'appointments':\n",
    "'apointments', 'base': 'basse', 'conditioning': 'conditining', 'earliest':\n",
    "'earlyest', 'beginning': 'begining', 'universally': 'universaly',\n",
    "'unresolved': 'unresloved', 'length': 'lengh', 'exponentially':\n",
    "'exponentualy', 'utilized': 'utalised', 'set': 'et', 'surveys': 'servays',\n",
    "'families': 'familys', 'system': 'sysem', 'approximately': 'aproximatly',\n",
    "'their': 'ther', 'scheme': 'scheem', 'speaking': 'speeking', 'repetitive':\n",
    "'repetative', 'inefficient': 'ineffiect', 'geneva': 'geniva', 'exactly':\n",
    "'exsactly', 'immediate': 'imediate', 'appreciation': 'apreciation', 'luckily':\n",
    "'luckeley', 'eliminated': 'elimiated', 'believe': 'belive', 'appreciated':\n",
    "'apreciated', 'readjusted': 'reajusted', 'were': 'wer where', 'feeling':\n",
    "'fealing', 'and': 'anf', 'false': 'faulse', 'seen': 'seeen', 'interrogating':\n",
    "'interogationg', 'academically': 'academicly', 'relatively': 'relativly relitivly',\n",
    "'traditionally': 'traditionaly', 'studying': 'studing',\n",
    "'majority': 'majorty', 'build': 'biuld', 'aggravating': 'agravating',\n",
    "'transactions': 'trasactions', 'arguing': 'aurguing', 'sheets': 'sheertes',\n",
    "'successive': 'sucsesive sucessive', 'segment': 'segemnt', 'especially':\n",
    "'especaily', 'later': 'latter', 'senior': 'sienior', 'dragged': 'draged',\n",
    "'atmosphere': 'atmospher', 'drastically': 'drasticaly', 'particularly':\n",
    "'particulary', 'visitor': 'vistor', 'session': 'sesion', 'continually':\n",
    "'contually', 'availability': 'avaiblity', 'busy': 'buisy', 'parameters':\n",
    "'perametres', 'surroundings': 'suroundings seroundings', 'employed':\n",
    "'emploied', 'adequate': 'adiquate', 'handle': 'handel', 'means': 'meens',\n",
    "'familiar': 'familer', 'between': 'beeteen', 'overall': 'overal', 'timing':\n",
    "'timeing', 'committees': 'comittees commitees', 'queries': 'quies',\n",
    "'econometric': 'economtric', 'erroneous': 'errounous', 'decides': 'descides',\n",
    "'reference': 'refereence refference', 'intelligence': 'inteligence',\n",
    "'edition': 'ediion ediition', 'are': 'arte', 'apologies': 'appologies',\n",
    "'thermawear': 'thermawere thermawhere', 'techniques': 'tecniques',\n",
    "'voluntary': 'volantary', 'subsequent': 'subsequant subsiquent', 'currently':\n",
    "'curruntly', 'forecast': 'forcast', 'weapons': 'wepons', 'routine': 'rouint',\n",
    "'neither': 'niether', 'approach': 'aproach', 'available': 'availble',\n",
    "'recently': 'reciently', 'ability': 'ablity', 'nature': 'natior',\n",
    "'commercial': 'comersial', 'agencies': 'agences', 'however': 'howeverr',\n",
    "'suggested': 'sugested', 'career': 'carear', 'many': 'mony', 'annual':\n",
    "'anual', 'according': 'acording', 'receives': 'recives recieves',\n",
    "'interesting': 'intresting', 'expense': 'expence', 'relevant':\n",
    "'relavent relevaant', 'table': 'tasble', 'throughout': 'throuout', 'conference':\n",
    "'conferance', 'sensible': 'sensable', 'described': 'discribed describd',\n",
    "'union': 'unioun', 'interest': 'intrest', 'flexible': 'flexable', 'refered':\n",
    "'reffered', 'controlled': 'controled', 'sufficient': 'suficient',\n",
    "'dissension': 'desention', 'adaptable': 'adabtable', 'representative':\n",
    "'representitive', 'irrelevant': 'irrelavent', 'unnecessarily': 'unessasarily',\n",
    "'applied': 'upplied', 'apologised': 'appologised', 'these': 'thees thess',\n",
    "'choices': 'choises', 'will': 'wil', 'procedure': 'proceduer', 'shortened':\n",
    "'shortend', 'manually': 'manualy', 'disappointing': 'dissapoiting',\n",
    "'excessively': 'exessively', 'comments': 'coments', 'containing': 'containg',\n",
    "'develop': 'develope', 'credit': 'creadit', 'government': 'goverment',\n",
    "'acquaintances': 'aquantences', 'orientated': 'orentated', 'widely': 'widly',\n",
    "'advise': 'advice', 'difficult': 'dificult', 'investigated': 'investegated',\n",
    "'bonus': 'bonas', 'conceived': 'concieved', 'nationally': 'nationaly',\n",
    "'compared': 'comppared compased', 'moving': 'moveing', 'necessity':\n",
    "'nessesity', 'opportunity': 'oppertunity oppotunity opperttunity', 'thoughts':\n",
    "'thorts', 'equalled': 'equaled', 'variety': 'variatry', 'analysis':\n",
    "'analiss analsis analisis', 'patterns': 'pattarns', 'qualities': 'quaties', 'easily':\n",
    "'easyly', 'organization': 'oranisation oragnisation', 'the': 'thw hte thi',\n",
    "'corporate': 'corparate', 'composed': 'compossed', 'enormously': 'enomosly',\n",
    "'financially': 'financialy', 'functionally': 'functionaly', 'discipline':\n",
    "'disiplin', 'announcement': 'anouncement', 'progresses': 'progressess',\n",
    "'except': 'excxept', 'recommending': 'recomending', 'mathematically':\n",
    "'mathematicaly', 'source': 'sorce', 'combine': 'comibine', 'input': 'inut',\n",
    "'careers': 'currers carrers', 'resolved': 'resoved', 'demands': 'diemands',\n",
    "'unequivocally': 'unequivocaly', 'suffering': 'suufering', 'immediately':\n",
    "'imidatly imediatly', 'accepted': 'acepted', 'projects': 'projeccts',\n",
    "'necessary': 'necasery nessasary nessisary neccassary', 'journalism':\n",
    "'journaism', 'unnecessary': 'unessessay', 'night': 'nite', 'output':\n",
    "'oputput', 'security': 'seurity', 'essential': 'esential', 'beneficial':\n",
    "'benificial benficial', 'explaining': 'explaning', 'supplementary':\n",
    "'suplementary', 'questionnaire': 'questionare', 'employment': 'empolyment',\n",
    "'proceeding': 'proceding', 'decision': 'descisions descision', 'per': 'pere',\n",
    "'discretion': 'discresion', 'reaching': 'reching', 'analysed': 'analised',\n",
    "'expansion': 'expanion', 'although': 'athough', 'subtract': 'subtrcat',\n",
    "'analysing': 'aalysing', 'comparison': 'comparrison', 'months': 'monthes',\n",
    "'hierarchal': 'hierachial', 'misleading': 'missleading', 'commit': 'comit',\n",
    "'auguments': 'aurgument', 'within': 'withing', 'obtaining': 'optaning',\n",
    "'accounts': 'acounts', 'primarily': 'pimarily', 'operator': 'opertor',\n",
    "'accumulated': 'acumulated', 'extremely': 'extreemly', 'there': 'thear',\n",
    "'summarys': 'sumarys', 'analyse': 'analiss', 'understandable':\n",
    "'understadable', 'safeguard': 'safegaurd', 'consist': 'consisit',\n",
    "'declarations': 'declaratrions', 'minutes': 'muinutes muiuets', 'associated':\n",
    "'assosiated', 'accessibility': 'accessability', 'examine': 'examin',\n",
    "'surveying': 'servaying', 'politics': 'polatics', 'annoying': 'anoying',\n",
    "'again': 'agiin', 'assessing': 'accesing', 'ideally': 'idealy', 'scrutinized':\n",
    "'scrutiniesed', 'simular': 'similar', 'personnel': 'personel', 'whereas':\n",
    "'wheras', 'when': 'whn', 'geographically': 'goegraphicaly', 'gaining':\n",
    "'ganing', 'requested': 'rquested', 'separate': 'seporate', 'students':\n",
    "'studens', 'prepared': 'prepaired', 'generated': 'generataed', 'graphically':\n",
    "'graphicaly', 'suited': 'suted', 'variable': 'varible vaiable', 'building':\n",
    "'biulding', 'required': 'reequired', 'necessitates': 'nessisitates',\n",
    "'together': 'togehter', 'profits': 'proffits'}\n",
    "\n",
    "\n",
    "def spelltest(tests, verbose=False):\n",
    "    import time\n",
    "    n, bad, unknown, start = 0, 0, 0, time.clock()\n",
    "    \n",
    "    for target, wrongs in tests.items():\n",
    "        for wrong in wrongs.split():\n",
    "            n += 1\n",
    "            w = correct(wrong) # our \"API\" definition\n",
    "            \n",
    "            if w != target:\n",
    "                bad += 1\n",
    "                unknown += (target not in VOCAB) # VOCAB to be explained...\n",
    "                \n",
    "                if verbose:\n",
    "                    print('correct(%r) => %r (%d); expected %r (%d)' % (\n",
    "                        wrong, w, VOCAB[w], target, VOCAB[target]\n",
    "                    ))\n",
    "    \n",
    "    print('tested', n, 'words')\n",
    "    print(int(100. - 100.*bad/n), '% correct')\n",
    "    print(time.clock()-start, 'seconds')\n",
    "    print(unknown, 'unknown words (%d%%)' % (100.*unknown/n))"
   ]
  },
  {
   "cell_type": "markdown",
   "metadata": {},
   "source": [
    "## Estimating common word probabilities"
   ]
  },
  {
   "cell_type": "code",
   "execution_count": 2,
   "metadata": {
    "collapsed": false
   },
   "outputs": [],
   "source": [
    "from nltk.corpus import brown\n",
    "from collections import Counter"
   ]
  },
  {
   "cell_type": "code",
   "execution_count": 3,
   "metadata": {
    "collapsed": false
   },
   "outputs": [
    {
     "data": {
      "text/plain": [
       "(1161192, 40234)"
      ]
     },
     "execution_count": 3,
     "metadata": {},
     "output_type": "execute_result"
    }
   ],
   "source": [
    "CORPUS = brown.words()\n",
    "VOCAB = Counter(w.lower() for w in CORPUS if w.isalpha())\n",
    "len (CORPUS), len(VOCAB)"
   ]
  },
  {
   "cell_type": "code",
   "execution_count": 4,
   "metadata": {
    "collapsed": false
   },
   "outputs": [
    {
     "data": {
      "text/plain": [
       "[('the', 69971), ('of', 36412), ('and', 28853), ('to', 26158), ('a', 23195)]"
      ]
     },
     "execution_count": 4,
     "metadata": {},
     "output_type": "execute_result"
    }
   ],
   "source": [
    "VOCAB.most_common(5)"
   ]
  },
  {
   "cell_type": "code",
   "execution_count": 5,
   "metadata": {
    "collapsed": false
   },
   "outputs": [
    {
     "name": "stdout",
     "output_type": "stream",
     "text": [
      "the 69971\n",
      "unusual 63\n",
      "characteristically 7\n",
      "neverbeforeseen 0\n"
     ]
    }
   ],
   "source": [
    "for w in ['the', 'unusual', 'characteristically', 'neverbeforeseen']:\n",
    "    print(w, VOCAB[w])"
   ]
  },
  {
   "cell_type": "markdown",
   "metadata": {},
   "source": [
    "## Generating Spelling Variants"
   ]
  },
  {
   "cell_type": "code",
   "execution_count": 16,
   "metadata": {
    "collapsed": false
   },
   "outputs": [],
   "source": [
    "alphabet = 'abcdefghijklmnopqrstuvwxyz'\n",
    "\n",
    "def edits1(word):\n",
    "    \"Return all strings that are one edit away from this word.\"\n",
    "    pairs      = splits(word)\n",
    "    deletes    = [a+b[1:]           for (a, b) in pairs if b]\n",
    "    transposes = [a+b[1]+b[0]+b[2:] for (a, b) in pairs if len(b) > 1]\n",
    "    replaces   = [a+c+b[1:]         for (a, b) in pairs for c in alphabet if b]\n",
    "    inserts    = [a+c+b             for (a, b) in pairs for c in alphabet]\n",
    "    return set(deletes + transposes + replaces + inserts)\n",
    "\n",
    "def splits(word):\n",
    "    \"Return a list of all possible (head, tail) pairs of a word.\"\n",
    "    return [(word[:i], word[i:]) \n",
    "            for i in range(len(word)+1)]"
   ]
  },
  {
   "cell_type": "markdown",
   "metadata": {},
   "source": [
    "Let's check it works:"
   ]
  },
  {
   "cell_type": "code",
   "execution_count": 17,
   "metadata": {
    "collapsed": false
   },
   "outputs": [
    {
     "data": {
      "text/plain": [
       "[('', 'wird'), ('w', 'ird'), ('wi', 'rd'), ('wir', 'd'), ('wird', '')]"
      ]
     },
     "execution_count": 17,
     "metadata": {},
     "output_type": "execute_result"
    }
   ],
   "source": [
    "splits('wird')"
   ]
  },
  {
   "cell_type": "code",
   "execution_count": 18,
   "metadata": {
    "collapsed": false
   },
   "outputs": [
    {
     "data": {
      "text/plain": [
       "'wirmd, oird, fird, wuird, wnrd, aird, wcrd, wiud, witrd, wimrd, wirdo, wqird, wifd, wild, wxrd, rird, wind, wixrd, wpird, owird, wijrd, wkird, twird, wirdq, wnird'"
      ]
     },
     "execution_count": 18,
     "metadata": {},
     "output_type": "execute_result"
    }
   ],
   "source": [
    "result = edits1('wird')\n",
    "len(result)\n",
    "', '.join(list(result)[:25])"
   ]
  },
  {
   "cell_type": "code",
   "execution_count": 19,
   "metadata": {
    "collapsed": false
   },
   "outputs": [
    {
     "data": {
      "text/plain": [
       "True"
      ]
     },
     "execution_count": 19,
     "metadata": {},
     "output_type": "execute_result"
    }
   ],
   "source": [
    "'wir' in result and 'wrd' in result and 'wrid' in result and 'ward' in result and 'wizrd' in result"
   ]
  },
  {
   "cell_type": "markdown",
   "metadata": {},
   "source": [
    "Let's add in a few more edit distances:"
   ]
  },
  {
   "cell_type": "code",
   "execution_count": 20,
   "metadata": {
    "collapsed": false
   },
   "outputs": [],
   "source": [
    "def edits0(word):\n",
    "    \"Returns the set containting the unedited word.\" \n",
    "    return set((word,))\n",
    "\n",
    "def edits2(word):\n",
    "    \"Return all strings that are two edits away from this word.\"\n",
    "    return set(e2 for e1 in edits1(word) for e2 in edits1(e1))"
   ]
  },
  {
   "cell_type": "markdown",
   "metadata": {},
   "source": [
    "## Correcting mistakes with the (most likely) known word"
   ]
  },
  {
   "cell_type": "code",
   "execution_count": 21,
   "metadata": {
    "collapsed": false
   },
   "outputs": [],
   "source": [
    "def known(words):\n",
    "    \"Return a subset of those words that are actually in the dictionary.\"\n",
    "    return list(filter(VOCAB.get, words))"
   ]
  },
  {
   "cell_type": "code",
   "execution_count": 22,
   "metadata": {
    "collapsed": false
   },
   "outputs": [
    {
     "data": {
      "text/plain": [
       "['the', 'unusual', 'characteristically']"
      ]
     },
     "execution_count": 22,
     "metadata": {},
     "output_type": "execute_result"
    }
   ],
   "source": [
    "known(['the', 'unusual', 'characteristically', 'neverbeforeseen'])"
   ]
  },
  {
   "cell_type": "code",
   "execution_count": 23,
   "metadata": {
    "collapsed": false
   },
   "outputs": [],
   "source": [
    "def correct(word):\n",
    "    \"Find the best spelling correction for this word.\"\n",
    "    \n",
    "    # Note that this is marginally better:\n",
    "    # correct word if a edit1 word is more frequent: \n",
    "    #s = edits1(word)\n",
    "    #s.add(word)\n",
    "    #candidates = (known(s) or \n",
    "    #              known(edits2(word)) or\n",
    "    #              [word])\n",
    "    \n",
    "    # Prefer edit distance 0 (the word itself), then 1, then 2;\n",
    "    # otherwise default to word itself.\n",
    "    candidates = (known(edits0(word)) or \n",
    "                 known(edits1(word)) or \n",
    "                 known(edits2(word)) or [word])\n",
    "    return max(candidates, key=VOCAB.get)"
   ]
  },
  {
   "cell_type": "code",
   "execution_count": 24,
   "metadata": {
    "collapsed": false
   },
   "outputs": [
    {
     "data": {
      "text/plain": [
       "'word'"
      ]
     },
     "execution_count": 24,
     "metadata": {},
     "output_type": "execute_result"
    }
   ],
   "source": [
    "correct('wird')"
   ]
  },
  {
   "cell_type": "code",
   "execution_count": 25,
   "metadata": {
    "collapsed": false
   },
   "outputs": [
    {
     "data": {
      "text/plain": [
       "'spelling'"
      ]
     },
     "execution_count": 25,
     "metadata": {},
     "output_type": "execute_result"
    }
   ],
   "source": [
    "correct('spellign')"
   ]
  },
  {
   "cell_type": "code",
   "execution_count": 26,
   "metadata": {
    "collapsed": false
   },
   "outputs": [
    {
     "data": {
      "text/plain": [
       "'my'"
      ]
     },
     "execution_count": 26,
     "metadata": {},
     "output_type": "execute_result"
    }
   ],
   "source": [
    "correct('mw')"
   ]
  },
  {
   "cell_type": "code",
   "execution_count": 27,
   "metadata": {
    "collapsed": false
   },
   "outputs": [
    {
     "data": {
      "text/plain": [
       "'not'"
      ]
     },
     "execution_count": 27,
     "metadata": {},
     "output_type": "execute_result"
    }
   ],
   "source": [
    "correct('not')"
   ]
  },
  {
   "cell_type": "markdown",
   "metadata": {},
   "source": [
    "## Evaluation/Tests"
   ]
  },
  {
   "cell_type": "code",
   "execution_count": 28,
   "metadata": {
    "collapsed": false
   },
   "outputs": [
    {
     "name": "stdout",
     "output_type": "stream",
     "text": [
      "tested 270 words\n",
      "74 % correct\n",
      "13.252162000000002 seconds\n",
      "15 unknown words (5%)\n"
     ]
    }
   ],
   "source": [
    "spelltest(TESTS_1)"
   ]
  },
  {
   "cell_type": "code",
   "execution_count": 29,
   "metadata": {
    "collapsed": false
   },
   "outputs": [
    {
     "name": "stdout",
     "output_type": "stream",
     "text": [
      "tested 400 words\n",
      "73 % correct\n",
      "19.929830000000003 seconds\n",
      "22 unknown words (5%)\n"
     ]
    }
   ],
   "source": [
    "spelltest(TESTS_2)"
   ]
  },
  {
   "cell_type": "markdown",
   "metadata": {},
   "source": [
    "Can you think of ways to make this faster or perform better? (see Peter's blog for some possible answers)"
   ]
  }
 ],
 "metadata": {
  "kernelspec": {
   "display_name": "Python 3",
   "language": "python",
   "name": "python3"
  },
  "language_info": {
   "codemirror_mode": {
    "name": "ipython",
    "version": 3
   },
   "file_extension": ".py",
   "mimetype": "text/x-python",
   "name": "python",
   "nbconvert_exporter": "python",
   "pygments_lexer": "ipython3",
   "version": "3.5.1"
  }
 },
 "nbformat": 4,
 "nbformat_minor": 0
}
