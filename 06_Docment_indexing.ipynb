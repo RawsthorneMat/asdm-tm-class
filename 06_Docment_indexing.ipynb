{
 "cells": [
  {
   "cell_type": "markdown",
   "metadata": {},
   "source": [
    "# Document indexing with LSH Forest\n",
    "\n",
    "Practical course material for the ASDM Class 09 (Text Mining) by Florian Leitner.\n",
    "\n",
    "© 2016 Florian Leitner. All rights reserved.\n",
    "\n",
    "## Introduction\n",
    "\n",
    "Today's lab will cover the two most fundamental techniques of Text Mining: Document classification and indexing; This notebook covers the latter (\"building the world's fastest search engine\").\n",
    "\n",
    "For background, please check the \"Pitfalls for budding data scientists\" and the \"Shingling and Jaccard's similarity\" notebooks.\n",
    "\n",
    "An excellent resource for basic LSH is the free book (PDF) by Rajaraman, [\"Mining of Massive Datasets\"](http://infolab.stanford.edu/~ullman/mmds/book.pdf). We will specifically be looking at a \"self-tuning\" LSH design, the [LSH Forest by Bawa et al.](http://infolab.stanford.edu/~bawa/Pub/similarity.pdf) Another design variant of this hashing technique is [LSH Ensemble by Zhu et al.](http://www.vldb.org/pvldb/vol9/p1185-zhu.pdf), which is designed to use LSH on a short (query) sequence lookup against long (document) sequences by modifying similarity to only use the length of the query in the denominator. LSH Ensemble is therefore is a nice simple approach to an ranked IR system \"on the cheap\" and without having to fall back on a pairwise ranking strategy to come up with the most similar matches to the query first. But as we will be using *documents* as our queries, though, we will focus on LSH Forest here.\n",
    "\n",
    "Ensure you have **NLTK** installed or install it with:\n",
    "\n",
    "- Anaconda Python: `conda install nltk`\n",
    "- Stock Python: `pip3 install nltk`\n",
    "\n",
    "Ensure you have **Pandas** installed or install it with:\n",
    "\n",
    "- Anaconda Python: `conda install pandas`\n",
    "- Stock Python: `pip3 install pandas`\n",
    "\n",
    "Also install the **`segtok`** tokenization and segmentation library created by yours truly (the instructor, me):\n",
    "\n",
    "- Anaconda Python: `conda install segtok`\n",
    "- Stock Python: `pip3 install segtok`\n",
    "\n",
    "Once done, the following imports should work; If not, you can always skip the practical document indexing examples below.\n",
    "\n",
    "Once done, the following imports should work; If not, you can always skip the practical example at the end."
   ]
  },
  {
   "cell_type": "code",
   "execution_count": 1,
   "metadata": {},
   "outputs": [],
   "source": [
    "import nltk\n",
    "import segtok\n",
    "import sklearn"
   ]
  },
  {
   "cell_type": "markdown",
   "metadata": {},
   "source": [
    "Ensure you have at least NLTK book (and/or popular) downloaded and installed from the dialog window that shows up."
   ]
  },
  {
   "cell_type": "code",
   "execution_count": 2,
   "metadata": {},
   "outputs": [],
   "source": [
    "#nltk.download()"
   ]
  },
  {
   "cell_type": "code",
   "execution_count": 3,
   "metadata": {
    "scrolled": true
   },
   "outputs": [
    {
     "name": "stdout",
     "output_type": "stream",
     "text": [
      "Populating the interactive namespace from numpy and matplotlib\n"
     ]
    }
   ],
   "source": [
    "%pylab inline --no-import-all"
   ]
  },
  {
   "cell_type": "markdown",
   "metadata": {},
   "source": [
    "## Jaccard's set similarity\n",
    "\n",
    "(see the relevant Notebook for a detailed discussion)"
   ]
  },
  {
   "cell_type": "code",
   "execution_count": 4,
   "metadata": {},
   "outputs": [],
   "source": [
    "def jaccard(seq1, seq2):\n",
    "    \"\"\"\n",
    "    The Jaccard similarity between two sequences:\n",
    "    |∩(X,Y)| / |∪(X,Y)|\n",
    "    \"\"\"\n",
    "    \n",
    "    x = set(seq1)\n",
    "    y = set(seq2)\n",
    "    return len(x & y) / len(x | y)"
   ]
  },
  {
   "cell_type": "markdown",
   "metadata": {},
   "source": [
    "## Min-hash signatures\n",
    "\n",
    "(see the \"Pitfalls...\" Notebook for a discussion of `hash` vs. `id`)\n",
    "\n",
    "We will look into an implementation of LSH by [Christian Jauvin](http://cjauvin.github.io/); see [github.com/go2starr/lshhdc](https://github.com/go2starr/lshhdc) for educational puposes (but note that SciKit-Learn will provide us with the implementation we will be using)."
   ]
  },
  {
   "cell_type": "code",
   "execution_count": 5,
   "metadata": {},
   "outputs": [],
   "source": [
    "class MinHashSignature:\n",
    "    \"\"\"Hash signatures for sets/tuples using minhash.\"\"\"\n",
    "\n",
    "    def __init__(self, size):\n",
    "        \"\"\"\n",
    "        Define the size of the hash pool\n",
    "        (number of hash functions).\n",
    "        \"\"\"\n",
    "        \n",
    "        self.size = size\n",
    "        self.hashes = self.__gen_hash_functions()\n",
    "\n",
    "    def __gen_hash_functions(self):\n",
    "        \"\"\"\n",
    "        Return a list of `size` different hash functions.\n",
    "        \"\"\"\n",
    "        \n",
    "        def hash_factory(mutator):\n",
    "            # note that each element in \n",
    "            # an item from a seq being min-hashed\n",
    "            # will be pushed in here\n",
    "            # I.e., item typically is a token,\n",
    "            # character, n-gram, etc.\n",
    "            return lambda item: hash(\n",
    "                \"salt\" + str(mutator) + str(item) + \"salt\"\n",
    "            )\n",
    "        \n",
    "        return [ hash_factory(m) for m in range(self.size) ]\n",
    "\n",
    "    def sign(self, seq):\n",
    "        \"\"\"\n",
    "        Return the min-hash signatures\n",
    "        for any iterable input `seq`.\n",
    "        \"\"\"\n",
    "        \n",
    "        signature = [ float(\"inf\") ] * self.size\n",
    "        \n",
    "        for idx, hash_function in enumerate(self.hashes):\n",
    "            # min-hashing the input seq:\n",
    "            # for each hash_function generated,\n",
    "            # choose the hash value (ID)\n",
    "            # (from hashing all the input sequence\n",
    "            # with that hash function)\n",
    "            # that has the smallest (i.e., min) value\n",
    "            # as the value for the final signature\n",
    "            signature[idx] = min(hash_function(item) for item in seq)\n",
    "        \n",
    "        return signature"
   ]
  },
  {
   "cell_type": "markdown",
   "metadata": {},
   "source": [
    "Here is an example of a min-hash signature instance that generates four different hash values (signature size). This signature can be understood as generating four different, random orderings of the (whole) \"possible\" input vocabulary (if you like, \"hash-permuted row IDs\" of your complete vocabulary). The signature therefore reports the first matching token in the input sequence for each of the size different orderings over the whole vocabulary (not just the words in that document!)."
   ]
  },
  {
   "cell_type": "code",
   "execution_count": 6,
   "metadata": {},
   "outputs": [
    {
     "data": {
      "text/plain": [
       "[-8625898457116879374,\n",
       " -6882610021360069696,\n",
       " -4279804470400346782,\n",
       " -8181631018342185212]"
      ]
     },
     "execution_count": 6,
     "metadata": {},
     "output_type": "execute_result"
    }
   ],
   "source": [
    "sig4 = MinHashSignature(4)\n",
    "sig4.sign([\"this\", \"is\", \"an\", \"example\", \"document\"])"
   ]
  },
  {
   "cell_type": "markdown",
   "metadata": {},
   "source": [
    "## Banded Locality Sensitive Hashing\n",
    "\n",
    "(see the \"Pitfalls...\" Notebook for a discussion of floating point issues with probabity values)"
   ]
  },
  {
   "cell_type": "code",
   "execution_count": 7,
   "metadata": {},
   "outputs": [],
   "source": [
    "class BandedLSH:\n",
    "    # n. bands (n. hash tables):\n",
    "    # b = dictionary.hasher.size /\n",
    "    #     dictionary.hasher.bandwidth\n",
    "    #    \n",
    "    # n. hashes per band:\n",
    "    # r = dictionary.hasher.bandwidth \n",
    "    \n",
    "    def __init__(self, size, threshold):\n",
    "        \"\"\"\n",
    "        Set up targeting a Jaccard similarity `threshold`\n",
    "        using the given min-hash signature `size`.\n",
    "        \"\"\"\n",
    "        \n",
    "        # total size (n. rows) of the matrix\n",
    "        # (slide \"Banded locality sensitve hasing\")\n",
    "        self.size = size\n",
    "        # *desired* Jaccard similarity threshold\n",
    "        # of the items belonging together\n",
    "        self.threshold = threshold\n",
    "        # number hashes to use per band\n",
    "        # to get as close to that threshold as possible\n",
    "        # bandwidth is the \"rows per band\"\n",
    "        self.bandwidth = self.get_bandwidth(\n",
    "            size,\n",
    "            threshold)\n",
    "        self.min_hasher = MinHashSignature(size)\n",
    "\n",
    "    @staticmethod\n",
    "    def get_bandwidth(n, t):\n",
    "        \"\"\"\n",
    "        Approximate the bandwidth\n",
    "        (number of rows in each band)\n",
    "        for a fixed total number of\n",
    "        rows `n` (bandwith * n. bands)\n",
    "        needed to achieve the desired\n",
    "        similarity threshold `t`.\n",
    "\n",
    "        Similarity threshold t = (1. / b) ** (1. / r)\n",
    "        with size (total rows in LSH) n = b * r\n",
    "        where:\n",
    "        b = number of bands\n",
    "        r = number of rows per band\n",
    "        therefore:\n",
    "        b = 1 / (t ** r)\n",
    "        and:\n",
    "        r = n /b\n",
    "        \"\"\"\n",
    "        \n",
    "        best = n # default: 1 band with `n` rows\n",
    "        minerr = float(\"inf\") # default: \"infinite\" error\n",
    "        \n",
    "        # Try finding the smallest possible bandwith r\n",
    "        # by starting with one row per band, etc:\n",
    "        for r in range(1, n + 1):\n",
    "            try:\n",
    "                # calculate the number of bands b needed to\n",
    "                # achieve the desired threshold t with the\n",
    "                # current number of rows r\n",
    "                b = 1. / (t ** r)\n",
    "            except: # Divide by zero -> `size` is too big\n",
    "                return best\n",
    "            \n",
    "            # how close would the calculated number bands b\n",
    "            # with the current bandwith r, \n",
    "            # required to achieve the desired threshold t,\n",
    "            # be to the desired total LSH size n?\n",
    "            err = abs(n - b * r)\n",
    "            \n",
    "            if err < minerr:\n",
    "                best = r\n",
    "                minerr = err\n",
    "                \n",
    "        return best\n",
    "\n",
    "    def hash(self, seq):\n",
    "        \"\"\"\n",
    "        Generate one locality-sensitive hash ID for each band,\n",
    "        from the input sequence `seq` (tokens, n-grams, etc.).\n",
    "        \"\"\"\n",
    "        sig = self.min_hasher.sign(seq)\n",
    "        \n",
    "        for band in zip(*(iter(sig),) * self.bandwidth):\n",
    "            # the \"salt\" is to make this approach more robust\n",
    "            # and is specific to how hashing works (out of scope here)\n",
    "            # this final hash is only used to only return \n",
    "            # one unique bucket it per band;\n",
    "            # the `band` itself is a list of `bandwith`\n",
    "            # integers from the signature\n",
    "            yield hash(\"salt\" + str(band) + \"tlas\")\n",
    "\n",
    "    @property\n",
    "    def exact_threshold(self):\n",
    "        \"\"\"\n",
    "        The actual threshold,\n",
    "        as defined by the calculated bandwith.\n",
    "        \"\"\"\n",
    "        \n",
    "        r = self.bandwidth\n",
    "        b = self.size / r\n",
    "        return (1. / b) ** (1. / r)\n",
    "\n",
    "    @property\n",
    "    def n_bands(self):\n",
    "        \"\"\"\n",
    "        Calculate the number of bands.\n",
    "        \"\"\"\n",
    "        \n",
    "        return int(self.size / self.bandwidth)"
   ]
  },
  {
   "cell_type": "markdown",
   "metadata": {},
   "source": [
    "The zip-list iterated over in BandedLSH.hash is simply to generate the signature hash ID subset for each band. E.g., assuming size = 6 for the BandedLSH and, therefore, also for the min-hash signature, and assuming the chosen bandwidth would be, say, 2 (from BandedLSH.get_bandwidth), the cryptical iterator zip(*(iter(sig),) * self.bandwidth) above would produce:"
   ]
  },
  {
   "cell_type": "code",
   "execution_count": 8,
   "metadata": {},
   "outputs": [
    {
     "data": {
      "text/plain": [
       "[(1, 2), (3, 4), (5, 6)]"
      ]
     },
     "execution_count": 8,
     "metadata": {},
     "output_type": "execute_result"
    }
   ],
   "source": [
    "signature = [1,2,3,4,5,6]\n",
    "bandwidth = 2\n",
    "list(zip(*(iter(signature),) * bandwidth))"
   ]
  },
  {
   "cell_type": "markdown",
   "metadata": {},
   "source": [
    "Therefore, what we get out of BandedLSH.hash is one hash ID value for each band given an item's (min-hash) signature size and Jaccard simlilarty threshold target, by calculating the best bandwidth given those two input parameters:"
   ]
  },
  {
   "cell_type": "code",
   "execution_count": 9,
   "metadata": {},
   "outputs": [
    {
     "name": "stdout",
     "output_type": "stream",
     "text": [
      "bandwidth calculated: 2\n",
      "resulting n. bands: 150\n",
      "exact similarity threshold: 0.08164965809277261\n"
     ]
    }
   ],
   "source": [
    "hasher = BandedLSH(300, 0.1)\n",
    "print(\"bandwidth calculated:\", hasher.bandwidth)\n",
    "print(\"resulting n. bands:\", hasher.n_bands)\n",
    "print(\"exact similarity threshold:\", hasher.exact_threshold)"
   ]
  },
  {
   "cell_type": "markdown",
   "metadata": {},
   "source": [
    "Pay attention to bandwidth (and the number of bands, too). This indicates how \"hard\" the threshold can be cut off. If the bandwidth is very small and the bands very large, you might rather fuzzy clusters (and a very streched sigmoid in the plot below). The bandwidth (rows/band) is proportional to the (desired) Jaccard similiarty (the horizontal position of the sigmoid plotted below).\n",
    "\n",
    "To visualize the \"cutoff hardness\" of your setup, you can visualize the probability of two documents being added to the same cluster (i.e., set of buckets) as a function of their Jaccard similarity. (see slide \"Banded Locaility Sensitive Minhashing\", $p_{agreement}$)"
   ]
  },
  {
   "cell_type": "code",
   "execution_count": 10,
   "metadata": {},
   "outputs": [
    {
     "data": {
      "image/png": "[encoded data removed]",
      "text/plain": [
       "<Figure size 432x288 with 1 Axes>"
      ]
     },
     "metadata": {},
     "output_type": "display_data"
    }
   ],
   "source": [
    "bands = 150\n",
    "bandwidth = 2\n",
    "p_agreement = lambda sim: 1 - (1 - sim**bandwidth)**bands\n",
    "x = np.arange(0.0, 0.25, 0.01)\n",
    "\n",
    "plt.plot(x, p_agreement(x))\n",
    "plt.title('Clustering probability')\n",
    "# (as a function of bandwidth and n. bands)\n",
    "plt.xlabel('Jaccard similarity')\n",
    "plt.ylabel('Clustering P')\n",
    "plt.show()"
   ]
  },
  {
   "cell_type": "markdown",
   "metadata": {},
   "source": [
    "Feel free to play around with the above cell, chaning `bandwidth` and `bands` to understand how those two parameters influnce the likelihood of two documents sharing *at least one bucket* given their Jaccard similarity.\n",
    "\n",
    "## Document indexing\n",
    "\n",
    "While the toy implementation above was practical to discuss the algorithm, we will be using a special [LSH **Forest**](http://scikit-learn.org/stable/modules/generated/sklearn.neighbors.LSHForest.html#sklearn-neighbors-lshforest) implementation to retrieve the closest matching document given a query (document).\n",
    "\n",
    "![title](img/lsh_forest.png)\n",
    "\n",
    "Another attractive LSH implemention is avaliable from the [`datasketch`](https://ekzhu.github.io/datasketch/lsh.html) Python library.\n",
    "\n",
    "### Corpus preparation"
   ]
  },
  {
   "cell_type": "code",
   "execution_count": 11,
   "metadata": {},
   "outputs": [
    {
     "name": "stderr",
     "output_type": "stream",
     "text": [
      "Downloading 20news dataset. This may take a few minutes.\n",
      "Downloading dataset from https://ndownloader.figshare.com/files/5975967 (14 MB)\n"
     ]
    },
    {
     "name": "stdout",
     "output_type": "stream",
     "text": [
      "Corpus sizes: train = 11314 ; test = 7532\n"
     ]
    }
   ],
   "source": [
    "from sklearn.datasets import fetch_20newsgroups\n",
    "\n",
    "from nltk.stem.porter import PorterStemmer\n",
    "from nltk.corpus import stopwords\n",
    "\n",
    "from segtok.segmenter import split_multi\n",
    "from segtok.tokenizer import word_tokenizer, split_contractions\n",
    "\n",
    "stemmer = PorterStemmer()\n",
    "train, test = fetch_20newsgroups(), fetch_20newsgroups(subset='test')\n",
    "\n",
    "stopwords_en = frozenset(stopwords.words('english'))\n",
    "stopwords_none = frozenset([])\n",
    "\n",
    "\n",
    "def tokenize(raw_text):\n",
    "    \"\"\"\n",
    "    Convert text to lower-case tokens of length > 2.\n",
    "    \"\"\"\n",
    "    \n",
    "    for sentence in split_multi(raw_text):\n",
    "        for raw in split_contractions(word_tokenizer(sentence)):\n",
    "            token = raw.lower()\n",
    "            \n",
    "            if len(token) > 2 and any(c.isalnum() for c in token):\n",
    "                yield token\n",
    "\n",
    "                \n",
    "def filter_and_stem(raw_text, stopwords):\n",
    "    \n",
    "    for token in tokenize(raw_text):\n",
    "        yield token\n",
    "        if token not in stopwords:\n",
    "            yield stemmer.stem(token)\n",
    "        else:\n",
    "            yield None\n",
    "                \n",
    "                \n",
    "def shingle(\n",
    "    raw_text,\n",
    "    stopwords=stopwords_none,\n",
    "    bigrams=False):\n",
    "    \"\"\"\n",
    "    Shingle text to stop-word-free,\n",
    "    stemmed uni- and bi-grams.\n",
    "    \"\"\"\n",
    "    \n",
    "    last = None\n",
    "    \n",
    "    for t in filter_and_stem(raw_text, stopwords):\n",
    "        if t is not None:\n",
    "            yield t\n",
    "            \n",
    "            if bigrams and last is not None:\n",
    "                yield \"{}_{}\".format(last, t)\n",
    "            \n",
    "        last = t\n",
    "\n",
    "print(\"Corpus sizes: train =\",\n",
    "      len(train.data),\n",
    "      \"; test =\", len(test.data))"
   ]
  },
  {
   "cell_type": "markdown",
   "metadata": {},
   "source": [
    "Let's have a look at how that tokenization/shingling works on a document in our collection:"
   ]
  },
  {
   "cell_type": "code",
   "execution_count": 12,
   "metadata": {},
   "outputs": [
    {
     "name": "stdout",
     "output_type": "stream",
     "text": [
      "From: lerxst@wam.umd.edu (where's my thing)\n",
      "Subject: WHAT car is this!?\n",
      "Nntp-Posting-Host: rac3.wam.umd.edu\n",
      "Organization: University of Maryland, College Park\n",
      "Lines: 15\n",
      "\n",
      " I was wondering if anyone out there could enlighten me on this car I saw\n",
      "the other day. It was a 2-door sports car, looked to be from the late 60s/\n",
      "early 70s. It was called a Bricklin. The doors were really small. In addition,\n",
      "the front bumper was separate from the rest of the body. This is \n",
      "all I know. If anyone can tellme a model name, engine specs, years\n",
      "of production, where this car is made, history, or whatever info you\n",
      "have on this funky looking car, please e-mail.\n",
      "\n",
      "Thanks,\n",
      "- IL\n",
      "   ---- brought to you by your neighborhood Lerxst ----\n"
     ]
    }
   ],
   "source": [
    "example = train['data'][0].strip()\n",
    "print(example)"
   ]
  },
  {
   "cell_type": "markdown",
   "metadata": {},
   "source": [
    "In a real-world scenario, you'd probably start cleaning up the above \"mess\", removing the header and possibly the footers from the messages.\n",
    "\n",
    "You can either use `tokenize` to work with single tokens, or `shingle` to work with [higher] n-grams and stopword-filtering, too."
   ]
  },
  {
   "cell_type": "code",
   "execution_count": 13,
   "metadata": {},
   "outputs": [
    {
     "name": "stdout",
     "output_type": "stream",
     "text": [
      "thi history subject park there organ separate whatev made univers looked from you sport addit 70 wa bodi university organization realli spec tellme sports nntp-posting-host lerxst brought car body all the addition year lines model histori name funki colleg this specs maryland were small thing saw know day doors late enlighten anyone e-mail your wondering rac3.wam.umd.edu have look earli please early bricklin 70s funky really neighborhood wam.umd.edu other thank 60s wonder rest tellm line separ what where front could whatever info college 2-door production can call years anyon out called 60 thanks was pleas product engin bumper door engine looking\n"
     ]
    }
   ],
   "source": [
    "tokens = frozenset(shingle(example))\n",
    "print(\" \".join(tokens))"
   ]
  },
  {
   "cell_type": "markdown",
   "metadata": {},
   "source": [
    "Now convert the whole 20News *train* corpus into tokens - this can take a while (possibly 5 minutes!) on most machines."
   ]
  },
  {
   "cell_type": "code",
   "execution_count": 14,
   "metadata": {},
   "outputs": [
    {
     "name": "stdout",
     "output_type": "stream",
     "text": [
      "CPU times: user 2min 45s, sys: 1.23 s, total: 2min 46s\n",
      "Wall time: 2min 48s\n"
     ]
    }
   ],
   "source": [
    "%time corpus = [frozenset(shingle(doc)) for doc in train['data']]"
   ]
  },
  {
   "cell_type": "markdown",
   "metadata": {},
   "source": [
    "### Similarity threshold estimation\n",
    "\n",
    "First, we'd like to find out how our document similarity behaves across our corpus.\n",
    "To do that we select a random \"target\" document and compute it's Jaccard similiary against all other documents."
   ]
  },
  {
   "cell_type": "code",
   "execution_count": 16,
   "metadata": {
    "scrolled": true
   },
   "outputs": [
    {
     "name": "stdout",
     "output_type": "stream",
     "text": [
      "other doc with max. Jaccard similarity = 0.2231404958677686\n",
      "Mean Jaccard similarity = 0.08535529656332358\n",
      "Median Jaccard similarity = 0.08636363636363636\n"
     ]
    },
    {
     "data": {
      "text/plain": [
       "<matplotlib.axes._subplots.AxesSubplot at 0x1a24d8b780>"
      ]
     },
     "execution_count": 16,
     "metadata": {},
     "output_type": "execute_result"
    },
    {
     "data": {
      "image/png": "[encoded data removed]",
      "text/plain": [
       "<Figure size 432x288 with 1 Axes>"
      ]
     },
     "metadata": {},
     "output_type": "display_data"
    }
   ],
   "source": [
    "import pandas as pd\n",
    "import random\n",
    "\n",
    "target = random.choice(range(len(corpus)))\n",
    "others = [i for i in range(len(corpus)) if i != target]\n",
    "jsim = lambda i: jaccard(corpus[target], corpus[i])\n",
    "max_sim = max((jsim(i) for i in others))\n",
    "\n",
    "print(\"other doc with max. Jaccard similarity =\",\n",
    "      max_sim)\n",
    "\n",
    "sims = pd.Series(jsim(i) for i in others)\n",
    "print(\"Mean Jaccard similarity =\", sims.mean())\n",
    "print(\"Median Jaccard similarity =\", sims.median())\n",
    "sims.plot.box()"
   ]
  },
  {
   "cell_type": "markdown",
   "metadata": {},
   "source": [
    "Rerun the above cell a few times to get a feeling for the similarty.\n",
    "\n",
    "What you can see is that \"plain\" LSH will *not* be very useful for **clustering** our corpus (represented as _bags-of-words_), because most documents have a very low similiarty to each other.\n",
    "Rather, where LSH shines is detecting duplicates or even plagiarism, because then the Jaccard simliarity is (very) high.\n",
    "\n",
    "### LSH Forest setup\n",
    "\n",
    "A special variant of LSH, LSH *Forest*, is able to detect the best match for a query (document) if there is any reasonable Jaccard similarity between that query and some document in your collection.\n",
    "In addition, and as before for the document classification, we set up a TF-IDF document vectorizer."
   ]
  },
  {
   "cell_type": "code",
   "execution_count": 17,
   "metadata": {},
   "outputs": [
    {
     "name": "stderr",
     "output_type": "stream",
     "text": [
      "/Users/fnl/work/miniconda3/lib/python3.6/site-packages/sklearn/neighbors/approximate.py:220: DeprecationWarning: LSHForest has poor performance and has been deprecated in 0.19. It will be removed in version 0.21.\n",
      "  DeprecationWarning)\n"
     ]
    },
    {
     "name": "stdout",
     "output_type": "stream",
     "text": [
      "CPU times: user 8.59 s, sys: 407 ms, total: 9 s\n",
      "Wall time: 9.19 s\n"
     ]
    }
   ],
   "source": [
    "%%time\n",
    "\n",
    "from sklearn.neighbors import LSHForest\n",
    "from sklearn.feature_extraction.text import TfidfVectorizer\n",
    "\n",
    "vectorizer = TfidfVectorizer(\n",
    "    sublinear_tf=True,\n",
    "    min_df=5,\n",
    "    max_df=0.5,\n",
    "    #ngram_range=(1,2),\n",
    "    token_pattern='(?u)(?:\\\\b|(?<=_))[^\\W_][^\\W_]+(?:\\\\b|(?=_))',\n",
    ")\n",
    "# train (aka, fit) the vectorizer to the train data:\n",
    "X_train = vectorizer.fit_transform(train.data)\n",
    "\n",
    "classifier = LSHForest(n_estimators=30, n_neighbors=1000)\n",
    "classifier.fit(X_train)"
   ]
  },
  {
   "cell_type": "markdown",
   "metadata": {},
   "source": [
    "Great, we've indexed all our documents in virtually no time! Please let this sink in for a moment - most search engines spend ages indexing content, while this solution hardly spends any noticable time at all (compared to the collection size, over 11,000 documents). This property of LSH is *extremely* useful when working with document streams where you don't have much time to process each document!\n",
    "\n",
    "The parameter that has the strongest impact on indexing *and, particularly,* search times is `n_estimators`, but increasing it improves the retrieval quality. Depending on your needs, you will almost certainly want to adjust that parameter to your use-case. The `n_neighbors` parameter only sets the default number of documents returned by a query, but makes the queries  not noticably slower. For the reamining parameters, please refer to the [SciKit-Learn documentation](http://scikit-learn.org/stable/modules/generated/sklearn.neighbors.LSHForest.html#sklearn.neighbors.LSHForest).\n",
    "\n",
    "## Document search\n",
    "\n",
    "Now, lets use this classifier to predict the nearest neighbor-ranked list for each of the \"test\" documents that we did not yet index (so this isn't just trivially returning exact matches)."
   ]
  },
  {
   "cell_type": "code",
   "execution_count": 18,
   "metadata": {},
   "outputs": [
    {
     "name": "stdout",
     "output_type": "stream",
     "text": [
      "CPU times: user 2min 39s, sys: 8.62 s, total: 2min 48s\n",
      "Wall time: 3min 2s\n"
     ]
    }
   ],
   "source": [
    "%%time\n",
    "\n",
    "# with the fitted vectorizer, transform the test data:\n",
    "X_test = vectorizer.transform(test.data)\n",
    "\n",
    "# now run the queries:\n",
    "indices = classifier.kneighbors(\n",
    "    X_test,\n",
    "    n_neighbors=1000,\n",
    "    return_distance=False)"
   ]
  },
  {
   "cell_type": "markdown",
   "metadata": {},
   "source": [
    "What is quite noteworthy here is the time it took to search our documents. We searched for around 7,000 documents in a pool of almost 12,000; So each query just took a small fraction of a second!\n",
    "\n",
    "## Evaluation\n",
    "\n",
    "Now we evaluate how good that index mechanism is.\n",
    "We will query the index with our test documents, only retrieving the best match from the indexed training documents.\n",
    "Then, we check if that retrieved training document indeed would have been the most similar document for that query document from the test set (in terms of Jaccard similarity).\n",
    "\n",
    "That is, we will evaluate the (mean) *true* rank of the returned document from LSH Forest by ordering all *training* documents against the query document using the Jaccard similarity measure.\n",
    "\n",
    "First, generate the list of the best matching training documents for all test documents:"
   ]
  },
  {
   "cell_type": "code",
   "execution_count": 19,
   "metadata": {},
   "outputs": [
    {
     "name": "stdout",
     "output_type": "stream",
     "text": [
      "best prediction true rank =  8801 with sim = 0.053 ; #1 doc sim = 0.121\n",
      "best prediction true rank =     1 with sim = 0.213 ; #1 doc sim = 0.213\n",
      "best prediction true rank =  5770 with sim = 0.087 ; #1 doc sim = 0.249\n",
      "best prediction true rank =   385 with sim = 0.095 ; #1 doc sim = 0.143\n",
      "best prediction true rank =  7478 with sim = 0.066 ; #1 doc sim = 0.164\n",
      "best prediction true rank =    60 with sim = 0.131 ; #1 doc sim = 0.161\n",
      "best prediction true rank =     2 with sim = 0.342 ; #1 doc sim = 0.348\n",
      "best prediction true rank =     2 with sim = 0.150 ; #1 doc sim = 0.152\n",
      "best prediction true rank =    66 with sim = 0.113 ; #1 doc sim = 0.142\n",
      "best prediction true rank =     1 with sim = 0.274 ; #1 doc sim = 0.274\n",
      "best prediction true rank =    20 with sim = 0.097 ; #1 doc sim = 0.187\n",
      "best prediction true rank =  6564 with sim = 0.072 ; #1 doc sim = 0.178\n",
      "best prediction true rank =     2 with sim = 0.247 ; #1 doc sim = 0.299\n",
      "best prediction true rank =    33 with sim = 0.146 ; #1 doc sim = 0.169\n",
      "best prediction true rank =     1 with sim = 0.255 ; #1 doc sim = 0.255\n",
      "\n",
      "mean reciprocal rank = 0.268\n",
      "median rank = 31\n",
      "\n",
      "CPU times: user 37.4 s, sys: 1.11 s, total: 38.5 s\n",
      "Wall time: 40.2 s\n"
     ]
    }
   ],
   "source": [
    "%%time \n",
    "\n",
    "from statistics import median\n",
    "\n",
    "trr = 0. # total reciprocal ranks\n",
    "ranks = []\n",
    "n_queries = len(test['data']) // 100 # do 1% only\n",
    "samples = random.sample(list(enumerate(indices)), n_queries)\n",
    "\n",
    "for i, predictions in samples:\n",
    "    # query document from\n",
    "    query = frozenset(shingle(test['data'][i]))\n",
    "    prediction = predictions[0]\n",
    "    \n",
    "    # compare the query doc to each doc in training set\n",
    "    # this is the most costly part\n",
    "    pairs = [(jaccard(doc, query), idx)\n",
    "             for idx, doc in enumerate(corpus)]\n",
    "    \n",
    "    # sort and reverse the results (also costly, but much less)\n",
    "    pairs = list(reversed(sorted(pairs)))\n",
    "    \n",
    "    # finally, generate and print some statistics for evaluation\n",
    "    max_similarity = pairs[0][0]\n",
    "    _, correct_ranking = zip(*pairs)\n",
    "    rank = correct_ranking.index(prediction) + 1\n",
    "    sim = 0.0\n",
    "    \n",
    "    if rank == 0: # rank last if nothing found\n",
    "        rank = len(corpus)\n",
    "    else: # get the Jaccard similarity for the matched doc \n",
    "        sim = pairs[rank-1][0]\n",
    "\n",
    "    trr += 1 / rank\n",
    "    ranks.append(rank)\n",
    "        \n",
    "    # report a few cases\n",
    "    if random.random() < 0.2:\n",
    "        print(\"best prediction true rank = %5d\" % rank,\n",
    "              \"with sim = %.3f\" % sim,\n",
    "              \"; #1 doc sim = %.3f\" % max_similarity)\n",
    "\n",
    "mrr = trr / n_queries # mean reciprocal rank\n",
    "print(\"\\nmean reciprocal rank = %.3f\" % mrr)\n",
    "print(\"median rank = %d\\n\" % median(ranks))"
   ]
  },
  {
   "cell_type": "markdown",
   "metadata": {},
   "source": [
    "As you can see, this process is around one to two orders of magnitude slower (notice that we queried 100 times less documents than before against LSH Forest, but that fraction about the same time to run). Notice that pairwise lookups scale with the number of documents in the index, while LSH Forest (mostly) just scales with the number of trees (`n_estimators`).\n",
    "\n",
    "Another useful insight is that when the predicted document isn't the first, the overall best document (\"`true doc: sim.`\") tends to be of relatively low similarity, too. So this is maybe not perfect, but at least it does not fail for the \"obvious\" cases (with high similarities), only for the less clear-cut matches.\n",
    "\n",
    "Therefore, let's look at the other important evaluation scenario: How many documents, on average, would this LSH Forest have to report to cover the truly best match - letting us estimate how big the sets we want to retrieve should be (and the number of pairwise comparisons needed to rank that set against the query)."
   ]
  },
  {
   "cell_type": "code",
   "execution_count": 20,
   "metadata": {},
   "outputs": [
    {
     "name": "stdout",
     "output_type": "stream",
     "text": [
      "mean reciprocal rank = 0.736\n",
      "median rank = 1\n",
      "cache misses = 45\n",
      "\n",
      "CPU times: user 40.5 s, sys: 489 ms, total: 41 s\n",
      "Wall time: 46.2 s\n"
     ]
    }
   ],
   "source": [
    "%%time \n",
    "\n",
    "trr = 0.0 # total reciprocal ranks\n",
    "ranks = []\n",
    "misses = 0\n",
    "n_queries = len(test['data']) // 100 # do 1% only\n",
    "samples = random.sample(list(enumerate(indices)), n_queries)\n",
    "\n",
    "for i, predictions in samples:\n",
    "    query = frozenset(shingle(test['data'][i]))\n",
    "    \n",
    "    # compare the query doc to each doc in training set\n",
    "    pairs = [(jaccard(doc, query), idx)\n",
    "             for idx, doc in enumerate(corpus)]\n",
    "    \n",
    "    # reverse-sort the results by Jaccard similarity\n",
    "    pairs = list(reversed(sorted(pairs)))\n",
    "    \n",
    "    # finally, generate and print some statistics for evaluation\n",
    "    best_doc = pairs[0][1]\n",
    "    \n",
    "    try:\n",
    "        rank = np.where(predictions==best_doc)[0][0] + 1\n",
    "        trr += 1 / rank\n",
    "        ranks.append(rank)\n",
    "    except IndexError:\n",
    "        misses += 1\n",
    "\n",
    "mrr = trr / (n_queries - misses) # mean reciprocal rank\n",
    "print(\"mean reciprocal rank = %.3f\" % mrr)\n",
    "print(\"median rank = %d\" % median(ranks))\n",
    "# n. times the top 1000 did not contain the best match at all:\n",
    "print(\"cache misses = %d\\n\" % misses) "
   ]
  },
  {
   "cell_type": "markdown",
   "metadata": {},
   "source": [
    "Well, this is a bit more clarifying. So we do have about half of our cases where we don't find the top match at all. I.e., our LSH Forest returns a set of good matches, but it does not necessarily return the best match. So depending on your use-case beware of this.\n",
    "\n",
    "## Conclusion\n",
    "\n",
    "You can build very efficient and very simple document and query search engines with LSH Forest and LSH Ensemble, but the overall performance only gives you a \"sketchy\" view of the true result, i.e., with holes. Admittedly, document clustering with LSH is a bit of a black art. But then, about any data sketching is mostly black art... However, getting this right is extremely rewarding, because indexing documents using only (tree) hashes is probably the most performant and scalable path towards building a super-fast algorithms. Overall, LSH is a great technique to locate near-duplicate documents or highly similar terms with just a few typos."
   ]
  }
 ],
 "metadata": {
  "kernelspec": {
   "display_name": "Python 3",
   "language": "python",
   "name": "python3"
  },
  "language_info": {
   "codemirror_mode": {
    "name": "ipython",
    "version": 3
   },
   "file_extension": ".py",
   "mimetype": "text/x-python",
   "name": "python",
   "nbconvert_exporter": "python",
   "pygments_lexer": "ipython3",
   "version": "3.6.5"
  }
 },
 "nbformat": 4,
 "nbformat_minor": 1
}
