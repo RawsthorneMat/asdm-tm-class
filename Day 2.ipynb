{
 "cells": [
  {
   "cell_type": "markdown",
   "metadata": {},
   "source": [
    "# Feature generation: turning texts into numbers"
   ]
  },
  {
   "cell_type": "markdown",
   "metadata": {},
   "source": [
    "Practical course material for the ASDM Class 09 (Text Mining) by Florian Leitner.\n",
    "\n",
    "© 2016 Florian Leitner. All rights reserved."
   ]
  },
  {
   "cell_type": "markdown",
   "metadata": {},
   "source": [
    "Today's lab will cover advanced techniques to prepare your text: CFDs, Huffman coding, and word embeddings."
   ]
  },
  {
   "cell_type": "code",
   "execution_count": 1,
   "metadata": {
    "collapsed": false
   },
   "outputs": [
    {
     "name": "stdout",
     "output_type": "stream",
     "text": [
      "Populating the interactive namespace from numpy and matplotlib\n"
     ]
    }
   ],
   "source": [
    "%pylab inline --no-import-all\n",
    "pylab.rcParams['figure.figsize'] = (12, 7)"
   ]
  },
  {
   "cell_type": "markdown",
   "metadata": {},
   "source": [
    "Today we also will be using [gensim](https://radimrehurek.com/gensim/index.html); Please make sure you have it installed (if not: ` conda install gensim ` or ` pip3 install gensim ` will get it done)."
   ]
  },
  {
   "cell_type": "code",
   "execution_count": 2,
   "metadata": {
    "collapsed": false
   },
   "outputs": [
    {
     "name": "stdout",
     "output_type": "stream",
     "text": [
      "*** Introductory Examples for the NLTK Book ***\n",
      "Loading text1, ..., text9 and sent1, ..., sent9\n",
      "Type the name of the text or sentence to view it.\n",
      "Type: 'texts()' or 'sents()' to list the materials.\n",
      "text1: Moby Dick by Herman Melville 1851\n",
      "text2: Sense and Sensibility by Jane Austen 1811\n",
      "text3: The Book of Genesis\n",
      "text4: Inaugural Address Corpus\n",
      "text5: Chat Corpus\n",
      "text6: Monty Python and the Holy Grail\n",
      "text7: Wall Street Journal\n",
      "text8: Personals Corpus\n",
      "text9: The Man Who Was Thursday by G . K . Chesterton 1908\n"
     ]
    }
   ],
   "source": [
    "import gensim\n",
    "import nltk\n",
    "from nltk.book import text1\n",
    "from nltk.book import text7 as wsj\n",
    "from nltk.book import FreqDist\n",
    "alice = nltk.data.load('corpora/gutenberg/carroll-alice.txt', format='text')"
   ]
  },
  {
   "cell_type": "markdown",
   "metadata": {},
   "source": [
    "## Bag-of-words"
   ]
  },
  {
   "cell_type": "markdown",
   "metadata": {},
   "source": [
    "To work with texts using \"numerical recipies\" we need to encode the text into some vector space. The most straight-forward way to encode a text as a point (i.e., an _instance_) in some n-dimensional space is to treat each unique token in our entire corpus as its own dimension in that space (i.e., a _feature_). Then, we can use the number of times (commonly [and maybe poorly] named the _frequency_ of) a token appears in a particular text (instance) in our corpus as the size of the instance' vector on that dimension.\n",
    "\n",
    "Let's assume we want to convert books into vectors we wish to classify. So we simply count all words and convert that into a long vector (a.k.a., _frequency distribution_):"
   ]
  },
  {
   "cell_type": "code",
   "execution_count": 3,
   "metadata": {
    "collapsed": false
   },
   "outputs": [
    {
     "name": "stdout",
     "output_type": "stream",
     "text": [
      "',': 18713, 'the': 13721, '.': 6862, 'of': 6536, 'and': 6024, 'a': 4569, 'to': 4542, ';': 4072, 'in': 3916, 'that': 2982, ''': 2684, '-': 2552, 'his': 2459, 'it': 2209, 'I': 2124, 's': 1739, 'is': 1695, 'he': 1661, 'with': 1659, 'was': 1632, 'as': 1620, '\"': 1478, 'all': 1462, 'for': 1414, 'this': 1280, '!': 1269, 'at': 1231, 'by': 1137, 'but': 1113, 'not': 1103, '--': 1070, 'him': 1058, 'from': 1052, 'be': 1030, 'on': 1005, 'so': 918, 'whale': 906, 'one': 889, 'you': 841, 'had': 767, 'have': 760, 'there': 715, 'But': 705, 'or': 697, 'were': 680, 'now': 646, 'which': 640, '?': 637, 'me': 627, 'like': 624, 'The': 612, 'their': 612, 'are': 586, 'they': 586, 'an': 582, 'some': 578, 'then': 571, 'my': 564, 'when': 553, 'upon': 538, 'out': 529, 'into': 520, 'man': 508, 'ship': 507, 'up': 505, 'Ahab': 501, 'more': 501, '.\"': 489, 'no': 484, 'them': 471\n"
     ]
    }
   ],
   "source": [
    "fdist1 = FreqDist(text1)\n",
    "print(\", \".join(\"'%s': %d\" % i for i in fdist1.most_common(70)))"
   ]
  },
  {
   "cell_type": "markdown",
   "metadata": {},
   "source": [
    "That is, with the help of `FreqDist`, We just created a word vector from the tokens in `text1`. "
   ]
  },
  {
   "cell_type": "code",
   "execution_count": 4,
   "metadata": {
    "collapsed": false
   },
   "outputs": [
    {
     "name": "stdout",
     "output_type": "stream",
     "text": [
      "Help on FreqDist in module nltk.probability object:\n",
      "\n",
      "class FreqDist(collections.Counter)\n",
      " |  A frequency distribution for the outcomes of an experiment.  A\n",
      " |  frequency distribution records the number of times each outcome of\n",
      " |  an experiment has occurred.  For example, a frequency distribution\n",
      " |  could be used to record the frequency of each word type in a\n",
      " |  document.  Formally, a frequency distribution can be defined as a\n",
      " |  function mapping from each sample to the number of times that\n",
      " |  sample occurred as an outcome.\n",
      " |  \n",
      " |  Frequency distributions are generally constructed by running a\n",
      " |  number of experiments, and incrementing the count for a sample\n",
      " |  every time it is an outcome of an experiment.  For example, the\n",
      " |  following code will produce a frequency distribution that encodes\n",
      " |  how often each word occurs in a text:\n",
      " |  \n",
      " |      >>> from nltk.tokenize import word_tokenize\n",
      " |      >>> from nltk.probability import FreqDist\n",
      " |      >>> sent = 'This is an example sentence'\n",
      " |      >>> fdist = FreqDist()\n",
      " |      >>> for word in word_tokenize(sent):\n",
      " |      ...    fdist[word.lower()] += 1\n",
      " |  \n",
      " |  An equivalent way to do this is with the initializer:\n",
      " |  \n",
      " |      >>> fdist = FreqDist(word.lower() for word in word_tokenize(sent))\n",
      " |  \n",
      " |  Method resolution order:\n",
      " |      FreqDist\n",
      " |      collections.Counter\n",
      " |      builtins.dict\n",
      " |      builtins.object\n",
      " |  \n",
      " |  Methods defined here:\n",
      " |  \n",
      " |  B(self)\n",
      " |      Return the total number of sample values (or \"bins\") that\n",
      " |      have counts greater than zero.  For the total\n",
      " |      number of sample outcomes recorded, use ``FreqDist.N()``.\n",
      " |      (FreqDist.B() is the same as len(FreqDist).)\n",
      " |      \n",
      " |      :rtype: int\n",
      " |  \n",
      " |  N(self)\n",
      " |      Return the total number of sample outcomes that have been\n",
      " |      recorded by this FreqDist.  For the number of unique\n",
      " |      sample values (or bins) with counts greater than zero, use\n",
      " |      ``FreqDist.B()``.\n",
      " |      \n",
      " |      :rtype: int\n",
      " |  \n",
      " |  Nr(self, r, bins=None)\n",
      " |  \n",
      " |  __add__(self, other)\n",
      " |      Add counts from two counters.\n",
      " |      \n",
      " |      >>> FreqDist('abbb') + FreqDist('bcc')\n",
      " |      FreqDist({'b': 4, 'c': 2, 'a': 1})\n",
      " |  \n",
      " |  __and__(self, other)\n",
      " |      Intersection is the minimum of corresponding counts.\n",
      " |      \n",
      " |      >>> FreqDist('abbb') & FreqDist('bcc')\n",
      " |      FreqDist({'b': 1})\n",
      " |  \n",
      " |  __ge__ lambda self, other\n",
      " |      # @total_ordering doesn't work here, since the class inherits from a builtin class\n",
      " |  \n",
      " |  __gt__ lambda self, other\n",
      " |  \n",
      " |  __init__(self, samples=None)\n",
      " |      Construct a new frequency distribution.  If ``samples`` is\n",
      " |      given, then the frequency distribution will be initialized\n",
      " |      with the count of each object in ``samples``; otherwise, it\n",
      " |      will be initialized to be empty.\n",
      " |      \n",
      " |      In particular, ``FreqDist()`` returns an empty frequency\n",
      " |      distribution; and ``FreqDist(samples)`` first creates an empty\n",
      " |      frequency distribution, and then calls ``update`` with the\n",
      " |      list ``samples``.\n",
      " |      \n",
      " |      :param samples: The samples to initialize the frequency\n",
      " |          distribution with.\n",
      " |      :type samples: Sequence\n",
      " |  \n",
      " |  __le__(self, other)\n",
      " |      Return self<=value.\n",
      " |  \n",
      " |  __lt__ lambda self, other\n",
      " |  \n",
      " |  __or__(self, other)\n",
      " |      Union is the maximum of value in either of the input counters.\n",
      " |      \n",
      " |      >>> FreqDist('abbb') | FreqDist('bcc')\n",
      " |      FreqDist({'b': 3, 'c': 2, 'a': 1})\n",
      " |  \n",
      " |  __repr__(self)\n",
      " |      Return a string representation of this FreqDist.\n",
      " |      \n",
      " |      :rtype: string\n",
      " |  \n",
      " |  __str__(self)\n",
      " |      Return a string representation of this FreqDist.\n",
      " |      \n",
      " |      :rtype: string\n",
      " |  \n",
      " |  __sub__(self, other)\n",
      " |      Subtract count, but keep only results with positive counts.\n",
      " |      \n",
      " |      >>> FreqDist('abbbc') - FreqDist('bccd')\n",
      " |      FreqDist({'b': 2, 'a': 1})\n",
      " |  \n",
      " |  __unicode__ = __str__(self)\n",
      " |  \n",
      " |  copy(self)\n",
      " |      Create a copy of this frequency distribution.\n",
      " |      \n",
      " |      :rtype: FreqDist\n",
      " |  \n",
      " |  freq(self, sample)\n",
      " |      Return the frequency of a given sample.  The frequency of a\n",
      " |      sample is defined as the count of that sample divided by the\n",
      " |      total number of sample outcomes that have been recorded by\n",
      " |      this FreqDist.  The count of a sample is defined as the\n",
      " |      number of times that sample outcome was recorded by this\n",
      " |      FreqDist.  Frequencies are always real numbers in the range\n",
      " |      [0, 1].\n",
      " |      \n",
      " |      :param sample: the sample whose frequency\n",
      " |             should be returned.\n",
      " |      :type sample: any\n",
      " |      :rtype: float\n",
      " |  \n",
      " |  hapaxes(self)\n",
      " |      Return a list of all samples that occur once (hapax legomena)\n",
      " |      \n",
      " |      :rtype: list\n",
      " |  \n",
      " |  max(self)\n",
      " |      Return the sample with the greatest number of outcomes in this\n",
      " |      frequency distribution.  If two or more samples have the same\n",
      " |      number of outcomes, return one of them; which sample is\n",
      " |      returned is undefined.  If no outcomes have occurred in this\n",
      " |      frequency distribution, return None.\n",
      " |      \n",
      " |      :return: The sample with the maximum number of outcomes in this\n",
      " |              frequency distribution.\n",
      " |      :rtype: any or None\n",
      " |  \n",
      " |  pformat(self, maxlen=10)\n",
      " |      Return a string representation of this FreqDist.\n",
      " |      \n",
      " |      :param maxlen: The maximum number of items to display\n",
      " |      :type maxlen: int\n",
      " |      :rtype: string\n",
      " |  \n",
      " |  plot(self, *args, **kwargs)\n",
      " |      Plot samples from the frequency distribution\n",
      " |      displaying the most frequent sample first.  If an integer\n",
      " |      parameter is supplied, stop after this many samples have been\n",
      " |      plotted.  For a cumulative plot, specify cumulative=True.\n",
      " |      (Requires Matplotlib to be installed.)\n",
      " |      \n",
      " |      :param title: The title for the graph\n",
      " |      :type title: str\n",
      " |      :param cumulative: A flag to specify whether the plot is cumulative (default = False)\n",
      " |      :type title: bool\n",
      " |  \n",
      " |  pprint(self, maxlen=10, stream=None)\n",
      " |      Print a string representation of this FreqDist to 'stream'\n",
      " |      \n",
      " |      :param maxlen: The maximum number of items to print\n",
      " |      :type maxlen: int\n",
      " |      :param stream: The stream to print to. stdout by default\n",
      " |  \n",
      " |  r_Nr(self, bins=None)\n",
      " |      Return the dictionary mapping r to Nr, the number of samples with frequency r, where Nr > 0.\n",
      " |      \n",
      " |      :type bins: int\n",
      " |      :param bins: The number of possible sample outcomes.  ``bins``\n",
      " |          is used to calculate Nr(0).  In particular, Nr(0) is\n",
      " |          ``bins-self.B()``.  If ``bins`` is not specified, it\n",
      " |          defaults to ``self.B()`` (so Nr(0) will be 0).\n",
      " |      :rtype: int\n",
      " |  \n",
      " |  tabulate(self, *args, **kwargs)\n",
      " |      Tabulate the given samples from the frequency distribution (cumulative),\n",
      " |      displaying the most frequent sample first.  If an integer\n",
      " |      parameter is supplied, stop after this many samples have been\n",
      " |      plotted.\n",
      " |      \n",
      " |      :param samples: The samples to plot (default is all samples)\n",
      " |      :type samples: list\n",
      " |      :param cumulative: A flag to specify whether the freqs are cumulative (default = False)\n",
      " |      :type title: bool\n",
      " |  \n",
      " |  unicode_repr = __repr__(self)\n",
      " |  \n",
      " |  ----------------------------------------------------------------------\n",
      " |  Methods inherited from collections.Counter:\n",
      " |  \n",
      " |  __delitem__(self, elem)\n",
      " |      Like dict.__delitem__() but does not raise KeyError for missing values.\n",
      " |  \n",
      " |  __iadd__(self, other)\n",
      " |      Inplace add from another counter, keeping only positive counts.\n",
      " |      \n",
      " |      >>> c = Counter('abbb')\n",
      " |      >>> c += Counter('bcc')\n",
      " |      >>> c\n",
      " |      Counter({'b': 4, 'c': 2, 'a': 1})\n",
      " |  \n",
      " |  __iand__(self, other)\n",
      " |      Inplace intersection is the minimum of corresponding counts.\n",
      " |      \n",
      " |      >>> c = Counter('abbb')\n",
      " |      >>> c &= Counter('bcc')\n",
      " |      >>> c\n",
      " |      Counter({'b': 1})\n",
      " |  \n",
      " |  __ior__(self, other)\n",
      " |      Inplace union is the maximum of value from either counter.\n",
      " |      \n",
      " |      >>> c = Counter('abbb')\n",
      " |      >>> c |= Counter('bcc')\n",
      " |      >>> c\n",
      " |      Counter({'b': 3, 'c': 2, 'a': 1})\n",
      " |  \n",
      " |  __isub__(self, other)\n",
      " |      Inplace subtract counter, but keep only results with positive counts.\n",
      " |      \n",
      " |      >>> c = Counter('abbbc')\n",
      " |      >>> c -= Counter('bccd')\n",
      " |      >>> c\n",
      " |      Counter({'b': 2, 'a': 1})\n",
      " |  \n",
      " |  __missing__(self, key)\n",
      " |      The count of elements not in the Counter is zero.\n",
      " |  \n",
      " |  __neg__(self)\n",
      " |      Subtracts from an empty counter.  Strips positive and zero counts,\n",
      " |      and flips the sign on negative counts.\n",
      " |  \n",
      " |  __pos__(self)\n",
      " |      Adds an empty counter, effectively stripping negative and zero counts\n",
      " |  \n",
      " |  __reduce__(self)\n",
      " |      helper for pickle\n",
      " |  \n",
      " |  elements(self)\n",
      " |      Iterator over elements repeating each as many times as its count.\n",
      " |      \n",
      " |      >>> c = Counter('ABCABC')\n",
      " |      >>> sorted(c.elements())\n",
      " |      ['A', 'A', 'B', 'B', 'C', 'C']\n",
      " |      \n",
      " |      # Knuth's example for prime factors of 1836:  2**2 * 3**3 * 17**1\n",
      " |      >>> prime_factors = Counter({2: 2, 3: 3, 17: 1})\n",
      " |      >>> product = 1\n",
      " |      >>> for factor in prime_factors.elements():     # loop over factors\n",
      " |      ...     product *= factor                       # and multiply them\n",
      " |      >>> product\n",
      " |      1836\n",
      " |      \n",
      " |      Note, if an element's count has been set to zero or is a negative\n",
      " |      number, elements() will ignore it.\n",
      " |  \n",
      " |  most_common(self, n=None)\n",
      " |      List the n most common elements and their counts from the most\n",
      " |      common to the least.  If n is None, then list all element counts.\n",
      " |      \n",
      " |      >>> Counter('abcdeabcdabcaba').most_common(3)\n",
      " |      [('a', 5), ('b', 4), ('c', 3)]\n",
      " |  \n",
      " |  subtract(*args, **kwds)\n",
      " |      Like dict.update() but subtracts counts instead of replacing them.\n",
      " |      Counts can be reduced below zero.  Both the inputs and outputs are\n",
      " |      allowed to contain zero and negative counts.\n",
      " |      \n",
      " |      Source can be an iterable, a dictionary, or another Counter instance.\n",
      " |      \n",
      " |      >>> c = Counter('which')\n",
      " |      >>> c.subtract('witch')             # subtract elements from another iterable\n",
      " |      >>> c.subtract(Counter('watch'))    # subtract elements from another counter\n",
      " |      >>> c['h']                          # 2 in which, minus 1 in witch, minus 1 in watch\n",
      " |      0\n",
      " |      >>> c['w']                          # 1 in which, minus 1 in witch, minus 1 in watch\n",
      " |      -1\n",
      " |  \n",
      " |  update(*args, **kwds)\n",
      " |      Like dict.update() but add counts instead of replacing them.\n",
      " |      \n",
      " |      Source can be an iterable, a dictionary, or another Counter instance.\n",
      " |      \n",
      " |      >>> c = Counter('which')\n",
      " |      >>> c.update('witch')           # add elements from another iterable\n",
      " |      >>> d = Counter('watch')\n",
      " |      >>> c.update(d)                 # add elements from another counter\n",
      " |      >>> c['h']                      # four 'h' in which, witch, and watch\n",
      " |      4\n",
      " |  \n",
      " |  ----------------------------------------------------------------------\n",
      " |  Class methods inherited from collections.Counter:\n",
      " |  \n",
      " |  fromkeys(iterable, v=None) from builtins.type\n",
      " |      Returns a new dict with keys from iterable and values equal to value.\n",
      " |  \n",
      " |  ----------------------------------------------------------------------\n",
      " |  Data descriptors inherited from collections.Counter:\n",
      " |  \n",
      " |  __dict__\n",
      " |      dictionary for instance variables (if defined)\n",
      " |  \n",
      " |  __weakref__\n",
      " |      list of weak references to the object (if defined)\n",
      " |  \n",
      " |  ----------------------------------------------------------------------\n",
      " |  Methods inherited from builtins.dict:\n",
      " |  \n",
      " |  __contains__(self, key, /)\n",
      " |      True if D has a key k, else False.\n",
      " |  \n",
      " |  __eq__(self, value, /)\n",
      " |      Return self==value.\n",
      " |  \n",
      " |  __getattribute__(self, name, /)\n",
      " |      Return getattr(self, name).\n",
      " |  \n",
      " |  __getitem__(...)\n",
      " |      x.__getitem__(y) <==> x[y]\n",
      " |  \n",
      " |  __iter__(self, /)\n",
      " |      Implement iter(self).\n",
      " |  \n",
      " |  __len__(self, /)\n",
      " |      Return len(self).\n",
      " |  \n",
      " |  __ne__(self, value, /)\n",
      " |      Return self!=value.\n",
      " |  \n",
      " |  __new__(*args, **kwargs) from builtins.type\n",
      " |      Create and return a new object.  See help(type) for accurate signature.\n",
      " |  \n",
      " |  __setitem__(self, key, value, /)\n",
      " |      Set self[key] to value.\n",
      " |  \n",
      " |  __sizeof__(...)\n",
      " |      D.__sizeof__() -> size of D in memory, in bytes\n",
      " |  \n",
      " |  clear(...)\n",
      " |      D.clear() -> None.  Remove all items from D.\n",
      " |  \n",
      " |  get(...)\n",
      " |      D.get(k[,d]) -> D[k] if k in D, else d.  d defaults to None.\n",
      " |  \n",
      " |  items(...)\n",
      " |      D.items() -> a set-like object providing a view on D's items\n",
      " |  \n",
      " |  keys(...)\n",
      " |      D.keys() -> a set-like object providing a view on D's keys\n",
      " |  \n",
      " |  pop(...)\n",
      " |      D.pop(k[,d]) -> v, remove specified key and return the corresponding value.\n",
      " |      If key is not found, d is returned if given, otherwise KeyError is raised\n",
      " |  \n",
      " |  popitem(...)\n",
      " |      D.popitem() -> (k, v), remove and return some (key, value) pair as a\n",
      " |      2-tuple; but raise KeyError if D is empty.\n",
      " |  \n",
      " |  setdefault(...)\n",
      " |      D.setdefault(k[,d]) -> D.get(k,d), also set D[k]=d if k not in D\n",
      " |  \n",
      " |  values(...)\n",
      " |      D.values() -> an object providing a view on D's values\n",
      " |  \n",
      " |  ----------------------------------------------------------------------\n",
      " |  Data and other attributes inherited from builtins.dict:\n",
      " |  \n",
      " |  __hash__ = None\n",
      "\n"
     ]
    }
   ],
   "source": [
    "help(fdist1)"
   ]
  },
  {
   "cell_type": "markdown",
   "metadata": {},
   "source": [
    "However, around the 70 most frequent tokens account for half of all words in the corpus, with just *seven* words making up nearly one quarter of all tokens in this text (',', 'the', '.', 'of', 'and', 'a', and 'to')!"
   ]
  },
  {
   "cell_type": "code",
   "execution_count": 5,
   "metadata": {
    "collapsed": false
   },
   "outputs": [
    {
     "name": "stdout",
     "output_type": "stream",
     "text": [
      "total: 260819\n"
     ]
    },
    {
     "data": {
      "image/png": "[encoded data removed]",
      "text/plain": [
       "<matplotlib.figure.Figure at 0x117a14e48>"
      ]
     },
     "metadata": {},
     "output_type": "display_data"
    }
   ],
   "source": [
    "print(\"total:\", fdist1.N())\n",
    "fdist1.plot(70, cumulative=True)"
   ]
  },
  {
   "cell_type": "markdown",
   "metadata": {},
   "source": [
    "The number of unique tokens in `fdist1` then is the the dimensionality of our vector space:"
   ]
  },
  {
   "cell_type": "code",
   "execution_count": 6,
   "metadata": {
    "collapsed": false
   },
   "outputs": [
    {
     "data": {
      "text/plain": [
       "19317"
      ]
     },
     "execution_count": 6,
     "metadata": {},
     "output_type": "execute_result"
    }
   ],
   "source": [
    "fdist1.B()"
   ]
  },
  {
   "cell_type": "markdown",
   "metadata": {},
   "source": [
    "However, of all those tokens, nearly half only occur once; Such tokens are called \"[hapax legomenons](https://en.wikipedia.org/wiki/Hapax_legomenon)\", or, colloquially, simply \"hapaxes\":"
   ]
  },
  {
   "cell_type": "code",
   "execution_count": 7,
   "metadata": {
    "collapsed": false
   },
   "outputs": [
    {
     "data": {
      "text/plain": [
       "9002"
      ]
     },
     "execution_count": 7,
     "metadata": {},
     "output_type": "execute_result"
    }
   ],
   "source": [
    "len(fdist1.hapaxes())"
   ]
  },
  {
   "cell_type": "markdown",
   "metadata": {},
   "source": [
    "By extension, this means if we'd create a bag-of-word vector with possibly hundreds of thousands of tokens from all the books we are about to classify, most tokens would hardly ever be observed in any book but one.\n",
    "\n",
    "To lessen that impact, we can filter out words with extremely low frequency, e.g. drop tokens (dimensions) from the final vector space that we use. But even then, these vectors will be extremely sparse, as can be deduced from the CFD plot above. And sparse vectors in turn can be a problem with many Machine Learning techniques, as we discussed in class."
   ]
  },
  {
   "cell_type": "markdown",
   "metadata": {},
   "source": [
    "## Langauge models"
   ]
  },
  {
   "cell_type": "code",
   "execution_count": 8,
   "metadata": {
    "collapsed": false
   },
   "outputs": [
    {
     "data": {
      "image/png": "[encoded data removed]",
      "text/plain": [
       "<matplotlib.figure.Figure at 0x117b2b2e8>"
      ]
     },
     "metadata": {},
     "output_type": "display_data"
    }
   ],
   "source": [
    "fdistWsj = FreqDist(wsj)\n",
    "fdistWsj.plot(70, cumulative=True)"
   ]
  },
  {
   "cell_type": "code",
   "execution_count": 9,
   "metadata": {
    "collapsed": false
   },
   "outputs": [
    {
     "data": {
      "image/png": "[encoded data removed]",
      "text/plain": [
       "<matplotlib.figure.Figure at 0x11709fc88>"
      ]
     },
     "metadata": {},
     "output_type": "display_data"
    }
   ],
   "source": [
    "from nltk import ConditionalFreqDist as CFD\n",
    "bigramDist = CFD(nltk.bigrams(wsj))\n",
    "bigramDist['company'].plot()"
   ]
  },
  {
   "cell_type": "code",
   "execution_count": 10,
   "metadata": {
    "collapsed": false
   },
   "outputs": [
    {
     "data": {
      "image/png": "[encoded data removed]",
      "text/plain": [
       "<matplotlib.figure.Figure at 0x117a143c8>"
      ]
     },
     "metadata": {},
     "output_type": "display_data"
    }
   ],
   "source": [
    "plt.figure(figsize=(4, 3))\n",
    "bigramDist['spokesman'].plot()"
   ]
  },
  {
   "cell_type": "markdown",
   "metadata": {},
   "source": [
    "It almost seems as if its the spokesmen is doing the negative sentiment speeches (condemned, declined) and \"the company\" announces things when the outlook is more positive (expects, hopes)."
   ]
  },
  {
   "cell_type": "code",
   "execution_count": 11,
   "metadata": {
    "collapsed": false
   },
   "outputs": [
    {
     "name": "stdout",
     "output_type": "stream",
     "text": [
      "          condemned  declined estimated   expects     hopes  reported      said      says \n",
      "  company         0         0         0         3         2         2        39         2 \n",
      "spokesman         1         4         1         0         0         0        15         0 \n"
     ]
    }
   ],
   "source": [
    "bigramDist.tabulate(conditions=['company', 'spokesman'],\n",
    "                    samples=[\"condemned\", \"declined\", \"estimated\", \"expects\", \"hopes\", \"reported\", \"said\", \"says\"])"
   ]
  },
  {
   "cell_type": "markdown",
   "metadata": {},
   "source": [
    "Due to how we are building these frequency models from observed n-gram probabilities, we say we have a *generative* model that allows us to _generate language_. And by combining that model with a random number generator, even can even generate language non-deterministically."
   ]
  },
  {
   "cell_type": "code",
   "execution_count": 12,
   "metadata": {
    "collapsed": true
   },
   "outputs": [],
   "source": [
    "def generate_model(cfdist, word, num=10):\n",
    "    for i in range(num):\n",
    "        print(word, end=' ')\n",
    "        word = cfdist[word].max()"
   ]
  },
  {
   "cell_type": "code",
   "execution_count": 13,
   "metadata": {
    "collapsed": false
   },
   "outputs": [
    {
     "name": "stdout",
     "output_type": "stream",
     "text": [
      "the company 's a share , the company 's a share "
     ]
    }
   ],
   "source": [
    "generate_model(bigramDist, 'the', 11)"
   ]
  },
  {
   "cell_type": "code",
   "execution_count": 14,
   "metadata": {
    "collapsed": true
   },
   "outputs": [],
   "source": [
    "import random\n",
    "\n",
    "def generate_model(cfdist, word, num=10, prefix=\"\"):\n",
    "    print(prefix, end='')\n",
    "    for i in range(num):\n",
    "        print(word, end=' ')\n",
    "        # word = cfdist[word].max()\n",
    "        word = random.choice(list(cfdist[word].elements()))"
   ]
  },
  {
   "cell_type": "code",
   "execution_count": 18,
   "metadata": {
    "collapsed": false
   },
   "outputs": [
    {
     "name": "stdout",
     "output_type": "stream",
     "text": [
      "The company , triple the firm . The July , trying "
     ]
    }
   ],
   "source": [
    "generate_model(bigramDist, 'company', prefix=\"The \")"
   ]
  },
  {
   "cell_type": "markdown",
   "metadata": {},
   "source": [
    "To build better models then, we just increase the n-gram sizes (models with 5-grams do exist); But the longer the token sequence for the modeling gets, the smaller the samples we can work with will be. I.e., most grammatically correct, possible 5-grams will only be observed in very few texts out of *all* of humanty's \"text corpus\".\n",
    "\n",
    "So just as with the Bag-of-Words, how can we create reliable, statistical (language or sequence) models for any of the less frequent tokens if we only have very few or just one exmple to learn from in those cases?"
   ]
  },
  {
   "cell_type": "markdown",
   "metadata": {},
   "source": [
    "## Word embeddings"
   ]
  },
  {
   "cell_type": "markdown",
   "metadata": {},
   "source": [
    "Word embeddings are a way to convert these high-dimensional, sparse vectors we have seen so far into low-dimensional, dense ones.\n",
    "\n",
    "For example, we can use the \"neural embedding\" technique to compute (factorize) compact M-dimensional vectors from N-dimensional input vectors."
   ]
  },
  {
   "cell_type": "code",
   "execution_count": 22,
   "metadata": {
    "collapsed": false
   },
   "outputs": [
    {
     "name": "stdout",
     "output_type": "stream",
     "text": [
      "Help on class Word2Vec in module gensim.models.word2vec:\n",
      "\n",
      "class Word2Vec(gensim.utils.SaveLoad)\n",
      " |  Class for training, using and evaluating neural networks described in https://code.google.com/p/word2vec/\n",
      " |  \n",
      " |  The model can be stored/loaded via its `save()` and `load()` methods, or stored/loaded in a format\n",
      " |  compatible with the original word2vec implementation via `save_word2vec_format()` and `load_word2vec_format()`.\n",
      " |  \n",
      " |  Method resolution order:\n",
      " |      Word2Vec\n",
      " |      gensim.utils.SaveLoad\n",
      " |      builtins.object\n",
      " |  \n",
      " |  Methods defined here:\n",
      " |  \n",
      " |  __contains__(self, word)\n",
      " |  \n",
      " |  __getitem__(self, words)\n",
      " |      Accept a single word or a list of words as input.\n",
      " |      \n",
      " |      If a single word: returns the word's representations in vector space, as\n",
      " |      a 1D numpy array.\n",
      " |      \n",
      " |      Multiple words: return the words' representations in vector space, as a\n",
      " |      2d numpy array: #words x #vector_size. Matrix rows are in the same order\n",
      " |      as in input.\n",
      " |      \n",
      " |      Example::\n",
      " |      \n",
      " |        >>> trained_model['office']\n",
      " |        array([ -1.40128313e-02, ...])\n",
      " |      \n",
      " |        >>> trained_model[['office', 'products']]\n",
      " |        array([ -1.40128313e-02, ...]\n",
      " |              [ -1.70425311e-03, ...]\n",
      " |               ...)\n",
      " |  \n",
      " |  __init__(self, sentences=None, size=100, alpha=0.025, window=5, min_count=5, max_vocab_size=None, sample=0.001, seed=1, workers=3, min_alpha=0.0001, sg=0, hs=0, negative=5, cbow_mean=1, hashfxn=<built-in function hash>, iter=5, null_word=0, trim_rule=None, sorted_vocab=1, batch_words=10000)\n",
      " |      Initialize the model from an iterable of `sentences`. Each sentence is a\n",
      " |      list of words (unicode strings) that will be used for training.\n",
      " |      \n",
      " |      The `sentences` iterable can be simply a list, but for larger corpora,\n",
      " |      consider an iterable that streams the sentences directly from disk/network.\n",
      " |      See :class:`BrownCorpus`, :class:`Text8Corpus` or :class:`LineSentence` in\n",
      " |      this module for such examples.\n",
      " |      \n",
      " |      If you don't supply `sentences`, the model is left uninitialized -- use if\n",
      " |      you plan to initialize it in some other way.\n",
      " |      \n",
      " |      `sg` defines the training algorithm. By default (`sg=0`), CBOW is used.\n",
      " |      Otherwise (`sg=1`), skip-gram is employed.\n",
      " |      \n",
      " |      `size` is the dimensionality of the feature vectors.\n",
      " |      \n",
      " |      `window` is the maximum distance between the current and predicted word within a sentence.\n",
      " |      \n",
      " |      `alpha` is the initial learning rate (will linearly drop to zero as training progresses).\n",
      " |      \n",
      " |      `seed` = for the random number generator. Initial vectors for each\n",
      " |      word are seeded with a hash of the concatenation of word + str(seed).\n",
      " |      \n",
      " |      `min_count` = ignore all words with total frequency lower than this.\n",
      " |      \n",
      " |      `max_vocab_size` = limit RAM during vocabulary building; if there are more unique\n",
      " |      words than this, then prune the infrequent ones. Every 10 million word types\n",
      " |      need about 1GB of RAM. Set to `None` for no limit (default).\n",
      " |      \n",
      " |      `sample` = threshold for configuring which higher-frequency words are randomly downsampled;\n",
      " |          default is 1e-3, useful range is (0, 1e-5).\n",
      " |      \n",
      " |      `workers` = use this many worker threads to train the model (=faster training with multicore machines).\n",
      " |      \n",
      " |      `hs` = if 1, hierarchical softmax will be used for model training.\n",
      " |      If set to 0 (default), and `negative` is non-zero, negative sampling will be used.\n",
      " |      \n",
      " |      `negative` = if > 0, negative sampling will be used, the int for negative\n",
      " |      specifies how many \"noise words\" should be drawn (usually between 5-20).\n",
      " |      Default is 5. If set to 0, no negative samping is used.\n",
      " |      \n",
      " |      `cbow_mean` = if 0, use the sum of the context word vectors. If 1 (default), use the mean.\n",
      " |      Only applies when cbow is used.\n",
      " |      \n",
      " |      `hashfxn` = hash function to use to randomly initialize weights, for increased\n",
      " |      training reproducibility. Default is Python's rudimentary built in hash function.\n",
      " |      \n",
      " |      `iter` = number of iterations (epochs) over the corpus.\n",
      " |      \n",
      " |      `trim_rule` = vocabulary trimming rule, specifies whether certain words should remain\n",
      " |       in the vocabulary, be trimmed away, or handled using the default (discard if word count < min_count).\n",
      " |       Can be None (min_count will be used), or a callable that accepts parameters (word, count, min_count) and\n",
      " |       returns either util.RULE_DISCARD, util.RULE_KEEP or util.RULE_DEFAULT.\n",
      " |       Note: The rule, if given, is only used prune vocabulary during build_vocab() and is not stored as part\n",
      " |        of the model.\n",
      " |      \n",
      " |      `sorted_vocab` = if 1 (default), sort the vocabulary by descending frequency before\n",
      " |      assigning word indexes.\n",
      " |      \n",
      " |      `batch_words` = target size (in words) for batches of examples passed to worker threads (and\n",
      " |      thus cython routines). Default is 10000. (Larger batches can be passed if individual\n",
      " |      texts are longer, but the cython code may truncate.)\n",
      " |  \n",
      " |  __str__(self)\n",
      " |      Return str(self).\n",
      " |  \n",
      " |  accuracy(self, questions, restrict_vocab=30000, most_similar=<function Word2Vec.most_similar at 0x1128266a8>)\n",
      " |      Compute accuracy of the model. `questions` is a filename where lines are\n",
      " |      4-tuples of words, split into sections by \": SECTION NAME\" lines.\n",
      " |      See https://code.google.com/p/word2vec/source/browse/trunk/questions-words.txt for an example.\n",
      " |      \n",
      " |      The accuracy is reported (=printed to log and returned as a list) for each\n",
      " |      section separately, plus there's one aggregate summary at the end.\n",
      " |      \n",
      " |      Use `restrict_vocab` to ignore all questions containing a word whose frequency\n",
      " |      is not in the top-N most frequent words (default top 30,000).\n",
      " |      \n",
      " |      This method corresponds to the `compute-accuracy` script of the original C word2vec.\n",
      " |  \n",
      " |  build_vocab(self, sentences, keep_raw_vocab=False, trim_rule=None)\n",
      " |      Build vocabulary from a sequence of sentences (can be a once-only generator stream).\n",
      " |      Each sentence must be a list of unicode strings.\n",
      " |  \n",
      " |  clear_sims(self)\n",
      " |  \n",
      " |  create_binary_tree(self)\n",
      " |      Create a binary Huffman tree using stored vocabulary word counts. Frequent words\n",
      " |      will have shorter binary codes. Called internally from `build_vocab()`.\n",
      " |  \n",
      " |  doesnt_match(self, words)\n",
      " |      Which word from the given list doesn't go with the others?\n",
      " |      \n",
      " |      Example::\n",
      " |      \n",
      " |        >>> trained_model.doesnt_match(\"breakfast cereal dinner lunch\".split())\n",
      " |        'cereal'\n",
      " |  \n",
      " |  estimate_memory(self, vocab_size=None, report=None)\n",
      " |      Estimate required memory for a model using current settings and provided vocabulary size.\n",
      " |  \n",
      " |  finalize_vocab(self)\n",
      " |      Build tables and model weights based on final vocabulary settings.\n",
      " |  \n",
      " |  init_sims(self, replace=False)\n",
      " |      Precompute L2-normalized vectors.\n",
      " |      \n",
      " |      If `replace` is set, forget the original vectors and only keep the normalized\n",
      " |      ones = saves lots of memory!\n",
      " |      \n",
      " |      Note that you **cannot continue training** after doing a replace. The model becomes\n",
      " |      effectively read-only = you can call `most_similar`, `similarity` etc., but not `train`.\n",
      " |  \n",
      " |  intersect_word2vec_format(self, fname, binary=False, encoding='utf8', unicode_errors='strict')\n",
      " |      Merge the input-hidden weight matrix from the original C word2vec-tool format\n",
      " |      given, where it intersects with the current vocabulary. (No words are added to the\n",
      " |      existing vocabulary, but intersecting words adopt the file's weights, and\n",
      " |      non-intersecting words are left alone.)\n",
      " |      \n",
      " |      `binary` is a boolean indicating whether the data is in binary word2vec format.\n",
      " |  \n",
      " |  make_cum_table(self, power=0.75, domain=2147483647)\n",
      " |      Create a cumulative-distribution table using stored vocabulary word counts for\n",
      " |      drawing random words in the negative-sampling training routines.\n",
      " |      \n",
      " |      To draw a word index, choose a random integer up to the maximum value in the\n",
      " |      table (cum_table[-1]), then finding that integer's sorted insertion point\n",
      " |      (as if by bisect_left or ndarray.searchsorted()). That insertion point is the\n",
      " |      drawn index, coming up in proportion equal to the increment at that slot.\n",
      " |      \n",
      " |      Called internally from 'build_vocab()'.\n",
      " |  \n",
      " |  most_similar(self, positive=[], negative=[], topn=10, restrict_vocab=None)\n",
      " |      Find the top-N most similar words. Positive words contribute positively towards the\n",
      " |      similarity, negative words negatively.\n",
      " |      \n",
      " |      This method computes cosine similarity between a simple mean of the projection\n",
      " |      weight vectors of the given words and the vectors for each word in the model.\n",
      " |      The method corresponds to the `word-analogy` and `distance` scripts in the original\n",
      " |      word2vec implementation.\n",
      " |      \n",
      " |      If topn is False, most_similar returns the vector of similarity scores.\n",
      " |      \n",
      " |      `restrict_vocab` is an optional integer which limits the range of vectors which\n",
      " |      are searched for most-similar values. For example, restrict_vocab=10000 would\n",
      " |      only check the first 10000 word vectors in the vocabulary order. (This may be\n",
      " |      meaningful if you've sorted the vocabulary by descending frequency.)\n",
      " |      \n",
      " |      Example::\n",
      " |      \n",
      " |        >>> trained_model.most_similar(positive=['woman', 'king'], negative=['man'])\n",
      " |        [('queen', 0.50882536), ...]\n",
      " |  \n",
      " |  most_similar_cosmul(self, positive=[], negative=[], topn=10)\n",
      " |      Find the top-N most similar words, using the multiplicative combination objective\n",
      " |      proposed by Omer Levy and Yoav Goldberg in [4]_. Positive words still contribute\n",
      " |      positively towards the similarity, negative words negatively, but with less\n",
      " |      susceptibility to one large distance dominating the calculation.\n",
      " |      \n",
      " |      In the common analogy-solving case, of two positive and one negative examples,\n",
      " |      this method is equivalent to the \"3CosMul\" objective (equation (4)) of Levy and Goldberg.\n",
      " |      \n",
      " |      Additional positive or negative examples contribute to the numerator or denominator,\n",
      " |      respectively – a potentially sensible but untested extension of the method. (With\n",
      " |      a single positive example, rankings will be the same as in the default most_similar.)\n",
      " |      \n",
      " |      Example::\n",
      " |      \n",
      " |        >>> trained_model.most_similar_cosmul(positive=['baghdad', 'england'], negative=['london'])\n",
      " |        [(u'iraq', 0.8488819003105164), ...]\n",
      " |      \n",
      " |      .. [4] Omer Levy and Yoav Goldberg. Linguistic Regularities in Sparse and Explicit Word Representations, 2014.\n",
      " |  \n",
      " |  n_similarity(self, ws1, ws2)\n",
      " |      Compute cosine similarity between two sets of words.\n",
      " |      \n",
      " |      Example::\n",
      " |      \n",
      " |        >>> trained_model.n_similarity(['sushi', 'shop'], ['japanese', 'restaurant'])\n",
      " |        0.61540466561049689\n",
      " |      \n",
      " |        >>> trained_model.n_similarity(['restaurant', 'japanese'], ['japanese', 'restaurant'])\n",
      " |        1.0000000000000004\n",
      " |      \n",
      " |        >>> trained_model.n_similarity(['sushi'], ['restaurant']) == trained_model.similarity('sushi', 'restaurant')\n",
      " |        True\n",
      " |  \n",
      " |  reset_from(self, other_model)\n",
      " |      Borrow shareable pre-built structures (like vocab) from the other_model. Useful\n",
      " |      if testing multiple models in parallel on the same corpus.\n",
      " |  \n",
      " |  reset_weights(self)\n",
      " |      Reset all projection weights to an initial (untrained) state, but keep the existing vocabulary.\n",
      " |  \n",
      " |  save(self, *args, **kwargs)\n",
      " |      Save the object to file (also see `load`).\n",
      " |      \n",
      " |      `fname_or_handle` is either a string specifying the file name to\n",
      " |      save to, or an open file-like object which can be written to. If\n",
      " |      the object is a file handle, no special array handling will be\n",
      " |      performed; all attributes will be saved to the same file.\n",
      " |      \n",
      " |      If `separately` is None, automatically detect large\n",
      " |      numpy/scipy.sparse arrays in the object being stored, and store\n",
      " |      them into separate files. This avoids pickle memory errors and\n",
      " |      allows mmap'ing large arrays back on load efficiently.\n",
      " |      \n",
      " |      You can also set `separately` manually, in which case it must be\n",
      " |      a list of attribute names to be stored in separate files. The\n",
      " |      automatic check is not performed in this case.\n",
      " |      \n",
      " |      `ignore` is a set of attribute names to *not* serialize (file\n",
      " |      handles, caches etc). On subsequent load() these attributes will\n",
      " |      be set to None.\n",
      " |      \n",
      " |      `pickle_protocol` defaults to 2 so the pickled object can be imported\n",
      " |      in both Python 2 and 3.\n",
      " |  \n",
      " |  save_word2vec_format(self, fname, fvocab=None, binary=False)\n",
      " |      Store the input-hidden weight matrix in the same format used by the original\n",
      " |      C word2vec-tool, for compatibility.\n",
      " |  \n",
      " |  scale_vocab(self, min_count=None, sample=None, dry_run=False, keep_raw_vocab=False, trim_rule=None)\n",
      " |      Apply vocabulary settings for `min_count` (discarding less-frequent words)\n",
      " |      and `sample` (controlling the downsampling of more-frequent words).\n",
      " |      \n",
      " |      Calling with `dry_run=True` will only simulate the provided settings and\n",
      " |      report the size of the retained vocabulary, effective corpus length, and\n",
      " |      estimated memory requirements. Results are both printed via logging and\n",
      " |      returned as a dict.\n",
      " |      \n",
      " |      Delete the raw vocabulary after the scaling is done to free up RAM,\n",
      " |      unless `keep_raw_vocab` is set.\n",
      " |  \n",
      " |  scan_vocab(self, sentences, progress_per=10000, trim_rule=None)\n",
      " |      Do an initial scan of all words appearing in sentences.\n",
      " |  \n",
      " |  score(self, sentences, total_sentences=1000000, chunksize=100, queue_factor=2, report_delay=1)\n",
      " |      Score the log probability for a sequence of sentences (can be a once-only generator stream).\n",
      " |      Each sentence must be a list of unicode strings.\n",
      " |      This does not change the fitted model in any way (see Word2Vec.train() for that)\n",
      " |      \n",
      " |      Note that you should specify total_sentences; we'll run into problems if you ask to\n",
      " |      score more than this number of sentences but it is inefficient to set the value too high.\n",
      " |      \n",
      " |      See the article by [taddy]_ and the gensim demo at [deepir]_ for examples of how to use such scores in document classification.\n",
      " |      \n",
      " |      .. [taddy] Taddy, Matt.  Document Classification by Inversion of Distributed Language Representations, in Proceedings of the 2015 Conference of the Association of Computational Linguistics.\n",
      " |      .. [deepir] https://github.com/TaddyLab/gensim/blob/deepir/docs/notebooks/deepir.ipynb\n",
      " |  \n",
      " |  seeded_vector(self, seed_string)\n",
      " |      Create one 'random' vector (but deterministic by seed_string)\n",
      " |  \n",
      " |  similarity(self, w1, w2)\n",
      " |      Compute cosine similarity between two words.\n",
      " |      \n",
      " |      Example::\n",
      " |      \n",
      " |        >>> trained_model.similarity('woman', 'man')\n",
      " |        0.73723527\n",
      " |      \n",
      " |        >>> trained_model.similarity('woman', 'woman')\n",
      " |        1.0\n",
      " |  \n",
      " |  sort_vocab(self)\n",
      " |      Sort the vocabulary so the most frequent words have the lowest indexes.\n",
      " |  \n",
      " |  train(self, sentences, total_words=None, word_count=0, total_examples=None, queue_factor=2, report_delay=1.0)\n",
      " |      Update the model's neural weights from a sequence of sentences (can be a once-only generator stream).\n",
      " |      For Word2Vec, each sentence must be a list of unicode strings. (Subclasses may accept other examples.)\n",
      " |      \n",
      " |      To support linear learning-rate decay from (initial) alpha to min_alpha, either total_examples\n",
      " |      (count of sentences) or total_words (count of raw words in sentences) should be provided, unless the\n",
      " |      sentences are the same as those that were used to initially build the vocabulary.\n",
      " |  \n",
      " |  ----------------------------------------------------------------------\n",
      " |  Class methods defined here:\n",
      " |  \n",
      " |  load(*args, **kwargs) from builtins.type\n",
      " |      Load a previously saved object from file (also see `save`).\n",
      " |      \n",
      " |      If the object was saved with large arrays stored separately, you can load\n",
      " |      these arrays via mmap (shared memory) using `mmap='r'`. Default: don't use\n",
      " |      mmap, load large arrays as normal objects.\n",
      " |      \n",
      " |      If the file being loaded is compressed (either '.gz' or '.bz2'), then\n",
      " |      `mmap=None` must be set.  Load will raise an `IOError` if this condition\n",
      " |      is encountered.\n",
      " |  \n",
      " |  load_word2vec_format(fname, fvocab=None, binary=False, encoding='utf8', unicode_errors='strict') from builtins.type\n",
      " |      Load the input-hidden weight matrix from the original C word2vec-tool format.\n",
      " |      \n",
      " |      Note that the information stored in the file is incomplete (the binary tree is missing),\n",
      " |      so while you can query for word similarity etc., you cannot continue training\n",
      " |      with a model loaded this way.\n",
      " |      \n",
      " |      `binary` is a boolean indicating whether the data is in binary word2vec format.\n",
      " |      `norm_only` is a boolean indicating whether to only store normalised word2vec vectors in memory.\n",
      " |      Word counts are read from `fvocab` filename, if set (this is the file generated\n",
      " |      by `-save-vocab` flag of the original C tool).\n",
      " |      \n",
      " |      If you trained the C model using non-utf8 encoding for words, specify that\n",
      " |      encoding in `encoding`.\n",
      " |  \n",
      " |  ----------------------------------------------------------------------\n",
      " |  Static methods defined here:\n",
      " |  \n",
      " |  log_accuracy(section)\n",
      " |  \n",
      " |  ----------------------------------------------------------------------\n",
      " |  Data descriptors inherited from gensim.utils.SaveLoad:\n",
      " |  \n",
      " |  __dict__\n",
      " |      dictionary for instance variables (if defined)\n",
      " |  \n",
      " |  __weakref__\n",
      " |      list of weak references to the object (if defined)\n",
      "\n"
     ]
    }
   ],
   "source": [
    "from gensim.models import Word2Vec\n",
    "#Word2Vec?\n",
    "help(Word2Vec)"
   ]
  },
  {
   "cell_type": "code",
   "execution_count": 20,
   "metadata": {
    "collapsed": false
   },
   "outputs": [],
   "source": [
    "sentences = [['first', 'sentence'], ['second', 'sentence']]\n",
    "# train word2vec on the two sentences\n",
    "model = Word2Vec(sentences, min_count=1)"
   ]
  },
  {
   "cell_type": "code",
   "execution_count": 21,
   "metadata": {
    "collapsed": false
   },
   "outputs": [
    {
     "data": {
      "text/plain": [
       "100"
      ]
     },
     "execution_count": 21,
     "metadata": {},
     "output_type": "execute_result"
    }
   ],
   "source": [
    "model.layer1_size"
   ]
  },
  {
   "cell_type": "code",
   "execution_count": 23,
   "metadata": {
    "collapsed": true
   },
   "outputs": [],
   "source": [
    "from nltk.corpus import gutenberg"
   ]
  },
  {
   "cell_type": "code",
   "execution_count": 24,
   "metadata": {
    "collapsed": false
   },
   "outputs": [],
   "source": [
    "from segtok.segmenter import split_multi\n",
    "from segtok.tokenizer import word_tokenizer, split_contractions\n",
    "model = Word2Vec(gutenberg.sents(), min_count=1)"
   ]
  },
  {
   "cell_type": "code",
   "execution_count": 25,
   "metadata": {
    "collapsed": false
   },
   "outputs": [],
   "source": [
    "fdistGuten = FreqDist(gutenberg.words())"
   ]
  },
  {
   "cell_type": "code",
   "execution_count": 26,
   "metadata": {
    "collapsed": false
   },
   "outputs": [
    {
     "data": {
      "image/png": "[encoded data removed]",
      "text/plain": [
       "<matplotlib.figure.Figure at 0x10f0d2b00>"
      ]
     },
     "metadata": {},
     "output_type": "display_data"
    }
   ],
   "source": [
    "fdistGuten.plot(100)"
   ]
  },
  {
   "cell_type": "code",
   "execution_count": null,
   "metadata": {
    "collapsed": true
   },
   "outputs": [],
   "source": [
    "#Word2Vec??"
   ]
  },
  {
   "cell_type": "code",
   "execution_count": 27,
   "metadata": {
    "collapsed": false
   },
   "outputs": [
    {
     "data": {
      "text/plain": [
       "[('those', 0.6966253519058228),\n",
       " ('ladies', 0.6310247778892517),\n",
       " ('these', 0.5610675811767578),\n",
       " ('bucks', 0.5523515343666077),\n",
       " ('grayheaded', 0.5456365346908569),\n",
       " ('Toes', 0.5431016683578491),\n",
       " ('whales', 0.5381720066070557),\n",
       " ('cherrying', 0.5379135608673096),\n",
       " ('themselves', 0.5377594232559204),\n",
       " ('Few', 0.5342890024185181)]"
      ]
     },
     "execution_count": 27,
     "metadata": {},
     "output_type": "execute_result"
    }
   ],
   "source": [
    "model.most_similar(positive=['men', 'women'], negative=['lords'])"
   ]
  },
  {
   "cell_type": "markdown",
   "metadata": {},
   "source": [
    "The vector for `LORD` - describing the Lord in 100 numbers:"
   ]
  },
  {
   "cell_type": "code",
   "execution_count": 28,
   "metadata": {
    "collapsed": false
   },
   "outputs": [
    {
     "data": {
      "text/plain": [
       "array([ 0.68791187, -1.88462377,  3.4150393 , -1.69621503, -2.22791481,\n",
       "       -2.94889808, -2.47657657,  1.8516047 , -1.20458269,  0.36664093,\n",
       "        0.36904779, -2.30321574,  2.53771067, -1.66825974, -0.76388514,\n",
       "       -0.46452612,  1.31762159, -1.30209255, -0.92840862, -0.89835531,\n",
       "        0.34494525,  3.26609588,  0.0184846 , -0.2558327 ,  2.85018563,\n",
       "       -0.87229282, -3.29423618, -1.49070811, -1.04286098,  1.72652853,\n",
       "        1.17295122, -1.40627742, -1.49732137,  0.58994657, -1.1212765 ,\n",
       "        1.60475826, -0.43447998,  0.91982514, -1.27660525, -1.74253392,\n",
       "        1.77091789,  1.26288402, -1.25622249,  1.8313483 , -0.86169857,\n",
       "       -1.9963876 ,  0.23570418,  0.40859446, -1.43627179, -0.67267138,\n",
       "        3.52058053, -0.20684609, -1.01973617, -0.31176957,  3.28724742,\n",
       "       -0.85344297, -1.39938569, -2.18525791,  0.94752914,  2.49917388,\n",
       "       -1.4641062 ,  1.11076713, -4.19471264, -1.27103591, -4.10302162,\n",
       "        1.23393714, -3.24661851, -0.66071904, -1.97085738, -0.73078293,\n",
       "       -0.50747412,  7.04607105,  1.90077186,  3.60771322, -1.54478157,\n",
       "       -2.63934898,  1.34415483, -2.61823416, -0.25918201,  0.12673721,\n",
       "        1.07761717,  0.49829626,  0.49930263,  1.09563673,  1.24712026,\n",
       "       -3.16186571, -0.64240748, -0.26897445,  2.14687753, -3.13397026,\n",
       "        2.55635953,  0.27090645,  0.38429627, -0.98606098, -2.32367158,\n",
       "        2.64565349, -4.45179081,  1.31458437, -3.05069971,  3.88627148], dtype=float32)"
      ]
     },
     "execution_count": 28,
     "metadata": {},
     "output_type": "execute_result"
    }
   ],
   "source": [
    "model['LORD']"
   ]
  },
  {
   "cell_type": "markdown",
   "metadata": {},
   "source": [
    "Conclusion: Word embeddings represent a way to transition from sparse, discrete count vectors to dense, continuous \"semantic\" vectors.\n",
    "\n",
    "In real-world NLP applications, you might have a huge collection of text, but only a tiny fraction of annotated data for your NLP system to \"learn\" from. By first developing word embeddings on the huge collection, you can transfer some of the \"wisdom\" in that collection to the system you are training on a much smaller fraction. That way, you can still hope that your final system will behave well when encountering text as found in the huge collection, but not the small collection it was trained on."
   ]
  },
  {
   "cell_type": "code",
   "execution_count": null,
   "metadata": {
    "collapsed": true
   },
   "outputs": [],
   "source": []
  }
 ],
 "metadata": {
  "kernelspec": {
   "display_name": "Python 3",
   "language": "python",
   "name": "python3"
  },
  "language_info": {
   "codemirror_mode": {
    "name": "ipython",
    "version": 3
   },
   "file_extension": ".py",
   "mimetype": "text/x-python",
   "name": "python",
   "nbconvert_exporter": "python",
   "pygments_lexer": "ipython3",
   "version": "3.5.1"
  }
 },
 "nbformat": 4,
 "nbformat_minor": 0
}
