{
 "cells": [
  {
   "cell_type": "markdown",
   "metadata": {},
   "source": [
    "# Introduction to NLTK, NumPy, SciPy, and MatPlotLib"
   ]
  },
  {
   "cell_type": "markdown",
   "metadata": {},
   "source": [
    "Practical course material for the ASDM Class 09 (Text Mining) by Florian Leitner.\n",
    "\n",
    "© 2016 Florian Leitner. All rights reserved."
   ]
  },
  {
   "cell_type": "markdown",
   "metadata": {},
   "source": [
    "This lab will cover working with the [Natural Langauge ToolKit](http://www.nltk.org/index.html), with [Numerical and Scientific Python aka. NumPy and SciPy](http://www.numpy.org/), and with [MatPlotLib](http://matplotlib.org/) (while your instructor ensures that all participants have a working notebook environment...). These are maybe the most fundamental libraries to do Computational Linguistics and Scientific Computing using Python."
   ]
  },
  {
   "cell_type": "code",
   "execution_count": 1,
   "metadata": {},
   "outputs": [
    {
     "name": "stdout",
     "output_type": "stream",
     "text": [
      "Populating the interactive namespace from numpy and matplotlib\n"
     ]
    }
   ],
   "source": [
    "%pylab inline --no-import-all"
   ]
  },
  {
   "cell_type": "markdown",
   "metadata": {},
   "source": [
    "If you have not yet done so already, read up on pylab and, in particular, what `--no-import-all` does."
   ]
  },
  {
   "cell_type": "code",
   "execution_count": 2,
   "metadata": {},
   "outputs": [],
   "source": [
    "%pylab?"
   ]
  },
  {
   "cell_type": "markdown",
   "metadata": {},
   "source": [
    "## Natural Language ToolKit"
   ]
  },
  {
   "cell_type": "markdown",
   "metadata": {},
   "source": [
    "Try to import the NLTK library; If that does not work, you need to install it with `conda install nltk` if you are using Anaconda Python (or `pip3 install nltk` if you are using regular Python)."
   ]
  },
  {
   "cell_type": "code",
   "execution_count": 3,
   "metadata": {},
   "outputs": [
    {
     "name": "stdout",
     "output_type": "stream",
     "text": [
      "3.2.5\n"
     ]
    }
   ],
   "source": [
    "import nltk\n",
    "print(nltk.__version__) # should be 3.2.1 or newer"
   ]
  },
  {
   "cell_type": "markdown",
   "metadata": {},
   "source": [
    "Fetch some metadata (text \"copora\") for the NLTK; we will use only `book` content."
   ]
  },
  {
   "cell_type": "code",
   "execution_count": 4,
   "metadata": {},
   "outputs": [
    {
     "name": "stdout",
     "output_type": "stream",
     "text": [
      "showing info https://raw.githubusercontent.com/nltk/nltk_data/gh-pages/index.xml\n"
     ]
    },
    {
     "data": {
      "text/plain": [
       "True"
      ]
     },
     "execution_count": 4,
     "metadata": {},
     "output_type": "execute_result"
    }
   ],
   "source": [
    "nltk.download()"
   ]
  },
  {
   "cell_type": "markdown",
   "metadata": {},
   "source": [
    "This should have opened another window where you can choose what corpora to download. It is sufficient for now to only download the `book` content. Note that downloading everything can take quite a while..."
   ]
  },
  {
   "cell_type": "code",
   "execution_count": 5,
   "metadata": {},
   "outputs": [
    {
     "name": "stdout",
     "output_type": "stream",
     "text": [
      "*** Introductory Examples for the NLTK Book ***\n",
      "Loading text1, ..., text9 and sent1, ..., sent9\n",
      "Type the name of the text or sentence to view it.\n",
      "Type: 'texts()' or 'sents()' to list the materials.\n",
      "text1: Moby Dick by Herman Melville 1851\n",
      "text2: Sense and Sensibility by Jane Austen 1811\n",
      "text3: The Book of Genesis\n",
      "text4: Inaugural Address Corpus\n",
      "text5: Chat Corpus\n",
      "text6: Monty Python and the Holy Grail\n",
      "text7: Wall Street Journal\n",
      "text8: Personals Corpus\n",
      "text9: The Man Who Was Thursday by G . K . Chesterton 1908\n"
     ]
    }
   ],
   "source": [
    "# export NLTK_DATA=\"/Users/fnl/work/var/nltk_data\"\n",
    "import nltk.book as b"
   ]
  },
  {
   "cell_type": "markdown",
   "metadata": {},
   "source": [
    "### The Text Object"
   ]
  },
  {
   "cell_type": "code",
   "execution_count": 6,
   "metadata": {},
   "outputs": [
    {
     "data": {
      "text/plain": [
       "<Text: Moby Dick by Herman Melville 1851>"
      ]
     },
     "execution_count": 6,
     "metadata": {},
     "output_type": "execute_result"
    }
   ],
   "source": [
    "b.text1"
   ]
  },
  {
   "cell_type": "code",
   "execution_count": 7,
   "metadata": {},
   "outputs": [
    {
     "data": {
      "text/plain": [
       "nltk.text.Text"
      ]
     },
     "execution_count": 7,
     "metadata": {},
     "output_type": "execute_result"
    }
   ],
   "source": [
    "type(b.text1)"
   ]
  },
  {
   "cell_type": "markdown",
   "metadata": {},
   "source": [
    "Some quick info:"
   ]
  },
  {
   "cell_type": "code",
   "execution_count": 8,
   "metadata": {},
   "outputs": [],
   "source": [
    "nltk.text.Text?"
   ]
  },
  {
   "cell_type": "markdown",
   "metadata": {},
   "source": [
    "More in-depth documentation with all methods defined on `Text`:"
   ]
  },
  {
   "cell_type": "code",
   "execution_count": 9,
   "metadata": {},
   "outputs": [
    {
     "name": "stdout",
     "output_type": "stream",
     "text": [
      "Help on class Text in module nltk.text:\n",
      "\n",
      "class Text(builtins.object)\n",
      " |  A wrapper around a sequence of simple (string) tokens, which is\n",
      " |  intended to support initial exploration of texts (via the\n",
      " |  interactive console).  Its methods perform a variety of analyses\n",
      " |  on the text's contexts (e.g., counting, concordancing, collocation\n",
      " |  discovery), and display the results.  If you wish to write a\n",
      " |  program which makes use of these analyses, then you should bypass\n",
      " |  the ``Text`` class, and use the appropriate analysis function or\n",
      " |  class directly instead.\n",
      " |  \n",
      " |  A ``Text`` is typically initialized from a given document or\n",
      " |  corpus.  E.g.:\n",
      " |  \n",
      " |  >>> import nltk.corpus\n",
      " |  >>> from nltk.text import Text\n",
      " |  >>> moby = Text(nltk.corpus.gutenberg.words('melville-moby_dick.txt'))\n",
      " |  \n",
      " |  Methods defined here:\n",
      " |  \n",
      " |  __getitem__(self, i)\n",
      " |  \n",
      " |  __init__(self, tokens, name=None)\n",
      " |      Create a Text object.\n",
      " |      \n",
      " |      :param tokens: The source text.\n",
      " |      :type tokens: sequence of str\n",
      " |  \n",
      " |  __len__(self)\n",
      " |  \n",
      " |  __repr__(self)\n",
      " |      Return repr(self).\n",
      " |  \n",
      " |  __str__(self)\n",
      " |      Return str(self).\n",
      " |  \n",
      " |  __unicode__ = __str__(self)\n",
      " |  \n",
      " |  collocations(self, num=20, window_size=2)\n",
      " |      Print collocations derived from the text, ignoring stopwords.\n",
      " |      \n",
      " |      :seealso: find_collocations\n",
      " |      :param num: The maximum number of collocations to print.\n",
      " |      :type num: int\n",
      " |      :param window_size: The number of tokens spanned by a collocation (default=2)\n",
      " |      :type window_size: int\n",
      " |  \n",
      " |  common_contexts(self, words, num=20)\n",
      " |      Find contexts where the specified words appear; list\n",
      " |      most frequent common contexts first.\n",
      " |      \n",
      " |      :param word: The word used to seed the similarity search\n",
      " |      :type word: str\n",
      " |      :param num: The number of words to generate (default=20)\n",
      " |      :type num: int\n",
      " |      :seealso: ContextIndex.common_contexts()\n",
      " |  \n",
      " |  concordance(self, word, width=79, lines=25)\n",
      " |      Print a concordance for ``word`` with the specified context window.\n",
      " |      Word matching is not case-sensitive.\n",
      " |      :seealso: ``ConcordanceIndex``\n",
      " |  \n",
      " |  count(self, word)\n",
      " |      Count the number of times this word appears in the text.\n",
      " |  \n",
      " |  dispersion_plot(self, words)\n",
      " |      Produce a plot showing the distribution of the words through the text.\n",
      " |      Requires pylab to be installed.\n",
      " |      \n",
      " |      :param words: The words to be plotted\n",
      " |      :type words: list(str)\n",
      " |      :seealso: nltk.draw.dispersion_plot()\n",
      " |  \n",
      " |  findall(self, regexp)\n",
      " |      Find instances of the regular expression in the text.\n",
      " |      The text is a list of tokens, and a regexp pattern to match\n",
      " |      a single token must be surrounded by angle brackets.  E.g.\n",
      " |      \n",
      " |      >>> print('hack'); from nltk.book import text1, text5, text9\n",
      " |      hack...\n",
      " |      >>> text5.findall(\"<.*><.*><bro>\")\n",
      " |      you rule bro; telling you bro; u twizted bro\n",
      " |      >>> text1.findall(\"<a>(<.*>)<man>\")\n",
      " |      monied; nervous; dangerous; white; white; white; pious; queer; good;\n",
      " |      mature; white; Cape; great; wise; wise; butterless; white; fiendish;\n",
      " |      pale; furious; better; certain; complete; dismasted; younger; brave;\n",
      " |      brave; brave; brave\n",
      " |      >>> text9.findall(\"<th.*>{3,}\")\n",
      " |      thread through those; the thought that; that the thing; the thing\n",
      " |      that; that that thing; through these than through; them that the;\n",
      " |      through the thick; them that they; thought that the\n",
      " |      \n",
      " |      :param regexp: A regular expression\n",
      " |      :type regexp: str\n",
      " |  \n",
      " |  generate(self, words)\n",
      " |      Issues a reminder to users following the book online\n",
      " |  \n",
      " |  index(self, word)\n",
      " |      Find the index of the first occurrence of the word in the text.\n",
      " |  \n",
      " |  plot(self, *args)\n",
      " |      See documentation for FreqDist.plot()\n",
      " |      :seealso: nltk.prob.FreqDist.plot()\n",
      " |  \n",
      " |  readability(self, method)\n",
      " |  \n",
      " |  similar(self, word, num=20)\n",
      " |      Distributional similarity: find other words which appear in the\n",
      " |      same contexts as the specified word; list most similar words first.\n",
      " |      \n",
      " |      :param word: The word used to seed the similarity search\n",
      " |      :type word: str\n",
      " |      :param num: The number of words to generate (default=20)\n",
      " |      :type num: int\n",
      " |      :seealso: ContextIndex.similar_words()\n",
      " |  \n",
      " |  unicode_repr = __repr__(self)\n",
      " |  \n",
      " |  vocab(self)\n",
      " |      :seealso: nltk.prob.FreqDist\n",
      " |  \n",
      " |  ----------------------------------------------------------------------\n",
      " |  Data descriptors defined here:\n",
      " |  \n",
      " |  __dict__\n",
      " |      dictionary for instance variables (if defined)\n",
      " |  \n",
      " |  __weakref__\n",
      " |      list of weak references to the object (if defined)\n",
      "\n"
     ]
    }
   ],
   "source": [
    "help(nltk.text.Text)"
   ]
  },
  {
   "cell_type": "code",
   "execution_count": 10,
   "metadata": {},
   "outputs": [
    {
     "name": "stdout",
     "output_type": "stream",
     "text": [
      "[ Moby Dick by Herman Melville 1851 ] ETYMOLOGY .\n"
     ]
    },
    {
     "data": {
      "text/plain": [
       "[1, 4, 4, 2, 6, 8, 4, 1, 9, 1]"
      ]
     },
     "execution_count": 10,
     "metadata": {},
     "output_type": "execute_result"
    }
   ],
   "source": [
    "# create a shortcut to Moby Dick\n",
    "moby = b.text1\n",
    "# iteration over all words in Moby Dick using a Python list comprehension\n",
    "wlens = [len(w) for w in moby]\n",
    "# show the first ten words\n",
    "print(\" \".join(moby[:10]))\n",
    "# report the lengths of the first ten words\n",
    "wlens[:10]"
   ]
  },
  {
   "cell_type": "markdown",
   "metadata": {},
   "source": [
    "Count the frequency of \"me\" in Moby Dick"
   ]
  },
  {
   "cell_type": "code",
   "execution_count": 11,
   "metadata": {},
   "outputs": [
    {
     "data": {
      "text/plain": [
       "627"
      ]
     },
     "execution_count": 11,
     "metadata": {},
     "output_type": "execute_result"
    }
   ],
   "source": [
    "moby.count(\"me\")"
   ]
  },
  {
   "cell_type": "code",
   "execution_count": 12,
   "metadata": {},
   "outputs": [],
   "source": [
    "moby.findall?"
   ]
  },
  {
   "cell_type": "markdown",
   "metadata": {},
   "source": [
    "Find all tokens before \"Moby\" in the text."
   ]
  },
  {
   "cell_type": "code",
   "execution_count": 13,
   "metadata": {},
   "outputs": [
    {
     "name": "stdout",
     "output_type": "stream",
     "text": [
      "[ Moby; call Moby; \" Moby; is Moby; -- Moby; -- Moby; of Moby; not\n",
      "Moby; was Moby; ; Moby; for Moby; for Moby; to Moby; hunt Moby; 41\n",
      "Moby; concerning Moby; than Moby; to Moby; upon Moby; invested Moby;\n",
      "to Moby; to Moby; that Moby; declaring Moby; , Moby; in Moby; touching\n",
      "Moby; though Moby; , Moby; blow Moby; of Moby; at Moby; of Moby;\n",
      "respecting Moby; than Moby; to Moby; of Moby; , Moby; of Moby; was\n",
      "Moby; \"' Moby; you Moby; of Moby; , Moby; this Moby; of Moby; seen\n",
      "Moby; that Moby; concerning Moby; of Moby; , Moby; surrender Moby; to\n",
      "Moby; , Moby; -- Moby; about Moby; thinking Moby; slay Moby; is Moby;\n",
      "for Moby; for Moby; Oh Moby; of Moby; encountered Moby; to Moby; is\n",
      "Moby; , Moby; awaiting Moby; was Moby; , Moby; , Moby; , Moby; from\n",
      "Moby; of Moby; not Moby; -- Moby; , Moby; , Moby; with Moby; , Moby; ,\n",
      "Moby; , Moby; ! Moby; , Moby\n"
     ]
    }
   ],
   "source": [
    "moby.findall(\"<.*><Moby>\")"
   ]
  },
  {
   "cell_type": "markdown",
   "metadata": {},
   "source": [
    "Now find all tokens occuring before \"Dick\" in the text."
   ]
  },
  {
   "cell_type": "code",
   "execution_count": 14,
   "metadata": {},
   "outputs": [
    {
     "name": "stdout",
     "output_type": "stream",
     "text": [
      "Moby Dick; Moby Dick; Moby Dick; Moby Dick; Moby Dick; Moby Dick; Moby\n",
      "Dick; Moby Dick; Moby Dick; Moby Dick; Moby Dick; Moby Dick; Moby\n",
      "Dick; Moby Dick; Moby Dick; Moby Dick; Moby Dick; Moby Dick; Moby\n",
      "Dick; Moby Dick; Moby Dick; Moby Dick; Moby Dick; Moby Dick; Moby\n",
      "Dick; Moby Dick; Moby Dick; Moby Dick; Moby Dick; Moby Dick; Moby\n",
      "Dick; Moby Dick; Moby Dick; Moby Dick; Moby Dick; Moby Dick; Moby\n",
      "Dick; Moby Dick; Moby Dick; Moby Dick; Moby Dick; Moby Dick; Moby\n",
      "Dick; Moby Dick; Moby Dick; Moby Dick; Moby Dick; Moby Dick; Moby\n",
      "Dick; Moby Dick; Moby Dick; Moby Dick; Moby Dick; Moby Dick; Moby\n",
      "Dick; Moby Dick; Moby Dick; Moby Dick; Moby Dick; Moby Dick; Moby\n",
      "Dick; Moby Dick; Moby Dick; Moby Dick; Moby Dick; Moby Dick; Moby\n",
      "Dick; Moby Dick; Moby Dick; Moby Dick; Moby Dick; Moby Dick; Moby\n",
      "Dick; - Dick; Moby Dick; Moby Dick; Moby Dick; Moby Dick; Moby Dick;\n",
      "Moby Dick; Moby Dick; Moby Dick; Moby Dick; Moby Dick\n"
     ]
    }
   ],
   "source": [
    "moby.findall(\"<.*><Dick>\")"
   ]
  },
  {
   "cell_type": "markdown",
   "metadata": {},
   "source": [
    "Use regular expressions (here: only tokens with letters - roughly, \"words\") to match tokens."
   ]
  },
  {
   "cell_type": "code",
   "execution_count": 15,
   "metadata": {},
   "outputs": [
    {
     "name": "stdout",
     "output_type": "stream",
     "text": [
      "call Moby; is Moby; of Moby; not Moby; was Moby; for Moby; for Moby;\n",
      "to Moby; hunt Moby; concerning Moby; than Moby; to Moby; upon Moby;\n",
      "invested Moby; to Moby; to Moby; that Moby; declaring Moby; in Moby;\n",
      "touching Moby; though Moby; blow Moby; of Moby; at Moby; of Moby;\n",
      "respecting Moby; than Moby; to Moby; of Moby; of Moby; was Moby; you\n",
      "Moby; of Moby; this Moby; of Moby; seen Moby; that Moby; concerning\n",
      "Moby; of Moby; surrender Moby; to Moby; about Moby; thinking Moby;\n",
      "slay Moby; is Moby; for Moby; for Moby; Oh Moby; of Moby; encountered\n",
      "Moby; to Moby; is Moby; awaiting Moby; was Moby; from Moby; of Moby;\n",
      "not Moby; with Moby\n"
     ]
    }
   ],
   "source": [
    "moby.findall(\"<[A-Za-z]*><Moby>\")"
   ]
  },
  {
   "cell_type": "markdown",
   "metadata": {},
   "source": [
    "Use regular expression grouping `()` to extract only specific tokens that were matched."
   ]
  },
  {
   "cell_type": "code",
   "execution_count": 16,
   "metadata": {},
   "outputs": [
    {
     "name": "stdout",
     "output_type": "stream",
     "text": [
      "call; is; of; not; was; for; for; to; hunt; concerning; than; to;\n",
      "upon; invested; to; to; that; declaring; in; touching; though; blow;\n",
      "of; at; of; respecting; than; to; of; of; was; you; of; this; of;\n",
      "seen; that; concerning; of; surrender; to; about; thinking; slay; is;\n",
      "for; for; Oh; of; encountered; to; is; awaiting; was; from; of; not;\n",
      "with\n"
     ]
    }
   ],
   "source": [
    "moby.findall(\"(<[A-Za-z]*>)<Moby>\")"
   ]
  },
  {
   "cell_type": "code",
   "execution_count": 17,
   "metadata": {},
   "outputs": [],
   "source": [
    "moby.similar?"
   ]
  },
  {
   "cell_type": "code",
   "execution_count": 18,
   "metadata": {},
   "outputs": [
    {
     "name": "stdout",
     "output_type": "stream",
     "text": [
      "man boat captain soul and i while whale more sometimes when if ship\n",
      "than though good mary to body brain\n"
     ]
    }
   ],
   "source": [
    "moby.similar(\"boy\") # NB: semantic similarity (\"synonyms\")"
   ]
  },
  {
   "cell_type": "code",
   "execution_count": 19,
   "metadata": {},
   "outputs": [
    {
     "data": {
      "text/plain": [
       "44764"
      ]
     },
     "execution_count": 19,
     "metadata": {},
     "output_type": "execute_result"
    }
   ],
   "source": [
    "len(b.text3) # total tokens"
   ]
  },
  {
   "cell_type": "code",
   "execution_count": 20,
   "metadata": {},
   "outputs": [
    {
     "data": {
      "text/plain": [
       "2789"
      ]
     },
     "execution_count": 20,
     "metadata": {},
     "output_type": "execute_result"
    }
   ],
   "source": [
    "len(set(b.text3)) # unique tokens"
   ]
  },
  {
   "cell_type": "code",
   "execution_count": 21,
   "metadata": {},
   "outputs": [
    {
     "data": {
      "text/plain": [
       "[1, 4, 4, 2, 6]"
      ]
     },
     "execution_count": 21,
     "metadata": {},
     "output_type": "execute_result"
    }
   ],
   "source": [
    "wlens[:5]"
   ]
  },
  {
   "cell_type": "code",
   "execution_count": 22,
   "metadata": {},
   "outputs": [
    {
     "data": {
      "text/plain": [
       "3.830411128023649"
      ]
     },
     "execution_count": 22,
     "metadata": {},
     "output_type": "execute_result"
    }
   ],
   "source": [
    "sum(wlens) / len(wlens) # mean"
   ]
  },
  {
   "cell_type": "code",
   "execution_count": 23,
   "metadata": {},
   "outputs": [
    {
     "data": {
      "text/plain": [
       "3.830411128023649"
      ]
     },
     "execution_count": 23,
     "metadata": {},
     "output_type": "execute_result"
    }
   ],
   "source": [
    "sum(wlens) * 1.0 / len(wlens)"
   ]
  },
  {
   "cell_type": "markdown",
   "metadata": {},
   "source": [
    "Finding the median token length:"
   ]
  },
  {
   "cell_type": "code",
   "execution_count": 24,
   "metadata": {},
   "outputs": [],
   "source": [
    "wlens = sorted(wlens)"
   ]
  },
  {
   "cell_type": "code",
   "execution_count": 25,
   "metadata": {},
   "outputs": [
    {
     "data": {
      "text/plain": [
       "3"
      ]
     },
     "execution_count": 25,
     "metadata": {},
     "output_type": "execute_result"
    }
   ],
   "source": [
    "wlens[len(wlens) // 2]"
   ]
  },
  {
   "cell_type": "markdown",
   "metadata": {},
   "source": [
    "The longest token in the book:"
   ]
  },
  {
   "cell_type": "code",
   "execution_count": 26,
   "metadata": {},
   "outputs": [
    {
     "data": {
      "text/plain": [
       "20"
      ]
     },
     "execution_count": 26,
     "metadata": {},
     "output_type": "execute_result"
    }
   ],
   "source": [
    "wlens[-1]"
   ]
  },
  {
   "cell_type": "markdown",
   "metadata": {},
   "source": [
    "### Plots available directly from a Text Object"
   ]
  },
  {
   "cell_type": "markdown",
   "metadata": {},
   "source": [
    "The text object and the tools that follow form an extremely important toolkit of any text miner or computational linguist. They allow us to visually inspect the properties of our text (collection/corpus)."
   ]
  },
  {
   "cell_type": "code",
   "execution_count": 27,
   "metadata": {},
   "outputs": [
    {
     "data": {
      "text/plain": [
       "<Text: Sense and Sensibility by Jane Austen 1811>"
      ]
     },
     "execution_count": 27,
     "metadata": {},
     "output_type": "execute_result"
    }
   ],
   "source": [
    "b.text2"
   ]
  },
  {
   "cell_type": "code",
   "execution_count": 28,
   "metadata": {},
   "outputs": [
    {
     "data": {
      "text/plain": [
       "<Text: The Book of Genesis>"
      ]
     },
     "execution_count": 28,
     "metadata": {},
     "output_type": "execute_result"
    }
   ],
   "source": [
    "b.text3"
   ]
  },
  {
   "cell_type": "code",
   "execution_count": 29,
   "metadata": {},
   "outputs": [],
   "source": [
    "b.text3.plot?"
   ]
  },
  {
   "cell_type": "code",
   "execution_count": 30,
   "metadata": {},
   "outputs": [],
   "source": [
    "nltk.probability.FreqDist.plot?"
   ]
  },
  {
   "cell_type": "markdown",
   "metadata": {},
   "source": [
    "Show the most frequent tokens in a text; note the Zipfian distributions!"
   ]
  },
  {
   "cell_type": "code",
   "execution_count": 31,
   "metadata": {},
   "outputs": [
    {
     "name": "stdout",
     "output_type": "stream",
     "text": [
      "260819\n"
     ]
    },
    {
     "data": {
      "image/png": "[encoded data removed]",
      "text/plain": [
       "<Figure size 1440x720 with 1 Axes>"
      ]
     },
     "metadata": {},
     "output_type": "display_data"
    }
   ],
   "source": [
    "plt.figure(figsize=(20,10))\n",
    "print(len(b.text1))\n",
    "b.text1.plot(100)"
   ]
  },
  {
   "cell_type": "code",
   "execution_count": 32,
   "metadata": {},
   "outputs": [
    {
     "name": "stdout",
     "output_type": "stream",
     "text": [
      "141576\n"
     ]
    },
    {
     "data": {
      "image/png": "[encoded data removed]",
      "text/plain": [
       "<Figure size 1440x720 with 1 Axes>"
      ]
     },
     "metadata": {},
     "output_type": "display_data"
    }
   ],
   "source": [
    "plt.figure(figsize=(20,10))\n",
    "print(len(b.text2))\n",
    "b.text2.plot(100)"
   ]
  },
  {
   "cell_type": "code",
   "execution_count": 33,
   "metadata": {},
   "outputs": [
    {
     "name": "stdout",
     "output_type": "stream",
     "text": [
      "44764\n"
     ]
    },
    {
     "data": {
      "image/png": "[encoded data removed]",
      "text/plain": [
       "<Figure size 1440x720 with 1 Axes>"
      ]
     },
     "metadata": {},
     "output_type": "display_data"
    }
   ],
   "source": [
    "plt.figure(figsize=(20,10))\n",
    "print(len(b.text3))\n",
    "b.text3.plot(100)"
   ]
  },
  {
   "cell_type": "markdown",
   "metadata": {},
   "source": [
    "Note that the larger the \"buldge\" on the left and the wider the tail to the right, the larger the semantic richness of the text. Which of the books is semantically richer, then? Would you agree its book 2, \"Sense and Sensibility by Jane Austen 1811\"?"
   ]
  },
  {
   "cell_type": "code",
   "execution_count": 34,
   "metadata": {},
   "outputs": [],
   "source": [
    "b.text2.collocations?"
   ]
  },
  {
   "cell_type": "markdown",
   "metadata": {},
   "source": [
    "**Collocations** are pairs of words that occur together more frequently than would be expected by chance. Therefore, we can assume the pairs have semantics that go beyond the semantic of each individual word."
   ]
  },
  {
   "cell_type": "code",
   "execution_count": 35,
   "metadata": {},
   "outputs": [
    {
     "name": "stdout",
     "output_type": "stream",
     "text": [
      "Colonel Brandon; Sir John; Lady Middleton; Miss Dashwood; every thing;\n",
      "thousand pounds; dare say; Miss Steeles; said Elinor; Miss Steele;\n",
      "every body; John Dashwood; great deal; Harley Street; Berkeley Street;\n",
      "Miss Dashwoods; young man; Combe Magna; every day; next morning\n"
     ]
    }
   ],
   "source": [
    "b.text2.collocations()"
   ]
  },
  {
   "cell_type": "code",
   "execution_count": 36,
   "metadata": {},
   "outputs": [],
   "source": [
    "b.text2.dispersion_plot?"
   ]
  },
  {
   "cell_type": "markdown",
   "metadata": {},
   "source": [
    "In a nutshell, plot the occurrence of each word in the text. Lets look at the most frequent proper nouns (names) as we found above in the frequency plot."
   ]
  },
  {
   "cell_type": "code",
   "execution_count": 37,
   "metadata": {},
   "outputs": [
    {
     "data": {
      "image/png": "[encoded data removed]",
      "text/plain": [
       "<Figure size 432x288 with 1 Axes>"
      ]
     },
     "metadata": {},
     "output_type": "display_data"
    }
   ],
   "source": [
    "b.text2.dispersion_plot([\"Elinor\", \"Marianne\", \"Edward\", \"Dashwood\", \"Willoughby\", \"Lucy\", \"Brandon\"])"
   ]
  },
  {
   "cell_type": "markdown",
   "metadata": {},
   "source": [
    "So this allows us to even quickly get a \"feel\" for the story itself, e.g., here you can easily tell who interacts with whom (or who not)!"
   ]
  },
  {
   "cell_type": "markdown",
   "metadata": {},
   "source": [
    "### NLTK's Discrete \"Frequency\" Distributions\n",
    "\n",
    "A counter for tokens."
   ]
  },
  {
   "cell_type": "code",
   "execution_count": 38,
   "metadata": {},
   "outputs": [],
   "source": [
    "from nltk import FreqDist"
   ]
  },
  {
   "cell_type": "code",
   "execution_count": 39,
   "metadata": {},
   "outputs": [],
   "source": [
    "fdist = FreqDist(b.text2)"
   ]
  },
  {
   "cell_type": "code",
   "execution_count": 40,
   "metadata": {},
   "outputs": [
    {
     "data": {
      "text/plain": [
       "[('[', 3),\n",
       " ('Sense', 1),\n",
       " ('and', 3350),\n",
       " ('Sensibility', 1),\n",
       " ('by', 737),\n",
       " ('Jane', 1),\n",
       " ('Austen', 1),\n",
       " ('1811', 1),\n",
       " (']', 1),\n",
       " ('CHAPTER', 50)]"
      ]
     },
     "execution_count": 40,
     "metadata": {},
     "output_type": "execute_result"
    }
   ],
   "source": [
    "list(fdist.items())[:10]"
   ]
  },
  {
   "cell_type": "code",
   "execution_count": 41,
   "metadata": {},
   "outputs": [
    {
     "data": {
      "text/plain": [
       "','"
      ]
     },
     "execution_count": 41,
     "metadata": {},
     "output_type": "execute_result"
    }
   ],
   "source": [
    "fdist.max() # the word length with the highest count"
   ]
  },
  {
   "cell_type": "code",
   "execution_count": 42,
   "metadata": {},
   "outputs": [
    {
     "data": {
      "text/plain": [
       "3861"
      ]
     },
     "execution_count": 42,
     "metadata": {},
     "output_type": "execute_result"
    }
   ],
   "source": [
    "fdist[\"the\"] # the count for the token \"the\" "
   ]
  },
  {
   "cell_type": "code",
   "execution_count": 43,
   "metadata": {},
   "outputs": [
    {
     "data": {
      "text/plain": [
       "0.027271571452788607"
      ]
     },
     "execution_count": 43,
     "metadata": {},
     "output_type": "execute_result"
    }
   ],
   "source": [
    "fdist.freq(\"the\") # frequency/total_frequency => the probability of the token \"the\""
   ]
  },
  {
   "cell_type": "markdown",
   "metadata": {},
   "source": [
    "## NumPy and SciPy: Numeric Python"
   ]
  },
  {
   "cell_type": "markdown",
   "metadata": {},
   "source": [
    "A good NumPy tutorial: [www.engr.ucsb.edu/~shell/che210d/numpy.pdf](http://www.engr.ucsb.edu/~shell/che210d/numpy.pdf)\n",
    "\n",
    "The API/reference for NumPy and SciPy: [docs.scipy.org/doc/](http://docs.scipy.org/doc/)"
   ]
  },
  {
   "cell_type": "code",
   "execution_count": 44,
   "metadata": {},
   "outputs": [],
   "source": [
    "# already done for us by the %pylab setup at the beginning:\n",
    "# import numpy as np"
   ]
  },
  {
   "cell_type": "markdown",
   "metadata": {},
   "source": [
    "### NumPy Arrays as Vectors"
   ]
  },
  {
   "cell_type": "code",
   "execution_count": 45,
   "metadata": {},
   "outputs": [
    {
     "data": {
      "text/plain": [
       "array([0, 1, 2, 3, 4, 5, 6, 7, 8, 9])"
      ]
     },
     "execution_count": 45,
     "metadata": {},
     "output_type": "execute_result"
    }
   ],
   "source": [
    "a = np.arange(10)\n",
    "a"
   ]
  },
  {
   "cell_type": "code",
   "execution_count": 46,
   "metadata": {},
   "outputs": [
    {
     "data": {
      "text/plain": [
       "(10,)"
      ]
     },
     "execution_count": 46,
     "metadata": {},
     "output_type": "execute_result"
    }
   ],
   "source": [
    "a.shape"
   ]
  },
  {
   "cell_type": "code",
   "execution_count": 47,
   "metadata": {},
   "outputs": [
    {
     "data": {
      "text/plain": [
       "array([10, 11, 12, 13, 14, 15, 16, 17, 18, 19])"
      ]
     },
     "execution_count": 47,
     "metadata": {},
     "output_type": "execute_result"
    }
   ],
   "source": [
    "b = np.arange(10, 20)\n",
    "b"
   ]
  },
  {
   "cell_type": "code",
   "execution_count": 48,
   "metadata": {},
   "outputs": [
    {
     "data": {
      "text/plain": [
       "array([  0,  11,  24,  39,  56,  75,  96, 119, 144, 171])"
      ]
     },
     "execution_count": 48,
     "metadata": {},
     "output_type": "execute_result"
    }
   ],
   "source": [
    "a * b"
   ]
  },
  {
   "cell_type": "code",
   "execution_count": 49,
   "metadata": {},
   "outputs": [
    {
     "data": {
      "text/plain": [
       "array([ True,  True,  True,  True,  True,  True,  True,  True,  True,\n",
       "        True])"
      ]
     },
     "execution_count": 49,
     "metadata": {},
     "output_type": "execute_result"
    }
   ],
   "source": [
    "a < b # NumPy arrays generally behave simlarly to R vectors"
   ]
  },
  {
   "cell_type": "code",
   "execution_count": 50,
   "metadata": {},
   "outputs": [
    {
     "data": {
      "text/plain": [
       "array([ 0,  1,  2,  3,  4,  5,  6,  7,  8,  9, 10, 11, 12, 13, 14, 15, 16,\n",
       "       17, 18, 19])"
      ]
     },
     "execution_count": 50,
     "metadata": {},
     "output_type": "execute_result"
    }
   ],
   "source": [
    "c = np.concatenate((a, b)) # NB that the argument to np.concatenate() is a SINGLE LIST\n",
    "c"
   ]
  },
  {
   "cell_type": "code",
   "execution_count": 51,
   "metadata": {},
   "outputs": [
    {
     "data": {
      "text/plain": [
       "array([6, 7, 8, 9])"
      ]
     },
     "execution_count": 51,
     "metadata": {},
     "output_type": "execute_result"
    }
   ],
   "source": [
    "a[a > 5]"
   ]
  },
  {
   "cell_type": "code",
   "execution_count": 52,
   "metadata": {},
   "outputs": [
    {
     "data": {
      "text/plain": [
       "735"
      ]
     },
     "execution_count": 52,
     "metadata": {},
     "output_type": "execute_result"
    }
   ],
   "source": [
    "a.dot(b)"
   ]
  },
  {
   "cell_type": "code",
   "execution_count": 53,
   "metadata": {},
   "outputs": [
    {
     "data": {
      "text/plain": [
       "array(['lesser', 'lesser', 'lesser', 'lesser', 'lesser', 'lesser',\n",
       "       'greater', 'greater', 'greater', 'greater'], dtype='<U7')"
      ]
     },
     "execution_count": 53,
     "metadata": {},
     "output_type": "execute_result"
    }
   ],
   "source": [
    "np.where(a > 5, \"greater\", \"lesser\")"
   ]
  },
  {
   "cell_type": "code",
   "execution_count": 54,
   "metadata": {},
   "outputs": [],
   "source": [
    "a.view?"
   ]
  },
  {
   "cell_type": "code",
   "execution_count": 55,
   "metadata": {},
   "outputs": [
    {
     "name": "stdout",
     "output_type": "stream",
     "text": [
      "hurray\n"
     ]
    }
   ],
   "source": [
    "if 5 in a:\n",
    "    print(\"hurray\")"
   ]
  },
  {
   "cell_type": "code",
   "execution_count": 56,
   "metadata": {},
   "outputs": [
    {
     "data": {
      "text/plain": [
       "True"
      ]
     },
     "execution_count": 56,
     "metadata": {},
     "output_type": "execute_result"
    }
   ],
   "source": [
    "5.0 in a # \"a\" is a list of integers, \"5.0\" is a float"
   ]
  },
  {
   "cell_type": "markdown",
   "metadata": {},
   "source": [
    "### Array Statistics"
   ]
  },
  {
   "cell_type": "markdown",
   "metadata": {},
   "source": [
    "Let's convert our `wlens` list from the NLTK part to a NumPy array:"
   ]
  },
  {
   "cell_type": "code",
   "execution_count": 57,
   "metadata": {},
   "outputs": [],
   "source": [
    "wlarr = np.array(wlens)"
   ]
  },
  {
   "cell_type": "code",
   "execution_count": 58,
   "metadata": {},
   "outputs": [
    {
     "data": {
      "text/plain": [
       "999044"
      ]
     },
     "execution_count": 58,
     "metadata": {},
     "output_type": "execute_result"
    }
   ],
   "source": [
    "wlarr.sum()"
   ]
  },
  {
   "cell_type": "code",
   "execution_count": 59,
   "metadata": {},
   "outputs": [
    {
     "data": {
      "text/plain": [
       "3.830411128023649"
      ]
     },
     "execution_count": 59,
     "metadata": {},
     "output_type": "execute_result"
    }
   ],
   "source": [
    "wlarr.mean()"
   ]
  },
  {
   "cell_type": "code",
   "execution_count": 60,
   "metadata": {},
   "outputs": [
    {
     "data": {
      "text/plain": [
       "5.892518355697793"
      ]
     },
     "execution_count": 60,
     "metadata": {},
     "output_type": "execute_result"
    }
   ],
   "source": [
    "wlarr.var()"
   ]
  },
  {
   "cell_type": "code",
   "execution_count": 61,
   "metadata": {},
   "outputs": [
    {
     "data": {
      "text/plain": [
       "2.427450999649178"
      ]
     },
     "execution_count": 61,
     "metadata": {},
     "output_type": "execute_result"
    }
   ],
   "source": [
    "wlarr.std()"
   ]
  },
  {
   "cell_type": "code",
   "execution_count": 62,
   "metadata": {},
   "outputs": [
    {
     "data": {
      "text/plain": [
       "1"
      ]
     },
     "execution_count": 62,
     "metadata": {},
     "output_type": "execute_result"
    }
   ],
   "source": [
    "wlarr.min()"
   ]
  },
  {
   "cell_type": "code",
   "execution_count": 63,
   "metadata": {},
   "outputs": [
    {
     "data": {
      "text/plain": [
       "20"
      ]
     },
     "execution_count": 63,
     "metadata": {},
     "output_type": "execute_result"
    }
   ],
   "source": [
    "wlarr.max()"
   ]
  },
  {
   "cell_type": "code",
   "execution_count": 64,
   "metadata": {},
   "outputs": [],
   "source": [
    "wlarr.argmax?"
   ]
  },
  {
   "cell_type": "code",
   "execution_count": 65,
   "metadata": {},
   "outputs": [
    {
     "data": {
      "text/plain": [
       "20"
      ]
     },
     "execution_count": 65,
     "metadata": {},
     "output_type": "execute_result"
    }
   ],
   "source": [
    "wlarr[wlarr.argmax()]"
   ]
  },
  {
   "cell_type": "code",
   "execution_count": 66,
   "metadata": {},
   "outputs": [],
   "source": [
    "wlarr.sort()"
   ]
  },
  {
   "cell_type": "code",
   "execution_count": 67,
   "metadata": {},
   "outputs": [
    {
     "data": {
      "text/plain": [
       "3"
      ]
     },
     "execution_count": 67,
     "metadata": {},
     "output_type": "execute_result"
    }
   ],
   "source": [
    "wlarr[len(wlarr)//2]"
   ]
  },
  {
   "cell_type": "code",
   "execution_count": 68,
   "metadata": {},
   "outputs": [
    {
     "data": {
      "text/plain": [
       "3.0"
      ]
     },
     "execution_count": 68,
     "metadata": {},
     "output_type": "execute_result"
    }
   ],
   "source": [
    "np.median(wlarr) # NB: median is not a method defined on array!"
   ]
  },
  {
   "cell_type": "markdown",
   "metadata": {},
   "source": [
    "### Arrays as Matrices"
   ]
  },
  {
   "cell_type": "code",
   "execution_count": 69,
   "metadata": {},
   "outputs": [
    {
     "data": {
      "text/plain": [
       "array([[0., 1.],\n",
       "       [2., 3.]])"
      ]
     },
     "execution_count": 69,
     "metadata": {},
     "output_type": "execute_result"
    }
   ],
   "source": [
    "a = np.array([[0, 1], [2, 3]], float)\n",
    "b = np.array([2, 3], float)\n",
    "c = np.array([[1, 1], [4, 0]], float)\n",
    "a"
   ]
  },
  {
   "cell_type": "code",
   "execution_count": 70,
   "metadata": {},
   "outputs": [
    {
     "data": {
      "text/plain": [
       "(2, 2)"
      ]
     },
     "execution_count": 70,
     "metadata": {},
     "output_type": "execute_result"
    }
   ],
   "source": [
    "a.shape"
   ]
  },
  {
   "cell_type": "code",
   "execution_count": 71,
   "metadata": {},
   "outputs": [
    {
     "data": {
      "text/plain": [
       "array([[0., 3.],\n",
       "       [4., 9.]])"
      ]
     },
     "execution_count": 71,
     "metadata": {},
     "output_type": "execute_result"
    }
   ],
   "source": [
    "b * a"
   ]
  },
  {
   "cell_type": "code",
   "execution_count": 72,
   "metadata": {},
   "outputs": [
    {
     "data": {
      "text/plain": [
       "array([ 6., 11.])"
      ]
     },
     "execution_count": 72,
     "metadata": {},
     "output_type": "execute_result"
    }
   ],
   "source": [
    "b.dot(a)"
   ]
  },
  {
   "cell_type": "code",
   "execution_count": 73,
   "metadata": {},
   "outputs": [
    {
     "data": {
      "text/plain": [
       "array([[ 4.,  0.],\n",
       "       [14.,  2.]])"
      ]
     },
     "execution_count": 73,
     "metadata": {},
     "output_type": "execute_result"
    }
   ],
   "source": [
    "a.dot(c)"
   ]
  },
  {
   "cell_type": "code",
   "execution_count": 74,
   "metadata": {},
   "outputs": [
    {
     "data": {
      "text/plain": [
       "array([-2.,  0.])"
      ]
     },
     "execution_count": 74,
     "metadata": {},
     "output_type": "execute_result"
    }
   ],
   "source": [
    "np.cross(a, b)"
   ]
  },
  {
   "cell_type": "code",
   "execution_count": 75,
   "metadata": {},
   "outputs": [
    {
     "data": {
      "text/plain": [
       "array([ 3., 13.])"
      ]
     },
     "execution_count": 75,
     "metadata": {},
     "output_type": "execute_result"
    }
   ],
   "source": [
    "np.inner(a, b)"
   ]
  },
  {
   "cell_type": "code",
   "execution_count": 76,
   "metadata": {},
   "outputs": [
    {
     "data": {
      "text/plain": [
       "array([[0., 0.],\n",
       "       [2., 3.],\n",
       "       [4., 6.],\n",
       "       [6., 9.]])"
      ]
     },
     "execution_count": 76,
     "metadata": {},
     "output_type": "execute_result"
    }
   ],
   "source": [
    "np.outer(a, b)"
   ]
  },
  {
   "cell_type": "markdown",
   "metadata": {},
   "source": [
    "### Linear Algebra Functions"
   ]
  },
  {
   "cell_type": "code",
   "execution_count": 77,
   "metadata": {},
   "outputs": [
    {
     "data": {
      "text/plain": [
       "-2.0"
      ]
     },
     "execution_count": 77,
     "metadata": {},
     "output_type": "execute_result"
    }
   ],
   "source": [
    "np.linalg.det(a)"
   ]
  },
  {
   "cell_type": "code",
   "execution_count": 78,
   "metadata": {},
   "outputs": [
    {
     "data": {
      "text/plain": [
       "(array([-0.56155281,  3.56155281]), array([[-0.87192821, -0.27032301],\n",
       "        [ 0.48963374, -0.96276969]]))"
      ]
     },
     "execution_count": 78,
     "metadata": {},
     "output_type": "execute_result"
    }
   ],
   "source": [
    "np.linalg.eig(a)"
   ]
  },
  {
   "cell_type": "code",
   "execution_count": 79,
   "metadata": {},
   "outputs": [
    {
     "data": {
      "text/plain": [
       "array([[-1.5,  0.5],\n",
       "       [ 1. ,  0. ]])"
      ]
     },
     "execution_count": 79,
     "metadata": {},
     "output_type": "execute_result"
    }
   ],
   "source": [
    "np.linalg.inv(a)"
   ]
  },
  {
   "cell_type": "code",
   "execution_count": 80,
   "metadata": {},
   "outputs": [
    {
     "data": {
      "text/plain": [
       "(array([[-0.22975292, -0.97324899],\n",
       "        [-0.97324899,  0.22975292]]),\n",
       " array([3.70245917, 0.54018151]),\n",
       " array([[-0.52573111, -0.85065081],\n",
       "        [ 0.85065081, -0.52573111]]))"
      ]
     },
     "execution_count": 80,
     "metadata": {},
     "output_type": "execute_result"
    }
   ],
   "source": [
    "np.linalg.svd(a)"
   ]
  },
  {
   "cell_type": "markdown",
   "metadata": {},
   "source": [
    "### Advanced Linear Algrebra"
   ]
  },
  {
   "cell_type": "code",
   "execution_count": 81,
   "metadata": {},
   "outputs": [],
   "source": [
    "from scipy import linalg as la"
   ]
  },
  {
   "cell_type": "code",
   "execution_count": 82,
   "metadata": {},
   "outputs": [
    {
     "data": {
      "text/plain": [
       "(array([[-0.22975292, -0.97324899],\n",
       "        [-0.97324899,  0.22975292]]),\n",
       " array([3.70245917, 0.54018151]),\n",
       " array([[-0.52573111, -0.85065081],\n",
       "        [ 0.85065081, -0.52573111]]))"
      ]
     },
     "execution_count": 82,
     "metadata": {},
     "output_type": "execute_result"
    }
   ],
   "source": [
    "la.svd(a)"
   ]
  },
  {
   "cell_type": "code",
   "execution_count": 83,
   "metadata": {},
   "outputs": [
    {
     "name": "stdout",
     "output_type": "stream",
     "text": [
      "24.1 µs ± 1.23 µs per loop (mean ± std. dev. of 7 runs, 10000 loops each)\n"
     ]
    }
   ],
   "source": [
    "%timeit np.linalg.svd(a)"
   ]
  },
  {
   "cell_type": "code",
   "execution_count": 84,
   "metadata": {},
   "outputs": [
    {
     "name": "stdout",
     "output_type": "stream",
     "text": [
      "82 µs ± 6.33 µs per loop (mean ± std. dev. of 7 runs, 10000 loops each)\n"
     ]
    }
   ],
   "source": [
    "%timeit la.svd(a)"
   ]
  },
  {
   "cell_type": "markdown",
   "metadata": {},
   "source": [
    "Other important functionalty provided by SciPy modules:\n",
    "\n",
    "* `constants` - a huge list of math/phys constants\n",
    "* `integrate` - numerical integration/ODEs\n",
    "* `optimize` - optimization functions (e.g., BFGS is here)\n",
    "* `sparse` - working with large, sparse matrices\n",
    "* `interpolate` - interpolation for discrete data (linear and spline)\n",
    "* `fftpack` - Fast Fourier transform routines\n",
    "* `signal` - Signal processing (time-series analysis)\n",
    "* **`stats`** - a huge collection of distribtuions and functions"
   ]
  },
  {
   "cell_type": "markdown",
   "metadata": {},
   "source": [
    "### Statistical Functions"
   ]
  },
  {
   "cell_type": "markdown",
   "metadata": {},
   "source": [
    "Three variables, four instances:"
   ]
  },
  {
   "cell_type": "code",
   "execution_count": 85,
   "metadata": {},
   "outputs": [],
   "source": [
    "data = np.array([[1, 2, 1, 3], [5, 3, 1, 8], [2, 1, 5, 6]], float)"
   ]
  },
  {
   "cell_type": "code",
   "execution_count": 86,
   "metadata": {},
   "outputs": [
    {
     "data": {
      "text/plain": [
       "array([[1.        , 0.72870505, 0.36563621],\n",
       "       [0.72870505, 1.        , 0.30480845],\n",
       "       [0.36563621, 0.30480845, 1.        ]])"
      ]
     },
     "execution_count": 86,
     "metadata": {},
     "output_type": "execute_result"
    }
   ],
   "source": [
    "np.corrcoef(data)"
   ]
  },
  {
   "cell_type": "code",
   "execution_count": 87,
   "metadata": {},
   "outputs": [
    {
     "data": {
      "text/plain": [
       "array([[0.91666667, 2.08333333, 0.83333333],\n",
       "       [2.08333333, 8.91666667, 2.16666667],\n",
       "       [0.83333333, 2.16666667, 5.66666667]])"
      ]
     },
     "execution_count": 87,
     "metadata": {},
     "output_type": "execute_result"
    }
   ],
   "source": [
    "np.cov(data)"
   ]
  },
  {
   "cell_type": "code",
   "execution_count": 88,
   "metadata": {},
   "outputs": [],
   "source": [
    "from scipy import stats # by the way, \"RV\" means \"random variable\""
   ]
  },
  {
   "cell_type": "code",
   "execution_count": 89,
   "metadata": {},
   "outputs": [],
   "source": [
    "stats.norm.pdf?"
   ]
  },
  {
   "cell_type": "code",
   "execution_count": 90,
   "metadata": {},
   "outputs": [
    {
     "data": {
      "text/plain": [
       "array([0.24197072, 0.39894228, 0.24197072])"
      ]
     },
     "execution_count": 90,
     "metadata": {},
     "output_type": "execute_result"
    }
   ],
   "source": [
    "d = stats.norm.pdf([-1.0, 0.0, 1.0])\n",
    "d"
   ]
  },
  {
   "cell_type": "code",
   "execution_count": 91,
   "metadata": {},
   "outputs": [
    {
     "data": {
      "text/plain": [
       "0.24197072451914337"
      ]
     },
     "execution_count": 91,
     "metadata": {},
     "output_type": "execute_result"
    }
   ],
   "source": [
    "d.min()"
   ]
  },
  {
   "cell_type": "code",
   "execution_count": 92,
   "metadata": {},
   "outputs": [
    {
     "data": {
      "text/plain": [
       "0.3989422804014327"
      ]
     },
     "execution_count": 92,
     "metadata": {},
     "output_type": "execute_result"
    }
   ],
   "source": [
    "d.max()"
   ]
  },
  {
   "cell_type": "code",
   "execution_count": 93,
   "metadata": {},
   "outputs": [
    {
     "data": {
      "text/plain": [
       "0.2942945764799065"
      ]
     },
     "execution_count": 93,
     "metadata": {},
     "output_type": "execute_result"
    }
   ],
   "source": [
    "d.mean()"
   ]
  },
  {
   "cell_type": "markdown",
   "metadata": {},
   "source": [
    "For more info on working with distributions, have a look at the SciPy stats tutorial at [docs.scipy.org/doc/scipy/reference/tutorial/stats.html](http://docs.scipy.org/doc/scipy/reference/tutorial/stats.html)"
   ]
  },
  {
   "cell_type": "markdown",
   "metadata": {},
   "source": [
    "# Simple Barcharts with MatPlotLib"
   ]
  },
  {
   "cell_type": "markdown",
   "metadata": {},
   "source": [
    "`matplotlib` is slightly over-enginered, particularly if you are used to R's `ggplot`: Just plotting a barchart for a dictionary of word counts can be a challenge for beginners. Here's how..."
   ]
  },
  {
   "cell_type": "code",
   "execution_count": 94,
   "metadata": {},
   "outputs": [],
   "source": [
    "d = {'word': 3, 'other': 7, 'another': 2, 'hello': 5, 'plot': 4}"
   ]
  },
  {
   "cell_type": "code",
   "execution_count": 95,
   "metadata": {},
   "outputs": [
    {
     "data": {
      "image/png": "[encoded data removed]",
      "text/plain": [
       "<Figure size 432x288 with 1 Axes>"
      ]
     },
     "metadata": {},
     "output_type": "display_data"
    }
   ],
   "source": [
    "fig = plt.figure()\n",
    "ax = fig.add_subplot(111)\n",
    "rng = np.arange(len(d))\n",
    "words, counts = zip(*d.items())\n",
    "ax.bar(rng, counts)\n",
    "ax.set_xticks(rng + 0.4)\n",
    "ax.set_xticklabels(words)\n",
    "fig.autofmt_xdate()"
   ]
  },
  {
   "cell_type": "markdown",
   "metadata": {},
   "source": [
    "Let's implement this as a function:"
   ]
  },
  {
   "cell_type": "code",
   "execution_count": 96,
   "metadata": {},
   "outputs": [],
   "source": [
    "def wordchart(counts):\n",
    "    fig = plt.figure()\n",
    "    ax = fig.add_subplot(111)\n",
    "    rng = np.arange(len(counts))\n",
    "    words, counts = zip(*counts.items())\n",
    "    ax.bar(rng, counts)\n",
    "    ax.set_xticks(rng + 0.4)\n",
    "    ax.set_xticklabels(words)\n",
    "    fig.autofmt_xdate()"
   ]
  },
  {
   "cell_type": "code",
   "execution_count": 97,
   "metadata": {},
   "outputs": [
    {
     "data": {
      "image/png": "[encoded data removed]",
      "text/plain": [
       "<Figure size 432x288 with 1 Axes>"
      ]
     },
     "metadata": {},
     "output_type": "display_data"
    }
   ],
   "source": [
    "wordchart(d)"
   ]
  }
 ],
 "metadata": {
  "kernelspec": {
   "display_name": "Python 3",
   "language": "python",
   "name": "python3"
  },
  "language_info": {
   "codemirror_mode": {
    "name": "ipython",
    "version": 3
   },
   "file_extension": ".py",
   "mimetype": "text/x-python",
   "name": "python",
   "nbconvert_exporter": "python",
   "pygments_lexer": "ipython3",
   "version": "3.6.5"
  }
 },
 "nbformat": 4,
 "nbformat_minor": 1
}
